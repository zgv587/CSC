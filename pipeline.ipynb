{
 "cells": [
  {
   "cell_type": "code",
   "execution_count": 1,
   "id": "e3f0a4b4-824a-4d09-acc6-40295f557259",
   "metadata": {
    "execution": {
     "iopub.execute_input": "2024-12-16T07:31:13.260132Z",
     "iopub.status.busy": "2024-12-16T07:31:13.260132Z",
     "iopub.status.idle": "2024-12-16T07:31:40.311775Z",
     "shell.execute_reply": "2024-12-16T07:31:40.311775Z",
     "shell.execute_reply.started": "2024-12-16T07:31:13.260132Z"
    }
   },
   "outputs": [],
   "source": [
    "import torch\n",
    "import torch.nn as nn\n",
    "\n",
    "# Implemented by myself\n",
    "from config import *\n",
    "from data_processer import CSCDataset, split_torch_dataset\n",
    "from models import DecoderBaseRNN, DecoderTransformer\n",
    "from torch.optim import AdamW\n",
    "from torch.utils.data import DataLoader\n",
    "from transformers import BertModel, BertTokenizer"
   ]
  },
  {
   "cell_type": "code",
   "execution_count": 7,
   "id": "8ae5b96e-3468-4348-aa18-6639a76efac1",
   "metadata": {
    "execution": {
     "iopub.execute_input": "2024-12-16T07:39:40.293130Z",
     "iopub.status.busy": "2024-12-16T07:39:40.293130Z",
     "iopub.status.idle": "2024-12-16T07:39:40.297478Z",
     "shell.execute_reply": "2024-12-16T07:39:40.297478Z",
     "shell.execute_reply.started": "2024-12-16T07:39:40.293130Z"
    }
   },
   "outputs": [],
   "source": [
    "class TempBertModel(nn.Module):\n",
    "    def __init__(self, encoder_model, decoder_model, output_size=2):\n",
    "        super(CombineBertModel, self).__init__()\n",
    "        self.encoder = encoder_model\n",
    "        self.decoder = decoder_model\n",
    "\n",
    "        self.linear = nn.Linear(decoder_model.config.hidden_size, output_size)\n",
    "\n",
    "    def forward(self, src, src_mask):\n",
    "        x = self.encoder(src, attention_mask=src_mask).last_hidden_state\n",
    "        x = self.decoder(x)\n",
    "\n",
    "        x = self.linear(x)\n",
    "\n",
    "        return x\n",
    "\n",
    "    def save(self, store_path):\n",
    "        torch.save(self, store_path)\n",
    "\n",
    "    def save_state(self, store_path):\n",
    "        torch.save(self.state_dict(), store_path)"
   ]
  },
  {
   "cell_type": "code",
   "execution_count": 8,
   "id": "2cc1c825-4dde-4077-8d9e-cde00f522ff6",
   "metadata": {
    "execution": {
     "iopub.execute_input": "2024-12-16T07:39:53.297169Z",
     "iopub.status.busy": "2024-12-16T07:39:53.297169Z",
     "iopub.status.idle": "2024-12-16T07:39:54.715434Z",
     "shell.execute_reply": "2024-12-16T07:39:54.715434Z",
     "shell.execute_reply.started": "2024-12-16T07:39:53.297169Z"
    }
   },
   "outputs": [],
   "source": [
    "tokenizer = BertTokenizer.from_pretrained(checkpoint)"
   ]
  },
  {
   "cell_type": "code",
   "execution_count": null,
   "id": "fdb43b12-ad3f-4961-aa69-39297c3c924e",
   "metadata": {},
   "outputs": [],
   "source": [
    "train_dataset = CSCDataset([SIGHAN_train_dir_err, SIGHAN_train_dir_corr], tokenizer)\n",
    "test_dataset = CSCDataset([SIGHAN_train_dir_err14, SIGHAN_train_dir_corr14], tokenizer)"
   ]
  },
  {
   "cell_type": "code",
   "execution_count": null,
   "id": "4c61c470-d471-4042-a030-873bd84bbd91",
   "metadata": {},
   "outputs": [],
   "source": [
    "# split data\n",
    "train_data, dev_data = split_torch_dataset(train_dataset, 0.3)\n",
    "\n",
    "train_data_loader = DataLoader(train_data, num_workers=4, shuffle=True, batch_size=16)\n",
    "dev_data_loader = DataLoader(dev_data, num_workers=4, shuffle=True, batch_size=16)\n",
    "test_data_loader = DataLoader(test_dataset, num_workers=4, shuffle=True, batch_size=32)"
   ]
  },
  {
   "cell_type": "code",
   "execution_count": null,
   "id": "598f08dd-754a-4247-a2e5-d3cfa150b627",
   "metadata": {},
   "outputs": [],
   "source": [
    "import torch\n",
    "import torch.nn.functional as F\n",
    "from tqdm import tqdm\n",
    "from utils import cal_err\n",
    "\n",
    "\n",
    "class Trainer:\n",
    "    def __init__(self, model, tokenizer, optimizer):\n",
    "        self.model = model\n",
    "        self.tokenizer = tokenizer\n",
    "        self.optimizer = optimizer\n",
    "\n",
    "    def train(self, dataloader, epoch, test_dataloader=None, printepoch=float(\"inf\")):\n",
    "        self.iteration(dataloader, epoch, test_dataloader, printepoch)\n",
    "\n",
    "    def test(self, dataloader):\n",
    "        matrices = [\"over_corr\", \"total_err\", \"true_corr\"]\n",
    "        self.test_char_level = {key: 0 for key in matrices}\n",
    "        self.test_sent_level = {key: 0 for key in matrices}\n",
    "        with torch.no_grad():\n",
    "            self.iteration(dataloader, train=False)\n",
    "\n",
    "    def iteration(\n",
    "        self,\n",
    "        dataloader,\n",
    "        epochs=1,\n",
    "        test_dataloader=None,\n",
    "        printepoch=float(\"inf\"),\n",
    "        train=True,\n",
    "    ):\n",
    "        mode = \"train\" if train else \"dev\"\n",
    "        device = torch.device(\"cuda\" if torch.cuda.is_available() else \"cpu\")\n",
    "        self.model.to(device)\n",
    "\n",
    "        for epoch in range(epochs):\n",
    "            self.model.train() if train else self.model.eval()\n",
    "            total_loss = 0\n",
    "\n",
    "            progress_bar = tqdm(\n",
    "                enumerate(dataloader),\n",
    "                desc=f\"{mode} Epoch:{epoch+1}/{epochs}\",\n",
    "                total=len(dataloader),\n",
    "            )\n",
    "            for i, batch in progress_bar:\n",
    "                input_ids = batch[\"input_ids\"].to(device)\n",
    "                attention_mask = batch[\"attention_mask\"].to(device).type(torch.float)\n",
    "                labels = batch[\"labels\"].to(device)\n",
    "                new_labels = labels == input_ids\n",
    "\n",
    "                outputs = self.model(input_ids, src_mask=attention_mask)\n",
    "                logits = outputs.permute(0, 2, 1)  # (batch_size, vocab_size, seq_len)\n",
    "\n",
    "                # 反向传播在这，故labels不需要传入模型\n",
    "                loss = F.cross_entropy(\n",
    "                    logits, new_labels, ignore_index=self.tokenizer.pad_token_id\n",
    "                )\n",
    "                total_loss += loss.item()\n",
    "\n",
    "                if train:\n",
    "                    self.optimizer.zero_grad()\n",
    "                    loss.backward()\n",
    "                    self.optimizer.step()\n",
    "                else:\n",
    "                    t = torch.argmax(outputs, dim=-1)\n",
    "                    nt = t * attention_mask\n",
    "\n",
    "                progress_bar.set_postfix({\"batches loss\": \"{:.3f}\".format(loss.item())})\n",
    "                if i == len(progress_bar) - 1:\n",
    "                    progress_bar.set_postfix(\n",
    "                        {\"avg loss\": \"{:.3f}\".format(total_loss / len(dataloader))}\n",
    "                    )\n",
    "\n",
    "            # print(f\"Epoch {epoch+1} Loss: {total_loss / len(dataloader)}\")\n",
    "\n",
    "            # dev\n",
    "            if test_dataloader:\n",
    "                self.test(test_dataloader)\n",
    "\n",
    "        if mode == \"dev\":\n",
    "            print(\n",
    "                total_loss / len(dataloader),\n",
    "            )"
   ]
  },
  {
   "cell_type": "code",
   "execution_count": null,
   "id": "b666d191-2093-4b3f-aab5-1702c5cf658a",
   "metadata": {},
   "outputs": [],
   "source": [
    "# The Hyperparameters can be defined in config.py\n",
    "hidden_size = 1024\n",
    "num_layers = 2\n",
    "output_size = 2\n",
    "\n",
    "encoder_model = BertModel.from_pretrained(checkpoint)\n",
    "decoder_model = DecoderBaseRNN(\n",
    "    model=nn.LSTM,\n",
    "    input_size=encoder_model.config.hidden_size,\n",
    "    hidden_size=hidden_size,\n",
    "    num_layers=num_layers,\n",
    ")\n",
    "model = TempBertModel(encoder_model=encoder_model, decoder_model=decoder_model, output_size=output_size)\n",
    "\n",
    "optimizer = AdamW(model.parameters(), lr=learning_rate)\n",
    "trainer = Trainer(model=model, tokenizer=tokenizer, optimizer=optimizer)"
   ]
  },
  {
   "cell_type": "code",
   "execution_count": null,
   "id": "f7c5bc54-0044-442b-88eb-e1b5ee707f0c",
   "metadata": {},
   "outputs": [],
   "source": [
    "trainer.train(dataloader=train_data_loader, epoch=epochs)\n",
    "# trainer.test(test_data_loader)"
   ]
  }
 ],
 "metadata": {
  "kernelspec": {
   "display_name": "csc_env",
   "language": "python",
   "name": "csc_env"
  },
  "language_info": {
   "codemirror_mode": {
    "name": "ipython",
    "version": 3
   },
   "file_extension": ".py",
   "mimetype": "text/x-python",
   "name": "python",
   "nbconvert_exporter": "python",
   "pygments_lexer": "ipython3",
   "version": "3.11.10"
  }
 },
 "nbformat": 4,
 "nbformat_minor": 5
}
