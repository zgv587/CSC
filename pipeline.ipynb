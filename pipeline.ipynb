{
 "cells": [
  {
   "cell_type": "code",
   "execution_count": 1,
   "id": "4e3fb123-1ab8-4ff6-becd-65c8b1eaa555",
   "metadata": {},
   "outputs": [
    {
     "name": "stderr",
     "output_type": "stream",
     "text": [
      "/root/anaconda3/envs/simple_csc/lib/python3.10/site-packages/tqdm/auto.py:21: TqdmWarning: IProgress not found. Please update jupyter and ipywidgets. See https://ipywidgets.readthedocs.io/en/stable/user_install.html\n",
      "  from .autonotebook import tqdm as notebook_tqdm\n"
     ]
    }
   ],
   "source": [
    "import torch\n",
    "import torch.nn as nn\n",
    "\n",
    "# Implemented by myself\n",
    "from config import *\n",
    "from data_processer import CSCDataset, load_confusion, split_torch_dataset\n",
    "from models import CombineBertModel, DecoderBaseRNN, DecoderTransformer, Trainer\n",
    "from opencc import OpenCC\n",
    "from torch.optim import AdamW\n",
    "from torch.utils.data import DataLoader\n",
    "from transformers import BertModel, BertTokenizer"
   ]
  },
  {
   "cell_type": "code",
   "execution_count": 2,
   "id": "7a51cc73-bf18-4028-8906-784e07c16513",
   "metadata": {},
   "outputs": [],
   "source": [
    "tokenizer = BertTokenizer.from_pretrained(checkpoint)"
   ]
  },
  {
   "cell_type": "code",
   "execution_count": 3,
   "id": "d8d2810f-ab9e-4742-98f2-13accfc7f466",
   "metadata": {},
   "outputs": [],
   "source": [
    "converter = OpenCC(\"t2s\")"
   ]
  },
  {
   "cell_type": "code",
   "execution_count": 4,
   "id": "2feeb643-54de-4865-ae08-97cdf37aa3c5",
   "metadata": {},
   "outputs": [
    {
     "name": "stderr",
     "output_type": "stream",
     "text": [
      "preprocessing sighan dataset: 2339it [00:00, 10266.85it/s]\n",
      "preprocessing sighan dataset: 100%|██████████| 2339/2339 [00:00<00:00, 10218.49it/s]\n"
     ]
    },
    {
     "name": "stdout",
     "output_type": "stream",
     "text": [
      "共2339句，共73264字，最长的句子有171字\n"
     ]
    },
    {
     "name": "stderr",
     "output_type": "stream",
     "text": [
      "preprocessing sighan dataset: 3437it [00:00, 6757.74it/s]\n",
      "preprocessing sighan dataset: 100%|██████████| 3437/3437 [00:00<00:00, 6624.68it/s]"
     ]
    },
    {
     "name": "stdout",
     "output_type": "stream",
     "text": [
      "共3437句，共170330字，最长的句子有258字\n"
     ]
    },
    {
     "name": "stderr",
     "output_type": "stream",
     "text": [
      "\n"
     ]
    }
   ],
   "source": [
    "train_dataset = CSCDataset(\n",
    "    [SIGHAN_train_dir_err, SIGHAN_train_dir_corr], tokenizer, converter\n",
    ")\n",
    "test_dataset = CSCDataset(\n",
    "    [SIGHAN_train_dir_err14, SIGHAN_train_dir_corr14], tokenizer, converter\n",
    ")"
   ]
  },
  {
   "cell_type": "code",
   "execution_count": 5,
   "id": "99781ab7-9f8f-4c97-a7a7-8066b0222a1d",
   "metadata": {},
   "outputs": [],
   "source": [
    "# split data\n",
    "train_data, dev_data = split_torch_dataset(train_dataset, 0.3)\n",
    "\n",
    "train_data_loader = DataLoader(train_data, num_workers=4, shuffle=True, batch_size=16)\n",
    "dev_data_loader = DataLoader(dev_data, num_workers=4, shuffle=True, batch_size=16)\n",
    "test_data_loader = DataLoader(test_dataset, num_workers=4, shuffle=True, batch_size=32)"
   ]
  },
  {
   "cell_type": "code",
   "execution_count": 6,
   "id": "72e4f69e-c9dc-4857-95dc-4b999872d233",
   "metadata": {},
   "outputs": [],
   "source": [
    "confusion_set = load_confusion(confusion_set_path, tokenizer)"
   ]
  },
  {
   "cell_type": "code",
   "execution_count": 7,
   "id": "e1a557e3-e2ae-4bee-b657-01a16b2c2803",
   "metadata": {},
   "outputs": [],
   "source": [
    "# The Hyperparameters can be defined in config.py\n",
    "hidden_size = 1024\n",
    "num_layers = 2\n",
    "\n",
    "encoder_model = BertModel.from_pretrained(checkpoint)\n",
    "decoder_model = DecoderBaseRNN(\n",
    "    model=nn.LSTM,\n",
    "    input_size=encoder_model.config.hidden_size,\n",
    "    hidden_size=hidden_size,\n",
    "    num_layers=num_layers,\n",
    ")\n",
    "model = CombineBertModel(encoder_model=encoder_model, decoder_model=decoder_model, confusion_set=confusion_set)\n",
    "\n",
    "optimizer = AdamW(model.parameters(), lr=learning_rate)\n",
    "trainer = Trainer(model=model, tokenizer=tokenizer, optimizer=optimizer)"
   ]
  },
  {
   "cell_type": "code",
   "execution_count": 9,
   "id": "41ba33e5-bfe8-4f50-92ea-45227c3b8859",
   "metadata": {},
   "outputs": [
    {
     "name": "stderr",
     "output_type": "stream",
     "text": [
      "train Epoch:1/35: 100%|██████████| 103/103 [00:29<00:00,  3.51it/s, avg loss=0.850]    \n",
      "dev Epoch:1/1: 100%|██████████| 44/44 [00:07<00:00,  5.50it/s, batches loss=1.062]"
     ]
    },
    {
     "name": "stdout",
     "output_type": "stream",
     "text": [
      "1.002017307010564 {'over_corr': 1895, 'total_err': 882, 'true_corr': tensor(195, device='cuda:0')} {'over_corr': 544, 'total_err': 681, 'true_corr': 34}\n"
     ]
    },
    {
     "name": "stderr",
     "output_type": "stream",
     "text": [
      "\n",
      "train Epoch:2/35: 100%|██████████| 103/103 [00:29<00:00,  3.52it/s, avg loss=0.776]    \n",
      "dev Epoch:1/1: 100%|██████████| 44/44 [00:07<00:00,  5.57it/s, batches loss=1.148]"
     ]
    },
    {
     "name": "stdout",
     "output_type": "stream",
     "text": [
      "0.9422040608796206 {'over_corr': 1744, 'total_err': 882, 'true_corr': tensor(204, device='cuda:0')} {'over_corr': 515, 'total_err': 681, 'true_corr': 41}\n"
     ]
    },
    {
     "name": "stderr",
     "output_type": "stream",
     "text": [
      "\n",
      "train Epoch:3/35: 100%|██████████| 103/103 [00:29<00:00,  3.51it/s, avg loss=0.708]    \n",
      "dev Epoch:1/1: 100%|██████████| 44/44 [00:07<00:00,  5.50it/s, batches loss=0.669]"
     ]
    },
    {
     "name": "stdout",
     "output_type": "stream",
     "text": [
      "0.8903517127037048 {'over_corr': 1555, 'total_err': 882, 'true_corr': tensor(206, device='cuda:0')} {'over_corr': 495, 'total_err': 681, 'true_corr': 46}\n"
     ]
    },
    {
     "name": "stderr",
     "output_type": "stream",
     "text": [
      "\n",
      "train Epoch:4/35: 100%|██████████| 103/103 [00:29<00:00,  3.50it/s, avg loss=0.648]    \n",
      "dev Epoch:1/1: 100%|██████████| 44/44 [00:08<00:00,  5.41it/s, batches loss=0.841]"
     ]
    },
    {
     "name": "stdout",
     "output_type": "stream",
     "text": [
      "0.8459505154327913 {'over_corr': 1418, 'total_err': 882, 'true_corr': tensor(212, device='cuda:0')} {'over_corr': 484, 'total_err': 681, 'true_corr': 53}\n"
     ]
    },
    {
     "name": "stderr",
     "output_type": "stream",
     "text": [
      "\n",
      "train Epoch:5/35: 100%|██████████| 103/103 [00:29<00:00,  3.51it/s, avg loss=0.589]    \n",
      "dev Epoch:1/1: 100%|██████████| 44/44 [00:08<00:00,  5.44it/s, batches loss=0.819]"
     ]
    },
    {
     "name": "stdout",
     "output_type": "stream",
     "text": [
      "0.8035763468254696 {'over_corr': 1324, 'total_err': 882, 'true_corr': tensor(217, device='cuda:0')} {'over_corr': 472, 'total_err': 681, 'true_corr': 64}\n"
     ]
    },
    {
     "name": "stderr",
     "output_type": "stream",
     "text": [
      "\n",
      "train Epoch:6/35: 100%|██████████| 103/103 [00:29<00:00,  3.51it/s, avg loss=0.537]    \n",
      "dev Epoch:1/1: 100%|██████████| 44/44 [00:08<00:00,  5.45it/s, batches loss=0.505]"
     ]
    },
    {
     "name": "stdout",
     "output_type": "stream",
     "text": [
      "0.7649020755832846 {'over_corr': 1224, 'total_err': 882, 'true_corr': tensor(233, device='cuda:0')} {'over_corr': 450, 'total_err': 681, 'true_corr': 69}\n"
     ]
    },
    {
     "name": "stderr",
     "output_type": "stream",
     "text": [
      "\n",
      "train Epoch:7/35: 100%|██████████| 103/103 [00:29<00:00,  3.52it/s, avg loss=0.493]    \n",
      "dev Epoch:1/1: 100%|██████████| 44/44 [00:08<00:00,  5.46it/s, batches loss=0.667]"
     ]
    },
    {
     "name": "stdout",
     "output_type": "stream",
     "text": [
      "0.7274990623647516 {'over_corr': 1128, 'total_err': 882, 'true_corr': tensor(230, device='cuda:0')} {'over_corr': 432, 'total_err': 681, 'true_corr': 71}\n"
     ]
    },
    {
     "name": "stderr",
     "output_type": "stream",
     "text": [
      "\n",
      "train Epoch:8/35: 100%|██████████| 103/103 [00:29<00:00,  3.50it/s, avg loss=0.447]    \n",
      "dev Epoch:1/1: 100%|██████████| 44/44 [00:08<00:00,  5.38it/s, batches loss=0.494]"
     ]
    },
    {
     "name": "stdout",
     "output_type": "stream",
     "text": [
      "0.7015925943851471 {'over_corr': 1076, 'total_err': 882, 'true_corr': tensor(248, device='cuda:0')} {'over_corr': 423, 'total_err': 681, 'true_corr': 81}\n"
     ]
    },
    {
     "name": "stderr",
     "output_type": "stream",
     "text": [
      "\n",
      "train Epoch:9/35: 100%|██████████| 103/103 [00:29<00:00,  3.52it/s, avg loss=0.411]    \n",
      "dev Epoch:1/1: 100%|██████████| 44/44 [00:08<00:00,  5.38it/s, batches loss=0.553]"
     ]
    },
    {
     "name": "stdout",
     "output_type": "stream",
     "text": [
      "0.677770508961244 {'over_corr': 1031, 'total_err': 882, 'true_corr': tensor(245, device='cuda:0')} {'over_corr': 415, 'total_err': 681, 'true_corr': 83}\n"
     ]
    },
    {
     "name": "stderr",
     "output_type": "stream",
     "text": [
      "\n",
      "train Epoch:10/35: 100%|██████████| 103/103 [00:29<00:00,  3.52it/s, avg loss=0.375]    \n",
      "dev Epoch:1/1: 100%|██████████| 44/44 [00:08<00:00,  5.46it/s, batches loss=0.762]"
     ]
    },
    {
     "name": "stdout",
     "output_type": "stream",
     "text": [
      "0.6552754674445499 {'over_corr': 968, 'total_err': 882, 'true_corr': tensor(241, device='cuda:0')} {'over_corr': 396, 'total_err': 681, 'true_corr': 82}\n"
     ]
    },
    {
     "name": "stderr",
     "output_type": "stream",
     "text": [
      "\n",
      "train Epoch:11/35: 100%|██████████| 103/103 [00:29<00:00,  3.51it/s, avg loss=0.344]    \n",
      "dev Epoch:1/1: 100%|██████████| 44/44 [00:08<00:00,  5.37it/s, batches loss=0.558]"
     ]
    },
    {
     "name": "stdout",
     "output_type": "stream",
     "text": [
      "0.630167964507233 {'over_corr': 922, 'total_err': 882, 'true_corr': tensor(248, device='cuda:0')} {'over_corr': 383, 'total_err': 681, 'true_corr': 95}\n"
     ]
    },
    {
     "name": "stderr",
     "output_type": "stream",
     "text": [
      "\n",
      "train Epoch:12/35: 100%|██████████| 103/103 [00:29<00:00,  3.50it/s, avg loss=0.314]    \n",
      "dev Epoch:1/1: 100%|██████████| 44/44 [00:08<00:00,  5.29it/s, batches loss=0.463]"
     ]
    },
    {
     "name": "stdout",
     "output_type": "stream",
     "text": [
      "0.6157019544731487 {'over_corr': 888, 'total_err': 882, 'true_corr': tensor(253, device='cuda:0')} {'over_corr': 367, 'total_err': 681, 'true_corr': 100}\n"
     ]
    },
    {
     "name": "stderr",
     "output_type": "stream",
     "text": [
      "\n",
      "train Epoch:13/35: 100%|██████████| 103/103 [00:29<00:00,  3.52it/s, avg loss=0.292]    \n",
      "dev Epoch:1/1: 100%|██████████| 44/44 [00:08<00:00,  5.32it/s, batches loss=0.609]"
     ]
    },
    {
     "name": "stdout",
     "output_type": "stream",
     "text": [
      "0.5951351862062108 {'over_corr': 818, 'total_err': 882, 'true_corr': tensor(239, device='cuda:0')} {'over_corr': 357, 'total_err': 681, 'true_corr': 95}\n"
     ]
    },
    {
     "name": "stderr",
     "output_type": "stream",
     "text": [
      "\n",
      "train Epoch:14/35: 100%|██████████| 103/103 [00:29<00:00,  3.51it/s, avg loss=0.268]    \n",
      "dev Epoch:1/1: 100%|██████████| 44/44 [00:08<00:00,  5.27it/s, batches loss=0.527]"
     ]
    },
    {
     "name": "stdout",
     "output_type": "stream",
     "text": [
      "0.5786606689745729 {'over_corr': 794, 'total_err': 882, 'true_corr': tensor(257, device='cuda:0')} {'over_corr': 352, 'total_err': 681, 'true_corr': 107}\n"
     ]
    },
    {
     "name": "stderr",
     "output_type": "stream",
     "text": [
      "\n",
      "train Epoch:15/35: 100%|██████████| 103/103 [00:29<00:00,  3.51it/s, avg loss=0.246]    \n",
      "dev Epoch:1/1: 100%|██████████| 44/44 [00:08<00:00,  5.34it/s, batches loss=0.579]"
     ]
    },
    {
     "name": "stdout",
     "output_type": "stream",
     "text": [
      "0.5608029433272101 {'over_corr': 764, 'total_err': 882, 'true_corr': tensor(263, device='cuda:0')} {'over_corr': 348, 'total_err': 681, 'true_corr': 106}\n"
     ]
    },
    {
     "name": "stderr",
     "output_type": "stream",
     "text": [
      "\n",
      "train Epoch:16/35: 100%|██████████| 103/103 [00:29<00:00,  3.51it/s, avg loss=0.227]    \n",
      "dev Epoch:1/1: 100%|██████████| 44/44 [00:08<00:00,  5.30it/s, batches loss=0.327]"
     ]
    },
    {
     "name": "stdout",
     "output_type": "stream",
     "text": [
      "0.5498586378314279 {'over_corr': 726, 'total_err': 882, 'true_corr': tensor(250, device='cuda:0')} {'over_corr': 333, 'total_err': 681, 'true_corr': 105}\n"
     ]
    },
    {
     "name": "stderr",
     "output_type": "stream",
     "text": [
      "\n",
      "train Epoch:17/35: 100%|██████████| 103/103 [00:29<00:00,  3.50it/s, avg loss=0.209]    \n",
      "dev Epoch:1/1: 100%|██████████| 44/44 [00:08<00:00,  5.25it/s, batches loss=0.672]"
     ]
    },
    {
     "name": "stdout",
     "output_type": "stream",
     "text": [
      "0.5396966873244806 {'over_corr': 690, 'total_err': 882, 'true_corr': tensor(257, device='cuda:0')} {'over_corr': 324, 'total_err': 681, 'true_corr': 111}\n"
     ]
    },
    {
     "name": "stderr",
     "output_type": "stream",
     "text": [
      "\n",
      "train Epoch:18/35: 100%|██████████| 103/103 [00:29<00:00,  3.51it/s, avg loss=0.193]    \n",
      "dev Epoch:1/1: 100%|██████████| 44/44 [00:08<00:00,  5.27it/s, batches loss=0.407]"
     ]
    },
    {
     "name": "stdout",
     "output_type": "stream",
     "text": [
      "0.525457542728294 {'over_corr': 653, 'total_err': 882, 'true_corr': tensor(257, device='cuda:0')} {'over_corr': 312, 'total_err': 681, 'true_corr': 111}\n"
     ]
    },
    {
     "name": "stderr",
     "output_type": "stream",
     "text": [
      "\n",
      "train Epoch:19/35: 100%|██████████| 103/103 [00:29<00:00,  3.51it/s, avg loss=0.178]    \n",
      "dev Epoch:1/1: 100%|██████████| 44/44 [00:08<00:00,  5.20it/s, batches loss=0.818]"
     ]
    },
    {
     "name": "stdout",
     "output_type": "stream",
     "text": [
      "0.520991438491778 {'over_corr': 621, 'total_err': 882, 'true_corr': tensor(255, device='cuda:0')} {'over_corr': 300, 'total_err': 681, 'true_corr': 116}\n"
     ]
    },
    {
     "name": "stderr",
     "output_type": "stream",
     "text": [
      "\n",
      "train Epoch:20/35: 100%|██████████| 103/103 [00:29<00:00,  3.52it/s, avg loss=0.165]    \n",
      "dev Epoch:1/1: 100%|██████████| 44/44 [00:08<00:00,  5.23it/s, batches loss=0.455]"
     ]
    },
    {
     "name": "stdout",
     "output_type": "stream",
     "text": [
      "0.5094762007621202 {'over_corr': 601, 'total_err': 882, 'true_corr': tensor(255, device='cuda:0')} {'over_corr': 301, 'total_err': 681, 'true_corr': 113}\n"
     ]
    },
    {
     "name": "stderr",
     "output_type": "stream",
     "text": [
      "\n",
      "train Epoch:21/35: 100%|██████████| 103/103 [00:29<00:00,  3.52it/s, avg loss=0.152]    \n",
      "dev Epoch:1/1: 100%|██████████| 44/44 [00:08<00:00,  5.28it/s, batches loss=0.345]"
     ]
    },
    {
     "name": "stdout",
     "output_type": "stream",
     "text": [
      "0.5027322511781346 {'over_corr': 572, 'total_err': 882, 'true_corr': tensor(258, device='cuda:0')} {'over_corr': 292, 'total_err': 681, 'true_corr': 119}\n"
     ]
    },
    {
     "name": "stderr",
     "output_type": "stream",
     "text": [
      "\n",
      "train Epoch:22/35: 100%|██████████| 103/103 [00:29<00:00,  3.51it/s, avg loss=0.142]    \n",
      "dev Epoch:1/1: 100%|██████████| 44/44 [00:08<00:00,  5.30it/s, batches loss=0.392]"
     ]
    },
    {
     "name": "stdout",
     "output_type": "stream",
     "text": [
      "0.4974165924570777 {'over_corr': 556, 'total_err': 882, 'true_corr': tensor(254, device='cuda:0')} {'over_corr': 283, 'total_err': 681, 'true_corr': 120}\n"
     ]
    },
    {
     "name": "stderr",
     "output_type": "stream",
     "text": [
      "\n",
      "train Epoch:23/35: 100%|██████████| 103/103 [00:29<00:00,  3.51it/s, avg loss=0.132]    \n",
      "dev Epoch:1/1: 100%|██████████| 44/44 [00:08<00:00,  5.31it/s, batches loss=0.774]"
     ]
    },
    {
     "name": "stdout",
     "output_type": "stream",
     "text": [
      "0.4926236298951236 {'over_corr': 534, 'total_err': 882, 'true_corr': tensor(256, device='cuda:0')} {'over_corr': 278, 'total_err': 681, 'true_corr': 123}\n"
     ]
    },
    {
     "name": "stderr",
     "output_type": "stream",
     "text": [
      "\n",
      "train Epoch:24/35: 100%|██████████| 103/103 [00:29<00:00,  3.51it/s, avg loss=0.121]    \n",
      "dev Epoch:1/1: 100%|██████████| 44/44 [00:08<00:00,  5.27it/s, batches loss=0.416]"
     ]
    },
    {
     "name": "stdout",
     "output_type": "stream",
     "text": [
      "0.47918081080371683 {'over_corr': 503, 'total_err': 882, 'true_corr': tensor(254, device='cuda:0')} {'over_corr': 264, 'total_err': 681, 'true_corr': 125}\n"
     ]
    },
    {
     "name": "stderr",
     "output_type": "stream",
     "text": [
      "\n",
      "train Epoch:25/35: 100%|██████████| 103/103 [00:29<00:00,  3.50it/s, avg loss=0.113]    \n",
      "dev Epoch:1/1: 100%|██████████| 44/44 [00:08<00:00,  5.21it/s, batches loss=0.504]"
     ]
    },
    {
     "name": "stdout",
     "output_type": "stream",
     "text": [
      "0.48037028177218005 {'over_corr': 509, 'total_err': 882, 'true_corr': tensor(258, device='cuda:0')} {'over_corr': 270, 'total_err': 681, 'true_corr': 123}\n"
     ]
    },
    {
     "name": "stderr",
     "output_type": "stream",
     "text": [
      "\n",
      "train Epoch:26/35: 100%|██████████| 103/103 [00:29<00:00,  3.51it/s, avg loss=0.106]    \n",
      "dev Epoch:1/1: 100%|██████████| 44/44 [00:08<00:00,  5.27it/s, batches loss=0.852]"
     ]
    },
    {
     "name": "stdout",
     "output_type": "stream",
     "text": [
      "0.47655446150086145 {'over_corr': 487, 'total_err': 882, 'true_corr': tensor(264, device='cuda:0')} {'over_corr': 260, 'total_err': 681, 'true_corr': 127}\n"
     ]
    },
    {
     "name": "stderr",
     "output_type": "stream",
     "text": [
      "\n",
      "train Epoch:27/35: 100%|██████████| 103/103 [00:29<00:00,  3.51it/s, avg loss=0.098]    \n",
      "dev Epoch:1/1: 100%|██████████| 44/44 [00:08<00:00,  5.27it/s, batches loss=0.603]"
     ]
    },
    {
     "name": "stdout",
     "output_type": "stream",
     "text": [
      "0.47188553654334764 {'over_corr': 507, 'total_err': 882, 'true_corr': tensor(269, device='cuda:0')} {'over_corr': 273, 'total_err': 681, 'true_corr': 125}\n"
     ]
    },
    {
     "name": "stderr",
     "output_type": "stream",
     "text": [
      "\n",
      "train Epoch:28/35: 100%|██████████| 103/103 [00:29<00:00,  3.50it/s, avg loss=0.090]    \n",
      "dev Epoch:1/1: 100%|██████████| 44/44 [00:08<00:00,  5.21it/s, batches loss=0.388]"
     ]
    },
    {
     "name": "stdout",
     "output_type": "stream",
     "text": [
      "0.4635430811481042 {'over_corr': 474, 'total_err': 882, 'true_corr': tensor(261, device='cuda:0')} {'over_corr': 257, 'total_err': 681, 'true_corr': 129}\n"
     ]
    },
    {
     "name": "stderr",
     "output_type": "stream",
     "text": [
      "\n",
      "train Epoch:29/35: 100%|██████████| 103/103 [00:29<00:00,  3.51it/s, avg loss=0.084]    \n",
      "dev Epoch:1/1: 100%|██████████| 44/44 [00:08<00:00,  5.26it/s, batches loss=0.307]"
     ]
    },
    {
     "name": "stdout",
     "output_type": "stream",
     "text": [
      "0.4605134078724818 {'over_corr': 442, 'total_err': 882, 'true_corr': tensor(257, device='cuda:0')} {'over_corr': 241, 'total_err': 681, 'true_corr': 132}\n"
     ]
    },
    {
     "name": "stderr",
     "output_type": "stream",
     "text": [
      "\n",
      "train Epoch:30/35: 100%|██████████| 103/103 [00:29<00:00,  3.52it/s, avg loss=0.077]    \n",
      "dev Epoch:1/1: 100%|██████████| 44/44 [00:08<00:00,  5.21it/s, batches loss=0.345]"
     ]
    },
    {
     "name": "stdout",
     "output_type": "stream",
     "text": [
      "0.4565389671108939 {'over_corr': 442, 'total_err': 882, 'true_corr': tensor(262, device='cuda:0')} {'over_corr': 242, 'total_err': 681, 'true_corr': 136}\n"
     ]
    },
    {
     "name": "stderr",
     "output_type": "stream",
     "text": [
      "\n",
      "train Epoch:31/35: 100%|██████████| 103/103 [00:29<00:00,  3.51it/s, avg loss=0.071]    \n",
      "dev Epoch:1/1: 100%|██████████| 44/44 [00:08<00:00,  5.22it/s, batches loss=0.539]"
     ]
    },
    {
     "name": "stdout",
     "output_type": "stream",
     "text": [
      "0.4603310190141201 {'over_corr': 420, 'total_err': 882, 'true_corr': tensor(246, device='cuda:0')} {'over_corr': 237, 'total_err': 681, 'true_corr': 126}\n"
     ]
    },
    {
     "name": "stderr",
     "output_type": "stream",
     "text": [
      "\n",
      "train Epoch:32/35: 100%|██████████| 103/103 [00:29<00:00,  3.52it/s, avg loss=0.065]    \n",
      "dev Epoch:1/1: 100%|██████████| 44/44 [00:08<00:00,  5.24it/s, batches loss=0.373]"
     ]
    },
    {
     "name": "stdout",
     "output_type": "stream",
     "text": [
      "0.4501369216225364 {'over_corr': 407, 'total_err': 882, 'true_corr': tensor(255, device='cuda:0')} {'over_corr': 229, 'total_err': 681, 'true_corr': 136}\n"
     ]
    },
    {
     "name": "stderr",
     "output_type": "stream",
     "text": [
      "\n",
      "train Epoch:33/35: 100%|██████████| 103/103 [00:29<00:00,  3.52it/s, avg loss=0.060]    \n",
      "dev Epoch:1/1: 100%|██████████| 44/44 [00:08<00:00,  5.23it/s, batches loss=0.316]"
     ]
    },
    {
     "name": "stdout",
     "output_type": "stream",
     "text": [
      "0.4458432810550386 {'over_corr': 407, 'total_err': 882, 'true_corr': tensor(268, device='cuda:0')} {'over_corr': 231, 'total_err': 681, 'true_corr': 138}\n"
     ]
    },
    {
     "name": "stderr",
     "output_type": "stream",
     "text": [
      "\n",
      "train Epoch:34/35: 100%|██████████| 103/103 [00:29<00:00,  3.51it/s, avg loss=0.055]    \n",
      "dev Epoch:1/1: 100%|██████████| 44/44 [00:08<00:00,  5.19it/s, batches loss=0.240]"
     ]
    },
    {
     "name": "stdout",
     "output_type": "stream",
     "text": [
      "0.44602563977241516 {'over_corr': 392, 'total_err': 882, 'true_corr': tensor(259, device='cuda:0')} {'over_corr': 226, 'total_err': 681, 'true_corr': 139}\n"
     ]
    },
    {
     "name": "stderr",
     "output_type": "stream",
     "text": [
      "\n",
      "train Epoch:35/35:  11%|█         | 11/103 [00:03<00:29,  3.16it/s, batches loss=0.052]\n"
     ]
    },
    {
     "ename": "KeyboardInterrupt",
     "evalue": "",
     "output_type": "error",
     "traceback": [
      "\u001b[0;31m---------------------------------------------------------------------------\u001b[0m",
      "\u001b[0;31mKeyboardInterrupt\u001b[0m                         Traceback (most recent call last)",
      "Cell \u001b[0;32mIn[9], line 3\u001b[0m\n\u001b[1;32m      1\u001b[0m epochs \u001b[38;5;241m=\u001b[39m \u001b[38;5;241m35\u001b[39m\n\u001b[0;32m----> 3\u001b[0m \u001b[43mtrainer\u001b[49m\u001b[38;5;241;43m.\u001b[39;49m\u001b[43mtrain\u001b[49m\u001b[43m(\u001b[49m\n\u001b[1;32m      4\u001b[0m \u001b[43m    \u001b[49m\u001b[43mdataloader\u001b[49m\u001b[38;5;241;43m=\u001b[39;49m\u001b[43mtrain_data_loader\u001b[49m\u001b[43m,\u001b[49m\u001b[43m \u001b[49m\u001b[43mepoch\u001b[49m\u001b[38;5;241;43m=\u001b[39;49m\u001b[43mepochs\u001b[49m\u001b[43m,\u001b[49m\u001b[43m \u001b[49m\u001b[43mtest_dataloader\u001b[49m\u001b[38;5;241;43m=\u001b[39;49m\u001b[43mdev_data_loader\u001b[49m\n\u001b[1;32m      5\u001b[0m \u001b[43m)\u001b[49m\n\u001b[1;32m      6\u001b[0m trainer\u001b[38;5;241m.\u001b[39mtest(test_data_loader)\n",
      "File \u001b[0;32m~/csc_codes/CSC/models/trainerMoudle.py:14\u001b[0m, in \u001b[0;36mTrainer.train\u001b[0;34m(self, dataloader, epoch, test_dataloader, printepoch)\u001b[0m\n\u001b[1;32m     13\u001b[0m \u001b[38;5;28;01mdef\u001b[39;00m \u001b[38;5;21mtrain\u001b[39m(\u001b[38;5;28mself\u001b[39m, dataloader, epoch, test_dataloader\u001b[38;5;241m=\u001b[39m\u001b[38;5;28;01mNone\u001b[39;00m, printepoch\u001b[38;5;241m=\u001b[39m\u001b[38;5;28mfloat\u001b[39m(\u001b[38;5;124m\"\u001b[39m\u001b[38;5;124minf\u001b[39m\u001b[38;5;124m\"\u001b[39m)):\n\u001b[0;32m---> 14\u001b[0m     \u001b[38;5;28;43mself\u001b[39;49m\u001b[38;5;241;43m.\u001b[39;49m\u001b[43miteration\u001b[49m\u001b[43m(\u001b[49m\u001b[43mdataloader\u001b[49m\u001b[43m,\u001b[49m\u001b[43m \u001b[49m\u001b[43mepoch\u001b[49m\u001b[43m,\u001b[49m\u001b[43m \u001b[49m\u001b[43mtest_dataloader\u001b[49m\u001b[43m,\u001b[49m\u001b[43m \u001b[49m\u001b[43mprintepoch\u001b[49m\u001b[43m)\u001b[49m\n",
      "File \u001b[0;32m~/csc_codes/CSC/models/trainerMoudle.py:60\u001b[0m, in \u001b[0;36mTrainer.iteration\u001b[0;34m(self, dataloader, epochs, test_dataloader, printepoch, train)\u001b[0m\n\u001b[1;32m     58\u001b[0m \u001b[38;5;28;01mif\u001b[39;00m train:\n\u001b[1;32m     59\u001b[0m     \u001b[38;5;28mself\u001b[39m\u001b[38;5;241m.\u001b[39moptimizer\u001b[38;5;241m.\u001b[39mzero_grad()\n\u001b[0;32m---> 60\u001b[0m     \u001b[43mloss\u001b[49m\u001b[38;5;241;43m.\u001b[39;49m\u001b[43mbackward\u001b[49m\u001b[43m(\u001b[49m\u001b[43m)\u001b[49m\n\u001b[1;32m     61\u001b[0m     \u001b[38;5;28mself\u001b[39m\u001b[38;5;241m.\u001b[39moptimizer\u001b[38;5;241m.\u001b[39mstep()\n\u001b[1;32m     62\u001b[0m \u001b[38;5;28;01melse\u001b[39;00m:\n",
      "File \u001b[0;32m~/anaconda3/envs/simple_csc/lib/python3.10/site-packages/torch/_tensor.py:487\u001b[0m, in \u001b[0;36mTensor.backward\u001b[0;34m(self, gradient, retain_graph, create_graph, inputs)\u001b[0m\n\u001b[1;32m    477\u001b[0m \u001b[38;5;28;01mif\u001b[39;00m has_torch_function_unary(\u001b[38;5;28mself\u001b[39m):\n\u001b[1;32m    478\u001b[0m     \u001b[38;5;28;01mreturn\u001b[39;00m handle_torch_function(\n\u001b[1;32m    479\u001b[0m         Tensor\u001b[38;5;241m.\u001b[39mbackward,\n\u001b[1;32m    480\u001b[0m         (\u001b[38;5;28mself\u001b[39m,),\n\u001b[0;32m   (...)\u001b[0m\n\u001b[1;32m    485\u001b[0m         inputs\u001b[38;5;241m=\u001b[39minputs,\n\u001b[1;32m    486\u001b[0m     )\n\u001b[0;32m--> 487\u001b[0m \u001b[43mtorch\u001b[49m\u001b[38;5;241;43m.\u001b[39;49m\u001b[43mautograd\u001b[49m\u001b[38;5;241;43m.\u001b[39;49m\u001b[43mbackward\u001b[49m\u001b[43m(\u001b[49m\n\u001b[1;32m    488\u001b[0m \u001b[43m    \u001b[49m\u001b[38;5;28;43mself\u001b[39;49m\u001b[43m,\u001b[49m\u001b[43m \u001b[49m\u001b[43mgradient\u001b[49m\u001b[43m,\u001b[49m\u001b[43m \u001b[49m\u001b[43mretain_graph\u001b[49m\u001b[43m,\u001b[49m\u001b[43m \u001b[49m\u001b[43mcreate_graph\u001b[49m\u001b[43m,\u001b[49m\u001b[43m \u001b[49m\u001b[43minputs\u001b[49m\u001b[38;5;241;43m=\u001b[39;49m\u001b[43minputs\u001b[49m\n\u001b[1;32m    489\u001b[0m \u001b[43m\u001b[49m\u001b[43m)\u001b[49m\n",
      "File \u001b[0;32m~/anaconda3/envs/simple_csc/lib/python3.10/site-packages/torch/autograd/__init__.py:200\u001b[0m, in \u001b[0;36mbackward\u001b[0;34m(tensors, grad_tensors, retain_graph, create_graph, grad_variables, inputs)\u001b[0m\n\u001b[1;32m    195\u001b[0m     retain_graph \u001b[38;5;241m=\u001b[39m create_graph\n\u001b[1;32m    197\u001b[0m \u001b[38;5;66;03m# The reason we repeat same the comment below is that\u001b[39;00m\n\u001b[1;32m    198\u001b[0m \u001b[38;5;66;03m# some Python versions print out the first line of a multi-line function\u001b[39;00m\n\u001b[1;32m    199\u001b[0m \u001b[38;5;66;03m# calls in the traceback and some print out the last line\u001b[39;00m\n\u001b[0;32m--> 200\u001b[0m \u001b[43mVariable\u001b[49m\u001b[38;5;241;43m.\u001b[39;49m\u001b[43m_execution_engine\u001b[49m\u001b[38;5;241;43m.\u001b[39;49m\u001b[43mrun_backward\u001b[49m\u001b[43m(\u001b[49m\u001b[43m  \u001b[49m\u001b[38;5;66;43;03m# Calls into the C++ engine to run the backward pass\u001b[39;49;00m\n\u001b[1;32m    201\u001b[0m \u001b[43m    \u001b[49m\u001b[43mtensors\u001b[49m\u001b[43m,\u001b[49m\u001b[43m \u001b[49m\u001b[43mgrad_tensors_\u001b[49m\u001b[43m,\u001b[49m\u001b[43m \u001b[49m\u001b[43mretain_graph\u001b[49m\u001b[43m,\u001b[49m\u001b[43m \u001b[49m\u001b[43mcreate_graph\u001b[49m\u001b[43m,\u001b[49m\u001b[43m \u001b[49m\u001b[43minputs\u001b[49m\u001b[43m,\u001b[49m\n\u001b[1;32m    202\u001b[0m \u001b[43m    \u001b[49m\u001b[43mallow_unreachable\u001b[49m\u001b[38;5;241;43m=\u001b[39;49m\u001b[38;5;28;43;01mTrue\u001b[39;49;00m\u001b[43m,\u001b[49m\u001b[43m \u001b[49m\u001b[43maccumulate_grad\u001b[49m\u001b[38;5;241;43m=\u001b[39;49m\u001b[38;5;28;43;01mTrue\u001b[39;49;00m\u001b[43m)\u001b[49m\n",
      "\u001b[0;31mKeyboardInterrupt\u001b[0m: "
     ]
    }
   ],
   "source": [
    "epochs = 35\n",
    "\n",
    "trainer.train(\n",
    "    dataloader=train_data_loader, epoch=epochs, test_dataloader=dev_data_loader\n",
    ")\n",
    "trainer.test(test_data_loader)"
   ]
  },
  {
   "cell_type": "code",
   "execution_count": null,
   "id": "6d6b72d6-11e1-4f44-8f08-f06a78c4eb0d",
   "metadata": {},
   "outputs": [],
   "source": []
  },
  {
   "cell_type": "code",
   "execution_count": null,
   "id": "3153e271-c931-4539-9399-d83ece40c254",
   "metadata": {},
   "outputs": [],
   "source": [
    "# The Hyperparameters can be defined in config.py\n",
    "hidden_size = 1024\n",
    "num_layers = 2\n",
    "\n",
    "encoder_model = BertModel.from_pretrained(checkpoint)\n",
    "decoder_model = DecoderBaseRNN(\n",
    "    model=nn.GRU,\n",
    "    input_size=encoder_model.config.hidden_size,\n",
    "    hidden_size=hidden_size,\n",
    "    num_layers=num_layers,\n",
    ")\n",
    "model = CombineBertModel(encoder_model=encoder_model, decoder_model=decoder_model)\n",
    "\n",
    "optimizer = AdamW(model.parameters(), lr=learning_rate)\n",
    "trainer = Trainer(model=model, tokenizer=tokenizer, optimizer=optimizer)"
   ]
  },
  {
   "cell_type": "code",
   "execution_count": null,
   "id": "398c9e8c-6645-4fce-bdda-5b79c5d4e009",
   "metadata": {},
   "outputs": [],
   "source": [
    "trainer.train(\n",
    "    dataloader=train_data_loader, epoch=epochs, test_dataloader=dev_data_loader\n",
    ")\n",
    "trainer.test(test_data_loader)"
   ]
  },
  {
   "cell_type": "code",
   "execution_count": null,
   "id": "b80c76d8-940b-4161-b545-4f242787f1be",
   "metadata": {},
   "outputs": [],
   "source": []
  },
  {
   "cell_type": "code",
   "execution_count": null,
   "id": "51483b71-c79c-4593-8c5f-5c027fdc83d3",
   "metadata": {},
   "outputs": [],
   "source": [
    "nhead = 2\n",
    "num_encoder_layers = 2\n",
    "num_decoder_layers = 2\n",
    "\n",
    "encoder_model = BertModel.from_pretrained(checkpoint)\n",
    "decoder_model = DecoderTransformer(\n",
    "    input_size=encoder_model.config.hidden_size,\n",
    "    nhead=nhead,\n",
    "    num_encoder_layers=num_encoder_layers,\n",
    "    num_decoder_layers=num_decoder_layers,\n",
    ")\n",
    "model = CombineBertModel(encoder_model=encoder_model, decoder_model=decoder_model)\n",
    "\n",
    "optimizer = AdamW(model.parameters(), lr=learning_rate)\n",
    "trainer = Trainer(model=model, tokenizer=tokenizer, optimizer=optimizer)"
   ]
  },
  {
   "cell_type": "code",
   "execution_count": null,
   "id": "828ee46e-a26b-4927-a5fd-5ed8707f04ba",
   "metadata": {},
   "outputs": [],
   "source": [
    "trainer.train(\n",
    "    dataloader=train_data_loader, epoch=epochs, test_dataloader=dev_data_loader\n",
    ")\n",
    "trainer.test(test_data_loader)"
   ]
  },
  {
   "cell_type": "code",
   "execution_count": null,
   "id": "9d381e25-2cc1-4fd5-86fd-210f310693c9",
   "metadata": {},
   "outputs": [],
   "source": []
  }
 ],
 "metadata": {
  "kernelspec": {
   "display_name": "csc",
   "language": "python",
   "name": "simple_csc"
  },
  "language_info": {
   "codemirror_mode": {
    "name": "ipython",
    "version": 3
   },
   "file_extension": ".py",
   "mimetype": "text/x-python",
   "name": "python",
   "nbconvert_exporter": "python",
   "pygments_lexer": "ipython3",
   "version": "3.10.15"
  }
 },
 "nbformat": 4,
 "nbformat_minor": 5
}
