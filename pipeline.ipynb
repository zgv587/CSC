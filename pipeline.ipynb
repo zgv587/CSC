{
 "cells": [
  {
   "cell_type": "code",
   "execution_count": 1,
   "id": "e3f0a4b4-824a-4d09-acc6-40295f557259",
   "metadata": {},
   "outputs": [
    {
     "name": "stderr",
     "output_type": "stream",
     "text": [
      "/root/anaconda3/envs/simple_csc/lib/python3.10/site-packages/tqdm/auto.py:21: TqdmWarning: IProgress not found. Please update jupyter and ipywidgets. See https://ipywidgets.readthedocs.io/en/stable/user_install.html\n",
      "  from .autonotebook import tqdm as notebook_tqdm\n"
     ]
    }
   ],
   "source": [
    "import torch\n",
    "import torch.nn as nn\n",
    "\n",
    "# Implemented by myself\n",
    "from config import *\n",
    "from data_processer import CSCDataset, split_torch_dataset\n",
    "from models import DecoderBaseRNN, DecoderTransformer\n",
    "from torch.optim import AdamW\n",
    "from torch.utils.data import DataLoader\n",
    "from transformers import BertModel, BertTokenizer"
   ]
  },
  {
   "cell_type": "code",
   "execution_count": 2,
   "id": "8ae5b96e-3468-4348-aa18-6639a76efac1",
   "metadata": {},
   "outputs": [],
   "source": [
    "class TempBertModel(nn.Module):\n",
    "    def __init__(self, encoder_model, decoder_model, output_size=2):\n",
    "        super(TempBertModel, self).__init__()\n",
    "        self.encoder = encoder_model\n",
    "        self.decoder = decoder_model\n",
    "\n",
    "        self.linear = nn.Linear(decoder_model.config.hidden_size, output_size)\n",
    "\n",
    "    def forward(self, src, src_mask):\n",
    "        x = self.encoder(src, attention_mask=src_mask).last_hidden_state\n",
    "        x = self.decoder(x)\n",
    "\n",
    "        x = self.linear(x)\n",
    "\n",
    "        return x\n",
    "\n",
    "    def save(self, store_path):\n",
    "        torch.save(self, store_path)\n",
    "\n",
    "    def save_state(self, store_path):\n",
    "        torch.save(self.state_dict(), store_path)"
   ]
  },
  {
   "cell_type": "code",
   "execution_count": 3,
   "id": "2cc1c825-4dde-4077-8d9e-cde00f522ff6",
   "metadata": {},
   "outputs": [],
   "source": [
    "tokenizer = BertTokenizer.from_pretrained(checkpoint)"
   ]
  },
  {
   "cell_type": "code",
   "execution_count": 4,
   "id": "fdb43b12-ad3f-4961-aa69-39297c3c924e",
   "metadata": {},
   "outputs": [
    {
     "name": "stderr",
     "output_type": "stream",
     "text": [
      "preprocessing sighan dataset: 2339it [00:00, 930255.74it/s]\n",
      "preprocessing sighan dataset: 100%|██████████| 2339/2339 [00:00<00:00, 1577247.12it/s]\n"
     ]
    },
    {
     "name": "stdout",
     "output_type": "stream",
     "text": [
      "共2339句，共73264字，最长的句子有171字\n"
     ]
    },
    {
     "name": "stderr",
     "output_type": "stream",
     "text": [
      "preprocessing sighan dataset: 3437it [00:00, 862809.60it/s]\n",
      "preprocessing sighan dataset: 100%|██████████| 3437/3437 [00:00<00:00, 1344132.67it/s]"
     ]
    },
    {
     "name": "stdout",
     "output_type": "stream",
     "text": [
      "共3437句，共170330字，最长的句子有258字\n"
     ]
    },
    {
     "name": "stderr",
     "output_type": "stream",
     "text": [
      "\n"
     ]
    }
   ],
   "source": [
    "train_dataset = CSCDataset([SIGHAN_train_dir_err, SIGHAN_train_dir_corr], tokenizer)\n",
    "test_dataset = CSCDataset([SIGHAN_train_dir_err14, SIGHAN_train_dir_corr14], tokenizer)"
   ]
  },
  {
   "cell_type": "code",
   "execution_count": 5,
   "id": "4c61c470-d471-4042-a030-873bd84bbd91",
   "metadata": {},
   "outputs": [],
   "source": [
    "# split data\n",
    "train_data, dev_data = split_torch_dataset(train_dataset, 0.3)\n",
    "\n",
    "train_data_loader = DataLoader(train_data, num_workers=4, shuffle=True, batch_size=16)\n",
    "dev_data_loader = DataLoader(dev_data, num_workers=4, shuffle=True, batch_size=16)\n",
    "test_data_loader = DataLoader(test_dataset, num_workers=4, shuffle=True, batch_size=32)"
   ]
  },
  {
   "cell_type": "code",
   "execution_count": 18,
   "id": "598f08dd-754a-4247-a2e5-d3cfa150b627",
   "metadata": {},
   "outputs": [],
   "source": [
    "import torch\n",
    "import torch.nn.functional as F\n",
    "from tqdm import tqdm\n",
    "from utils import cal_err\n",
    "\n",
    "\n",
    "class Trainer:\n",
    "    def __init__(self, model, tokenizer, optimizer):\n",
    "        self.model = model\n",
    "        self.tokenizer = tokenizer\n",
    "        self.optimizer = optimizer\n",
    "\n",
    "    def train(self, dataloader, epoch, test_dataloader=None, printepoch=float(\"inf\")):\n",
    "        self.iteration(dataloader, epoch, test_dataloader, printepoch)\n",
    "\n",
    "    def test(self, dataloader):\n",
    "        matrices = [\"over_corr\", \"total_err\", \"true_corr\"]\n",
    "        self.test_char_level = {key: 0 for key in matrices}\n",
    "        self.test_sent_level = {key: 0 for key in matrices}\n",
    "        with torch.no_grad():\n",
    "            self.iteration(dataloader, train=False)\n",
    "\n",
    "    def iteration(\n",
    "        self,\n",
    "        dataloader,\n",
    "        epochs=1,\n",
    "        test_dataloader=None,\n",
    "        printepoch=float(\"inf\"),\n",
    "        train=True,\n",
    "    ):\n",
    "        mode = \"train\" if train else \"dev\"\n",
    "        device = torch.device(\"cuda\" if torch.cuda.is_available() else \"cpu\")\n",
    "        self.model.to(device)\n",
    "\n",
    "        for epoch in range(epochs):\n",
    "            self.model.train() if train else self.model.eval()\n",
    "            total_loss = 0\n",
    "\n",
    "            progress_bar = tqdm(\n",
    "                enumerate(dataloader),\n",
    "                desc=f\"{mode} Epoch:{epoch+1}/{epochs}\",\n",
    "                total=len(dataloader),\n",
    "            )\n",
    "            for i, batch in progress_bar:\n",
    "                input_ids = batch[\"input_ids\"].to(device)\n",
    "                attention_mask = batch[\"attention_mask\"].to(device).type(torch.long)\n",
    "                labels = batch[\"labels\"].to(device)\n",
    "                labels = (labels == input_ids).to(torch.long)\n",
    "\n",
    "                outputs = self.model(input_ids, src_mask=attention_mask)\n",
    "                logits = outputs.permute(0, 2, 1)  # (batch_size, vocab_size, seq_len)\n",
    "\n",
    "                # 反向传播在这，故labels不需要传入模型\n",
    "                # loss = F.cross_entropy(\n",
    "                #     logits, new_labels, ignore_index=self.tokenizer.pad_token_id\n",
    "                # )\n",
    "                loss = F.cross_entropy(\n",
    "                    logits, labels\n",
    "                )\n",
    "                total_loss += loss.item()\n",
    "\n",
    "                if train:\n",
    "                    self.optimizer.zero_grad()\n",
    "                    loss.backward()\n",
    "                    self.optimizer.step()\n",
    "                else:\n",
    "                    t = torch.argmax(outputs, dim=-1)\n",
    "                    for i in range(len(t)):\n",
    "                        char_level, sent_level = cal_err(\n",
    "                            (input_ids[i]==input_ids[i]),\n",
    "                            t[i],\n",
    "                            labels[i],\n",
    "                            sum(attention_mask[i].to(\"cpu\")),\n",
    "                        )\n",
    "                        self.test_char_level = {\n",
    "                            key: self.test_char_level[key] + v\n",
    "                            for key, v in char_level.items()\n",
    "                        }\n",
    "                        self.test_sent_level = {\n",
    "                            key: self.test_sent_level[key] + v\n",
    "                            for key, v in sent_level.items()\n",
    "                        }\n",
    "\n",
    "                progress_bar.set_postfix({\"batches loss\": \"{:.3f}\".format(loss.item())})\n",
    "                if i == len(progress_bar) - 1:\n",
    "                    progress_bar.set_postfix({\"avg loss\": \"{:.3f}\".format(total_loss / len(dataloader))})\n",
    "\n",
    "            if (epoch + 1) % printepoch == 0:\n",
    "                with torch.no_grad():\n",
    "                    t = torch.argmax(outputs, dim=-1)\n",
    "                    nt = t * attention_mask\n",
    "                    pred = self.tokenizer.batch_decode(nt, skip_special_tokens=True)\n",
    "\n",
    "                    for i, v in enumerate(nt):\n",
    "                        r, l = input_ids[i], labels[i]\n",
    "                        limit_length = sum(attention_mask[i].to(\"cpu\"))\n",
    "                        print(self.tokenizer.decode(r, skip_special_tokens=True))\n",
    "                        print(self.tokenizer.decode(v, skip_special_tokens=True))\n",
    "                        print(self.tokenizer.decode(l, skip_special_tokens=True))\n",
    "                        print(cal_err(r, v, l, limit_length))\n",
    "\n",
    "            # print(f\"Epoch {epoch+1} Loss: {total_loss / len(dataloader)}\")\n",
    "\n",
    "            # dev\n",
    "            if test_dataloader:\n",
    "                self.test(test_dataloader)\n",
    "\n",
    "        if mode == \"dev\":\n",
    "            print(\n",
    "                total_loss / len(dataloader),\n",
    "                self.test_char_level,\n",
    "                self.test_sent_level,\n",
    "            )"
   ]
  },
  {
   "cell_type": "code",
   "execution_count": 19,
   "id": "b666d191-2093-4b3f-aab5-1702c5cf658a",
   "metadata": {},
   "outputs": [],
   "source": [
    "# The Hyperparameters can be defined in config.py\n",
    "hidden_size = 1024\n",
    "num_layers = 2\n",
    "output_size = 2\n",
    "\n",
    "encoder_model = BertModel.from_pretrained(checkpoint)\n",
    "decoder_model = DecoderBaseRNN(\n",
    "    model=nn.LSTM,\n",
    "    input_size=encoder_model.config.hidden_size,\n",
    "    hidden_size=hidden_size,\n",
    "    num_layers=num_layers,\n",
    ")\n",
    "model = TempBertModel(encoder_model=encoder_model, decoder_model=decoder_model, output_size=output_size)\n",
    "\n",
    "optimizer = AdamW(model.parameters(), lr=learning_rate)"
   ]
  },
  {
   "cell_type": "code",
   "execution_count": 20,
   "id": "f7c5bc54-0044-442b-88eb-e1b5ee707f0c",
   "metadata": {},
   "outputs": [
    {
     "name": "stderr",
     "output_type": "stream",
     "text": [
      "train Epoch:1/20: 100%|██████████| 103/103 [00:23<00:00,  4.44it/s, avg loss=0.041]    \n",
      "dev Epoch:1/1: 100%|██████████| 44/44 [00:06<00:00,  6.80it/s, batches loss=0.011]"
     ]
    },
    {
     "name": "stdout",
     "output_type": "stream",
     "text": [
      "0.011814418206499382 {'over_corr': 0, 'total_err': 974, 'true_corr': tensor(0, device='cuda:0')} {'over_corr': 0, 'total_err': 701, 'true_corr': 0}\n"
     ]
    },
    {
     "name": "stderr",
     "output_type": "stream",
     "text": [
      "\n",
      "train Epoch:2/20: 100%|██████████| 103/103 [00:23<00:00,  4.42it/s, avg loss=0.009]    \n",
      "dev Epoch:1/1: 100%|██████████| 44/44 [00:06<00:00,  6.71it/s, batches loss=0.009]"
     ]
    },
    {
     "name": "stdout",
     "output_type": "stream",
     "text": [
      "0.0076307733860713515 {'over_corr': 2, 'total_err': 974, 'true_corr': tensor(7, device='cuda:0')} {'over_corr': 2, 'total_err': 701, 'true_corr': 5}\n"
     ]
    },
    {
     "name": "stderr",
     "output_type": "stream",
     "text": [
      "\n",
      "train Epoch:3/20: 100%|██████████| 103/103 [00:23<00:00,  4.41it/s, avg loss=0.006]    \n",
      "dev Epoch:1/1: 100%|██████████| 44/44 [00:06<00:00,  6.45it/s, batches loss=0.004]"
     ]
    },
    {
     "name": "stdout",
     "output_type": "stream",
     "text": [
      "0.005939558539962904 {'over_corr': 62, 'total_err': 974, 'true_corr': tensor(186, device='cuda:0')} {'over_corr': 59, 'total_err': 701, 'true_corr': 106}\n"
     ]
    },
    {
     "name": "stderr",
     "output_type": "stream",
     "text": [
      "\n",
      "train Epoch:4/20: 100%|██████████| 103/103 [00:23<00:00,  4.42it/s, avg loss=0.004]    \n",
      "dev Epoch:1/1: 100%|██████████| 44/44 [00:08<00:00,  5.39it/s, batches loss=0.008]"
     ]
    },
    {
     "name": "stdout",
     "output_type": "stream",
     "text": [
      "0.005587149088651958 {'over_corr': 154, 'total_err': 974, 'true_corr': tensor(579, device='cuda:0')} {'over_corr': 146, 'total_err': 701, 'true_corr': 359}\n"
     ]
    },
    {
     "name": "stderr",
     "output_type": "stream",
     "text": [
      "\n",
      "train Epoch:5/20: 100%|██████████| 103/103 [00:23<00:00,  4.42it/s, avg loss=0.002]    \n",
      "dev Epoch:1/1: 100%|██████████| 44/44 [00:07<00:00,  5.69it/s, batches loss=0.006]"
     ]
    },
    {
     "name": "stdout",
     "output_type": "stream",
     "text": [
      "0.006230368892746893 {'over_corr': 85, 'total_err': 974, 'true_corr': tensor(485, device='cuda:0')} {'over_corr': 80, 'total_err': 701, 'true_corr': 308}\n"
     ]
    },
    {
     "name": "stderr",
     "output_type": "stream",
     "text": [
      "\n",
      "train Epoch:6/20: 100%|██████████| 103/103 [00:23<00:00,  4.42it/s, avg loss=0.002]    \n",
      "dev Epoch:1/1: 100%|██████████| 44/44 [00:08<00:00,  5.44it/s, batches loss=0.009]"
     ]
    },
    {
     "name": "stdout",
     "output_type": "stream",
     "text": [
      "0.005751423648854887 {'over_corr': 190, 'total_err': 974, 'true_corr': tensor(661, device='cuda:0')} {'over_corr': 175, 'total_err': 701, 'true_corr': 381}\n"
     ]
    },
    {
     "name": "stderr",
     "output_type": "stream",
     "text": [
      "\n",
      "train Epoch:7/20: 100%|██████████| 103/103 [00:23<00:00,  4.44it/s, avg loss=0.001]    \n",
      "dev Epoch:1/1: 100%|██████████| 44/44 [00:08<00:00,  5.36it/s, batches loss=0.017]"
     ]
    },
    {
     "name": "stdout",
     "output_type": "stream",
     "text": [
      "0.0058627356854479085 {'over_corr': 207, 'total_err': 974, 'true_corr': tensor(670, device='cuda:0')} {'over_corr': 177, 'total_err': 701, 'true_corr': 400}\n"
     ]
    },
    {
     "name": "stderr",
     "output_type": "stream",
     "text": [
      "\n",
      "train Epoch:8/20: 100%|██████████| 103/103 [00:23<00:00,  4.42it/s, avg loss=0.001]    \n",
      "dev Epoch:1/1: 100%|██████████| 44/44 [00:08<00:00,  5.43it/s, batches loss=0.004]"
     ]
    },
    {
     "name": "stdout",
     "output_type": "stream",
     "text": [
      "0.006481772839007052 {'over_corr': 256, 'total_err': 974, 'true_corr': tensor(706, device='cuda:0')} {'over_corr': 214, 'total_err': 701, 'true_corr': 382}\n"
     ]
    },
    {
     "name": "stderr",
     "output_type": "stream",
     "text": [
      "\n",
      "train Epoch:9/20: 100%|██████████| 103/103 [00:23<00:00,  4.42it/s, avg loss=0.001]    \n",
      "dev Epoch:1/1: 100%|██████████| 44/44 [00:08<00:00,  5.41it/s, batches loss=0.011]"
     ]
    },
    {
     "name": "stdout",
     "output_type": "stream",
     "text": [
      "0.005756701924838126 {'over_corr': 186, 'total_err': 974, 'true_corr': tensor(670, device='cuda:0')} {'over_corr': 167, 'total_err': 701, 'true_corr': 389}\n"
     ]
    },
    {
     "name": "stderr",
     "output_type": "stream",
     "text": [
      "\n",
      "train Epoch:10/20: 100%|██████████| 103/103 [00:23<00:00,  4.42it/s, avg loss=0.001]    \n",
      "dev Epoch:1/1: 100%|██████████| 44/44 [00:08<00:00,  5.40it/s, batches loss=0.006]\n"
     ]
    },
    {
     "name": "stdout",
     "output_type": "stream",
     "text": [
      "0.006417100756979463 {'over_corr': 167, 'total_err': 974, 'true_corr': tensor(659, device='cuda:0')} {'over_corr': 156, 'total_err': 701, 'true_corr': 400}\n"
     ]
    },
    {
     "name": "stderr",
     "output_type": "stream",
     "text": [
      "train Epoch:11/20: 100%|██████████| 103/103 [00:23<00:00,  4.42it/s, avg loss=0.000]    \n",
      "dev Epoch:1/1: 100%|██████████| 44/44 [00:08<00:00,  5.42it/s, batches loss=0.005]"
     ]
    },
    {
     "name": "stdout",
     "output_type": "stream",
     "text": [
      "0.006812394519908015 {'over_corr': 123, 'total_err': 974, 'true_corr': tensor(617, device='cuda:0')} {'over_corr': 119, 'total_err': 701, 'true_corr': 385}\n"
     ]
    },
    {
     "name": "stderr",
     "output_type": "stream",
     "text": [
      "\n",
      "train Epoch:12/20: 100%|██████████| 103/103 [00:23<00:00,  4.43it/s, avg loss=0.000]    \n",
      "dev Epoch:1/1: 100%|██████████| 44/44 [00:08<00:00,  5.41it/s, batches loss=0.005]"
     ]
    },
    {
     "name": "stdout",
     "output_type": "stream",
     "text": [
      "0.00714326270496134 {'over_corr': 188, 'total_err': 974, 'true_corr': tensor(660, device='cuda:0')} {'over_corr': 175, 'total_err': 701, 'true_corr': 392}\n"
     ]
    },
    {
     "name": "stderr",
     "output_type": "stream",
     "text": [
      "\n",
      "train Epoch:13/20: 100%|██████████| 103/103 [00:23<00:00,  4.41it/s, avg loss=0.000]    \n",
      "dev Epoch:1/1: 100%|██████████| 44/44 [00:08<00:00,  5.27it/s, batches loss=0.006]"
     ]
    },
    {
     "name": "stdout",
     "output_type": "stream",
     "text": [
      "0.007130208017770201 {'over_corr': 217, 'total_err': 974, 'true_corr': tensor(689, device='cuda:0')} {'over_corr': 191, 'total_err': 701, 'true_corr': 411}\n"
     ]
    },
    {
     "name": "stderr",
     "output_type": "stream",
     "text": [
      "\n",
      "train Epoch:14/20: 100%|██████████| 103/103 [00:23<00:00,  4.41it/s, avg loss=0.000]    \n",
      "dev Epoch:1/1: 100%|██████████| 44/44 [00:08<00:00,  5.36it/s, batches loss=0.003]"
     ]
    },
    {
     "name": "stdout",
     "output_type": "stream",
     "text": [
      "0.007133552637903697 {'over_corr': 105, 'total_err': 974, 'true_corr': tensor(611, device='cuda:0')} {'over_corr': 104, 'total_err': 701, 'true_corr': 381}\n"
     ]
    },
    {
     "name": "stderr",
     "output_type": "stream",
     "text": [
      "\n",
      "train Epoch:15/20: 100%|██████████| 103/103 [00:23<00:00,  4.43it/s, avg loss=0.000]    \n",
      "dev Epoch:1/1: 100%|██████████| 44/44 [00:08<00:00,  5.33it/s, batches loss=0.013]"
     ]
    },
    {
     "name": "stdout",
     "output_type": "stream",
     "text": [
      "0.007810324753253636 {'over_corr': 173, 'total_err': 974, 'true_corr': tensor(633, device='cuda:0')} {'over_corr': 163, 'total_err': 701, 'true_corr': 406}\n"
     ]
    },
    {
     "name": "stderr",
     "output_type": "stream",
     "text": [
      "\n",
      "train Epoch:16/20: 100%|██████████| 103/103 [00:23<00:00,  4.41it/s, avg loss=0.000]    \n",
      "dev Epoch:1/1: 100%|██████████| 44/44 [00:08<00:00,  5.40it/s, batches loss=0.010]"
     ]
    },
    {
     "name": "stdout",
     "output_type": "stream",
     "text": [
      "0.007143394349523905 {'over_corr': 149, 'total_err': 974, 'true_corr': tensor(641, device='cuda:0')} {'over_corr': 136, 'total_err': 701, 'true_corr': 399}\n"
     ]
    },
    {
     "name": "stderr",
     "output_type": "stream",
     "text": [
      "\n",
      "train Epoch:17/20: 100%|██████████| 103/103 [00:23<00:00,  4.43it/s, avg loss=0.000]    \n",
      "dev Epoch:1/1: 100%|██████████| 44/44 [00:08<00:00,  5.44it/s, batches loss=0.002]"
     ]
    },
    {
     "name": "stdout",
     "output_type": "stream",
     "text": [
      "0.007401261393996802 {'over_corr': 110, 'total_err': 974, 'true_corr': tensor(595, device='cuda:0')} {'over_corr': 108, 'total_err': 701, 'true_corr': 376}\n"
     ]
    },
    {
     "name": "stderr",
     "output_type": "stream",
     "text": [
      "\n",
      "train Epoch:18/20: 100%|██████████| 103/103 [00:23<00:00,  4.43it/s, avg loss=0.000]    \n",
      "dev Epoch:1/1: 100%|██████████| 44/44 [00:08<00:00,  5.38it/s, batches loss=0.004]"
     ]
    },
    {
     "name": "stdout",
     "output_type": "stream",
     "text": [
      "0.0074878564443100586 {'over_corr': 134, 'total_err': 974, 'true_corr': tensor(615, device='cuda:0')} {'over_corr': 124, 'total_err': 701, 'true_corr': 387}\n"
     ]
    },
    {
     "name": "stderr",
     "output_type": "stream",
     "text": [
      "\n",
      "train Epoch:19/20: 100%|██████████| 103/103 [00:23<00:00,  4.42it/s, avg loss=0.000]    \n",
      "dev Epoch:1/1: 100%|██████████| 44/44 [00:08<00:00,  5.40it/s, batches loss=0.008]\n"
     ]
    },
    {
     "name": "stdout",
     "output_type": "stream",
     "text": [
      "0.0075878641853870995 {'over_corr': 162, 'total_err': 974, 'true_corr': tensor(664, device='cuda:0')} {'over_corr': 149, 'total_err': 701, 'true_corr': 396}\n"
     ]
    },
    {
     "name": "stderr",
     "output_type": "stream",
     "text": [
      "train Epoch:20/20: 100%|██████████| 103/103 [00:23<00:00,  4.41it/s, avg loss=0.000]    \n",
      "dev Epoch:1/1: 100%|██████████| 44/44 [00:08<00:00,  5.31it/s, batches loss=0.009]"
     ]
    },
    {
     "name": "stdout",
     "output_type": "stream",
     "text": [
      "0.007925395343177528 {'over_corr': 182, 'total_err': 974, 'true_corr': tensor(690, device='cuda:0')} {'over_corr': 170, 'total_err': 701, 'true_corr': 414}\n"
     ]
    },
    {
     "name": "stderr",
     "output_type": "stream",
     "text": [
      "\n"
     ]
    }
   ],
   "source": [
    "\n",
    "trainer = Trainer(model=model, tokenizer=tokenizer, optimizer=optimizer)\n",
    "epochs = 20\n",
    "trainer.train(dataloader=train_data_loader, epoch=epochs, test_dataloader=dev_data_loader)\n",
    "# trainer.test(test_data_loader)"
   ]
  },
  {
   "cell_type": "code",
   "execution_count": 21,
   "id": "19bc8b4a-03cb-4165-b54a-0866fe268ebf",
   "metadata": {},
   "outputs": [
    {
     "name": "stderr",
     "output_type": "stream",
     "text": [
      "dev Epoch:1/1: 100%|██████████| 108/108 [00:39<00:00,  2.74it/s, batches loss=0.008]"
     ]
    },
    {
     "name": "stdout",
     "output_type": "stream",
     "text": [
      "0.011483406777390175 {'over_corr': 1461, 'total_err': 5278, 'true_corr': tensor(3284, device='cuda:0')} {'over_corr': 1240, 'total_err': 3436, 'true_corr': 1570}\n"
     ]
    },
    {
     "name": "stderr",
     "output_type": "stream",
     "text": [
      "\n"
     ]
    }
   ],
   "source": [
    "trainer.test(test_data_loader)"
   ]
  },
  {
   "cell_type": "code",
   "execution_count": null,
   "id": "892f89c0-3485-4a25-924d-25e212aaac63",
   "metadata": {},
   "outputs": [],
   "source": []
  }
 ],
 "metadata": {
  "kernelspec": {
   "display_name": "csc",
   "language": "python",
   "name": "simple_csc"
  },
  "language_info": {
   "codemirror_mode": {
    "name": "ipython",
    "version": 3
   },
   "file_extension": ".py",
   "mimetype": "text/x-python",
   "name": "python",
   "nbconvert_exporter": "python",
   "pygments_lexer": "ipython3",
   "version": "3.10.15"
  }
 },
 "nbformat": 4,
 "nbformat_minor": 5
}
