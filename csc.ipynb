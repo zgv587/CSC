{
 "cells": [
  {
   "cell_type": "code",
   "execution_count": 1,
   "id": "7835bfef-79b8-43ac-9dda-d5ae2a9ea6b8",
   "metadata": {},
   "outputs": [
    {
     "name": "stderr",
     "output_type": "stream",
     "text": [
      "/root/anaconda3/envs/simple_csc/lib/python3.10/site-packages/tqdm/auto.py:21: TqdmWarning: IProgress not found. Please update jupyter and ipywidgets. See https://ipywidgets.readthedocs.io/en/stable/user_install.html\n",
      "  from .autonotebook import tqdm as notebook_tqdm\n"
     ]
    }
   ],
   "source": [
    "import torch\n",
    "import torch.nn as nn\n",
    "\n",
    "# Implemented by myself\n",
    "from config import *\n",
    "from data_processer import CSCDataset, split_torch_dataset\n",
    "from models import CombineBertModel, DecoderBaseRNN, DecoderTransformer, Trainer\n",
    "from torch.optim import AdamW\n",
    "from torch.utils.data import DataLoader\n",
    "from transformers import BertModel, BertTokenizer"
   ]
  },
  {
   "cell_type": "markdown",
   "id": "6008d387-368a-410f-aa84-5f1fead4a686",
   "metadata": {},
   "source": [
    "#### Tokenizer"
   ]
  },
  {
   "cell_type": "code",
   "execution_count": 2,
   "id": "67dc0222-1b34-45a9-9bb0-fd2e726bd144",
   "metadata": {},
   "outputs": [],
   "source": [
    "tokenizer = BertTokenizer.from_pretrained(checkpoint)"
   ]
  },
  {
   "cell_type": "markdown",
   "id": "215eb434-a437-4f41-9bd2-89b88c3e549d",
   "metadata": {},
   "source": [
    "#### DataSet"
   ]
  },
  {
   "cell_type": "code",
   "execution_count": 3,
   "id": "ac5cb8e2-9fa3-4599-a9cd-09c8a8b81bea",
   "metadata": {},
   "outputs": [
    {
     "name": "stderr",
     "output_type": "stream",
     "text": [
      "preprocessing sighan dataset: 2339it [00:00, 965978.44it/s]\n",
      "preprocessing sighan dataset: 100%|██████████| 2339/2339 [00:00<00:00, 1584635.29it/s]\n"
     ]
    },
    {
     "name": "stdout",
     "output_type": "stream",
     "text": [
      "共2339句，共73264字，最长的句子有171字\n"
     ]
    },
    {
     "name": "stderr",
     "output_type": "stream",
     "text": [
      "preprocessing sighan dataset: 3437it [00:00, 888877.97it/s]\n",
      "preprocessing sighan dataset: 100%|██████████| 3437/3437 [00:00<00:00, 1370846.60it/s]"
     ]
    },
    {
     "name": "stdout",
     "output_type": "stream",
     "text": [
      "共3437句，共170330字，最长的句子有258字\n"
     ]
    },
    {
     "name": "stderr",
     "output_type": "stream",
     "text": [
      "\n"
     ]
    }
   ],
   "source": [
    "train_dataset = CSCDataset([SIGHAN_train_dir_err, SIGHAN_train_dir_corr], tokenizer)\n",
    "test_dataset = CSCDataset([SIGHAN_train_dir_err14, SIGHAN_train_dir_corr14], tokenizer)"
   ]
  },
  {
   "cell_type": "code",
   "execution_count": 4,
   "id": "7d884a14-8864-425e-80bb-86d5259daead",
   "metadata": {},
   "outputs": [],
   "source": [
    "# split data\n",
    "train_data, dev_data = split_torch_dataset(train_dataset, 0.3)\n",
    "\n",
    "train_data_loader = DataLoader(train_data, num_workers=4, shuffle=True, batch_size=16)\n",
    "dev_data_loader = DataLoader(dev_data, num_workers=4, shuffle=True, batch_size=16)\n",
    "test_data_loader = DataLoader(test_dataset, num_workers=4, shuffle=True, batch_size=32)"
   ]
  },
  {
   "cell_type": "markdown",
   "id": "7c98aef7-5cf2-4dda-af3a-e6e1dda0758d",
   "metadata": {},
   "source": [
    "#### Config\n",
    "most config from config.py"
   ]
  },
  {
   "cell_type": "code",
   "execution_count": 5,
   "id": "f7a8fb96-521b-487a-9041-12fbb741cd14",
   "metadata": {},
   "outputs": [],
   "source": [
    "# epochs = 35"
   ]
  },
  {
   "cell_type": "markdown",
   "id": "13b96f48-d8c2-47ad-9df7-ddcbeecf6864",
   "metadata": {},
   "source": [
    "#### BERT + LSTM"
   ]
  },
  {
   "cell_type": "code",
   "execution_count": 6,
   "id": "2fd7e8e7-197c-44a1-927c-662a3d8110e5",
   "metadata": {},
   "outputs": [],
   "source": [
    "# The Hyperparameters can be defined in config.py\n",
    "hidden_size = 1024\n",
    "num_layers = 2\n",
    "\n",
    "encoder_model = BertModel.from_pretrained(checkpoint)\n",
    "decoder_model = DecoderBaseRNN(\n",
    "    model=nn.LSTM,\n",
    "    input_size=encoder_model.config.hidden_size,\n",
    "    hidden_size=hidden_size,\n",
    "    num_layers=num_layers,\n",
    ")\n",
    "model = CombineBertModel(encoder_model=encoder_model, decoder_model=decoder_model)\n",
    "\n",
    "optimizer = AdamW(model.parameters(), lr=learning_rate)\n",
    "trainer = Trainer(model=model, tokenizer=tokenizer, optimizer=optimizer)"
   ]
  },
  {
   "cell_type": "code",
   "execution_count": 7,
   "id": "91c877c2-962f-42c6-9897-0a3fbab57a68",
   "metadata": {
    "scrolled": true
   },
   "outputs": [
    {
     "name": "stderr",
     "output_type": "stream",
     "text": [
      "train Epoch:1/50: 100%|██████████| 103/103 [00:28<00:00,  3.61it/s, avg loss=7.074]    \n",
      "dev Epoch:1/1: 100%|██████████| 44/44 [00:07<00:00,  5.93it/s, batches loss=5.807]"
     ]
    },
    {
     "name": "stdout",
     "output_type": "stream",
     "text": [
      "5.756522612138228 {'over_corr': 20612, 'total_err': 925, 'true_corr': tensor(17, device='cuda:0')} {'over_corr': 701, 'total_err': 701, 'true_corr': 0}\n"
     ]
    },
    {
     "name": "stderr",
     "output_type": "stream",
     "text": [
      "\n",
      "train Epoch:2/50: 100%|██████████| 103/103 [00:28<00:00,  3.67it/s, avg loss=5.677]    \n",
      "dev Epoch:1/1: 100%|██████████| 44/44 [00:07<00:00,  5.93it/s, batches loss=5.641]"
     ]
    },
    {
     "name": "stdout",
     "output_type": "stream",
     "text": [
      "5.63110322302038 {'over_corr': 20511, 'total_err': 925, 'true_corr': tensor(1, device='cuda:0')} {'over_corr': 701, 'total_err': 701, 'true_corr': 0}\n"
     ]
    },
    {
     "name": "stderr",
     "output_type": "stream",
     "text": [
      "\n",
      "train Epoch:3/50: 100%|██████████| 103/103 [00:28<00:00,  3.67it/s, avg loss=5.605]    \n",
      "dev Epoch:1/1: 100%|██████████| 44/44 [00:07<00:00,  5.95it/s, batches loss=5.664]"
     ]
    },
    {
     "name": "stdout",
     "output_type": "stream",
     "text": [
      "5.572760657830671 {'over_corr': 19736, 'total_err': 925, 'true_corr': tensor(17, device='cuda:0')} {'over_corr': 701, 'total_err': 701, 'true_corr': 0}\n"
     ]
    },
    {
     "name": "stderr",
     "output_type": "stream",
     "text": [
      "\n",
      "train Epoch:4/50: 100%|██████████| 103/103 [00:28<00:00,  3.67it/s, avg loss=5.438]    \n",
      "dev Epoch:1/1: 100%|██████████| 44/44 [00:07<00:00,  5.93it/s, batches loss=5.159]"
     ]
    },
    {
     "name": "stdout",
     "output_type": "stream",
     "text": [
      "5.249195348132741 {'over_corr': 19447, 'total_err': 925, 'true_corr': tensor(2, device='cuda:0')} {'over_corr': 701, 'total_err': 701, 'true_corr': 0}\n"
     ]
    },
    {
     "name": "stderr",
     "output_type": "stream",
     "text": [
      "\n",
      "train Epoch:5/50: 100%|██████████| 103/103 [00:28<00:00,  3.66it/s, avg loss=5.276]    \n",
      "dev Epoch:1/1: 100%|██████████| 44/44 [00:07<00:00,  5.91it/s, batches loss=5.382]"
     ]
    },
    {
     "name": "stdout",
     "output_type": "stream",
     "text": [
      "5.21177951856093 {'over_corr': 18822, 'total_err': 925, 'true_corr': tensor(3, device='cuda:0')} {'over_corr': 701, 'total_err': 701, 'true_corr': 0}\n"
     ]
    },
    {
     "name": "stderr",
     "output_type": "stream",
     "text": [
      "\n",
      "train Epoch:6/50: 100%|██████████| 103/103 [00:28<00:00,  3.66it/s, avg loss=5.055]    \n",
      "dev Epoch:1/1: 100%|██████████| 44/44 [00:07<00:00,  5.90it/s, batches loss=4.909]"
     ]
    },
    {
     "name": "stdout",
     "output_type": "stream",
     "text": [
      "4.87856032631614 {'over_corr': 17169, 'total_err': 925, 'true_corr': tensor(15, device='cuda:0')} {'over_corr': 701, 'total_err': 701, 'true_corr': 0}\n"
     ]
    },
    {
     "name": "stderr",
     "output_type": "stream",
     "text": [
      "\n",
      "train Epoch:7/50: 100%|██████████| 103/103 [00:28<00:00,  3.67it/s, avg loss=4.676]    \n",
      "dev Epoch:1/1: 100%|██████████| 44/44 [00:07<00:00,  5.90it/s, batches loss=4.413]"
     ]
    },
    {
     "name": "stdout",
     "output_type": "stream",
     "text": [
      "4.4556426351720635 {'over_corr': 14673, 'total_err': 925, 'true_corr': tensor(25, device='cuda:0')} {'over_corr': 700, 'total_err': 701, 'true_corr': 0}\n"
     ]
    },
    {
     "name": "stderr",
     "output_type": "stream",
     "text": [
      "\n",
      "train Epoch:8/50: 100%|██████████| 103/103 [00:28<00:00,  3.67it/s, avg loss=4.228]    \n",
      "dev Epoch:1/1: 100%|██████████| 44/44 [00:07<00:00,  5.95it/s, batches loss=3.993]"
     ]
    },
    {
     "name": "stdout",
     "output_type": "stream",
     "text": [
      "3.97667917880145 {'over_corr': 12468, 'total_err': 925, 'true_corr': tensor(26, device='cuda:0')} {'over_corr': 700, 'total_err': 701, 'true_corr': 0}\n"
     ]
    },
    {
     "name": "stderr",
     "output_type": "stream",
     "text": [
      "\n",
      "train Epoch:9/50: 100%|██████████| 103/103 [00:28<00:00,  3.66it/s, avg loss=3.736]    \n",
      "dev Epoch:1/1: 100%|██████████| 44/44 [00:07<00:00,  5.96it/s, batches loss=3.308]"
     ]
    },
    {
     "name": "stdout",
     "output_type": "stream",
     "text": [
      "3.476110740141435 {'over_corr': 9576, 'total_err': 925, 'true_corr': tensor(65, device='cuda:0')} {'over_corr': 699, 'total_err': 701, 'true_corr': 1}\n"
     ]
    },
    {
     "name": "stderr",
     "output_type": "stream",
     "text": [
      "\n",
      "train Epoch:10/50: 100%|██████████| 103/103 [00:28<00:00,  3.67it/s, avg loss=3.098]    \n",
      "dev Epoch:1/1: 100%|██████████| 44/44 [00:07<00:00,  5.92it/s, batches loss=2.801]"
     ]
    },
    {
     "name": "stdout",
     "output_type": "stream",
     "text": [
      "2.8167636177756568 {'over_corr': 7749, 'total_err': 925, 'true_corr': tensor(99, device='cuda:0')} {'over_corr': 696, 'total_err': 701, 'true_corr': 0}\n"
     ]
    },
    {
     "name": "stderr",
     "output_type": "stream",
     "text": [
      "\n",
      "train Epoch:11/50: 100%|██████████| 103/103 [00:28<00:00,  3.66it/s, avg loss=2.622]    \n",
      "dev Epoch:1/1: 100%|██████████| 44/44 [00:07<00:00,  5.93it/s, batches loss=2.177]"
     ]
    },
    {
     "name": "stdout",
     "output_type": "stream",
     "text": [
      "2.4502982876517554 {'over_corr': 6113, 'total_err': 925, 'true_corr': tensor(121, device='cuda:0')} {'over_corr': 694, 'total_err': 701, 'true_corr': 0}\n"
     ]
    },
    {
     "name": "stderr",
     "output_type": "stream",
     "text": [
      "\n",
      "train Epoch:12/50: 100%|██████████| 103/103 [00:28<00:00,  3.66it/s, avg loss=2.271]    \n",
      "dev Epoch:1/1: 100%|██████████| 44/44 [00:07<00:00,  5.86it/s, batches loss=2.392]"
     ]
    },
    {
     "name": "stdout",
     "output_type": "stream",
     "text": [
      "2.142581983046098 {'over_corr': 4987, 'total_err': 925, 'true_corr': tensor(147, device='cuda:0')} {'over_corr': 684, 'total_err': 701, 'true_corr': 2}\n"
     ]
    },
    {
     "name": "stderr",
     "output_type": "stream",
     "text": [
      "\n",
      "train Epoch:13/50: 100%|██████████| 103/103 [00:28<00:00,  3.66it/s, avg loss=1.969]    \n",
      "dev Epoch:1/1: 100%|██████████| 44/44 [00:07<00:00,  5.84it/s, batches loss=1.472]"
     ]
    },
    {
     "name": "stdout",
     "output_type": "stream",
     "text": [
      "1.8880878686904907 {'over_corr': 4220, 'total_err': 925, 'true_corr': tensor(160, device='cuda:0')} {'over_corr': 671, 'total_err': 701, 'true_corr': 6}\n"
     ]
    },
    {
     "name": "stderr",
     "output_type": "stream",
     "text": [
      "\n",
      "train Epoch:14/50: 100%|██████████| 103/103 [00:28<00:00,  3.67it/s, avg loss=1.712]    \n",
      "dev Epoch:1/1: 100%|██████████| 44/44 [00:07<00:00,  5.87it/s, batches loss=1.851]"
     ]
    },
    {
     "name": "stdout",
     "output_type": "stream",
     "text": [
      "1.6763903119347312 {'over_corr': 3413, 'total_err': 925, 'true_corr': tensor(176, device='cuda:0')} {'over_corr': 647, 'total_err': 701, 'true_corr': 8}\n"
     ]
    },
    {
     "name": "stderr",
     "output_type": "stream",
     "text": [
      "\n",
      "train Epoch:15/50: 100%|██████████| 103/103 [00:28<00:00,  3.67it/s, avg loss=1.500]    \n",
      "dev Epoch:1/1: 100%|██████████| 44/44 [00:07<00:00,  5.85it/s, batches loss=1.540]"
     ]
    },
    {
     "name": "stdout",
     "output_type": "stream",
     "text": [
      "1.4891671863469211 {'over_corr': 2843, 'total_err': 925, 'true_corr': tensor(204, device='cuda:0')} {'over_corr': 623, 'total_err': 701, 'true_corr': 16}\n"
     ]
    },
    {
     "name": "stderr",
     "output_type": "stream",
     "text": [
      "\n",
      "train Epoch:16/50: 100%|██████████| 103/103 [00:28<00:00,  3.67it/s, avg loss=1.318]    \n",
      "dev Epoch:1/1: 100%|██████████| 44/44 [00:07<00:00,  5.82it/s, batches loss=1.482]"
     ]
    },
    {
     "name": "stdout",
     "output_type": "stream",
     "text": [
      "1.3324302583932877 {'over_corr': 2371, 'total_err': 925, 'true_corr': tensor(231, device='cuda:0')} {'over_corr': 601, 'total_err': 701, 'true_corr': 30}\n"
     ]
    },
    {
     "name": "stderr",
     "output_type": "stream",
     "text": [
      "\n",
      "train Epoch:17/50: 100%|██████████| 103/103 [00:28<00:00,  3.67it/s, avg loss=1.156]    \n",
      "dev Epoch:1/1: 100%|██████████| 44/44 [00:07<00:00,  5.81it/s, batches loss=1.094]"
     ]
    },
    {
     "name": "stdout",
     "output_type": "stream",
     "text": [
      "1.2080601833083413 {'over_corr': 2080, 'total_err': 925, 'true_corr': tensor(242, device='cuda:0')} {'over_corr': 577, 'total_err': 701, 'true_corr': 35}\n"
     ]
    },
    {
     "name": "stderr",
     "output_type": "stream",
     "text": [
      "\n",
      "train Epoch:18/50: 100%|██████████| 103/103 [00:28<00:00,  3.66it/s, avg loss=1.017]    \n",
      "dev Epoch:1/1: 100%|██████████| 44/44 [00:07<00:00,  5.73it/s, batches loss=1.157]"
     ]
    },
    {
     "name": "stdout",
     "output_type": "stream",
     "text": [
      "1.0925631306388162 {'over_corr': 1821, 'total_err': 925, 'true_corr': tensor(271, device='cuda:0')} {'over_corr': 548, 'total_err': 701, 'true_corr': 54}\n"
     ]
    },
    {
     "name": "stderr",
     "output_type": "stream",
     "text": [
      "\n",
      "train Epoch:19/50: 100%|██████████| 103/103 [00:28<00:00,  3.67it/s, avg loss=0.898]    \n",
      "dev Epoch:1/1: 100%|██████████| 44/44 [00:07<00:00,  5.74it/s, batches loss=0.896]"
     ]
    },
    {
     "name": "stdout",
     "output_type": "stream",
     "text": [
      "1.0008708374066786 {'over_corr': 1583, 'total_err': 925, 'true_corr': tensor(269, device='cuda:0')} {'over_corr': 516, 'total_err': 701, 'true_corr': 58}\n"
     ]
    },
    {
     "name": "stderr",
     "output_type": "stream",
     "text": [
      "\n",
      "train Epoch:20/50: 100%|██████████| 103/103 [00:28<00:00,  3.66it/s, avg loss=0.806]    \n",
      "dev Epoch:1/1: 100%|██████████| 44/44 [00:07<00:00,  5.67it/s, batches loss=0.921]"
     ]
    },
    {
     "name": "stdout",
     "output_type": "stream",
     "text": [
      "0.9272495792670683 {'over_corr': 1475, 'total_err': 925, 'true_corr': tensor(283, device='cuda:0')} {'over_corr': 504, 'total_err': 701, 'true_corr': 70}\n"
     ]
    },
    {
     "name": "stderr",
     "output_type": "stream",
     "text": [
      "\n",
      "train Epoch:21/50: 100%|██████████| 103/103 [00:28<00:00,  3.66it/s, avg loss=0.716]    \n",
      "dev Epoch:1/1: 100%|██████████| 44/44 [00:07<00:00,  5.66it/s, batches loss=0.860]"
     ]
    },
    {
     "name": "stdout",
     "output_type": "stream",
     "text": [
      "0.8541995354674079 {'over_corr': 1281, 'total_err': 925, 'true_corr': tensor(286, device='cuda:0')} {'over_corr': 468, 'total_err': 701, 'true_corr': 77}\n"
     ]
    },
    {
     "name": "stderr",
     "output_type": "stream",
     "text": [
      "\n",
      "train Epoch:22/50: 100%|██████████| 103/103 [00:28<00:00,  3.67it/s, avg loss=0.641]    \n",
      "dev Epoch:1/1: 100%|██████████| 44/44 [00:07<00:00,  5.59it/s, batches loss=0.751]"
     ]
    },
    {
     "name": "stdout",
     "output_type": "stream",
     "text": [
      "0.800656187263402 {'over_corr': 1173, 'total_err': 925, 'true_corr': tensor(301, device='cuda:0')} {'over_corr': 455, 'total_err': 701, 'true_corr': 86}\n"
     ]
    },
    {
     "name": "stderr",
     "output_type": "stream",
     "text": [
      "\n",
      "train Epoch:23/50: 100%|██████████| 103/103 [00:28<00:00,  3.67it/s, avg loss=0.571]    \n",
      "dev Epoch:1/1: 100%|██████████| 44/44 [00:07<00:00,  5.62it/s, batches loss=0.737]"
     ]
    },
    {
     "name": "stdout",
     "output_type": "stream",
     "text": [
      "0.7549976747144352 {'over_corr': 1078, 'total_err': 925, 'true_corr': tensor(305, device='cuda:0')} {'over_corr': 441, 'total_err': 701, 'true_corr': 88}\n"
     ]
    },
    {
     "name": "stderr",
     "output_type": "stream",
     "text": [
      "\n",
      "train Epoch:24/50: 100%|██████████| 103/103 [00:28<00:00,  3.67it/s, avg loss=0.517]    \n",
      "dev Epoch:1/1: 100%|██████████| 44/44 [00:07<00:00,  5.60it/s, batches loss=0.894]"
     ]
    },
    {
     "name": "stdout",
     "output_type": "stream",
     "text": [
      "0.7142892581495371 {'over_corr': 985, 'total_err': 925, 'true_corr': tensor(297, device='cuda:0')} {'over_corr': 417, 'total_err': 701, 'true_corr': 95}\n"
     ]
    },
    {
     "name": "stderr",
     "output_type": "stream",
     "text": [
      "\n",
      "train Epoch:25/50: 100%|██████████| 103/103 [00:28<00:00,  3.67it/s, avg loss=0.469]    \n",
      "dev Epoch:1/1: 100%|██████████| 44/44 [00:07<00:00,  5.52it/s, batches loss=0.788]"
     ]
    },
    {
     "name": "stdout",
     "output_type": "stream",
     "text": [
      "0.6817657019604336 {'over_corr': 909, 'total_err': 925, 'true_corr': tensor(313, device='cuda:0')} {'over_corr': 406, 'total_err': 701, 'true_corr': 107}\n"
     ]
    },
    {
     "name": "stderr",
     "output_type": "stream",
     "text": [
      "\n",
      "train Epoch:26/50: 100%|██████████| 103/103 [00:28<00:00,  3.67it/s, avg loss=0.425]    \n",
      "dev Epoch:1/1: 100%|██████████| 44/44 [00:07<00:00,  5.55it/s, batches loss=0.420]"
     ]
    },
    {
     "name": "stdout",
     "output_type": "stream",
     "text": [
      "0.6491995480927554 {'over_corr': 850, 'total_err': 925, 'true_corr': tensor(303, device='cuda:0')} {'over_corr': 393, 'total_err': 701, 'true_corr': 108}\n"
     ]
    },
    {
     "name": "stderr",
     "output_type": "stream",
     "text": [
      "\n",
      "train Epoch:27/50: 100%|██████████| 103/103 [00:28<00:00,  3.66it/s, avg loss=0.387]    \n",
      "dev Epoch:1/1: 100%|██████████| 44/44 [00:08<00:00,  5.49it/s, batches loss=0.580]"
     ]
    },
    {
     "name": "stdout",
     "output_type": "stream",
     "text": [
      "0.6234647550366141 {'over_corr': 798, 'total_err': 925, 'true_corr': tensor(308, device='cuda:0')} {'over_corr': 374, 'total_err': 701, 'true_corr': 116}\n"
     ]
    },
    {
     "name": "stderr",
     "output_type": "stream",
     "text": [
      "\n",
      "train Epoch:28/50: 100%|██████████| 103/103 [00:28<00:00,  3.65it/s, avg loss=0.351]    \n",
      "dev Epoch:1/1: 100%|██████████| 44/44 [00:08<00:00,  5.47it/s, batches loss=0.640]"
     ]
    },
    {
     "name": "stdout",
     "output_type": "stream",
     "text": [
      "0.6034310155294158 {'over_corr': 768, 'total_err': 925, 'true_corr': tensor(309, device='cuda:0')} {'over_corr': 375, 'total_err': 701, 'true_corr': 111}\n"
     ]
    },
    {
     "name": "stderr",
     "output_type": "stream",
     "text": [
      "\n",
      "train Epoch:29/50: 100%|██████████| 103/103 [00:28<00:00,  3.66it/s, avg loss=0.321]    \n",
      "dev Epoch:1/1: 100%|██████████| 44/44 [00:08<00:00,  5.43it/s, batches loss=0.595]"
     ]
    },
    {
     "name": "stdout",
     "output_type": "stream",
     "text": [
      "0.5752637420188297 {'over_corr': 724, 'total_err': 925, 'true_corr': tensor(318, device='cuda:0')} {'over_corr': 358, 'total_err': 701, 'true_corr': 125}\n"
     ]
    },
    {
     "name": "stderr",
     "output_type": "stream",
     "text": [
      "\n",
      "train Epoch:30/50: 100%|██████████| 103/103 [00:28<00:00,  3.66it/s, avg loss=0.295]    \n",
      "dev Epoch:1/1: 100%|██████████| 44/44 [00:08<00:00,  5.48it/s, batches loss=0.635]"
     ]
    },
    {
     "name": "stdout",
     "output_type": "stream",
     "text": [
      "0.5635733645070683 {'over_corr': 692, 'total_err': 925, 'true_corr': tensor(310, device='cuda:0')} {'over_corr': 344, 'total_err': 701, 'true_corr': 127}\n"
     ]
    },
    {
     "name": "stderr",
     "output_type": "stream",
     "text": [
      "\n",
      "train Epoch:31/50: 100%|██████████| 103/103 [00:28<00:00,  3.66it/s, avg loss=0.271]    \n",
      "dev Epoch:1/1: 100%|██████████| 44/44 [00:08<00:00,  5.48it/s, batches loss=0.526]"
     ]
    },
    {
     "name": "stdout",
     "output_type": "stream",
     "text": [
      "0.5456715984777971 {'over_corr': 639, 'total_err': 925, 'true_corr': tensor(306, device='cuda:0')} {'over_corr': 321, 'total_err': 701, 'true_corr': 132}\n"
     ]
    },
    {
     "name": "stderr",
     "output_type": "stream",
     "text": [
      "\n",
      "train Epoch:32/50: 100%|██████████| 103/103 [00:28<00:00,  3.66it/s, avg loss=0.247]    \n",
      "dev Epoch:1/1: 100%|██████████| 44/44 [00:08<00:00,  5.43it/s, batches loss=0.411]"
     ]
    },
    {
     "name": "stdout",
     "output_type": "stream",
     "text": [
      "0.5381894328377463 {'over_corr': 610, 'total_err': 925, 'true_corr': tensor(300, device='cuda:0')} {'over_corr': 315, 'total_err': 701, 'true_corr': 131}\n"
     ]
    },
    {
     "name": "stderr",
     "output_type": "stream",
     "text": [
      "\n",
      "train Epoch:33/50: 100%|██████████| 103/103 [00:28<00:00,  3.66it/s, avg loss=0.226]    \n",
      "dev Epoch:1/1: 100%|██████████| 44/44 [00:08<00:00,  5.43it/s, batches loss=0.469]"
     ]
    },
    {
     "name": "stdout",
     "output_type": "stream",
     "text": [
      "0.5173768191175028 {'over_corr': 556, 'total_err': 925, 'true_corr': tensor(307, device='cuda:0')} {'over_corr': 292, 'total_err': 701, 'true_corr': 139}\n"
     ]
    },
    {
     "name": "stderr",
     "output_type": "stream",
     "text": [
      "\n",
      "train Epoch:34/50: 100%|██████████| 103/103 [00:28<00:00,  3.66it/s, avg loss=0.210]    \n",
      "dev Epoch:1/1: 100%|██████████| 44/44 [00:08<00:00,  5.42it/s, batches loss=0.399]"
     ]
    },
    {
     "name": "stdout",
     "output_type": "stream",
     "text": [
      "0.5072791657664559 {'over_corr': 545, 'total_err': 925, 'true_corr': tensor(316, device='cuda:0')} {'over_corr': 286, 'total_err': 701, 'true_corr': 143}\n"
     ]
    },
    {
     "name": "stderr",
     "output_type": "stream",
     "text": [
      "\n",
      "train Epoch:35/50: 100%|██████████| 103/103 [00:28<00:00,  3.65it/s, avg loss=0.191]    \n",
      "dev Epoch:1/1: 100%|██████████| 44/44 [00:08<00:00,  5.40it/s, batches loss=0.553]"
     ]
    },
    {
     "name": "stdout",
     "output_type": "stream",
     "text": [
      "0.5001249963586981 {'over_corr': 525, 'total_err': 925, 'true_corr': tensor(317, device='cuda:0')} {'over_corr': 286, 'total_err': 701, 'true_corr': 147}\n"
     ]
    },
    {
     "name": "stderr",
     "output_type": "stream",
     "text": [
      "\n",
      "train Epoch:36/50: 100%|██████████| 103/103 [00:28<00:00,  3.67it/s, avg loss=0.176]    \n",
      "dev Epoch:1/1: 100%|██████████| 44/44 [00:08<00:00,  5.45it/s, batches loss=0.329]"
     ]
    },
    {
     "name": "stdout",
     "output_type": "stream",
     "text": [
      "0.489075054499236 {'over_corr': 501, 'total_err': 925, 'true_corr': tensor(315, device='cuda:0')} {'over_corr': 274, 'total_err': 701, 'true_corr': 147}\n"
     ]
    },
    {
     "name": "stderr",
     "output_type": "stream",
     "text": [
      "\n",
      "train Epoch:37/50: 100%|██████████| 103/103 [00:28<00:00,  3.66it/s, avg loss=0.163]    \n",
      "dev Epoch:1/1: 100%|██████████| 44/44 [00:08<00:00,  5.43it/s, batches loss=0.440]"
     ]
    },
    {
     "name": "stdout",
     "output_type": "stream",
     "text": [
      "0.4821327904408628 {'over_corr': 476, 'total_err': 925, 'true_corr': tensor(310, device='cuda:0')} {'over_corr': 265, 'total_err': 701, 'true_corr': 147}\n"
     ]
    },
    {
     "name": "stderr",
     "output_type": "stream",
     "text": [
      "\n",
      "train Epoch:38/50: 100%|██████████| 103/103 [00:28<00:00,  3.67it/s, avg loss=0.153]    \n",
      "dev Epoch:1/1: 100%|██████████| 44/44 [00:08<00:00,  5.40it/s, batches loss=0.482]"
     ]
    },
    {
     "name": "stdout",
     "output_type": "stream",
     "text": [
      "0.4759653528982943 {'over_corr': 447, 'total_err': 925, 'true_corr': tensor(310, device='cuda:0')} {'over_corr': 262, 'total_err': 701, 'true_corr': 153}\n"
     ]
    },
    {
     "name": "stderr",
     "output_type": "stream",
     "text": [
      "\n",
      "train Epoch:39/50: 100%|██████████| 103/103 [00:28<00:00,  3.66it/s, avg loss=0.138]    \n",
      "dev Epoch:1/1: 100%|██████████| 44/44 [00:08<00:00,  5.38it/s, batches loss=0.500]"
     ]
    },
    {
     "name": "stdout",
     "output_type": "stream",
     "text": [
      "0.4696621678092263 {'over_corr': 423, 'total_err': 925, 'true_corr': tensor(305, device='cuda:0')} {'over_corr': 247, 'total_err': 701, 'true_corr': 150}\n"
     ]
    },
    {
     "name": "stderr",
     "output_type": "stream",
     "text": [
      "\n",
      "train Epoch:40/50: 100%|██████████| 103/103 [00:28<00:00,  3.67it/s, avg loss=0.128]    \n",
      "dev Epoch:1/1: 100%|██████████| 44/44 [00:08<00:00,  5.39it/s, batches loss=0.735]"
     ]
    },
    {
     "name": "stdout",
     "output_type": "stream",
     "text": [
      "0.46718160198493436 {'over_corr': 409, 'total_err': 925, 'true_corr': tensor(305, device='cuda:0')} {'over_corr': 238, 'total_err': 701, 'true_corr': 156}\n"
     ]
    },
    {
     "name": "stderr",
     "output_type": "stream",
     "text": [
      "\n",
      "train Epoch:41/50: 100%|██████████| 103/103 [00:28<00:00,  3.67it/s, avg loss=0.117]    \n",
      "dev Epoch:1/1: 100%|██████████| 44/44 [00:08<00:00,  5.38it/s, batches loss=0.469]"
     ]
    },
    {
     "name": "stdout",
     "output_type": "stream",
     "text": [
      "0.45912517607212067 {'over_corr': 401, 'total_err': 925, 'true_corr': tensor(306, device='cuda:0')} {'over_corr': 240, 'total_err': 701, 'true_corr': 154}\n"
     ]
    },
    {
     "name": "stderr",
     "output_type": "stream",
     "text": [
      "\n",
      "train Epoch:42/50: 100%|██████████| 103/103 [00:28<00:00,  3.66it/s, avg loss=0.108]    \n",
      "dev Epoch:1/1: 100%|██████████| 44/44 [00:08<00:00,  5.34it/s, batches loss=0.443]"
     ]
    },
    {
     "name": "stdout",
     "output_type": "stream",
     "text": [
      "0.45253015038642014 {'over_corr': 383, 'total_err': 925, 'true_corr': tensor(308, device='cuda:0')} {'over_corr': 233, 'total_err': 701, 'true_corr': 158}\n"
     ]
    },
    {
     "name": "stderr",
     "output_type": "stream",
     "text": [
      "\n",
      "train Epoch:43/50: 100%|██████████| 103/103 [00:28<00:00,  3.66it/s, avg loss=0.101]    \n",
      "dev Epoch:1/1: 100%|██████████| 44/44 [00:08<00:00,  5.35it/s, batches loss=0.427]"
     ]
    },
    {
     "name": "stdout",
     "output_type": "stream",
     "text": [
      "0.44910801472989 {'over_corr': 371, 'total_err': 925, 'true_corr': tensor(311, device='cuda:0')} {'over_corr': 227, 'total_err': 701, 'true_corr': 159}\n"
     ]
    },
    {
     "name": "stderr",
     "output_type": "stream",
     "text": [
      "\n",
      "train Epoch:44/50: 100%|██████████| 103/103 [00:28<00:00,  3.66it/s, avg loss=0.092]    \n",
      "dev Epoch:1/1: 100%|██████████| 44/44 [00:08<00:00,  5.39it/s, batches loss=0.316]"
     ]
    },
    {
     "name": "stdout",
     "output_type": "stream",
     "text": [
      "0.44341119717467914 {'over_corr': 359, 'total_err': 925, 'true_corr': tensor(309, device='cuda:0')} {'over_corr': 221, 'total_err': 701, 'true_corr': 160}\n"
     ]
    },
    {
     "name": "stderr",
     "output_type": "stream",
     "text": [
      "\n",
      "train Epoch:45/50: 100%|██████████| 103/103 [00:28<00:00,  3.66it/s, avg loss=0.085]    \n",
      "dev Epoch:1/1: 100%|██████████| 44/44 [00:08<00:00,  5.37it/s, batches loss=0.470]"
     ]
    },
    {
     "name": "stdout",
     "output_type": "stream",
     "text": [
      "0.4448757645758716 {'over_corr': 354, 'total_err': 925, 'true_corr': tensor(305, device='cuda:0')} {'over_corr': 218, 'total_err': 701, 'true_corr': 158}\n"
     ]
    },
    {
     "name": "stderr",
     "output_type": "stream",
     "text": [
      "\n",
      "train Epoch:46/50: 100%|██████████| 103/103 [00:28<00:00,  3.65it/s, avg loss=0.079]    \n",
      "dev Epoch:1/1: 100%|██████████| 44/44 [00:08<00:00,  5.37it/s, batches loss=0.480]"
     ]
    },
    {
     "name": "stdout",
     "output_type": "stream",
     "text": [
      "0.4385344535112381 {'over_corr': 349, 'total_err': 925, 'true_corr': tensor(308, device='cuda:0')} {'over_corr': 218, 'total_err': 701, 'true_corr': 164}\n"
     ]
    },
    {
     "name": "stderr",
     "output_type": "stream",
     "text": [
      "\n",
      "train Epoch:47/50: 100%|██████████| 103/103 [00:28<00:00,  3.66it/s, avg loss=0.073]    \n",
      "dev Epoch:1/1: 100%|██████████| 44/44 [00:08<00:00,  5.35it/s, batches loss=0.562]"
     ]
    },
    {
     "name": "stdout",
     "output_type": "stream",
     "text": [
      "0.44403391297567973 {'over_corr': 367, 'total_err': 925, 'true_corr': tensor(317, device='cuda:0')} {'over_corr': 225, 'total_err': 701, 'true_corr': 167}\n"
     ]
    },
    {
     "name": "stderr",
     "output_type": "stream",
     "text": [
      "\n",
      "train Epoch:48/50: 100%|██████████| 103/103 [00:28<00:00,  3.65it/s, avg loss=0.071]    \n",
      "dev Epoch:1/1: 100%|██████████| 44/44 [00:08<00:00,  5.31it/s, batches loss=0.447]"
     ]
    },
    {
     "name": "stdout",
     "output_type": "stream",
     "text": [
      "0.4373138587583195 {'over_corr': 359, 'total_err': 925, 'true_corr': tensor(320, device='cuda:0')} {'over_corr': 225, 'total_err': 701, 'true_corr': 168}\n"
     ]
    },
    {
     "name": "stderr",
     "output_type": "stream",
     "text": [
      "\n",
      "train Epoch:49/50: 100%|██████████| 103/103 [00:28<00:00,  3.67it/s, avg loss=0.064]    \n",
      "dev Epoch:1/1: 100%|██████████| 44/44 [00:08<00:00,  5.33it/s, batches loss=0.463]"
     ]
    },
    {
     "name": "stdout",
     "output_type": "stream",
     "text": [
      "0.4357498958706856 {'over_corr': 335, 'total_err': 925, 'true_corr': tensor(312, device='cuda:0')} {'over_corr': 215, 'total_err': 701, 'true_corr': 166}\n"
     ]
    },
    {
     "name": "stderr",
     "output_type": "stream",
     "text": [
      "\n",
      "train Epoch:50/50: 100%|██████████| 103/103 [00:28<00:00,  3.66it/s, avg loss=0.058]    \n",
      "dev Epoch:1/1: 100%|██████████| 44/44 [00:08<00:00,  5.34it/s, batches loss=0.292]"
     ]
    },
    {
     "name": "stdout",
     "output_type": "stream",
     "text": [
      "0.42910330403934827 {'over_corr': 317, 'total_err': 925, 'true_corr': tensor(310, device='cuda:0')} {'over_corr': 200, 'total_err': 701, 'true_corr': 171}\n"
     ]
    },
    {
     "name": "stderr",
     "output_type": "stream",
     "text": [
      "\n",
      "dev Epoch:1/1: 100%|██████████| 108/108 [00:38<00:00,  2.84it/s, batches loss=0.404]"
     ]
    },
    {
     "name": "stdout",
     "output_type": "stream",
     "text": [
      "0.5043595328375146 {'over_corr': 3832, 'total_err': 5278, 'true_corr': tensor(1187, device='cuda:0')} {'over_corr': 1710, 'total_err': 3436, 'true_corr': 378}\n"
     ]
    },
    {
     "name": "stderr",
     "output_type": "stream",
     "text": [
      "\n"
     ]
    }
   ],
   "source": [
    "trainer.train(\n",
    "    dataloader=train_data_loader, epoch=epochs, test_dataloader=dev_data_loader\n",
    ")\n",
    "trainer.test(test_data_loader)"
   ]
  },
  {
   "cell_type": "code",
   "execution_count": 42,
   "id": "7776c68d-e30f-423c-85f9-427f7f8c06bb",
   "metadata": {},
   "outputs": [],
   "source": [
    "model = torch.load(save_path)"
   ]
  },
  {
   "cell_type": "code",
   "execution_count": 44,
   "id": "5143b279-2a2a-461a-a9b6-f54eb69defa7",
   "metadata": {
    "scrolled": true
   },
   "outputs": [],
   "source": [
    "# import time\n",
    "# from utils import cal_err\n",
    "\n",
    "# def split_lines(i, length=20):\n",
    "#     print(f\"第{i}句\".center(length, '-'))\n",
    "\n",
    "# def effectiveness_of_beam(model, test_data, beam_width):\n",
    "#     begin_time = time.time()\n",
    "#     matrices = [\"over_corr\", \"total_err\", \"true_corr\"]\n",
    "#     test_char_level = {key: 0 for key in matrices}\n",
    "#     test_sent_level = {key: 0 for key in matrices}\n",
    "\n",
    "#     for i, data in enumerate(test_data, 1):\n",
    "#         best_score, best_sequence = -float('inf'), None\n",
    "#         beam = model.generate_with_beam(beam_width, data)\n",
    "#         for score, seq in beam:\n",
    "#             if score > best_score:\n",
    "#                 best_score = score\n",
    "#                 best_sequence = seq\n",
    "#         split_lines(i)\n",
    "#         input_ids = data[\"input_ids\"]\n",
    "#         labels = data[\"labels\"]\n",
    "#         attention_mask = data[\"attention_mask\"]\n",
    "\n",
    "#         raw_model_output = model(input_ids.resize(1, len(input_ids)).to(\"cuda\"),\n",
    "#                   attention_mask.resize(1, len(input_ids)).to(\"cuda\"))\n",
    "\n",
    "#         length = len(best_sequence)\n",
    "#         char_level, sent_level = cal_err(\n",
    "#             input_ids[:length],\n",
    "#             torch.tensor(best_sequence),\n",
    "#             labels[:length],\n",
    "#             length,\n",
    "#         )\n",
    "#         test_char_level = {\n",
    "#             key: test_char_level[key] + v\n",
    "#             for key, v in char_level.items()\n",
    "#         }\n",
    "#         test_sent_level = {\n",
    "#             key: test_sent_level[key] + v\n",
    "#             for key, v in sent_level.items()\n",
    "#         }\n",
    "\n",
    "#         print(f\"origin sentence:  {tokenizer.decode(input_ids, skip_special_tokens=True)}\")\n",
    "#         print(f\"correct sentence: {tokenizer.decode(labels, skip_special_tokens=True)}\")\n",
    "#         print(f\"predict sentence: {tokenizer.decode(best_sequence, skip_special_tokens=True)}\")\n",
    "#         print(\"r-model sentence:\", tokenizer.decode(raw_model_output.argmax(dim=-1).squeeze()[:length], skip_special_tokens=True))\n",
    "\n",
    "#     end_time = time.time()\n",
    "#     print(f\"It cost total {end_time - begin_time} time\")\n",
    "\n",
    "# effectiveness_of_beam(model, test_dataset, 4)"
   ]
  },
  {
   "cell_type": "code",
   "execution_count": 41,
   "id": "4adcaa27-307c-4309-a544-338e6c950b9d",
   "metadata": {},
   "outputs": [],
   "source": [
    "save_path = \"weights/BertLstm.pt\"\n",
    "model.save(save_path)"
   ]
  },
  {
   "cell_type": "markdown",
   "id": "e264b138-3a3f-4a59-b3df-8a606d92d128",
   "metadata": {},
   "source": [
    "#### BERT + GRU"
   ]
  },
  {
   "cell_type": "code",
   "execution_count": null,
   "id": "946e4c14-cdaf-4952-9488-593b64c4a83d",
   "metadata": {},
   "outputs": [],
   "source": [
    "# The Hyperparameters can be defined in config.py\n",
    "hidden_size = 1024\n",
    "num_layers = 2\n",
    "\n",
    "encoder_model = BertModel.from_pretrained(checkpoint)\n",
    "decoder_model = DecoderBaseRNN(\n",
    "    model=nn.GRU,\n",
    "    input_size=encoder_model.config.hidden_size,\n",
    "    hidden_size=hidden_size,\n",
    "    num_layers=num_layers,\n",
    ")\n",
    "model = CombineBertModel(encoder_model=encoder_model, decoder_model=decoder_model)\n",
    "\n",
    "train(model, tokenizer, train_data_loader, dev_data_loader)"
   ]
  },
  {
   "cell_type": "code",
   "execution_count": null,
   "id": "0f914d32-b343-4e61-8e93-dd351b932c2f",
   "metadata": {},
   "outputs": [],
   "source": [
    "trainer.train(\n",
    "    dataloader=train_data_loader, epoch=epochs, test_dataloader=dev_data_loader\n",
    ")\n",
    "trainer.test(test_data_loader)"
   ]
  },
  {
   "cell_type": "code",
   "execution_count": null,
   "id": "cd57ec8c-4840-41a1-803b-ecb8584f5c43",
   "metadata": {},
   "outputs": [],
   "source": [
    "effectiveness_of_beam(model, test_dataset, 4)"
   ]
  },
  {
   "cell_type": "code",
   "execution_count": null,
   "id": "c2fefa11-acd4-4000-8588-1035c9e40b79",
   "metadata": {},
   "outputs": [],
   "source": [
    "save_path = \"weights/BertGru.pt\"\n",
    "model.save(save_path)"
   ]
  },
  {
   "cell_type": "markdown",
   "id": "0a58b144-5888-4375-8398-464250329aca",
   "metadata": {},
   "source": [
    "#### BERT + Transformer"
   ]
  },
  {
   "cell_type": "code",
   "execution_count": null,
   "id": "42bd8dc1-3a57-496f-af89-9e9237475dbf",
   "metadata": {},
   "outputs": [],
   "source": [
    "nhead = 2\n",
    "num_encoder_layers = 2\n",
    "num_decoder_layers = 2\n",
    "\n",
    "encoder_model = BertModel.from_pretrained(checkpoint)\n",
    "decoder_model = DecoderTransformer(\n",
    "    input_size=encoder_model.config.hidden_size,\n",
    "    nhead=nhead,\n",
    "    num_encoder_layers=num_encoder_layers,\n",
    "    num_decoder_layers=num_decoder_layers,\n",
    ")\n",
    "model = CombineBertModel(encoder_model=encoder_model, decoder_model=decoder_model)\n",
    "\n",
    "train(model, tokenizer, train_data_loader, dev_data_loader)"
   ]
  },
  {
   "cell_type": "code",
   "execution_count": null,
   "id": "71910e82-a15e-4982-988a-d3afd5fb7fce",
   "metadata": {},
   "outputs": [],
   "source": [
    "trainer.train(\n",
    "    dataloader=train_data_loader, epoch=epochs, test_dataloader=dev_data_loader\n",
    ")\n",
    "trainer.test(test_data_loader)"
   ]
  },
  {
   "cell_type": "code",
   "execution_count": null,
   "id": "ee3e9798-a852-42cc-97fe-6ebf23a6590c",
   "metadata": {},
   "outputs": [],
   "source": [
    "save_path = \"weights/BertTransformer.pt\"\n",
    "model.save(save_path)"
   ]
  }
 ],
 "metadata": {
  "kernelspec": {
   "display_name": "Python 3 (ipykernel)",
   "language": "python",
   "name": "python3"
  },
  "language_info": {
   "codemirror_mode": {
    "name": "ipython",
    "version": 3
   },
   "file_extension": ".py",
   "mimetype": "text/x-python",
   "name": "python",
   "nbconvert_exporter": "python",
   "pygments_lexer": "ipython3",
   "version": "3.11.4"
  }
 },
 "nbformat": 4,
 "nbformat_minor": 5
}
