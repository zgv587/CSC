{
 "cells": [
  {
   "cell_type": "code",
   "execution_count": 13,
   "id": "b11a20b9-731d-48c5-a547-c0e51543c304",
   "metadata": {},
   "outputs": [],
   "source": [
    "import torch\n",
    "import torch.nn as nn\n",
    "\n",
    "# Implemented by myself\n",
    "from config import *\n",
    "from data_processer import CSCDataset, load_confusion, split_torch_dataset\n",
    "from models import CombineBertModel, DecoderBaseRNN, DecoderTransformer, Trainer\n",
    "from opencc import OpenCC\n",
    "from torch.optim import AdamW\n",
    "from torch.utils.data import DataLoader\n",
    "from transformers import BertModel, BertTokenizer"
   ]
  },
  {
   "cell_type": "code",
   "execution_count": 14,
   "id": "314dc7c2-6021-4655-b2c6-cb3ac37ed067",
   "metadata": {},
   "outputs": [],
   "source": [
    "tokenizer = BertTokenizer.from_pretrained(checkpoint)"
   ]
  },
  {
   "cell_type": "code",
   "execution_count": 18,
   "id": "aceefd1b-6246-4c34-9b2f-30bdf7e33199",
   "metadata": {},
   "outputs": [],
   "source": [
    "confusion_set = load_confusion(confusion_set_path,)"
   ]
  },
  {
   "cell_type": "code",
   "execution_count": 19,
   "id": "b62c1deb-a01c-4ffe-a0fc-cba479dc1029",
   "metadata": {},
   "outputs": [
    {
     "data": {
      "text/plain": [
       "4922"
      ]
     },
     "execution_count": 19,
     "metadata": {},
     "output_type": "execute_result"
    }
   ],
   "source": [
    "len(confusion_set)"
   ]
  },
  {
   "cell_type": "code",
   "execution_count": 10,
   "id": "201e4909-e7b5-40c5-a0e2-9179b1dc2529",
   "metadata": {},
   "outputs": [
    {
     "name": "stdout",
     "output_type": "stream",
     "text": [
      "48237\n"
     ]
    }
   ],
   "source": [
    "in_confusion = 0 \n",
    "total_char = 0 \n",
    "st = set()\n",
    "st1 = set()\n",
    "\n",
    "with open(SIGHAN_train_dir_err, \"r\", encoding='utf-8') as f:\n",
    "    for line in f.readlines():\n",
    "        for char in line:\n",
    "            if char in confusion_set.keys():\n",
    "                in_confusion += 1 \n",
    "                st.add(char)\n",
    "            total_char += 1\n",
    "            st1.add(char)\n",
    "print(in_confusion)"
   ]
  },
  {
   "cell_type": "code",
   "execution_count": 11,
   "id": "f165aedf-5f46-468a-ac9e-416379e9d9cc",
   "metadata": {},
   "outputs": [
    {
     "data": {
      "text/plain": [
       "75603"
      ]
     },
     "execution_count": 11,
     "metadata": {},
     "output_type": "execute_result"
    }
   ],
   "source": [
    "total_char"
   ]
  },
  {
   "cell_type": "code",
   "execution_count": 12,
   "id": "b1bc46b3-1f55-4a36-981e-cda623a289a5",
   "metadata": {},
   "outputs": [
    {
     "data": {
      "text/plain": [
       "(1181, 1947)"
      ]
     },
     "execution_count": 12,
     "metadata": {},
     "output_type": "execute_result"
    }
   ],
   "source": [
    "len(st), len(st1)"
   ]
  },
  {
   "cell_type": "code",
   "execution_count": null,
   "id": "627e56d0-9cf1-4bc6-99c9-df97dbeee91c",
   "metadata": {},
   "outputs": [],
   "source": []
  }
 ],
 "metadata": {
  "kernelspec": {
   "display_name": "csc",
   "language": "python",
   "name": "simple_csc"
  },
  "language_info": {
   "codemirror_mode": {
    "name": "ipython",
    "version": 3
   },
   "file_extension": ".py",
   "mimetype": "text/x-python",
   "name": "python",
   "nbconvert_exporter": "python",
   "pygments_lexer": "ipython3",
   "version": "3.10.15"
  }
 },
 "nbformat": 4,
 "nbformat_minor": 5
}
