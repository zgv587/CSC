{
 "cells": [
  {
   "cell_type": "code",
   "execution_count": 1,
   "id": "9cf76ad3-d575-4cdb-9517-7e97ddc2d4bd",
   "metadata": {
    "execution": {
     "iopub.execute_input": "2024-12-12T04:14:24.568493Z",
     "iopub.status.busy": "2024-12-12T04:14:24.568493Z",
     "iopub.status.idle": "2024-12-12T04:14:26.247352Z",
     "shell.execute_reply": "2024-12-12T04:14:26.247352Z",
     "shell.execute_reply.started": "2024-12-12T04:14:24.568493Z"
    }
   },
   "outputs": [],
   "source": [
    "import heapq\n",
    "\n",
    "import torch"
   ]
  },
  {
   "cell_type": "code",
   "execution_count": 22,
   "id": "6d938641-4c8d-4ff7-80c3-5996b840773a",
   "metadata": {
    "execution": {
     "iopub.execute_input": "2024-12-12T04:16:54.286119Z",
     "iopub.status.busy": "2024-12-12T04:16:54.286119Z",
     "iopub.status.idle": "2024-12-12T04:16:54.291004Z",
     "shell.execute_reply": "2024-12-12T04:16:54.291004Z",
     "shell.execute_reply.started": "2024-12-12T04:16:54.286119Z"
    }
   },
   "outputs": [],
   "source": [
    "class Beam:\n",
    "    def __init__(\n",
    "        self,\n",
    "        beam_width: int,\n",
    "        length_penalty: int = 1,\n",
    "    ):\n",
    "        \"\"\"_summary_\n",
    "\n",
    "        Args:\n",
    "            beam_width (int): 束宽\n",
    "            length_penalty (int, optional): 长度惩罚，默认为1，即不惩罚\n",
    "            TODO:\n",
    "                Coverage normalization：惩罚重复\n",
    "                End of sentence normalization：抑制长句\n",
    "        \"\"\"\n",
    "        self.heap = []\n",
    "        self.beam_width = beam_width\n",
    "        self.length_penalty = length_penalty\n",
    "\n",
    "    def add(self, data):\n",
    "        \"\"\"\n",
    "        CSC task is different from the generate task, the length of the result is fixed.\n",
    "        \"\"\"\n",
    "        heapq.heappush(self.heap, data)\n",
    "\n",
    "        if len(self.heap) > self.beam_width:\n",
    "            heapq.heappop(self.heap)\n",
    "\n",
    "    def pop_all(self):\n",
    "        ret = []\n",
    "        while self.heap:\n",
    "            ret.append(heapq.heappop(self.heap))\n",
    "        return ret\n",
    "\n",
    "    def __iter__(self):\n",
    "        \"\"\"转化为可迭代对象，可使用其方法，比如max\"\"\"\n",
    "        return iter(self.heap)\n",
    "\n",
    "    def __len__(self):\n",
    "        return len(self.heap)\n",
    "\n",
    "    def __str__(self):\n",
    "        return f\"the paths is {[bm for bm in self]}\""
   ]
  },
  {
   "cell_type": "code",
   "execution_count": 23,
   "id": "fbe279ce-55b6-4011-9a8f-f49838b67367",
   "metadata": {
    "execution": {
     "iopub.execute_input": "2024-12-12T04:16:54.810289Z",
     "iopub.status.busy": "2024-12-12T04:16:54.810289Z",
     "iopub.status.idle": "2024-12-12T04:16:54.815506Z",
     "shell.execute_reply": "2024-12-12T04:16:54.815506Z",
     "shell.execute_reply.started": "2024-12-12T04:16:54.810289Z"
    }
   },
   "outputs": [],
   "source": [
    "def generate_random_tensor(shape):\n",
    "    data = torch.randn(shape).type(torch.float16)\n",
    "    return torch.softmax(data, dim=0)"
   ]
  },
  {
   "cell_type": "code",
   "execution_count": 51,
   "id": "0649c811-1a5b-475f-a3ec-fd988070e046",
   "metadata": {
    "execution": {
     "iopub.execute_input": "2024-12-12T04:23:32.302515Z",
     "iopub.status.busy": "2024-12-12T04:23:32.301487Z",
     "iopub.status.idle": "2024-12-12T04:23:32.307520Z",
     "shell.execute_reply": "2024-12-12T04:23:32.307520Z",
     "shell.execute_reply.started": "2024-12-12T04:23:32.302515Z"
    }
   },
   "outputs": [],
   "source": [
    "def generate_with_beamsearch(self, beam_width, seq, batch_first=True):\n",
    "    # add batch dimension\n",
    "    if len(seq_shape) == 2:\n",
    "        seq.unsqueeze_(~int(batch_first))\n",
    "        batch_first = True\n",
    "\n",
    "    if not batch_first:\n",
    "        seq.transpose_(0, 1)\n",
    "    batch_size = seq.shape[0]\n",
    "\n",
    "    beam = Beam(beam_width)\n",
    "    beam.add([0, [0]])\n",
    "\n",
    "    ret_beam = []\n",
    "    for batch in seq:\n",
    "        for i, s in enumerate(batch):\n",
    "            if s == -1:\n",
    "                ret_beam.append(beam)\n",
    "                break\n",
    "\n",
    "            prefixs = beam.pop_all()\n",
    "            for prob, path in prefixs:\n",
    "                # TODO: according to the prefix sequence to generate the probility of the next token\n",
    "                next_tokens = generate_random_tensor([50, 1])\n",
    "                probs, inds = next_tokens.topk(beam_width, dim=0)\n",
    "                print(probs)\n",
    "                for i, cur_prob in enumerate(probs):\n",
    "                    beam.add(\n",
    "                        [prob - (torch.log(cur_prob).item()), path + [inds[i].item()]]\n",
    "                    )\n",
    "    return ret_beam"
   ]
  },
  {
   "cell_type": "code",
   "execution_count": null,
   "id": "5b669f1d-6af8-42c8-aa71-af4425f31b6b",
   "metadata": {},
   "outputs": [],
   "source": []
  },
  {
   "cell_type": "code",
   "execution_count": null,
   "id": "7b96af72-f36b-46a2-b52e-9a9567f68e43",
   "metadata": {},
   "outputs": [],
   "source": [
    "def beam_search_generate(\n",
    "    self,\n",
    "    beam_width: int,\n",
    "    sequence,\n",
    "    length_penalty: int = 1,\n",
    "    bos_token_id: int = 101,\n",
    "    pad_token_id: int = 0,\n",
    "    eos_token_id: int = 102,\n",
    "    batch_first: bool = True,\n",
    "):\n",
    "\n",
    "    if not batch_first:\n",
    "        sequence = sequence.transpose(0, 1)\n",
    "    batch_size = sequence.shape[0]\n",
    "\n",
    "    # beamers = [Beamer(beam_width=beam_width) for _ in range(batch_size)]\n",
    "    beam = Beam()"
   ]
  },
  {
   "cell_type": "code",
   "execution_count": 176,
   "id": "d0f0c728-6baa-4e52-916d-71d61de7962d",
   "metadata": {
    "execution": {
     "iopub.execute_input": "2024-12-12T11:06:44.565056Z",
     "iopub.status.busy": "2024-12-12T11:06:44.565056Z",
     "iopub.status.idle": "2024-12-12T11:06:44.570928Z",
     "shell.execute_reply": "2024-12-12T11:06:44.570928Z",
     "shell.execute_reply.started": "2024-12-12T11:06:44.565056Z"
    }
   },
   "outputs": [],
   "source": [
    "a = tokenizer(sentence, return_tensors=\"pt\")"
   ]
  },
  {
   "cell_type": "code",
   "execution_count": 177,
   "id": "3c9c36c3-2b11-44c0-94c0-ce181c2356a0",
   "metadata": {
    "execution": {
     "iopub.execute_input": "2024-12-12T11:06:45.363183Z",
     "iopub.status.busy": "2024-12-12T11:06:45.363183Z",
     "iopub.status.idle": "2024-12-12T11:06:45.369579Z",
     "shell.execute_reply": "2024-12-12T11:06:45.369579Z",
     "shell.execute_reply.started": "2024-12-12T11:06:45.363183Z"
    }
   },
   "outputs": [
    {
     "data": {
      "text/plain": [
       "{'input_ids': tensor([[ 101, 2769, 3221, 1920, 2358, 1520,  102]]), 'token_type_ids': tensor([[0, 0, 0, 0, 0, 0, 0]]), 'attention_mask': tensor([[1, 1, 1, 1, 1, 1, 1]])}"
      ]
     },
     "execution_count": 177,
     "metadata": {},
     "output_type": "execute_result"
    }
   ],
   "source": [
    "a"
   ]
  },
  {
   "cell_type": "code",
   "execution_count": 178,
   "id": "d3d919c7-a9bb-4a38-b35b-df22dd5ef39a",
   "metadata": {
    "execution": {
     "iopub.execute_input": "2024-12-12T11:06:45.895977Z",
     "iopub.status.busy": "2024-12-12T11:06:45.895977Z",
     "iopub.status.idle": "2024-12-12T11:06:45.898751Z",
     "shell.execute_reply": "2024-12-12T11:06:45.898751Z",
     "shell.execute_reply.started": "2024-12-12T11:06:45.895977Z"
    }
   },
   "outputs": [],
   "source": [
    "aa = a[\"input_ids\"]"
   ]
  },
  {
   "cell_type": "code",
   "execution_count": 179,
   "id": "78ecabe2-cfec-4f4c-8754-fbdb1e256dc4",
   "metadata": {
    "execution": {
     "iopub.execute_input": "2024-12-12T11:06:46.386623Z",
     "iopub.status.busy": "2024-12-12T11:06:46.385622Z",
     "iopub.status.idle": "2024-12-12T11:06:46.390947Z",
     "shell.execute_reply": "2024-12-12T11:06:46.390947Z",
     "shell.execute_reply.started": "2024-12-12T11:06:46.386623Z"
    }
   },
   "outputs": [
    {
     "data": {
      "text/plain": [
       "tensor([[ 101, 2769, 3221, 1920, 2358, 1520,  102]])"
      ]
     },
     "execution_count": 179,
     "metadata": {},
     "output_type": "execute_result"
    }
   ],
   "source": [
    "aa"
   ]
  },
  {
   "cell_type": "code",
   "execution_count": 186,
   "id": "73556fa0-187a-4e6f-a686-84591f2d6719",
   "metadata": {
    "execution": {
     "iopub.execute_input": "2024-12-12T11:09:01.364157Z",
     "iopub.status.busy": "2024-12-12T11:09:01.364157Z",
     "iopub.status.idle": "2024-12-12T11:09:01.448980Z",
     "shell.execute_reply": "2024-12-12T11:09:01.448980Z",
     "shell.execute_reply.started": "2024-12-12T11:09:01.364157Z"
    }
   },
   "outputs": [],
   "source": [
    "aa[:, :5] = torch.tensor([1, 2, 3, 4, 5])"
   ]
  },
  {
   "cell_type": "code",
   "execution_count": 187,
   "id": "a27edb67-e8b9-46bd-bab3-7074b378eda0",
   "metadata": {
    "execution": {
     "iopub.execute_input": "2024-12-12T11:09:04.610828Z",
     "iopub.status.busy": "2024-12-12T11:09:04.610285Z",
     "iopub.status.idle": "2024-12-12T11:09:04.614561Z",
     "shell.execute_reply": "2024-12-12T11:09:04.614561Z",
     "shell.execute_reply.started": "2024-12-12T11:09:04.610828Z"
    }
   },
   "outputs": [
    {
     "data": {
      "text/plain": [
       "tensor([[   1,    2,    3,    4,    5, 1520,  102]])"
      ]
     },
     "execution_count": 187,
     "metadata": {},
     "output_type": "execute_result"
    }
   ],
   "source": [
    "aa"
   ]
  },
  {
   "cell_type": "code",
   "execution_count": 188,
   "id": "474209b1-54b7-494e-a036-c389fbcba24c",
   "metadata": {
    "execution": {
     "iopub.execute_input": "2024-12-12T11:09:46.474627Z",
     "iopub.status.busy": "2024-12-12T11:09:46.474627Z",
     "iopub.status.idle": "2024-12-12T11:09:46.478743Z",
     "shell.execute_reply": "2024-12-12T11:09:46.478743Z",
     "shell.execute_reply.started": "2024-12-12T11:09:46.474627Z"
    }
   },
   "outputs": [],
   "source": [
    "t = [5, 4, 2, 3, 1]"
   ]
  },
  {
   "cell_type": "code",
   "execution_count": 194,
   "id": "b1355a03-9c81-469d-99f3-33a029fc6f11",
   "metadata": {
    "execution": {
     "iopub.execute_input": "2024-12-12T11:12:30.370929Z",
     "iopub.status.busy": "2024-12-12T11:12:30.370929Z",
     "iopub.status.idle": "2024-12-12T11:12:30.505864Z",
     "shell.execute_reply": "2024-12-12T11:12:30.505864Z",
     "shell.execute_reply.started": "2024-12-12T11:12:30.370929Z"
    }
   },
   "outputs": [
    {
     "ename": "TypeError",
     "evalue": "unsqueeze() missing 1 required positional arguments: \"dim\"",
     "output_type": "error",
     "traceback": [
      "\u001b[1;31m---------------------------------------------------------------------------\u001b[0m",
      "\u001b[1;31mTypeError\u001b[0m                                 Traceback (most recent call last)",
      "Cell \u001b[1;32mIn[194], line 1\u001b[0m\n\u001b[1;32m----> 1\u001b[0m torch\u001b[38;5;241m.\u001b[39mcat((\u001b[43mtorch\u001b[49m\u001b[38;5;241;43m.\u001b[39;49m\u001b[43mtensor\u001b[49m\u001b[43m(\u001b[49m\u001b[43mt\u001b[49m\u001b[43m)\u001b[49m\u001b[38;5;241;43m.\u001b[39;49m\u001b[43munsqueeze\u001b[49m\u001b[43m(\u001b[49m\u001b[43m)\u001b[49m,torch\u001b[38;5;241m.\u001b[39mtensor(t)))\n",
      "\u001b[1;31mTypeError\u001b[0m: unsqueeze() missing 1 required positional arguments: \"dim\""
     ]
    }
   ],
   "source": [
    "torch.cat((torch.tensor(t).unsqueeze(), torch.tensor(t)))"
   ]
  },
  {
   "cell_type": "code",
   "execution_count": 199,
   "id": "c050f045-8590-46d7-a9d2-044352922832",
   "metadata": {
    "execution": {
     "iopub.execute_input": "2024-12-12T11:13:14.378128Z",
     "iopub.status.busy": "2024-12-12T11:13:14.378128Z",
     "iopub.status.idle": "2024-12-12T11:13:14.409538Z",
     "shell.execute_reply": "2024-12-12T11:13:14.409538Z",
     "shell.execute_reply.started": "2024-12-12T11:13:14.378128Z"
    }
   },
   "outputs": [
    {
     "data": {
      "text/plain": [
       "tensor([[   5,    4,    2,    3,    1, 1520,  102]])"
      ]
     },
     "execution_count": 199,
     "metadata": {},
     "output_type": "execute_result"
    }
   ],
   "source": [
    "torch.cat((torch.tensor(t).unsqueeze(0), aa[:, 5:]), dim=1)"
   ]
  },
  {
   "cell_type": "code",
   "execution_count": 448,
   "id": "2755d82e-a194-44cf-82c8-c9bc0a1d17a2",
   "metadata": {
    "execution": {
     "iopub.execute_input": "2024-12-12T12:09:32.587229Z",
     "iopub.status.busy": "2024-12-12T12:09:32.587229Z",
     "iopub.status.idle": "2024-12-12T12:09:32.595038Z",
     "shell.execute_reply": "2024-12-12T12:09:32.595038Z",
     "shell.execute_reply.started": "2024-12-12T12:09:32.587229Z"
    }
   },
   "outputs": [],
   "source": [
    "import heapq\n",
    "\n",
    "import torch.nn\n",
    "\n",
    "\n",
    "class Beamer:\n",
    "    def __init__(\n",
    "        self,\n",
    "        beam_width: int,\n",
    "    ):\n",
    "        \"\"\"just a container for beam search\n",
    "\n",
    "        Args:\n",
    "            beam_width (int): _description_\n",
    "        \"\"\"\n",
    "        self.heap = []\n",
    "        self.beam_width = beam_width\n",
    "\n",
    "    def add(self, item: tuple):\n",
    "        \"\"\"_summary_\n",
    "\n",
    "        Args:\n",
    "            item (tuple): _description_\n",
    "        \"\"\"\n",
    "        heapq.heappush(self.heap, item)\n",
    "\n",
    "        if len(self) > self.beam_width:\n",
    "            heapq.heappop(self.heap)\n",
    "\n",
    "    def pop_all(self):\n",
    "        ret_beam = []\n",
    "        while len(self) > 0:\n",
    "            ret_beam.append(heapq.heappop(self.heap))\n",
    "\n",
    "        return ret_beam\n",
    "\n",
    "    def __len__(self):\n",
    "        return len(self.heap)\n",
    "\n",
    "    def __iter__(self):\n",
    "        return iter(self.heap)\n",
    "\n",
    "\n",
    "def beam_search_generate(\n",
    "    self,\n",
    "    beam_width: int,\n",
    "    sequence,\n",
    "    length_penalty: int = 1,\n",
    "    bos_token_id: int = 101,\n",
    "    pad_token_id: int = 0,\n",
    "    eos_token_id: int = 102,\n",
    "    batch_first: bool = False,\n",
    "    device: str = \"cuda\",\n",
    "):\n",
    "\n",
    "    # if batch_first:\n",
    "    #     sequence = sequence.transpose(0, 1)\n",
    "    # batch_size = sequence.shape[0]\n",
    "    self.to(device)\n",
    "\n",
    "    # beamers = [Beamer(beam_width=beam_width) for _ in range(batch_size)]\n",
    "    beamer = Beamer(beam_width=beam_width)\n",
    "    beamer.add([0, [bos_token_id]])\n",
    "\n",
    "    input_ids = sequence[\"input_ids\"].unsqueeze(0).to(device)\n",
    "    attention_mask = (\n",
    "        sequence[\"attention_mask\"].unsqueeze(0).to(device).type(torch.float)\n",
    "    )\n",
    "    labels = sequence[\"labels\"].unsqueeze(0).to(device)\n",
    "\n",
    "    with torch.no_grad():\n",
    "        for i in range(input_ids.shape[1]):\n",
    "            if input_ids[:, i].eq(eos_token_id).all():\n",
    "                break\n",
    "\n",
    "            prefixs = beamer.pop_all()\n",
    "            for score, path in prefixs:\n",
    "                cur_input_ids = torch.cat(\n",
    "                    (torch.tensor(path).unsqueeze(0).to(device), input_ids[:, i + 1 :]),\n",
    "                    dim=1,\n",
    "                ).to(device)\n",
    "                # print(cur_input_ids.shape, attention_mask.shape)\n",
    "                output = self(cur_input_ids, src_mask=attention_mask)[:, -1, :]\n",
    "                probs, inds = output.topk(beam_width, dim=-1)\n",
    "                for j, cur_prob in enumerate(probs.squeeze()):\n",
    "                    beamer.add(\n",
    "                        [\n",
    "                            score - (torch.log(cur_prob).item()),\n",
    "                            path + [inds.squeeze()[j].item()],\n",
    "                        ]\n",
    "                    )\n",
    "                    for bm in beamer:\n",
    "                        print(bm)\n",
    "    return beamer"
   ]
  },
  {
   "cell_type": "code",
   "execution_count": 449,
   "id": "501f7746-9695-4edf-8cff-0b556f70e140",
   "metadata": {
    "execution": {
     "iopub.execute_input": "2024-12-12T12:09:32.862016Z",
     "iopub.status.busy": "2024-12-12T12:09:32.859653Z",
     "iopub.status.idle": "2024-12-12T12:09:32.865303Z",
     "shell.execute_reply": "2024-12-12T12:09:32.865303Z",
     "shell.execute_reply.started": "2024-12-12T12:09:32.862016Z"
    }
   },
   "outputs": [],
   "source": [
    "import torch.nn as nn\n",
    "from torch.optim import AdamW\n",
    "from torch.utils.data import DataLoader\n",
    "from transformers import BertModel, BertTokenizer\n",
    "\n",
    "# Implemented by myself\n",
    "from config import *\n",
    "from data_processer import CSCDataset, split_torch_dataset\n",
    "from models import CombineBertModel, DecoderBaseRNN, DecoderTransformer, Trainer"
   ]
  },
  {
   "cell_type": "code",
   "execution_count": 450,
   "id": "31bf4378-a953-40ca-979b-b40c8723b715",
   "metadata": {
    "execution": {
     "iopub.execute_input": "2024-12-12T12:09:33.371752Z",
     "iopub.status.busy": "2024-12-12T12:09:33.371752Z",
     "iopub.status.idle": "2024-12-12T12:09:34.571568Z",
     "shell.execute_reply": "2024-12-12T12:09:34.571568Z",
     "shell.execute_reply.started": "2024-12-12T12:09:33.371752Z"
    }
   },
   "outputs": [],
   "source": [
    "tokenizer = BertTokenizer.from_pretrained(checkpoint)"
   ]
  },
  {
   "cell_type": "code",
   "execution_count": 451,
   "id": "6374e41e-5a9f-44ed-b409-8976cee97a49",
   "metadata": {
    "execution": {
     "iopub.execute_input": "2024-12-12T12:09:34.571568Z",
     "iopub.status.busy": "2024-12-12T12:09:34.571568Z",
     "iopub.status.idle": "2024-12-12T12:09:34.593357Z",
     "shell.execute_reply": "2024-12-12T12:09:34.593357Z",
     "shell.execute_reply.started": "2024-12-12T12:09:34.571568Z"
    }
   },
   "outputs": [
    {
     "name": "stderr",
     "output_type": "stream",
     "text": [
      "preprocessing sighan dataset: 2339it [00:00, 1045447.26it/s]\n",
      "preprocessing sighan dataset: 100%|██████████████████████████████████████████| 2339/2339 [00:00<00:00, 25350069.91it/s]\n"
     ]
    },
    {
     "name": "stdout",
     "output_type": "stream",
     "text": [
      "共2339句，共73264字，最长的句子有171字\n"
     ]
    },
    {
     "name": "stderr",
     "output_type": "stream",
     "text": [
      "preprocessing sighan dataset: 3437it [00:00, 1143477.66it/s]\n",
      "preprocessing sighan dataset: 100%|███████████████████████████████████████████| 3437/3437 [00:00<00:00, 1139590.74it/s]"
     ]
    },
    {
     "name": "stdout",
     "output_type": "stream",
     "text": [
      "共3437句，共170330字，最长的句子有258字\n"
     ]
    },
    {
     "name": "stderr",
     "output_type": "stream",
     "text": [
      "\n"
     ]
    }
   ],
   "source": [
    "train_dataset = CSCDataset([SIGHAN_train_dir_err, SIGHAN_train_dir_corr], tokenizer)\n",
    "\n",
    "test_dataset = CSCDataset([SIGHAN_train_dir_err14, SIGHAN_train_dir_corr14], tokenizer)"
   ]
  },
  {
   "cell_type": "code",
   "execution_count": 452,
   "id": "7a8d9606-a280-4a60-8a2e-8dbed440bb5b",
   "metadata": {
    "execution": {
     "iopub.execute_input": "2024-12-12T12:09:34.593357Z",
     "iopub.status.busy": "2024-12-12T12:09:34.593357Z",
     "iopub.status.idle": "2024-12-12T12:09:34.598219Z",
     "shell.execute_reply": "2024-12-12T12:09:34.597692Z",
     "shell.execute_reply.started": "2024-12-12T12:09:34.593357Z"
    }
   },
   "outputs": [],
   "source": [
    "train_data, dev_data = split_torch_dataset(train_dataset, 0.3)\n",
    "\n",
    "train_data_loader = DataLoader(train_data, num_workers=4, shuffle=True, batch_size=16)"
   ]
  },
  {
   "cell_type": "code",
   "execution_count": 453,
   "id": "13c6800e-da3e-4f50-ac54-4b110866b8bc",
   "metadata": {
    "execution": {
     "iopub.execute_input": "2024-12-12T12:09:34.599236Z",
     "iopub.status.busy": "2024-12-12T12:09:34.598219Z",
     "iopub.status.idle": "2024-12-12T12:09:34.610451Z",
     "shell.execute_reply": "2024-12-12T12:09:34.610451Z",
     "shell.execute_reply.started": "2024-12-12T12:09:34.599236Z"
    },
    "scrolled": true
   },
   "outputs": [
    {
     "data": {
      "text/plain": [
       "{'input_ids': tensor([ 101,  852, 3221, 2769,  679, 5543, 1343, 1347, 1217, 8024, 1728, 4158,\n",
       "         2769, 3300,  671, 7953,  752, 2658, 7350, 8013,  102,    0,    0,    0,\n",
       "            0,    0,    0,    0,    0,    0,    0,    0,    0,    0,    0,    0,\n",
       "            0,    0,    0,    0,    0,    0,    0,    0,    0,    0,    0,    0,\n",
       "            0,    0,    0,    0,    0,    0,    0,    0,    0,    0,    0,    0,\n",
       "            0,    0,    0,    0,    0,    0,    0,    0,    0,    0,    0,    0,\n",
       "            0,    0,    0,    0,    0,    0,    0,    0,    0,    0,    0,    0,\n",
       "            0,    0,    0,    0,    0,    0,    0,    0,    0,    0,    0,    0,\n",
       "            0,    0,    0,    0,    0,    0,    0,    0,    0,    0,    0,    0,\n",
       "            0,    0,    0,    0,    0,    0,    0,    0,    0,    0,    0,    0,\n",
       "            0,    0,    0,    0,    0,    0,    0,    0,    0,    0,    0,    0,\n",
       "            0,    0,    0,    0,    0,    0,    0,    0,    0,    0,    0,    0,\n",
       "            0,    0,    0,    0,    0,    0,    0,    0,    0,    0,    0,    0,\n",
       "            0,    0,    0,    0,    0,    0,    0,    0,    0,    0,    0,    0,\n",
       "            0,    0,    0,    0,    0,    0,    0,    0,    0,    0,    0,    0,\n",
       "            0,    0,    0,    0,    0,    0,    0,    0,    0,    0,    0,    0,\n",
       "            0,    0,    0,    0,    0,    0,    0,    0,    0,    0,    0,    0,\n",
       "            0,    0,    0,    0,    0,    0,    0,    0,    0,    0,    0,    0,\n",
       "            0,    0,    0,    0,    0,    0,    0,    0,    0,    0,    0,    0,\n",
       "            0,    0,    0,    0,    0,    0,    0,    0,    0,    0,    0,    0,\n",
       "            0,    0,    0,    0,    0,    0,    0,    0,    0,    0,    0,    0,\n",
       "            0,    0,    0,    0,    0,    0,    0,    0,    0,    0,    0,    0,\n",
       "            0,    0,    0,    0,    0,    0,    0,    0,    0,    0,    0,    0,\n",
       "            0,    0,    0,    0,    0,    0,    0,    0,    0,    0,    0,    0,\n",
       "            0,    0,    0,    0,    0,    0,    0,    0,    0,    0,    0,    0,\n",
       "            0,    0,    0,    0,    0,    0,    0,    0,    0,    0,    0,    0,\n",
       "            0,    0,    0,    0,    0,    0,    0,    0,    0,    0,    0,    0,\n",
       "            0,    0,    0,    0,    0,    0,    0,    0,    0,    0,    0,    0,\n",
       "            0,    0,    0,    0,    0,    0,    0,    0,    0,    0,    0,    0,\n",
       "            0,    0,    0,    0,    0,    0,    0,    0,    0,    0,    0,    0,\n",
       "            0,    0,    0,    0,    0,    0,    0,    0,    0,    0,    0,    0,\n",
       "            0,    0,    0,    0,    0,    0,    0,    0,    0,    0,    0,    0,\n",
       "            0,    0,    0,    0,    0,    0,    0,    0,    0,    0,    0,    0,\n",
       "            0,    0,    0,    0,    0,    0,    0,    0,    0,    0,    0,    0,\n",
       "            0,    0,    0,    0,    0,    0,    0,    0,    0,    0,    0,    0,\n",
       "            0,    0,    0,    0,    0,    0,    0,    0,    0,    0,    0,    0,\n",
       "            0,    0,    0,    0,    0,    0,    0,    0,    0,    0,    0,    0,\n",
       "            0,    0,    0,    0,    0,    0,    0,    0,    0,    0,    0,    0,\n",
       "            0,    0,    0,    0,    0,    0,    0,    0,    0,    0,    0,    0,\n",
       "            0,    0,    0,    0,    0,    0,    0,    0,    0,    0,    0,    0,\n",
       "            0,    0,    0,    0,    0,    0,    0,    0,    0,    0,    0,    0,\n",
       "            0,    0,    0,    0,    0,    0,    0,    0,    0,    0,    0,    0,\n",
       "            0,    0,    0,    0,    0,    0,    0,    0]),\n",
       " 'attention_mask': tensor([1, 1, 1, 1, 1, 1, 1, 1, 1, 1, 1, 1, 1, 1, 1, 1, 1, 1, 1, 1, 1, 0, 0, 0,\n",
       "         0, 0, 0, 0, 0, 0, 0, 0, 0, 0, 0, 0, 0, 0, 0, 0, 0, 0, 0, 0, 0, 0, 0, 0,\n",
       "         0, 0, 0, 0, 0, 0, 0, 0, 0, 0, 0, 0, 0, 0, 0, 0, 0, 0, 0, 0, 0, 0, 0, 0,\n",
       "         0, 0, 0, 0, 0, 0, 0, 0, 0, 0, 0, 0, 0, 0, 0, 0, 0, 0, 0, 0, 0, 0, 0, 0,\n",
       "         0, 0, 0, 0, 0, 0, 0, 0, 0, 0, 0, 0, 0, 0, 0, 0, 0, 0, 0, 0, 0, 0, 0, 0,\n",
       "         0, 0, 0, 0, 0, 0, 0, 0, 0, 0, 0, 0, 0, 0, 0, 0, 0, 0, 0, 0, 0, 0, 0, 0,\n",
       "         0, 0, 0, 0, 0, 0, 0, 0, 0, 0, 0, 0, 0, 0, 0, 0, 0, 0, 0, 0, 0, 0, 0, 0,\n",
       "         0, 0, 0, 0, 0, 0, 0, 0, 0, 0, 0, 0, 0, 0, 0, 0, 0, 0, 0, 0, 0, 0, 0, 0,\n",
       "         0, 0, 0, 0, 0, 0, 0, 0, 0, 0, 0, 0, 0, 0, 0, 0, 0, 0, 0, 0, 0, 0, 0, 0,\n",
       "         0, 0, 0, 0, 0, 0, 0, 0, 0, 0, 0, 0, 0, 0, 0, 0, 0, 0, 0, 0, 0, 0, 0, 0,\n",
       "         0, 0, 0, 0, 0, 0, 0, 0, 0, 0, 0, 0, 0, 0, 0, 0, 0, 0, 0, 0, 0, 0, 0, 0,\n",
       "         0, 0, 0, 0, 0, 0, 0, 0, 0, 0, 0, 0, 0, 0, 0, 0, 0, 0, 0, 0, 0, 0, 0, 0,\n",
       "         0, 0, 0, 0, 0, 0, 0, 0, 0, 0, 0, 0, 0, 0, 0, 0, 0, 0, 0, 0, 0, 0, 0, 0,\n",
       "         0, 0, 0, 0, 0, 0, 0, 0, 0, 0, 0, 0, 0, 0, 0, 0, 0, 0, 0, 0, 0, 0, 0, 0,\n",
       "         0, 0, 0, 0, 0, 0, 0, 0, 0, 0, 0, 0, 0, 0, 0, 0, 0, 0, 0, 0, 0, 0, 0, 0,\n",
       "         0, 0, 0, 0, 0, 0, 0, 0, 0, 0, 0, 0, 0, 0, 0, 0, 0, 0, 0, 0, 0, 0, 0, 0,\n",
       "         0, 0, 0, 0, 0, 0, 0, 0, 0, 0, 0, 0, 0, 0, 0, 0, 0, 0, 0, 0, 0, 0, 0, 0,\n",
       "         0, 0, 0, 0, 0, 0, 0, 0, 0, 0, 0, 0, 0, 0, 0, 0, 0, 0, 0, 0, 0, 0, 0, 0,\n",
       "         0, 0, 0, 0, 0, 0, 0, 0, 0, 0, 0, 0, 0, 0, 0, 0, 0, 0, 0, 0, 0, 0, 0, 0,\n",
       "         0, 0, 0, 0, 0, 0, 0, 0, 0, 0, 0, 0, 0, 0, 0, 0, 0, 0, 0, 0, 0, 0, 0, 0,\n",
       "         0, 0, 0, 0, 0, 0, 0, 0, 0, 0, 0, 0, 0, 0, 0, 0, 0, 0, 0, 0, 0, 0, 0, 0,\n",
       "         0, 0, 0, 0, 0, 0, 0, 0]),\n",
       " 'labels': tensor([ 101,  852, 3221, 2769,  679, 5543, 1343, 1347, 1217, 8024, 1728, 4158,\n",
       "         2769, 3300,  671, 7953,  752, 2658, 1557, 8013,  102,    0,    0,    0,\n",
       "            0,    0,    0,    0,    0,    0,    0,    0,    0,    0,    0,    0,\n",
       "            0,    0,    0,    0,    0,    0,    0,    0,    0,    0,    0,    0,\n",
       "            0,    0,    0,    0,    0,    0,    0,    0,    0,    0,    0,    0,\n",
       "            0,    0,    0,    0,    0,    0,    0,    0,    0,    0,    0,    0,\n",
       "            0,    0,    0,    0,    0,    0,    0,    0,    0,    0,    0,    0,\n",
       "            0,    0,    0,    0,    0,    0,    0,    0,    0,    0,    0,    0,\n",
       "            0,    0,    0,    0,    0,    0,    0,    0,    0,    0,    0,    0,\n",
       "            0,    0,    0,    0,    0,    0,    0,    0,    0,    0,    0,    0,\n",
       "            0,    0,    0,    0,    0,    0,    0,    0,    0,    0,    0,    0,\n",
       "            0,    0,    0,    0,    0,    0,    0,    0,    0,    0,    0,    0,\n",
       "            0,    0,    0,    0,    0,    0,    0,    0,    0,    0,    0,    0,\n",
       "            0,    0,    0,    0,    0,    0,    0,    0,    0,    0,    0,    0,\n",
       "            0,    0,    0,    0,    0,    0,    0,    0,    0,    0,    0,    0,\n",
       "            0,    0,    0,    0,    0,    0,    0,    0,    0,    0,    0,    0,\n",
       "            0,    0,    0,    0,    0,    0,    0,    0,    0,    0,    0,    0,\n",
       "            0,    0,    0,    0,    0,    0,    0,    0,    0,    0,    0,    0,\n",
       "            0,    0,    0,    0,    0,    0,    0,    0,    0,    0,    0,    0,\n",
       "            0,    0,    0,    0,    0,    0,    0,    0,    0,    0,    0,    0,\n",
       "            0,    0,    0,    0,    0,    0,    0,    0,    0,    0,    0,    0,\n",
       "            0,    0,    0,    0,    0,    0,    0,    0,    0,    0,    0,    0,\n",
       "            0,    0,    0,    0,    0,    0,    0,    0,    0,    0,    0,    0,\n",
       "            0,    0,    0,    0,    0,    0,    0,    0,    0,    0,    0,    0,\n",
       "            0,    0,    0,    0,    0,    0,    0,    0,    0,    0,    0,    0,\n",
       "            0,    0,    0,    0,    0,    0,    0,    0,    0,    0,    0,    0,\n",
       "            0,    0,    0,    0,    0,    0,    0,    0,    0,    0,    0,    0,\n",
       "            0,    0,    0,    0,    0,    0,    0,    0,    0,    0,    0,    0,\n",
       "            0,    0,    0,    0,    0,    0,    0,    0,    0,    0,    0,    0,\n",
       "            0,    0,    0,    0,    0,    0,    0,    0,    0,    0,    0,    0,\n",
       "            0,    0,    0,    0,    0,    0,    0,    0,    0,    0,    0,    0,\n",
       "            0,    0,    0,    0,    0,    0,    0,    0,    0,    0,    0,    0,\n",
       "            0,    0,    0,    0,    0,    0,    0,    0,    0,    0,    0,    0,\n",
       "            0,    0,    0,    0,    0,    0,    0,    0,    0,    0,    0,    0,\n",
       "            0,    0,    0,    0,    0,    0,    0,    0,    0,    0,    0,    0,\n",
       "            0,    0,    0,    0,    0,    0,    0,    0,    0,    0,    0,    0,\n",
       "            0,    0,    0,    0,    0,    0,    0,    0,    0,    0,    0,    0,\n",
       "            0,    0,    0,    0,    0,    0,    0,    0,    0,    0,    0,    0,\n",
       "            0,    0,    0,    0,    0,    0,    0,    0,    0,    0,    0,    0,\n",
       "            0,    0,    0,    0,    0,    0,    0,    0,    0,    0,    0,    0,\n",
       "            0,    0,    0,    0,    0,    0,    0,    0,    0,    0,    0,    0,\n",
       "            0,    0,    0,    0,    0,    0,    0,    0,    0,    0,    0,    0,\n",
       "            0,    0,    0,    0,    0,    0,    0,    0])}"
      ]
     },
     "execution_count": 453,
     "metadata": {},
     "output_type": "execute_result"
    }
   ],
   "source": [
    "test = train_dataset[0]\n",
    "test"
   ]
  },
  {
   "cell_type": "code",
   "execution_count": 454,
   "id": "988782b6-ec9d-4a1d-a409-5464695ac495",
   "metadata": {
    "execution": {
     "iopub.execute_input": "2024-12-12T12:09:35.654087Z",
     "iopub.status.busy": "2024-12-12T12:09:35.654087Z",
     "iopub.status.idle": "2024-12-12T12:09:35.658875Z",
     "shell.execute_reply": "2024-12-12T12:09:35.658875Z",
     "shell.execute_reply.started": "2024-12-12T12:09:35.654087Z"
    }
   },
   "outputs": [],
   "source": [
    "setattr(CombineBertModel, \"beam_search_generate\", beam_search_generate)"
   ]
  },
  {
   "cell_type": "code",
   "execution_count": 455,
   "id": "ac55ab88-f5b2-450c-aac3-0a3ee73c3e47",
   "metadata": {
    "execution": {
     "iopub.execute_input": "2024-12-12T12:09:36.653783Z",
     "iopub.status.busy": "2024-12-12T12:09:36.653783Z",
     "iopub.status.idle": "2024-12-12T12:09:37.880031Z",
     "shell.execute_reply": "2024-12-12T12:09:37.880031Z",
     "shell.execute_reply.started": "2024-12-12T12:09:36.653783Z"
    }
   },
   "outputs": [],
   "source": [
    "# tokenizer = BertTokenizer.from_pretrained(checkpoint)\n",
    "encoder_model = BertModel.from_pretrained(checkpoint)\n",
    "\n",
    "# The Hyperparameters can be defined in config.py\n",
    "hidden_size = 1024\n",
    "num_layers = 2\n",
    "\n",
    "decoder_model = DecoderBaseRNN(\n",
    "    model=nn.LSTM,\n",
    "    input_size=encoder_model.config.hidden_size,\n",
    "    hidden_size=hidden_size,\n",
    "    num_layers=num_layers,\n",
    ")\n",
    "\n",
    "model = CombineBertModel(encoder_model=encoder_model, decoder_model=decoder_model).to(\n",
    "    device\n",
    ")"
   ]
  },
  {
   "cell_type": "code",
   "execution_count": 456,
   "id": "0612e097-143d-4141-a173-bd988b3df64d",
   "metadata": {
    "execution": {
     "iopub.execute_input": "2024-12-12T12:09:42.554011Z",
     "iopub.status.busy": "2024-12-12T12:09:42.552960Z",
     "iopub.status.idle": "2024-12-12T12:12:02.488315Z",
     "shell.execute_reply": "2024-12-12T12:12:02.487533Z",
     "shell.execute_reply.started": "2024-12-12T12:09:42.554011Z"
    }
   },
   "outputs": [
    {
     "name": "stdout",
     "output_type": "stream",
     "text": [
      "[2.075861692428589, [101, 13327]]\n",
      "[2.075861692428589, [101, 13327]]\n",
      "[2.123257875442505, [101, 14251]]\n",
      "[4.222711801528931, [101, 13327, 13327]]\n",
      "[4.222711801528931, [101, 13327, 13327]]\n",
      "[4.226269721984863, [101, 13327, 4296]]\n",
      "[4.226269721984863, [101, 13327, 4296]]\n",
      "[4.2656073570251465, [101, 14251, 13327]]\n",
      "[4.2656073570251465, [101, 14251, 13327]]\n",
      "[4.273269176483154, [101, 14251, 4296]]\n",
      "[6.352656841278076, [101, 14251, 13327, 13327]]\n",
      "[6.352656841278076, [101, 14251, 13327, 13327]]\n",
      "[6.3621132373809814, [101, 14251, 13327, 15957]]\n",
      "[6.35575795173645, [101, 14251, 4296, 13327]]\n",
      "[6.3621132373809814, [101, 14251, 13327, 15957]]\n",
      "[6.3621132373809814, [101, 14251, 13327, 15957]]\n",
      "[6.378638505935669, [101, 14251, 4296, 15957]]\n",
      "[8.440070867538452, [101, 14251, 13327, 15957, 13327]]\n",
      "[8.440070867538452, [101, 14251, 13327, 15957, 13327]]\n",
      "[8.444730043411255, [101, 14251, 13327, 15957, 15957]]\n",
      "[8.444730043411255, [101, 14251, 13327, 15957, 15957]]\n",
      "[8.459105968475342, [101, 14251, 4296, 15957, 15957]]\n",
      "[8.459105968475342, [101, 14251, 4296, 15957, 15957]]\n",
      "[8.471481800079346, [101, 14251, 4296, 15957, 13327]]\n",
      "[10.56578016281128, [101, 14251, 4296, 15957, 15957, 15957]]\n",
      "[10.56578016281128, [101, 14251, 4296, 15957, 15957, 15957]]\n",
      "[10.61375117301941, [101, 14251, 4296, 15957, 15957, 13327]]\n",
      "[10.575473546981812, [101, 14251, 4296, 15957, 13327, 15957]]\n",
      "[10.61375117301941, [101, 14251, 4296, 15957, 15957, 13327]]\n",
      "[10.61375117301941, [101, 14251, 4296, 15957, 15957, 13327]]\n",
      "[10.626131057739258, [101, 14251, 4296, 15957, 13327, 14251]]\n",
      "[12.713067531585693, [101, 14251, 4296, 15957, 15957, 13327, 15957]]\n",
      "[12.713067531585693, [101, 14251, 4296, 15957, 15957, 13327, 15957]]\n",
      "[12.728334426879883, [101, 14251, 4296, 15957, 15957, 13327, 14251]]\n",
      "[12.726635456085205, [101, 14251, 4296, 15957, 13327, 14251, 15957]]\n",
      "[12.728334426879883, [101, 14251, 4296, 15957, 15957, 13327, 14251]]\n",
      "[12.728334426879883, [101, 14251, 4296, 15957, 15957, 13327, 14251]]\n",
      "[12.74163556098938, [101, 14251, 4296, 15957, 13327, 14251, 14251]]\n",
      "[14.840784788131714, [101, 14251, 4296, 15957, 15957, 13327, 14251, 15957]]\n",
      "[14.840784788131714, [101, 14251, 4296, 15957, 15957, 13327, 14251, 15957]]\n",
      "[14.844903230667114, [101, 14251, 4296, 15957, 15957, 13327, 14251, 14251]]\n",
      "[14.844903230667114, [101, 14251, 4296, 15957, 15957, 13327, 14251, 14251]]\n",
      "[14.854474544525146, [101, 14251, 4296, 15957, 13327, 14251, 14251, 15957]]\n",
      "[14.854474544525146, [101, 14251, 4296, 15957, 13327, 14251, 14251, 15957]]\n",
      "[14.855825662612915, [101, 14251, 4296, 15957, 13327, 14251, 14251, 14251]]\n",
      "[16.99053645133972, [101, 14251, 4296, 15957, 13327, 14251, 14251, 15957, 15957]]\n",
      "[16.99053645133972, [101, 14251, 4296, 15957, 13327, 14251, 14251, 15957, 15957]]\n",
      "[16.997595071792603, [101, 14251, 4296, 15957, 13327, 14251, 14251, 15957, 14251]]\n",
      "[16.99206233024597, [101, 14251, 4296, 15957, 13327, 14251, 14251, 14251, 15957]]\n",
      "[16.997595071792603, [101, 14251, 4296, 15957, 13327, 14251, 14251, 15957, 14251]]\n",
      "[16.997595071792603, [101, 14251, 4296, 15957, 13327, 14251, 14251, 15957, 14251]]\n",
      "[17.001352071762085, [101, 14251, 4296, 15957, 13327, 14251, 14251, 14251, 14251]]\n",
      "[19.140586853027344, [101, 14251, 4296, 15957, 13327, 14251, 14251, 15957, 14251, 5645]]\n",
      "[19.140586853027344, [101, 14251, 4296, 15957, 13327, 14251, 14251, 15957, 14251, 5645]]\n",
      "[19.150245189666748, [101, 14251, 4296, 15957, 13327, 14251, 14251, 15957, 14251, 13327]]\n",
      "[19.14717411994934, [101, 14251, 4296, 15957, 13327, 14251, 14251, 14251, 14251, 5645]]\n",
      "[19.150245189666748, [101, 14251, 4296, 15957, 13327, 14251, 14251, 15957, 14251, 13327]]\n",
      "[19.149851322174072, [101, 14251, 4296, 15957, 13327, 14251, 14251, 14251, 14251, 13327]]\n",
      "[19.150245189666748, [101, 14251, 4296, 15957, 13327, 14251, 14251, 15957, 14251, 13327]]\n",
      "[21.290687084197998, [101, 14251, 4296, 15957, 13327, 14251, 14251, 14251, 14251, 13327, 5645]]\n",
      "[21.290687084197998, [101, 14251, 4296, 15957, 13327, 14251, 14251, 14251, 14251, 13327, 5645]]\n",
      "[21.305665731430054, [101, 14251, 4296, 15957, 13327, 14251, 14251, 14251, 14251, 13327, 3434]]\n",
      "[21.291210412979126, [101, 14251, 4296, 15957, 13327, 14251, 14251, 15957, 14251, 13327, 5645]]\n",
      "[21.305665731430054, [101, 14251, 4296, 15957, 13327, 14251, 14251, 14251, 14251, 13327, 3434]]\n",
      "[21.305665731430054, [101, 14251, 4296, 15957, 13327, 14251, 14251, 14251, 14251, 13327, 3434]]\n",
      "[21.306410312652588, [101, 14251, 4296, 15957, 13327, 14251, 14251, 15957, 14251, 13327, 3434]]\n",
      "[23.443291664123535, [101, 14251, 4296, 15957, 13327, 14251, 14251, 14251, 14251, 13327, 3434, 3434]]\n",
      "[23.443291664123535, [101, 14251, 4296, 15957, 13327, 14251, 14251, 14251, 14251, 13327, 3434, 3434]]\n",
      "[23.44710063934326, [101, 14251, 4296, 15957, 13327, 14251, 14251, 14251, 14251, 13327, 3434, 5645]]\n",
      "[23.44710063934326, [101, 14251, 4296, 15957, 13327, 14251, 14251, 14251, 14251, 13327, 3434, 5645]]\n",
      "[23.451823711395264, [101, 14251, 4296, 15957, 13327, 14251, 14251, 15957, 14251, 13327, 3434, 3434]]\n",
      "[23.451823711395264, [101, 14251, 4296, 15957, 13327, 14251, 14251, 15957, 14251, 13327, 3434, 3434]]\n",
      "[23.45399045944214, [101, 14251, 4296, 15957, 13327, 14251, 14251, 15957, 14251, 13327, 3434, 5645]]\n",
      "[25.551015377044678, [101, 14251, 4296, 15957, 13327, 14251, 14251, 15957, 14251, 13327, 3434, 3434, 3434]]\n",
      "[25.551015377044678, [101, 14251, 4296, 15957, 13327, 14251, 14251, 15957, 14251, 13327, 3434, 3434, 3434]]\n",
      "[25.601117849349976, [101, 14251, 4296, 15957, 13327, 14251, 14251, 15957, 14251, 13327, 3434, 3434, 13327]]\n",
      "[25.578454732894897, [101, 14251, 4296, 15957, 13327, 14251, 14251, 15957, 14251, 13327, 3434, 5645, 9115]]\n",
      "[25.601117849349976, [101, 14251, 4296, 15957, 13327, 14251, 14251, 15957, 14251, 13327, 3434, 3434, 13327]]\n",
      "[25.584372997283936, [101, 14251, 4296, 15957, 13327, 14251, 14251, 15957, 14251, 13327, 3434, 5645, 3434]]\n",
      "[25.601117849349976, [101, 14251, 4296, 15957, 13327, 14251, 14251, 15957, 14251, 13327, 3434, 3434, 13327]]\n"
     ]
    },
    {
     "ename": "KeyboardInterrupt",
     "evalue": "",
     "output_type": "error",
     "traceback": [
      "\u001b[1;31m---------------------------------------------------------------------------\u001b[0m",
      "\u001b[1;31mKeyboardInterrupt\u001b[0m                         Traceback (most recent call last)",
      "Cell \u001b[1;32mIn[456], line 1\u001b[0m\n\u001b[1;32m----> 1\u001b[0m beam \u001b[38;5;241m=\u001b[39m \u001b[43mmodel\u001b[49m\u001b[38;5;241;43m.\u001b[39;49m\u001b[43mbeam_search_generate\u001b[49m\u001b[43m(\u001b[49m\u001b[43mbeam_width\u001b[49m\u001b[38;5;241;43m=\u001b[39;49m\u001b[38;5;241;43m2\u001b[39;49m\u001b[43m,\u001b[49m\u001b[43m \u001b[49m\u001b[43msequence\u001b[49m\u001b[38;5;241;43m=\u001b[39;49m\u001b[43mtest\u001b[49m\u001b[43m)\u001b[49m\n",
      "Cell \u001b[1;32mIn[448], line 88\u001b[0m, in \u001b[0;36mbeam_search_generate\u001b[1;34m(self, beam_width, sequence, length_penalty, bos_token_id, pad_token_id, eos_token_id, batch_first, device)\u001b[0m\n\u001b[0;32m     84\u001b[0m probs, inds \u001b[38;5;241m=\u001b[39m output\u001b[38;5;241m.\u001b[39mtopk(beam_width, dim\u001b[38;5;241m=\u001b[39m\u001b[38;5;241m-\u001b[39m\u001b[38;5;241m1\u001b[39m)\n\u001b[0;32m     85\u001b[0m \u001b[38;5;28;01mfor\u001b[39;00m j, cur_prob \u001b[38;5;129;01min\u001b[39;00m \u001b[38;5;28menumerate\u001b[39m(probs\u001b[38;5;241m.\u001b[39msqueeze()):\n\u001b[0;32m     86\u001b[0m     beamer\u001b[38;5;241m.\u001b[39madd(\n\u001b[0;32m     87\u001b[0m         [\n\u001b[1;32m---> 88\u001b[0m             score \u001b[38;5;241m-\u001b[39m (\u001b[43mtorch\u001b[49m\u001b[38;5;241;43m.\u001b[39;49m\u001b[43mlog\u001b[49m\u001b[43m(\u001b[49m\u001b[43mcur_prob\u001b[49m\u001b[43m)\u001b[49m\u001b[38;5;241;43m.\u001b[39;49m\u001b[43mitem\u001b[49m\u001b[43m(\u001b[49m\u001b[43m)\u001b[49m),\n\u001b[0;32m     89\u001b[0m             path \u001b[38;5;241m+\u001b[39m [inds\u001b[38;5;241m.\u001b[39msqueeze()[j]\u001b[38;5;241m.\u001b[39mitem()],\n\u001b[0;32m     90\u001b[0m         ]\n\u001b[0;32m     91\u001b[0m     )\n\u001b[0;32m     92\u001b[0m     \u001b[38;5;28;01mfor\u001b[39;00m bm \u001b[38;5;129;01min\u001b[39;00m beamer:\n\u001b[0;32m     93\u001b[0m         \u001b[38;5;28mprint\u001b[39m(bm)\n",
      "\u001b[1;31mKeyboardInterrupt\u001b[0m: "
     ]
    }
   ],
   "source": [
    "beam = model.beam_search_generate(beam_width=2, sequence=test)"
   ]
  },
  {
   "cell_type": "code",
   "execution_count": null,
   "id": "4eeb2fff-786f-4ae7-8681-8682c81962cb",
   "metadata": {},
   "outputs": [],
   "source": []
  }
 ],
 "metadata": {
  "kernelspec": {
   "display_name": "csc_env",
   "language": "python",
   "name": "csc_env"
  },
  "language_info": {
   "codemirror_mode": {
    "name": "ipython",
    "version": 3
   },
   "file_extension": ".py",
   "mimetype": "text/x-python",
   "name": "python",
   "nbconvert_exporter": "python",
   "pygments_lexer": "ipython3",
   "version": "3.11.10"
  }
 },
 "nbformat": 4,
 "nbformat_minor": 5
}
