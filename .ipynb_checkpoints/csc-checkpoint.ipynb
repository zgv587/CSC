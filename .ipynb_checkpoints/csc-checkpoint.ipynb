{
 "cells": [
  {
   "cell_type": "code",
   "execution_count": 1,
   "id": "8e8c124b-7475-423b-9583-6bcd440669f7",
   "metadata": {
    "execution": {
     "iopub.execute_input": "2024-12-11T12:27:33.556916Z",
     "iopub.status.busy": "2024-12-11T12:27:33.556916Z",
     "iopub.status.idle": "2024-12-11T12:28:09.880273Z",
     "shell.execute_reply": "2024-12-11T12:28:09.880273Z",
     "shell.execute_reply.started": "2024-12-11T12:27:33.556916Z"
    }
   },
   "outputs": [],
   "source": [
    "import torch\n",
    "import torch.nn as nn\n",
    "import torch.nn.functional as F\n",
    "from torch.optim import AdamW\n",
    "from torch.utils.data import DataLoader, random_split\n",
    "from tqdm import tqdm\n",
    "from transformers import BertModel, BertTokenizer\n",
    "\n",
    "# Implemented by myself\n",
    "from config import *\n",
    "from data_processer import CSCDataset, split_torch_dataset\n",
    "from models import CombineBertModel, DecoderBaseRNN, DecoderTransformer, Trainer\n",
    "from utils import cal_err"
   ]
  },
  {
   "cell_type": "code",
   "execution_count": 2,
   "id": "766c6b06-6401-4d10-8939-c34d3c17c0bf",
   "metadata": {
    "execution": {
     "iopub.execute_input": "2024-12-11T12:28:09.881838Z",
     "iopub.status.busy": "2024-12-11T12:28:09.880273Z",
     "iopub.status.idle": "2024-12-11T12:28:11.269086Z",
     "shell.execute_reply": "2024-12-11T12:28:11.269086Z",
     "shell.execute_reply.started": "2024-12-11T12:28:09.881783Z"
    }
   },
   "outputs": [],
   "source": [
    "tokenizer = BertTokenizer.from_pretrained(checkpoint)"
   ]
  },
  {
   "cell_type": "code",
   "execution_count": 3,
   "id": "17f79ff4-0fcd-4c15-a9c1-491657db60ba",
   "metadata": {
    "execution": {
     "iopub.execute_input": "2024-12-11T12:28:11.269086Z",
     "iopub.status.busy": "2024-12-11T12:28:11.269086Z",
     "iopub.status.idle": "2024-12-11T12:28:11.428922Z",
     "shell.execute_reply": "2024-12-11T12:28:11.428922Z",
     "shell.execute_reply.started": "2024-12-11T12:28:11.269086Z"
    }
   },
   "outputs": [
    {
     "name": "stderr",
     "output_type": "stream",
     "text": [
      "preprocessing sighan dataset: 2339it [00:00, 65705.43it/s]\n",
      "preprocessing sighan dataset: 100%|████████████████████████████████████████████| 2339/2339 [00:00<00:00, 137932.89it/s]\n"
     ]
    },
    {
     "name": "stdout",
     "output_type": "stream",
     "text": [
      "共2339句，共73264字，最长的句子有171字\n"
     ]
    },
    {
     "name": "stderr",
     "output_type": "stream",
     "text": [
      "preprocessing sighan dataset: 3437it [00:00, 94304.27it/s]\n",
      "preprocessing sighan dataset: 100%|█████████████████████████████████████████████| 3437/3437 [00:00<00:00, 97672.81it/s]"
     ]
    },
    {
     "name": "stdout",
     "output_type": "stream",
     "text": [
      "共3437句，共170330字，最长的句子有258字\n"
     ]
    },
    {
     "name": "stderr",
     "output_type": "stream",
     "text": [
      "\n"
     ]
    }
   ],
   "source": [
    "train_dataset = CSCDataset([SIGHAN_train_dir_err, SIGHAN_train_dir_corr], tokenizer)\n",
    "\n",
    "test_dataset = CSCDataset([SIGHAN_train_dir_err14, SIGHAN_train_dir_corr14], tokenizer)"
   ]
  },
  {
   "cell_type": "code",
   "execution_count": 4,
   "id": "4eb73ed9-e7df-4670-a21d-4cf7b7934457",
   "metadata": {
    "execution": {
     "iopub.execute_input": "2024-12-11T12:28:11.429928Z",
     "iopub.status.busy": "2024-12-11T12:28:11.429928Z",
     "iopub.status.idle": "2024-12-11T12:28:11.433962Z",
     "shell.execute_reply": "2024-12-11T12:28:11.433962Z",
     "shell.execute_reply.started": "2024-12-11T12:28:11.429928Z"
    }
   },
   "outputs": [],
   "source": [
    "train_data, dev_data = split_torch_dataset(train_dataset, 0.3)\n",
    "\n",
    "train_data_loader = DataLoader(train_data, num_workers=4, shuffle=True, batch_size=16)\n",
    "\n",
    "dev_data_loader = DataLoader(dev_data, num_workers=4, shuffle=True, batch_size=16)\n",
    "\n",
    "test_data_loader = DataLoader(test_dataset, num_workers=4, shuffle=True, batch_size=32)"
   ]
  },
  {
   "cell_type": "code",
   "execution_count": 5,
   "id": "159ef281-516b-4f81-88c8-cc2e6d9d5b24",
   "metadata": {
    "execution": {
     "iopub.execute_input": "2024-12-11T12:28:11.434972Z",
     "iopub.status.busy": "2024-12-11T12:28:11.434972Z",
     "iopub.status.idle": "2024-12-11T12:28:13.396682Z",
     "shell.execute_reply": "2024-12-11T12:28:13.396682Z",
     "shell.execute_reply.started": "2024-12-11T12:28:11.434972Z"
    }
   },
   "outputs": [],
   "source": [
    "epochs = 35\n",
    "\n",
    "# tokenizer = BertTokenizer.from_pretrained(checkpoint)\n",
    "encoder_model = BertModel.from_pretrained(checkpoint)\n",
    "\n",
    "# The Hyperparameters can be defined in config.py\n",
    "hidden_size = 1024\n",
    "num_layers = 2\n",
    "\n",
    "decoder_model = DecoderBaseRNN(\n",
    "    model=nn.LSTM,\n",
    "    input_size=encoder_model.config.hidden_size,\n",
    "    hidden_size=hidden_size,\n",
    "    num_layers=num_layers,\n",
    ")\n",
    "\n",
    "model = CombineBertModel(encoder_model=encoder_model, decoder_model=decoder_model)\n",
    "\n",
    "optimizer = AdamW(model.parameters(), lr=learning_rate)\n",
    "trainer = Trainer(model=model, tokenizer=tokenizer, optimizer=optimizer)"
   ]
  },
  {
   "cell_type": "code",
   "execution_count": null,
   "id": "cba449a3-bc19-48f7-a9ea-3d2e366349f2",
   "metadata": {
    "execution": {
     "execution_failed": "2024-12-11T12:30:36.407Z",
     "iopub.execute_input": "2024-12-11T12:28:13.396682Z",
     "iopub.status.busy": "2024-12-11T12:28:13.396682Z"
    }
   },
   "outputs": [
    {
     "name": "stderr",
     "output_type": "stream",
     "text": [
      "Epoch:1/1:   3%|█▋                                                         | 3/103 [01:34<52:57, 31.78s/it, loss=9.926]"
     ]
    }
   ],
   "source": [
    "trainer.train(dataloader=train_data_loader, epoch=1, test_dataloader=dev_data_loader)\n",
    "trainer.test(test_data_loader)"
   ]
  },
  {
   "cell_type": "code",
   "execution_count": null,
   "id": "3c47a1a3-a8e3-40ee-b441-f31d4020c601",
   "metadata": {},
   "outputs": [],
   "source": []
  }
 ],
 "metadata": {
  "kernelspec": {
   "display_name": "csc_env",
   "language": "python",
   "name": "csc_env"
  },
  "language_info": {
   "codemirror_mode": {
    "name": "ipython",
    "version": 3
   },
   "file_extension": ".py",
   "mimetype": "text/x-python",
   "name": "python",
   "nbconvert_exporter": "python",
   "pygments_lexer": "ipython3",
   "version": "3.11.10"
  }
 },
 "nbformat": 4,
 "nbformat_minor": 5
}
