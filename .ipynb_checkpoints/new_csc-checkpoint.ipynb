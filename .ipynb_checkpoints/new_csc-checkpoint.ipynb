{
 "cells": [
  {
   "cell_type": "code",
   "execution_count": 1,
   "id": "6508b6d6-a22b-4dba-ba9b-805cfa20a99a",
   "metadata": {},
   "outputs": [
    {
     "name": "stderr",
     "output_type": "stream",
     "text": [
      "/root/anaconda3/envs/simple_csc/lib/python3.10/site-packages/tqdm/auto.py:21: TqdmWarning: IProgress not found. Please update jupyter and ipywidgets. See https://ipywidgets.readthedocs.io/en/stable/user_install.html\n",
      "  from .autonotebook import tqdm as notebook_tqdm\n"
     ]
    }
   ],
   "source": [
    "import torch\n",
    "import torch.nn as nn\n",
    "import torch.nn.functional as F\n",
    "from torch.optim import AdamW\n",
    "from torch.utils.data import DataLoader, random_split\n",
    "from tqdm import tqdm\n",
    "from transformers import BertModel, BertTokenizer\n",
    "\n",
    "# Implemented by myself\n",
    "from config import *\n",
    "from data_processer import CSCDataset, split_torch_dataset\n",
    "from models import CombineBertModel, DecoderBaseRNN, DecoderTransformer"
   ]
  },
  {
   "cell_type": "code",
   "execution_count": 2,
   "id": "74c9c49d-ca57-4b70-8333-624dcc395a9e",
   "metadata": {},
   "outputs": [],
   "source": [
    "from utils import cal_err\n",
    "\n",
    "# def cal_err(raw_sentence, pred_sentence, corr_sentence, limit_length=300):\n",
    "#     matrices = [\"over_corr\", \"total_err\", \"true_corr\"]\n",
    "#     char_level = {key: 0 for key in matrices}\n",
    "#     sent_level = {key: 0 for key in matrices}\n",
    "\n",
    "#     f1 = f2 = 0\n",
    "#     for i, c in enumerate(raw_sentence):\n",
    "#         if i >= limit_length:\n",
    "#             break\n",
    "\n",
    "#         pc, cc = pred_sentence[i], corr_sentence[i]\n",
    "\n",
    "#         if cc != c:\n",
    "#             char_level[\"total_err\"] += 1\n",
    "#             char_level[\"true_corr\"] += pc == cc\n",
    "#             f1 = 1\n",
    "#         elif pc != cc:\n",
    "#             char_level[\"over_corr\"] += 1\n",
    "#             f2 = 1\n",
    "\n",
    "#     if f1:\n",
    "#         sent_level[\"true_corr\"] += all(pred_sentence == corr_sentence)\n",
    "#         sent_level[\"total_err\"] += f1\n",
    "#     sent_level[\"over_corr\"] += f2\n",
    "\n",
    "#     return char_level, sent_level"
   ]
  },
  {
   "cell_type": "code",
   "execution_count": 3,
   "id": "56d944d7-b98f-4818-bfc8-44182a89a6ab",
   "metadata": {},
   "outputs": [],
   "source": [
    "tokenizer = BertTokenizer.from_pretrained(checkpoint)"
   ]
  },
  {
   "cell_type": "code",
   "execution_count": 4,
   "id": "cd577757-ae40-4a92-aa86-094917819122",
   "metadata": {},
   "outputs": [],
   "source": [
    "# def split_torch_dataset(dataset, test_size=0.2, random_seed=None):\n",
    "#     \"\"\"\n",
    "#     将PyTorch Dataset对象划分为训练集和测试集。\n",
    "\n",
    "#     参数:\n",
    "#         dataset (Dataset): PyTorch的Dataset对象。\n",
    "#         test_size (float or int): 如果是浮点数，表示测试集相对于整个数据集的比例；如果是整数，表示测试集的样本数量。默认值为0.2。\n",
    "#         random_seed (int or None): 随机种子，用于控制随机性以确保结果可复现。默认值为None。\n",
    "\n",
    "#     返回:\n",
    "#         tuple: 一个包含两个Dataset对象的元组 (train_dataset, test_dataset)。\n",
    "#     \"\"\"\n",
    "#     # 计算训练集和测试集的大小\n",
    "#     total_length = len(dataset)\n",
    "#     if isinstance(test_size, float):\n",
    "#         test_length = int(total_length * test_size)\n",
    "#     else:\n",
    "#         test_length = test_size\n",
    "#     train_length = total_length - test_length\n",
    "\n",
    "#     # 设置随机种子\n",
    "#     generator = (\n",
    "#         torch.Generator().manual_seed(random_seed) if random_seed is not None else None\n",
    "#     )\n",
    "\n",
    "#     # 分割数据集\n",
    "#     train_dataset, test_dataset = random_split(\n",
    "#         dataset, [train_length, test_length], generator=generator\n",
    "#     )\n",
    "\n",
    "#     return train_dataset, test_dataset"
   ]
  },
  {
   "cell_type": "code",
   "execution_count": 5,
   "id": "c75e7320-399a-433c-9a54-fc87a9fe59b9",
   "metadata": {},
   "outputs": [
    {
     "name": "stderr",
     "output_type": "stream",
     "text": [
      "preprocessing sighan dataset: 2339it [00:00, 463479.81it/s]\n",
      "preprocessing sighan dataset: 100%|██████████| 2339/2339 [00:00<00:00, 812529.16it/s]\n"
     ]
    },
    {
     "name": "stdout",
     "output_type": "stream",
     "text": [
      "共2339句，共73264字，最长的句子有171字\n"
     ]
    },
    {
     "name": "stderr",
     "output_type": "stream",
     "text": [
      "preprocessing sighan dataset: 3437it [00:00, 545847.14it/s]\n",
      "preprocessing sighan dataset: 100%|██████████| 3437/3437 [00:00<00:00, 825601.22it/s]"
     ]
    },
    {
     "name": "stdout",
     "output_type": "stream",
     "text": [
      "共3437句，共170330字，最长的句子有258字\n"
     ]
    },
    {
     "name": "stderr",
     "output_type": "stream",
     "text": [
      "\n"
     ]
    }
   ],
   "source": [
    "train_dataset = CSCDataset([SIGHAN_train_dir_err, SIGHAN_train_dir_corr], tokenizer)\n",
    "\n",
    "test_dataset = CSCDataset([SIGHAN_train_dir_err14, SIGHAN_train_dir_corr14], tokenizer)"
   ]
  },
  {
   "cell_type": "code",
   "execution_count": 6,
   "id": "35bd23f9-fe34-4d20-aabd-608407c46c1c",
   "metadata": {},
   "outputs": [],
   "source": [
    "train_data, dev_data = split_torch_dataset(train_dataset, 0.3)\n",
    "\n",
    "train_data_loader = DataLoader(train_data, num_workers=4, shuffle=True, batch_size=16)\n",
    "\n",
    "dev_data_loader = DataLoader(dev_data, num_workers=4, shuffle=True, batch_size=16)\n",
    "\n",
    "test_data_loader = DataLoader(test_dataset, num_workers=4, shuffle=True, batch_size=32)"
   ]
  },
  {
   "cell_type": "code",
   "execution_count": 7,
   "id": "0f7ea434-79e9-4310-b572-8c5367b84212",
   "metadata": {},
   "outputs": [],
   "source": [
    "def train(model, tokenizer, train_data_loader, test_data_loader=None):\n",
    "    optimizer = AdamW(model.parameters(), lr=learning_rate)\n",
    "    device = torch.device(\"cuda\") if torch.cuda.is_available() else torch.device(\"cpu\")\n",
    "    model.to(device)\n",
    "\n",
    "    for epoch in range(epochs):\n",
    "        model.train()\n",
    "        total_loss = 0\n",
    "        progress_bar = tqdm(\n",
    "            enumerate(train_data_loader),\n",
    "            desc=f\"Epoch:{epoch+1}/{epochs}\",\n",
    "            total=len(train_data_loader),\n",
    "        )\n",
    "\n",
    "        for i, batch in progress_bar:\n",
    "            optimizer.zero_grad()\n",
    "\n",
    "            input_ids = batch[\"input_ids\"].to(device)\n",
    "            attention_mask = batch[\"attention_mask\"].to(device).type(torch.float)\n",
    "            labels = batch[\"labels\"].to(device)\n",
    "\n",
    "            outputs = model(input_ids, src_mask=attention_mask)\n",
    "            logits = outputs.permute(0, 2, 1)  # (batch_size, vocab_size, seq_len)\n",
    "\n",
    "            # 反向传播在这，故labels不需要传入模型\n",
    "            loss = F.cross_entropy(logits, labels, ignore_index=tokenizer.pad_token_id)\n",
    "            total_loss += loss.item()\n",
    "            loss.backward()\n",
    "            optimizer.step()\n",
    "\n",
    "            progress_bar.set_postfix({\"loss\": \"{:.3f}\".format(loss.item())})\n",
    "\n",
    "        # if epoch % 5 == 0:\n",
    "        with torch.no_grad():\n",
    "            t = torch.argmax(outputs, dim=-1)\n",
    "            nt = t * attention_mask\n",
    "            pred = tokenizer.batch_decode(nt, skip_special_tokens=True)\n",
    "        # print(pred)\n",
    "        # print(f\"origin{tokenizer.batch_decode(labels, skip_special_tokens=True)}\")\n",
    "\n",
    "        for i, v in enumerate(nt):\n",
    "            r, l = input_ids[i], labels[i]\n",
    "            limit_length = sum(attention_mask[i].to(\"cpu\"))\n",
    "            print(tokenizer.decode(r, skip_special_tokens=True))\n",
    "            print(tokenizer.decode(v, skip_special_tokens=True))\n",
    "            print(tokenizer.decode(l, skip_special_tokens=True))\n",
    "            print(cal_err(r, v, l, limit_length))\n",
    "            # print(cal_err(r, v, l))\n",
    "\n",
    "        print(f\"Epoch {epoch+1} Loss: {total_loss / len(train_data_loader)}\")\n",
    "\n",
    "        # dev\n",
    "        if test_data_loader:\n",
    "            test(model, tokenizer, test_data_loader)\n",
    "\n",
    "        # 释放不必要的内存\n",
    "        # del input_ids, attention_mask, labels, outputs, loss\n",
    "        # torch.cuda.empty_cache()\n",
    "        # gc.collect()"
   ]
  },
  {
   "cell_type": "code",
   "execution_count": 8,
   "id": "1008e61e-5560-4614-a9ae-78a4ed7391e9",
   "metadata": {},
   "outputs": [],
   "source": [
    "def test(model, tokenizer, test_data_loader):\n",
    "    model.eval()\n",
    "    total_loss = 0\n",
    "    matrices = [\"over_corr\", \"total_err\", \"true_corr\"]\n",
    "    test_char_level = {key: 0 for key in matrices}\n",
    "    test_sent_level = {key: 0 for key in matrices}\n",
    "    device = torch.device(\"cuda\" if torch.cuda.is_available() else \"cpu\")\n",
    "\n",
    "    with torch.no_grad():\n",
    "        for batch in test_data_loader:\n",
    "            input_ids = batch[\"input_ids\"].to(device)\n",
    "            attention_mask = batch[\"attention_mask\"].to(device).type(torch.float)\n",
    "            labels = batch[\"labels\"].to(device)\n",
    "\n",
    "            outputs = model(input_ids, src_mask=attention_mask)\n",
    "            logits = outputs.permute(0, 2, 1)\n",
    "\n",
    "            loss = F.cross_entropy(logits, labels, ignore_index=tokenizer.pad_token_id)\n",
    "            total_loss += loss.item()\n",
    "\n",
    "            t = torch.argmax(outputs, dim=-1)\n",
    "            nt = t * attention_mask\n",
    "            pred = tokenizer.batch_decode(nt, skip_special_tokens=True)\n",
    "\n",
    "            for i in range(len(t)):\n",
    "                char_level, sent_level = cal_err(\n",
    "                    input_ids[i], nt[i], labels[i], sum(attention_mask[i].to(\"cpu\"))\n",
    "                )\n",
    "                test_char_level = {\n",
    "                    key: test_char_level[key] + v for key, v in char_level.items()\n",
    "                }\n",
    "                test_sent_level = {\n",
    "                    key: test_sent_level[key] + v for key, v in sent_level.items()\n",
    "                }\n",
    "        print(total_loss / len(test_data_loader), test_char_level, test_sent_level)"
   ]
  },
  {
   "cell_type": "markdown",
   "id": "f9b9c6a5-6c36-4ecb-8413-d6ca9ffec218",
   "metadata": {},
   "source": [
    "#### BERT + LSTM\n",
    "**长度不一致问题**：预测的时候有些字符预测为了 **[SEP]**"
   ]
  },
  {
   "cell_type": "code",
   "execution_count": 9,
   "id": "c2c6352d-f799-4aad-89ac-614b579f3190",
   "metadata": {
    "collapsed": true,
    "jupyter": {
     "outputs_hidden": true
    },
    "scrolled": true
   },
   "outputs": [
    {
     "name": "stderr",
     "output_type": "stream",
     "text": [
      "Epoch:1/35: 100%|██████████| 103/103 [00:28<00:00,  3.61it/s, loss=5.904]\n"
     ]
    },
    {
     "name": "stdout",
     "output_type": "stream",
     "text": [
      "我 覺 得 安 裝 攝 影 機 會 影 響 到 孩 子 的 成 長 ， 並 對 家 長 的 撫 育 觀 念 不 利 。 最 後 ， 攝 影 機 可 能 因 起 隱 私 權 的 法 律 問 題 。\n",
      "我 的 的 的 的 的 ， ， ， ， ， ， ， ， 的 的 的 的 的 的 的 的 的 的 的 的 的 的 的 的 的 的 的 的 的 的 的 的 的 的 的 的 的 的 的 的 的 的 的\n",
      "我 覺 得 安 裝 攝 影 機 會 影 響 到 孩 子 的 成 長 ， 並 對 家 長 的 撫 育 觀 念 不 利 。 最 後 ， 攝 影 機 可 能 引 起 隱 私 權 的 法 律 問 題 。\n",
      "({'over_corr': 47, 'total_err': 1, 'true_corr': tensor(0, device='cuda:0')}, {'over_corr': 1, 'total_err': 1, 'true_corr': 0})\n",
      "學 校 把 學 生 交 給 老 師 教 ， 小 長 應 該 信 任 老 師 。\n",
      "我 的 的 的 的 的 ， ， ， ， ， ， ， ， 的 的 的 的 的 的\n",
      "學 校 把 學 生 交 給 老 師 教 ， 校 長 應 該 信 任 老 師 。\n",
      "({'over_corr': 19, 'total_err': 1, 'true_corr': tensor(0, device='cuda:0')}, {'over_corr': 1, 'total_err': 1, 'true_corr': 0})\n",
      "今 天 給 您 寫 了 一 封 信 ， 希 望 您 趕 快 找 處 理 讓 我 們 可 以 睡 個 飽 覺 。\n",
      "我 的 的 的 的 的 ， ， ， ， ， ， ， ， ， 的 的 的 的 的 的 的 的 的 的 的 的 的\n",
      "今 天 給 您 寫 了 一 封 信 ， 希 望 您 趕 快 早 處 理 讓 我 們 可 以 睡 個 飽 覺 。\n",
      "({'over_corr': 27, 'total_err': 1, 'true_corr': tensor(0, device='cuda:0')}, {'over_corr': 1, 'total_err': 1, 'true_corr': 0})\n",
      "簡 單 的 說 ， 你 要 運 用 的 個 時 間 來 投 資 你 自 己 ， 努 力 的 做 你 喜 歡 做 的 事 ， 以 後 一 定 會 成 功 ！\n",
      "我 的 的 的 的 的 ， ， ， ， ， ， ， ， ， 的 的 的 的 的 的 的 的 的 的 的 的 的 的 的 的 的 的 的 的 的 的 的 的\n",
      "簡 單 地 說 ， 你 要 運 用 這 個 時 間 來 投 資 你 自 己 ， 努 力 地 做 你 喜 歡 做 的 事 ， 以 後 一 定 會 成 功 ！\n",
      "({'over_corr': 36, 'total_err': 3, 'true_corr': tensor(0, device='cuda:0')}, {'over_corr': 1, 'total_err': 1, 'true_corr': 0})\n",
      "李 大 明 去 冰 箱 拿 一 些 點 心 拿 一 些 甜 點 跟 兩 配 啤 酒 。\n",
      "我 的 的 的 的 的 ， ， ， ， ， ， ， ， 的 的 的 的 的 的 的 的\n",
      "李 大 明 去 冰 箱 拿 一 些 點 心 拿 一 些 甜 點 跟 兩 瓶 啤 酒 。\n",
      "({'over_corr': 22, 'total_err': 1, 'true_corr': tensor(0, device='cuda:0')}, {'over_corr': 1, 'total_err': 1, 'true_corr': 0})\n",
      "他 還 說 我 還 年 經 ， 還 沒 吃 過 很 多 苦 ， 所 以 一 碰 到 困 難 的 事 情 就 想 放 棄 ， 就 難 過 。 我 有 現 在 都 是 由 爸 爸 的 鼓 勵 。\n",
      "我 的 的 的 的 的 ， ， ， ， ， ， ， ， 的 的 的 的 的 的 的 的 的 的 的 的 的 的 的 的 的 的 的 的 的 的 的 的 的 的 的 的 的 的 的 的 的 的\n",
      "他 還 說 我 還 年 經 ， 還 沒 吃 過 很 多 苦 ， 所 以 一 碰 到 困 難 的 事 情 就 想 放 棄 ， 就 難 過 。 我 有 現 在 都 是 有 爸 爸 的 鼓 勵 。\n",
      "({'over_corr': 45, 'total_err': 1, 'true_corr': tensor(0, device='cuda:0')}, {'over_corr': 1, 'total_err': 1, 'true_corr': 0})\n",
      "Epoch 1 Loss: 7.09805012675165\n",
      "5.775426106019453 {'over_corr': 20507, 'total_err': 938, 'true_corr': tensor(5, device='cuda:0')} {'over_corr': 701, 'total_err': 701, 'true_corr': 0}\n"
     ]
    },
    {
     "name": "stderr",
     "output_type": "stream",
     "text": [
      "Epoch:2/35: 100%|██████████| 103/103 [00:28<00:00,  3.68it/s, loss=6.046]\n"
     ]
    },
    {
     "name": "stdout",
     "output_type": "stream",
     "text": [
      "去 年 ， 美 國 華 人 友 請 我 們 來 桃 園 看 叔 叔 家 。\n",
      "我 我 ， ， ， ， ， ， ， ， ， ， ， ， ， ， ， ， ，\n",
      "去 年 ， 美 國 華 人 有 請 我 們 來 桃 園 看 叔 叔 家 。\n",
      "({'over_corr': 19, 'total_err': 1, 'true_corr': tensor(0, device='cuda:0')}, {'over_corr': 1, 'total_err': 1, 'true_corr': 0})\n",
      "簡 單 來 講 ， 先 馬 鈴 薯 ， 洋 蔥 ， 紅 蘿 蔔 炒 以 炒 ， 加 湯 汁 ， 牛 肉 ， 小 匙 糖 ， 醬 油 ， 甜 料 酒 ， 煮 到 馬 鈴 薯 軟 就 可 以 。\n",
      "我 我 ， ， ， ， ， ， ， ， ， ， ， ， ， ， ， ， ， ， ， ， ， ， ， ， ， ， ， ， ， ， ， ， ， ， ， ， ， ， ， ， ， ， ， ， ， ，\n",
      "簡 單 來 講 ， 先 馬 鈴 薯 ， 洋 蔥 ， 紅 蘿 蔔 炒 一 炒 ， 加 湯 汁 ， 牛 肉 ， 小 匙 糖 ， 醬 油 ， 甜 料 酒 ， 煮 到 馬 鈴 薯 軟 就 可 以 。\n",
      "({'over_corr': 39, 'total_err': 1, 'true_corr': tensor(0, device='cuda:0')}, {'over_corr': 1, 'total_err': 1, 'true_corr': 0})\n",
      "春 天 的 時 候 開 花 ， 什 麼 地 方 都 錄 了 。\n",
      "我 我 ， ， ， ， ， ， ， ， ， ， ， ， ， ，\n",
      "春 天 的 時 候 開 花 ， 什 麼 地 方 都 綠 了 。\n",
      "({'over_corr': 15, 'total_err': 1, 'true_corr': tensor(0, device='cuda:0')}, {'over_corr': 1, 'total_err': 1, 'true_corr': 0})\n",
      "開 車 的 人 聽 了 他 的 華 馬 上 說 ： 「 我 可 以 用 我 的 車 陪 你 去 ， 好 不 好 ？ 」\n",
      "我 我 ， ， ， ， ， ， ， ， ， ， ， ， ， ， ， ， ， ， ， ， ， ， ， ， ， ， ， ，\n",
      "開 車 的 人 聽 了 他 的 話 馬 上 說 ： 「 我 可 以 用 我 的 車 陪 你 去 ， 好 不 好 ？ 」\n",
      "({'over_corr': 29, 'total_err': 1, 'true_corr': tensor(0, device='cuda:0')}, {'over_corr': 1, 'total_err': 1, 'true_corr': 0})\n",
      "我 覺 得 你 因 該 利 用 這 個 機 會 更 充 實 自 己 的 生 活 。\n",
      "我 我 ， ， ， ， ， ， ， ， ， ， ， ， ， ， ， ， ， ， ，\n",
      "我 覺 得 你 應 該 利 用 這 個 機 會 更 充 實 自 己 的 生 活 。\n",
      "({'over_corr': 21, 'total_err': 1, 'true_corr': tensor(0, device='cuda:0')}, {'over_corr': 1, 'total_err': 1, 'true_corr': 0})\n",
      "當 下 的 我 ， 當 然 非 常 的 生 氣 ， 而 且 感 到 十 分 的 委 曲 。\n",
      "我 我 ， ， ， ， ， ， ， ， ， ， ， ， ， ， ， ， ， ， ， ， ，\n",
      "當 下 的 我 ， 當 然 非 常 的 生 氣 ， 而 且 感 到 十 分 的 委 屈 。\n",
      "({'over_corr': 21, 'total_err': 1, 'true_corr': tensor(0, device='cuda:0')}, {'over_corr': 1, 'total_err': 1, 'true_corr': 0})\n",
      "Epoch 2 Loss: 5.680766003803142\n",
      "5.644197529012507 {'over_corr': 20523, 'total_err': 938, 'true_corr': tensor(0, device='cuda:0')} {'over_corr': 701, 'total_err': 701, 'true_corr': 0}\n"
     ]
    },
    {
     "name": "stderr",
     "output_type": "stream",
     "text": [
      "Epoch:3/35: 100%|██████████| 103/103 [00:28<00:00,  3.65it/s, loss=5.804]\n"
     ]
    },
    {
     "name": "stdout",
     "output_type": "stream",
     "text": [
      "但 是 這 個 事 也 完 全 不 是 不 好 ， 現 在 學 生 在 學 校 常 吵 架 、 大 家 。\n",
      "我 我 我 ， ， ， ， ， ， ， ， ， ， ， ， ， ， ， ， ， 的 的 的 的 的 的 的 的\n",
      "但 是 這 個 事 也 完 全 不 是 不 好 ， 現 在 學 生 在 學 校 常 吵 架 、 打 架 。\n",
      "({'over_corr': 25, 'total_err': 2, 'true_corr': tensor(0, device='cuda:0')}, {'over_corr': 1, 'total_err': 1, 'true_corr': 0})\n",
      "總 得 來 說 ， 正 規 教 育 和 游 戲 探 索 世 界 是 缺 一 不 可 的 。 家 長 應 該 讓 孩 子 自 由 的 摸 索 這 個 世 界 並 适 時 的 給 予 指 導 和 協 助 。\n",
      "我 我 我 ， ， ， ， ， ， ， ， ， ， ， ， ， ， ， ， ， 的 的 的 的 的 的 的 的 的 的 的 的 的 的 的 的 的 的 的 的 的 的 的 的 的 的 的 的 的 的 的 的\n",
      "總 得 來 說 ， 正 規 教 育 和 游 戲 探 索 世 界 是 缺 一 不 可 的 。 家 長 應 該 讓 孩 子 自 由 的 摸 索 這 個 世 界 並 適 時 的 給 予 指 導 和 協 助 。\n",
      "({'over_corr': 47, 'total_err': 1, 'true_corr': tensor(0, device='cuda:0')}, {'over_corr': 1, 'total_err': 1, 'true_corr': 0})\n",
      "因 為 不 見 得 聰 名 校 出 來 都 能 幹 ， 都 會 做 事 的 人 。\n",
      "我 我 我 ， ， ， ， ， ， ， ， ， ， ， ， ， ， ， ， ， 的 的\n",
      "因 為 不 見 得 從 名 校 出 來 都 能 幹 ， 都 會 做 事 的 人 。\n",
      "({'over_corr': 20, 'total_err': 1, 'true_corr': tensor(0, device='cuda:0')}, {'over_corr': 1, 'total_err': 1, 'true_corr': 0})\n",
      "可 是 對 富 翁 們 來 講 沒 有 很 大 的 影 響 ， 影 響 都 在 平 民 跟 老 闆 性 吧 ， 這 樣 使 貧 富 差 距 更 大 。\n",
      "我 我 我 ， ， ， ， ， ， ， ， ， ， ， ， ， ， ， ， ， 的 的 的 的 的 的 的 的 的 的 的 的 的 的 的 的 的 的 的\n",
      "可 是 對 富 翁 們 來 講 沒 有 很 大 的 影 響 ， 影 響 都 在 平 民 跟 老 百 姓 吧 ， 這 樣 使 貧 富 差 距 更 大 。\n",
      "({'over_corr': 36, 'total_err': 2, 'true_corr': tensor(0, device='cuda:0')}, {'over_corr': 1, 'total_err': 1, 'true_corr': 0})\n",
      "我 很 系 望 原 諒 ， 握 祝 你 跟 同 學 出 去 好 好 玩 兒 ， 你 跟 同 學 玩 的 人 快 樂 ， 記 得 要 小 心 。\n",
      "我 我 我 ， ， ， ， ， ， ， ， ， ， ， ， ， ， ， ， ， ， 的 的 的 的 的 的 的 的 的 的 的 的 的 的 的 的\n",
      "我 很 希 望 原 諒 ， 我 祝 你 跟 同 學 出 去 好 好 玩 兒 ， 你 跟 同 學 玩 的 人 快 樂 ， 記 得 要 小 心 。\n",
      "({'over_corr': 31, 'total_err': 2, 'true_corr': tensor(0, device='cuda:0')}, {'over_corr': 1, 'total_err': 1, 'true_corr': 0})\n",
      "但 是 ， 如 果 您 不 解 決 的 話 ， 我 們 為 了 保 護 人 民 的 生 化 品 質 ， 和 周 邊 的 環 境 ， 我 們 一 定 做 到 底 。\n",
      "我 我 我 ， ， ， ， ， ， ， ， ， ， ， ， ， ， ， ， ， ， 的 的 的 的 的 的 的 的 的 的 的 的 的 的 的 的 的 的 的 的 的\n",
      "但 是 ， 如 果 您 不 解 決 的 話 ， 我 們 為 了 保 護 人 民 的 生 活 品 質 ， 和 周 邊 的 環 境 ， 我 們 一 定 做 到 底 。\n",
      "({'over_corr': 39, 'total_err': 1, 'true_corr': tensor(0, device='cuda:0')}, {'over_corr': 1, 'total_err': 1, 'true_corr': 0})\n",
      "Epoch 3 Loss: 5.614742158686073\n",
      "5.623113231225447 {'over_corr': 20301, 'total_err': 938, 'true_corr': tensor(4, device='cuda:0')} {'over_corr': 701, 'total_err': 701, 'true_corr': 0}\n"
     ]
    },
    {
     "name": "stderr",
     "output_type": "stream",
     "text": [
      "Epoch:4/35: 100%|██████████| 103/103 [00:28<00:00,  3.65it/s, loss=5.513]\n"
     ]
    },
    {
     "name": "stdout",
     "output_type": "stream",
     "text": [
      "裝 錄 音 機 在 每 個 教 室 裡 有 很 多 的 好 處 ， 對 我 來 說 莊 錄 影 機 在 教 室 裡 的 好 處 比 壞 處 多 了 。\n",
      "我 我 我 的 的 的 的 的 的 的 的 的 的 的 的 的 的 的 的 的 的 的 的 的 的 ， ， 。 。 。\n",
      "裝 錄 影 機 在 每 個 教 室 裡 有 很 多 的 好 處 ， 對 我 來 說 裝 錄 影 機 在 教 室 裡 的 好 處 比 壞 處 多 了 。\n",
      "({'over_corr': 35, 'total_err': 2, 'true_corr': tensor(0, device='cuda:0')}, {'over_corr': 1, 'total_err': 1, 'true_corr': 0})\n",
      "我 還 是 年 研 究 生 ， 所 以 我 想 要 經 驗 很 多 事 情 ， 而 且 我 想 交 世 界 各 地 的 朋 友 。\n",
      "我 我 我 我 的 的 的 的 的 的 的 的 的 的 的 的 的 的 的 的 的 的 的 的 的 的 ， ， 。 。\n",
      "我 還 是 念 研 究 生 ， 所 以 我 想 要 經 驗 很 多 事 情 ， 而 且 我 想 交 世 界 各 地 的 朋 友 。\n",
      "({'over_corr': 32, 'total_err': 1, 'true_corr': tensor(0, device='cuda:0')}, {'over_corr': 1, 'total_err': 1, 'true_corr': 0})\n",
      "被 別 人 冤 枉 是 很 無 奈 的 ， 可 是 已 經 當 場 澄 清 就 算 了 巴 。\n",
      "我 我 我 的 的 的 的 的 ， 的 的 的 的 的 的 的 的 的 ， ， 。\n",
      "被 別 人 冤 枉 是 很 無 奈 的 ， 可 是 已 經 當 場 澄 清 就 算 了 吧 。\n",
      "({'over_corr': 23, 'total_err': 1, 'true_corr': tensor(0, device='cuda:0')}, {'over_corr': 1, 'total_err': 1, 'true_corr': 0})\n",
      "還 有 ， 一 個 問 題 ！ 操 音 很 大 聲 ， 我 每 天 睡 也 睡 不 覺 ， 中 午 的 時 間 也 是 ， 我 們 看 電 視 的 時 候 也 為 了 做 大 聲 音 是 我 們 看 電 視 的 音 響 聽 不 到 ！\n",
      "我 我 我 的 ， ， ， ， ， ， 的 的 的 的 的 的 的 的 的 的 的 的 的 的 的 的 的 的 的 的 的 的 的 的 的 的 的 的 的 的 。 。 。 。 。 。 。 。 。 。 。 。 。 。 。 。\n",
      "還 有 ， 一 個 問 題 ！ 噪 音 很 大 聲 ， 我 每 天 睡 也 睡 不 覺 ， 中 午 的 時 間 也 是 ， 我 們 看 電 視 的 時 候 也 為 了 做 大 聲 音 是 我 們 看 電 視 的 音 響 聽 不 到 ！\n",
      "({'over_corr': 57, 'total_err': 1, 'true_corr': tensor(0, device='cuda:0')}, {'over_corr': 1, 'total_err': 1, 'true_corr': 0})\n",
      "如 上 我 已 經 寫 的 很 經 楚 、 如 果 李 廠 長 部 快 速 處 理 或 故 意 不 處 理 的 話 ， 我 們 這 裡 的 鄰 居 就 無 法 再 忍 受 了 、 到 時 候 不 要 說 我 們 沒 提 醒 你 、 我 們 會 告 你 、 讓 法 律 解 決 這 問 題 了 。\n",
      "我 我 我 我 我 的 的 的 的 的 的 的 的 的 的 的 的 的 的 的 的 的 的 的 的 的 的 的 的 的 的 的 的 的 的 的 的 的 的 的 的 的 ， ， 。 。 。 ， ， ， ， ， ， 。 。 。 ， 。 ， 。 。 。 。 。\n",
      "如 上 我 已 經 寫 的 很 清 楚 、 如 果 李 廠 長 不 快 速 處 理 或 故 意 不 處 理 的 話 ， 我 們 這 裡 的 鄰 居 就 無 法 再 忍 受 了 、 到 時 候 不 要 說 我 們 沒 提 醒 你 、 我 們 會 告 你 、 讓 法 律 解 決 這 問 題 了 。\n",
      "({'over_corr': 68, 'total_err': 2, 'true_corr': tensor(0, device='cuda:0')}, {'over_corr': 1, 'total_err': 1, 'true_corr': 0})\n",
      "請 你 快 告 訴 我 你 願 不 原 意 跟 我 一 起 去 。\n",
      "我 我 我 的 的 的 的 的 的 ， ， ， ， ， ， ， 。 。\n",
      "請 你 快 告 訴 我 你 願 不 願 意 跟 我 一 起 去 。\n",
      "({'over_corr': 16, 'total_err': 1, 'true_corr': tensor(0, device='cuda:0')}, {'over_corr': 1, 'total_err': 1, 'true_corr': 0})\n",
      "Epoch 4 Loss: 5.589675829248521\n",
      "5.591632127761841 {'over_corr': 20376, 'total_err': 938, 'true_corr': tensor(16, device='cuda:0')} {'over_corr': 701, 'total_err': 701, 'true_corr': 0}\n"
     ]
    },
    {
     "name": "stderr",
     "output_type": "stream",
     "text": [
      "Epoch:5/35: 100%|██████████| 103/103 [00:28<00:00,  3.64it/s, loss=5.339]\n"
     ]
    },
    {
     "name": "stdout",
     "output_type": "stream",
     "text": [
      "以 前 我 朋 友 游 泳 的 時 候 ， 她 的 東 西 像 游 泳 衣 啊 、 毛 巾 啊 身 麼 的 放 進 去 公 用 櫃 子 。\n",
      "我 一 我 不 不 不 。 ， 不 。 ， ， 不 。 。 。 。 。 。 。 。 。 。 。 。 ， 不 。 。 。 。 。 。 。\n",
      "以 前 我 朋 友 游 泳 的 時 候 ， 她 的 東 西 像 游 泳 衣 啊 、 毛 巾 啊 什 麼 的 放 進 去 公 用 櫃 子 。\n",
      "({'over_corr': 31, 'total_err': 1, 'true_corr': tensor(0, device='cuda:0')}, {'over_corr': 1, 'total_err': 1, 'true_corr': 0})\n",
      "到 了 學 校 一 後 ， 他 跟 他 的 同 學 一 起 上 數 學 科 。\n",
      "我 不 不 。 。 ， 的 不 ， 我 不 不 。 。 。 。 。 。 。\n",
      "到 了 學 校 以 後 ， 他 跟 他 的 同 學 一 起 上 數 學 課 。\n",
      "({'over_corr': 16, 'total_err': 2, 'true_corr': tensor(0, device='cuda:0')}, {'over_corr': 1, 'total_err': 1, 'true_corr': 0})\n",
      "不 過 也 有 可 能 你 跟 他 之 間 曾 經 由 莫 一 種 事 情 讓 你 們 之 間 造 成 了 一 些 對 彼 此 之 間 的 誤 會 甚 麼 的 ， 使 他 竟 然 誤 會 無 辜 的 你 。\n",
      "我 一 的 的 ， 不 ， 不 不 。 。 。 。 。 。 。 。 。 ， 的 不 。 。 。 。 。 。 。 。 。 。 。 ， 不 。 。 。 ， 的 不 ， 不 。 。 。 。 。 ， 的\n",
      "不 過 也 有 可 能 你 跟 他 之 間 曾 經 由 某 一 種 事 情 讓 你 們 之 間 造 成 了 一 些 對 彼 此 之 間 的 誤 會 甚 麼 的 ， 使 他 竟 然 誤 會 無 辜 的 你 。\n",
      "({'over_corr': 51, 'total_err': 1, 'true_corr': tensor(0, device='cuda:0')}, {'over_corr': 1, 'total_err': 1, 'true_corr': 0})\n",
      "所 以 老 師 們 應 該 這 導 最 好 交 孩 子 的 方 法 就 是 讓 他 們 玩 兒 而 發 展 。\n",
      "我 我 不 不 ， 不 不 ， 不 。 。 。 。 。 ， 不 。 。 ， 不 ， 的 不 不 。 。 。 。\n",
      "所 以 老 師 們 應 該 知 道 最 好 教 孩 子 的 方 法 就 是 讓 他 們 玩 兒 而 發 展 。\n",
      "({'over_corr': 24, 'total_err': 3, 'true_corr': tensor(0, device='cuda:0')}, {'over_corr': 1, 'total_err': 1, 'true_corr': 0})\n",
      "今 天 給 您 寫 了 一 封 信 ， 希 望 您 趕 快 找 處 理 讓 我 們 可 以 睡 個 飽 覺 。\n",
      "我 我 不 ， 不 。 。 。 ， 的 不 ， 不 不 。 。 。 。 ， 的 的 我 不 ， 不 不 。\n",
      "今 天 給 您 寫 了 一 封 信 ， 希 望 您 趕 快 早 處 理 讓 我 們 可 以 睡 個 飽 覺 。\n",
      "({'over_corr': 25, 'total_err': 1, 'true_corr': tensor(0, device='cuda:0')}, {'over_corr': 1, 'total_err': 1, 'true_corr': 0})\n",
      "請 全 公 司 的 職 員 一 起 負 擔 公 司 的 危 機 。 機 的 經 紀 狀 況 轉 好 而 復 甦 ， 這 些 你 們 的 功 勞 一 定 是 會 報 恩 你 們 的 。\n",
      "我 一 不 不 ， 不 。 。 。 。 。 。 。 ， 不 。 。 。 ， 不 。 。 。 。 。 。 。 。 ， 的 的 的 的 我 不 不 。 。 ， 不 。 。 ， 的 的\n",
      "請 全 公 司 的 職 員 一 起 負 擔 公 司 的 危 機 。 機 的 經 濟 狀 況 轉 好 而 復 甦 ， 這 些 你 們 的 功 勞 一 定 是 會 報 恩 你 們 的 。\n",
      "({'over_corr': 42, 'total_err': 1, 'true_corr': tensor(0, device='cuda:0')}, {'over_corr': 1, 'total_err': 1, 'true_corr': 0})\n",
      "Epoch 5 Loss: 5.379681040939776\n",
      "5.155355280095881 {'over_corr': 18898, 'total_err': 938, 'true_corr': tensor(3, device='cuda:0')} {'over_corr': 701, 'total_err': 701, 'true_corr': 0}\n"
     ]
    },
    {
     "name": "stderr",
     "output_type": "stream",
     "text": [
      "Epoch:6/35: 100%|██████████| 103/103 [00:28<00:00,  3.66it/s, loss=5.019]\n"
     ]
    },
    {
     "name": "stdout",
     "output_type": "stream",
     "text": [
      "我 門 下 個 裡 俳 才 去 看 電 影 可 以 嗎 ？\n",
      "我 我 一 我 很 很 好 。 不 不 好 ， 的 很 。\n",
      "我 們 下 個 禮 拜 才 去 看 電 影 可 以 嗎 ？\n",
      "({'over_corr': 11, 'total_err': 3, 'true_corr': tensor(0, device='cuda:0')}, {'over_corr': 1, 'total_err': 1, 'true_corr': 0})\n",
      "白 天 機 械 可 替 換 輪 流 運 轉 以 減 少 噪 因 。\n",
      "不 我 不 很 ， 很 好 好 好 好 好 ， 很 。 好 的 。\n",
      "白 天 機 械 可 替 換 輪 流 運 轉 以 減 少 噪 音 。\n",
      "({'over_corr': 15, 'total_err': 1, 'true_corr': tensor(0, device='cuda:0')}, {'over_corr': 1, 'total_err': 1, 'true_corr': 0})\n",
      "每 天 匆 匆 忙 忙 得 睡 眠 不 夠 ， 心 情 沒 有 寬 裕 的 話 ， 生 活 不 能 說 是 充 實 而 只 是 痛 苦 。\n",
      "不 我 很 好 生 生 ， 很 好 不 好 ， 不 不 不 有 很 好 ， 很 ， 很 不 不 不 不 ， 很 好 不 不 ， 很 好 。\n",
      "每 天 匆 匆 忙 忙 地 睡 眠 不 夠 ， 心 情 沒 有 寬 裕 的 話 ， 生 活 不 能 說 是 充 實 而 只 是 痛 苦 。\n",
      "({'over_corr': 28, 'total_err': 1, 'true_corr': tensor(0, device='cuda:0')}, {'over_corr': 1, 'total_err': 1, 'true_corr': 0})\n",
      "第 一 ， 賣 受 到 的 錢 可 以 利 用 過 輕 輕 鬆 鬆 的 日 子 ， 你 不 會 擔 心 錢 的 問 題 。\n",
      "不 一 我 很 不 不 的 很 ， 我 很 不 不 好 好 好 好 ， 好 好 ， 的 不 不 好 好 好 ， 很 。 。\n",
      "第 一 ， 賣 收 到 的 錢 可 以 利 用 過 輕 輕 鬆 鬆 的 日 子 ， 你 不 會 擔 心 錢 的 問 題 。\n",
      "({'over_corr': 25, 'total_err': 1, 'true_corr': tensor(0, device='cuda:0')}, {'over_corr': 1, 'total_err': 1, 'true_corr': 0})\n",
      "如 果 你 拿 到 了 請 你 奇 給 我 一 封 簡 訊 ， 還 是 打 電 話 給 我 。\n",
      "我 我 我 很 不 了 有 ， 很 不 ， 一 很 好 好 ， 不 ， 很 很 好 不 ， 。\n",
      "如 果 你 拿 到 了 請 你 寄 給 我 一 封 簡 訊 ， 還 是 打 電 話 給 我 。\n",
      "({'over_corr': 19, 'total_err': 1, 'true_corr': tensor(0, device='cuda:0')}, {'over_corr': 1, 'total_err': 1, 'true_corr': 0})\n",
      "在 面 臨 這 問 題 時 ， 老 師 們 會 從 錄 影 過 的 一 片 來 反 省 自 己 的 教 法 、 應 付 學 生 們 的 方 式 、 注 意 那 些 學 生 需 要 特 別 的 照 顧 等 等 。\n",
      "我 不 很 ， 很 好 。 ， 不 不 ， 不 不 很 不 不 ， 一 很 。 好 好 的 不 ， 不 很 。 不 好 。 不 ， 的 很 好 。 好 不 的 有 很 好 好 不 好 好 ， 很 好 。 。 。\n",
      "在 面 臨 這 問 題 時 ， 老 師 們 會 從 錄 影 過 的 影 片 來 反 省 自 己 的 教 法 、 應 付 學 生 們 的 方 式 、 注 意 哪 些 學 生 需 要 特 別 的 照 顧 等 等 。\n",
      "({'over_corr': 48, 'total_err': 2, 'true_corr': tensor(0, device='cuda:0')}, {'over_corr': 1, 'total_err': 1, 'true_corr': 0})\n",
      "Epoch 6 Loss: 4.936330526777842\n",
      "4.734233411875638 {'over_corr': 17904, 'total_err': 938, 'true_corr': tensor(23, device='cuda:0')} {'over_corr': 701, 'total_err': 701, 'true_corr': 0}\n"
     ]
    },
    {
     "name": "stderr",
     "output_type": "stream",
     "text": [
      "Epoch:7/35: 100%|██████████| 103/103 [00:28<00:00,  3.66it/s, loss=3.964]\n"
     ]
    },
    {
     "name": "stdout",
     "output_type": "stream",
     "text": [
      "我 昨 天 下 了 課 以 後 ， 就 馬 上 回 家 、 洗 臉 ， 延 後 打 算 自 己 做 飯 。\n",
      "我 要 我 了 了 好 ， 不 ， 也 很 上 不 家 好 生 生 ， 工 不 很 要 不 要 生 好 。\n",
      "我 昨 天 下 了 課 以 後 ， 就 馬 上 回 家 、 洗 臉 ， 然 後 打 算 自 己 做 飯 。\n",
      "({'over_corr': 19, 'total_err': 1, 'true_corr': tensor(0, device='cuda:0')}, {'over_corr': 1, 'total_err': 1, 'true_corr': 0})\n",
      "我 應 該 無 聊 的 玩 笑 適 是 而 止 。\n",
      "我 不 要 很 生 的 工 生 生 是 不 生 。\n",
      "我 應 該 無 聊 的 玩 笑 適 時 而 止 。\n",
      "({'over_corr': 9, 'total_err': 1, 'true_corr': tensor(0, device='cuda:0')}, {'over_corr': 1, 'total_err': 1, 'true_corr': 0})\n",
      "所 以 你 好 好 得 想 要 怎 麼 做 ， 如 果 要 我 幫 甚 麼 忙 隨 時 都 可 以 告 訴 我 。\n",
      "我 我 們 好 好 的 要 要 不 不 工 ， 我 是 要 我 家 工 不 工 生 不 不 ， 我 家 跟 ， 。\n",
      "所 以 你 好 好 地 想 要 怎 麼 做 ， 如 果 要 我 幫 甚 麼 忙 隨 時 都 可 以 告 訴 我 。\n",
      "({'over_corr': 21, 'total_err': 1, 'true_corr': tensor(0, device='cuda:0')}, {'over_corr': 1, 'total_err': 1, 'true_corr': 0})\n",
      "在 俄 羅 斯 這 樣 的 情 況 處 處 可 見 ， 不 過 實 地 說 這 些 打 工 的 人 並 不 是 來 自 貧 窮 的 家 庭 。\n",
      "他 工 生 生 ， 很 的 好 生 生 生 ， 好 ， 不 很 生 的 是 這 有 很 生 的 人 很 不 是 不 不 工 生 的 家 生 。\n",
      "在 俄 羅 斯 這 樣 的 情 況 處 處 可 見 ， 不 過 實 在 說 這 些 打 工 的 人 並 不 是 來 自 貧 窮 的 家 庭 。\n",
      "({'over_corr': 24, 'total_err': 1, 'true_corr': tensor(0, device='cuda:0')}, {'over_corr': 1, 'total_err': 1, 'true_corr': 0})\n",
      "當 然 這 不 但 侷 限 在 花 蓮 的 情 況 ， 而 是 我 認 為 全 世 界 都 要 這 樣 的 角 度 來 看 ， 來 對 待 我 門 的 環 境 。\n",
      "他 不 他 不 不 學 生 在 工 生 的 生 好 ， 不 是 我 要 我 工 生 生 不 要 的 很 的 工 生 來 了 ， 不 有 到 ， 們 的 工 。 。\n",
      "當 然 這 不 但 侷 限 在 花 蓮 的 情 況 ， 而 是 我 認 為 全 世 界 都 要 這 樣 的 角 度 來 看 ， 來 對 待 我 們 的 環 境 。\n",
      "({'over_corr': 28, 'total_err': 1, 'true_corr': tensor(1, device='cuda:0')}, {'over_corr': 1, 'total_err': 1, 'true_corr': 0})\n",
      "我 項 在 有 一 個 月 的 空 ， 可 是 我 還 沒 決 定 我 做 什 麼 。\n",
      "我 要 在 有 一 個 家 的 工 ， 我 是 我 有 有 家 要 ， 家 不 不 。\n",
      "我 現 在 有 一 個 月 的 空 ， 可 是 我 還 沒 決 定 我 做 什 麼 。\n",
      "({'over_corr': 11, 'total_err': 1, 'true_corr': tensor(0, device='cuda:0')}, {'over_corr': 1, 'total_err': 1, 'true_corr': 0})\n",
      "Epoch 7 Loss: 4.428865867911033\n",
      "4.104548584331166 {'over_corr': 13897, 'total_err': 938, 'true_corr': tensor(38, device='cuda:0')} {'over_corr': 701, 'total_err': 701, 'true_corr': 0}\n"
     ]
    },
    {
     "name": "stderr",
     "output_type": "stream",
     "text": [
      "Epoch:8/35: 100%|██████████| 103/103 [00:28<00:00,  3.66it/s, loss=3.225]\n"
     ]
    },
    {
     "name": "stdout",
     "output_type": "stream",
     "text": [
      "當 然 狗 是 不 少 人 養 寵 物 的 道 選 之 一 ， 因 為 狗 既 可 愛 又 熱 情 ， 而 且 對 主 人 忠 心 耿 耿 。\n",
      "一 不 要 是 不 要 人 工 工 學 的 要 家 不 一 ， 我 為 工 跟 可 工 不 工 情 ， 而 了 對 學 人 工 生 工 影 。\n",
      "當 然 狗 是 不 少 人 養 寵 物 的 首 選 之 一 ， 因 為 狗 既 可 愛 又 熱 情 ， 而 且 對 主 人 忠 心 耿 耿 。\n",
      "({'over_corr': 21, 'total_err': 1, 'true_corr': tensor(0, device='cuda:0')}, {'over_corr': 1, 'total_err': 1, 'true_corr': 0})\n",
      "我 們 發 現 您 的 工 廠 有 很 大 的 生 音 和 臭 味 ， 大 家 都 受 不 了 。\n",
      "我 們 要 到 是 的 工 的 有 很 大 的 生 生 生 好 生 ， 大 家 都 要 不 了 。\n",
      "我 們 發 現 您 的 工 廠 有 很 大 的 聲 音 和 臭 味 ， 大 家 都 受 不 了 。\n",
      "({'over_corr': 9, 'total_err': 1, 'true_corr': tensor(0, device='cuda:0')}, {'over_corr': 1, 'total_err': 1, 'true_corr': 0})\n",
      "但 是 那 時 後 我 真 的 不 知 道 那 一 方 面 的 事 比 較 適 合 我 ， 比 較 喜 歡 。\n",
      "不 是 他 時 後 我 很 的 不 知 道 他 一 很 了 的 事 學 很 工 工 我 ， 家 很 好 好 。\n",
      "但 是 那 時 後 我 真 的 不 知 道 哪 一 方 面 的 事 比 較 適 合 我 ， 比 較 喜 歡 。\n",
      "({'over_corr': 13, 'total_err': 1, 'true_corr': tensor(0, device='cuda:0')}, {'over_corr': 1, 'total_err': 1, 'true_corr': 0})\n",
      "「 青 少 年 上 網 得 數 多 」 的 情 況 。\n",
      "的 工 子 學 上 時 得 工 多 生 的 情 的 。\n",
      "「 青 少 年 上 網 時 數 多 」 的 情 況 。\n",
      "({'over_corr': 8, 'total_err': 1, 'true_corr': tensor(0, device='cuda:0')}, {'over_corr': 1, 'total_err': 1, 'true_corr': 0})\n",
      "我 覺 得 在 網 路 上 很 容 易 不 小 心 打 開 內 容 不 適 合 的 網 頁 ， 父 母 一 定 不 要 他 們 的 孩 子 受 到 不 好 的 音 響 。\n",
      "我 覺 得 在 學 好 上 很 工 好 不 小 生 很 生 跟 工 不 工 工 的 時 工 ， 他 了 一 要 不 要 他 們 的 孩 子 要 到 不 好 的 生 工 。\n",
      "我 覺 得 在 網 路 上 很 容 易 不 小 心 打 開 內 容 不 適 合 的 網 頁 ， 父 母 一 定 不 要 他 們 的 孩 子 受 到 不 好 的 影 響 。\n",
      "({'over_corr': 18, 'total_err': 1, 'true_corr': tensor(0, device='cuda:0')}, {'over_corr': 1, 'total_err': 1, 'true_corr': 0})\n",
      "雖 然 學 校 裡 的 事 很 多 很 忙 但 我 媽 媽 一 樣 的 把 我 們 照 顧 得 很 好 。\n",
      "因 不 學 學 裡 的 事 很 多 很 跟 了 我 要 要 一 很 的 跟 我 們 家 很 得 很 好 。\n",
      "雖 然 學 校 裡 的 事 很 多 很 忙 但 我 媽 媽 一 樣 地 把 我 們 照 顧 得 很 好 。\n",
      "({'over_corr': 11, 'total_err': 1, 'true_corr': tensor(0, device='cuda:0')}, {'over_corr': 1, 'total_err': 1, 'true_corr': 0})\n",
      "Epoch 8 Loss: 3.726336319469711\n",
      "3.349572333422574 {'over_corr': 9887, 'total_err': 938, 'true_corr': tensor(57, device='cuda:0')} {'over_corr': 701, 'total_err': 701, 'true_corr': 0}\n"
     ]
    },
    {
     "name": "stderr",
     "output_type": "stream",
     "text": [
      "Epoch:9/35: 100%|██████████| 103/103 [00:28<00:00,  3.65it/s, loss=3.364]\n"
     ]
    },
    {
     "name": "stdout",
     "output_type": "stream",
     "text": [
      "可 是 ， 能 有 多 少 人 知 道 現 在 北 極 冰 榮 化 的 很 嚴 重 ， 我 們 的 地 球 越 來 越 熱 ， 天 災 不 段 的 發 生 等 ， 原 因 何 在 呢 ？\n",
      "可 是 ， 能 有 多 少 人 知 道 現 在 工 工 影 影 生 的 很 工 很 ， 我 們 的 的 工 的 來 工 工 ， 天 工 不 工 的 發 生 等 ， 跟 因 工 在 好 ？\n",
      "可 是 ， 能 有 多 少 人 知 道 現 在 北 極 冰 融 化 的 很 嚴 重 ， 我 們 的 地 球 越 來 越 熱 ， 天 災 不 斷 地 發 生 等 ， 原 因 何 在 呢 ？\n",
      "({'over_corr': 15, 'total_err': 3, 'true_corr': tensor(0, device='cuda:0')}, {'over_corr': 1, 'total_err': 1, 'true_corr': 0})\n",
      "有 許 多 西 方 國 家 的 幼 兒 園 已 採 取 放 任 制 度 的 教 育 ， 讓 孩 童 自 由 的 探 索 這 世 界 的 奧 妙 和 多 變 ， 並 在 适 當 或 需 要 的 時 候 給 予 輔 助 或 指 導 。 研 究 學 者 隨 后 發 現 讓 孩 童 們 學 習 的 更 多 。\n",
      "有 跟 多 多 方 國 家 的 學 好 影 大 工 了 跟 工 工 生 的 教 生 ， 讓 孩 孩 自 在 的 工 學 這 工 家 的 工 影 、 多 學 ， 很 在 工 一 或 要 要 的 時 候 給 車 車 孩 或 跟 大 。 工 學 學 生 跟 後 發 現 讓 孩 孩 們 學 學 的 很 多 。\n",
      "有 許 多 西 方 國 家 的 幼 兒 園 已 採 取 放 任 制 度 的 教 育 ， 讓 孩 童 自 由 的 探 索 這 世 界 的 奧 妙 和 多 變 ， 並 在 適 當 或 需 要 的 時 候 給 予 輔 助 或 指 導 。 研 究 學 者 隨 後 發 現 讓 孩 童 們 學 習 的 更 多 。\n",
      "({'over_corr': 38, 'total_err': 2, 'true_corr': tensor(1, device='cuda:0')}, {'over_corr': 1, 'total_err': 1, 'true_corr': 0})\n",
      "我 希 望 你 的 身 體 好 了 可 是 如 果 我 的 冰 就 好 了 快 到 了 ， 我 一 定 馬 上 去 你 的 珈 和 給 你 禮 遇 。\n",
      "我 因 望 你 的 了 了 好 了 可 是 如 果 我 的 學 就 好 了 上 到 了 ， 我 一 要 很 上 去 你 的 學 和 給 你 工 車 。\n",
      "我 希 望 你 的 身 體 好 了 可 是 如 果 我 的 病 就 好 了 快 到 了 ， 我 一 定 馬 上 去 你 的 家 和 給 你 禮 遇 。\n",
      "({'over_corr': 8, 'total_err': 2, 'true_corr': tensor(0, device='cuda:0')}, {'over_corr': 1, 'total_err': 1, 'true_corr': 0})\n",
      "這 個 事 情 一 般 是 我 們 最 喜 歡 的 享 受 ， 我 們 不 是 看 轅 動 比 賽 ， 就 是 在 轅 動 場 玩 球 。\n",
      "這 個 事 情 一 工 是 我 們 不 好 工 的 工 來 ， 我 們 不 是 看 孩 一 比 工 ， 就 是 在 學 作 。 很 工 。\n",
      "這 個 事 情 一 般 是 我 們 最 喜 歡 的 享 受 ， 我 們 不 是 看 運 動 比 賽 ， 就 是 在 運 動 場 玩 球 。\n",
      "({'over_corr': 12, 'total_err': 2, 'true_corr': tensor(0, device='cuda:0')}, {'over_corr': 1, 'total_err': 1, 'true_corr': 0})\n",
      "凡 事 訓 利 。\n",
      "工 事 工 好 。\n",
      "凡 事 順 利 。\n",
      "({'over_corr': 2, 'total_err': 1, 'true_corr': tensor(0, device='cuda:0')}, {'over_corr': 1, 'total_err': 1, 'true_corr': 0})\n",
      "隨 之 社 會 的 進 步 及 競 爭 ， 還 有 物 價 不 斷 的 攀 升 導 致 生 活 更 有 挑 戰 。\n",
      "很 後 會 會 的 也 工 影 影 ， 還 有 學 裡 不 學 的 工 過 大 過 生 活 。 有 工 工 。\n",
      "隨 著 社 會 的 進 步 及 競 爭 ， 還 有 物 價 不 斷 地 攀 升 導 致 生 活 更 有 挑 戰 。\n",
      "({'over_corr': 17, 'total_err': 2, 'true_corr': tensor(0, device='cuda:0')}, {'over_corr': 1, 'total_err': 1, 'true_corr': 0})\n",
      "Epoch 9 Loss: 3.032309036810421\n",
      "2.734434675086628 {'over_corr': 6732, 'total_err': 938, 'true_corr': tensor(90, device='cuda:0')} {'over_corr': 699, 'total_err': 701, 'true_corr': 0}\n"
     ]
    },
    {
     "name": "stderr",
     "output_type": "stream",
     "text": [
      "Epoch:10/35: 100%|██████████| 103/103 [00:28<00:00,  3.65it/s, loss=2.114]\n"
     ]
    },
    {
     "name": "stdout",
     "output_type": "stream",
     "text": [
      "我 門 明 明 知 道 自 然 的 重 要 性 ， 如 果 真 輕 視 自 然 的 話 ， 自 己 陷 入 万 丈 的 井 。\n",
      "我 們 明 明 知 道 自 然 的 很 要 好 ， 如 果 真 學 生 自 然 的 話 ， 自 己 車 到 裡 影 的 影 。\n",
      "我 們 明 明 知 道 自 然 的 重 要 性 ， 如 果 真 輕 視 自 然 的 話 ， 自 己 陷 入 萬 丈 的 井 。\n",
      "({'over_corr': 8, 'total_err': 2, 'true_corr': tensor(1, device='cuda:0')}, {'over_corr': 1, 'total_err': 1, 'true_corr': 0})\n",
      "每 每 要 看 外 國 電 影 ， 所 以 文 德 買 票 給 她 。\n",
      "每 每 要 看 外 國 電 影 ， 所 以 人 法 了 了 給 她 。\n",
      "美 美 要 看 外 國 電 影 ， 所 以 文 德 買 票 給 她 。\n",
      "({'over_corr': 4, 'total_err': 2, 'true_corr': tensor(0, device='cuda:0')}, {'over_corr': 1, 'total_err': 1, 'true_corr': 0})\n",
      "我 覺 得 最 近 的 小 孩 子 由 於 只 一 個 老 師 沒 幫 法 控 制 ， 而 且 很 多 孩 子 的 父 母 在 家 裡 教 養 地 不 好 ， 他 們 都 把 教 養 的 責 任 給 學 校 。\n",
      "我 覺 得 最 近 的 小 孩 子 在 到 只 一 個 老 師 沒 幫 法 車 工 ， 而 且 很 多 孩 子 的 父 母 在 家 裡 教 工 地 不 好 ， 他 們 都 一 教 工 的 影 工 給 學 校 。\n",
      "我 覺 得 最 近 的 小 孩 子 由 於 只 一 個 老 師 沒 辦 法 控 制 ， 而 且 很 多 孩 子 的 父 母 在 家 裡 教 養 地 不 好 ， 他 們 都 把 教 養 的 責 任 給 學 校 。\n",
      "({'over_corr': 9, 'total_err': 1, 'true_corr': tensor(0, device='cuda:0')}, {'over_corr': 1, 'total_err': 1, 'true_corr': 0})\n",
      "在 我 的 國 家 ， 大 學 生 打 工 的 情 況 也 普 遍 。 不 至 大 學 生 ， 很 多 高 中 生 已 經 有 一 些 打 工 的 經 驗 。\n",
      "在 我 的 國 家 ， 大 學 生 很 工 的 情 情 也 影 影 。 不 到 大 學 生 ， 很 多 高 中 生 已 經 有 一 些 很 工 的 經 的 。\n",
      "在 我 的 國 家 ， 大 學 生 打 工 的 情 況 也 普 遍 。 不 只 大 學 生 ， 很 多 高 中 生 已 經 有 一 些 打 工 的 經 驗 。\n",
      "({'over_corr': 6, 'total_err': 1, 'true_corr': tensor(0, device='cuda:0')}, {'over_corr': 1, 'total_err': 1, 'true_corr': 0})\n",
      "尤 其 是 醫 療 方 面 系 所 的 學 費 ， 差 不 多 買 的 到 一 個 房 子 一 樣 貴 ！\n",
      "覺 因 是 工 學 方 面 影 所 的 學 學 ， 工 不 多 少 得 到 一 個 孩 子 一 樣 工 ！\n",
      "尤 其 是 醫 療 方 面 系 所 的 學 費 ， 差 不 多 買 得 到 一 個 房 子 一 樣 貴 ！\n",
      "({'over_corr': 10, 'total_err': 1, 'true_corr': tensor(1, device='cuda:0')}, {'over_corr': 1, 'total_err': 1, 'true_corr': 0})\n",
      "有 些 父 母 還 推 薦 孩 子 去 打 工 ， 這 是 為 甚 麼 呢 ？ 是 為 了 上 孩 子 大 開 眼 界 。\n",
      "有 些 父 母 還 裡 給 孩 子 去 很 工 ， 這 是 為 孩 麼 麼 ？ 是 為 了 上 孩 子 大 開 公 影 。\n",
      "有 些 父 母 還 推 薦 孩 子 去 打 工 ， 這 是 為 甚 麼 呢 ？ 是 為 了 讓 孩 子 大 開 眼 界 。\n",
      "({'over_corr': 7, 'total_err': 1, 'true_corr': tensor(0, device='cuda:0')}, {'over_corr': 1, 'total_err': 1, 'true_corr': 0})\n",
      "Epoch 10 Loss: 2.4809271699016535\n",
      "2.259771696545861 {'over_corr': 5278, 'total_err': 938, 'true_corr': tensor(111, device='cuda:0')} {'over_corr': 689, 'total_err': 701, 'true_corr': 2}\n"
     ]
    },
    {
     "name": "stderr",
     "output_type": "stream",
     "text": [
      "Epoch:11/35: 100%|██████████| 103/103 [00:28<00:00,  3.64it/s, loss=1.897]\n"
     ]
    },
    {
     "name": "stdout",
     "output_type": "stream",
     "text": [
      "妳 怎 麼 了 ？ 為 什 麼 這 樣 很 嚴 重 ？\n",
      "你 麼 麼 了 ？ 為 什 麼 這 樣 很 高 重 ？\n",
      "你 怎 麼 了 ？ 為 什 麼 這 樣 很 嚴 重 ？\n",
      "({'over_corr': 2, 'total_err': 1, 'true_corr': tensor(1, device='cuda:0')}, {'over_corr': 1, 'total_err': 1, 'true_corr': 0})\n",
      "他 的 老 師 ： 「 你 怎 了 ？ 」 ， 李 大 明 說 ： 「 我 頭 痛 。 」 。\n",
      "他 的 老 師 ： 「 你 麼 麼 了 ？ 」 ， 你 大 明 說 ： 「 我 裡 高 。 」 。\n",
      "他 的 老 師 ： 「 你 怎 麼 了 ？ 」 ， 李 大 明 說 ： 「 我 頭 痛 。 」 。\n",
      "({'over_corr': 4, 'total_err': 1, 'true_corr': tensor(1, device='cuda:0')}, {'over_corr': 1, 'total_err': 1, 'true_corr': 0})\n",
      "天 起 那 裡 不 怎 麼 好 。\n",
      "天 起 那 裡 不 麼 麼 好 。\n",
      "天 氣 那 裡 不 怎 麼 好 。\n",
      "({'over_corr': 1, 'total_err': 1, 'true_corr': tensor(0, device='cuda:0')}, {'over_corr': 1, 'total_err': 1, 'true_corr': 0})\n",
      "他 覺 得 上 山 很 容 易 ， 沒 有 痕 累 ， 所 以 他 沒 有 什 麼 都 準 備 。\n",
      "他 覺 得 上 裡 很 朋 車 ， 沒 有 車 裡 ， 所 以 他 沒 有 什 麼 都 工 工 。\n",
      "他 覺 得 上 山 很 容 易 ， 沒 有 很 累 ， 所 以 他 沒 有 什 麼 都 準 備 。\n",
      "({'over_corr': 6, 'total_err': 1, 'true_corr': tensor(0, device='cuda:0')}, {'over_corr': 1, 'total_err': 1, 'true_corr': 0})\n",
      "事 務 有 好 壞 之 分 ， 選 擇 有 勝 敗 之 差 ； 你 的 選 擇 讓 你 活 出 明 天 了 嗎 ？\n",
      "事 路 有 好 學 之 分 ， 但 望 有 上 車 之 工 ！ 你 的 下 望 讓 你 活 出 明 天 了 麼 ？\n",
      "事 物 有 好 壞 之 分 ， 選 擇 有 勝 敗 之 差 ； 你 的 選 擇 讓 你 活 出 明 天 了 嗎 ？\n",
      "({'over_corr': 10, 'total_err': 1, 'true_corr': tensor(0, device='cuda:0')}, {'over_corr': 1, 'total_err': 1, 'true_corr': 0})\n",
      "我 聽 到 妳 們 下 個 月 要 結 婚 了 ， 我 覺 得 很 高 興 ， 恭 喜 ， 恭 喜 。\n",
      "我 聽 到 你 們 下 個 跟 要 要 朋 了 ， 我 覺 得 很 高 心 ， 覺 喜 ， 覺 喜 。\n",
      "我 聽 到 你 們 下 個 月 要 結 婚 了 ， 我 覺 得 很 高 興 ， 恭 喜 ， 恭 喜 。\n",
      "({'over_corr': 6, 'total_err': 1, 'true_corr': tensor(1, device='cuda:0')}, {'over_corr': 1, 'total_err': 1, 'true_corr': 0})\n",
      "Epoch 11 Loss: 2.0610205073958463\n",
      "1.9137509085915305 {'over_corr': 4078, 'total_err': 938, 'true_corr': tensor(150, device='cuda:0')} {'over_corr': 676, 'total_err': 701, 'true_corr': 6}\n"
     ]
    },
    {
     "name": "stderr",
     "output_type": "stream",
     "text": [
      "Epoch:12/35: 100%|██████████| 103/103 [00:28<00:00,  3.65it/s, loss=1.923]\n"
     ]
    },
    {
     "name": "stdout",
     "output_type": "stream",
     "text": [
      "他 們 做 二 九 七 的 公 車 去 。\n",
      "他 們 做 二 十 覺 的 公 車 去 。\n",
      "他 們 坐 二 九 七 的 公 車 去 。\n",
      "({'over_corr': 2, 'total_err': 1, 'true_corr': tensor(0, device='cuda:0')}, {'over_corr': 1, 'total_err': 1, 'true_corr': 0})\n",
      "我 的 弟 弟 也 很 高 薪 看 到 你 們 ， 因 為 你 們 好 久 不 見 沒 看 到 。\n",
      "我 的 一 友 也 很 高 處 看 到 你 們 ， 因 為 你 們 好 不 不 見 沒 看 到 。\n",
      "我 的 弟 弟 也 很 高 興 看 到 你 們 ， 因 為 你 們 好 久 不 見 沒 看 到 。\n",
      "({'over_corr': 3, 'total_err': 1, 'true_corr': tensor(0, device='cuda:0')}, {'over_corr': 1, 'total_err': 1, 'true_corr': 0})\n",
      "經 濟 發 展 方 面 ， 可 以 將 華 連 成 為 國 家 觀 逛 景 點 ， 以 旅 遊 行 業 為 主 來 發 展 當 地 的 經 濟 ， 教 育 當 地 人 們 懂 得 保 護 自 己 擁 有 之 寶 。\n",
      "經 濟 發 展 方 面 ， 可 以 現 車 大 成 為 國 家 來 環 。 點 ， 以 直 、 行 業 為 自 來 發 展 當 地 的 經 濟 ， 教 育 當 地 人 們 工 得 保 生 自 己 己 有 之 起 。\n",
      "經 濟 發 展 方 面 ， 可 以 將 花 蓮 成 為 國 家 觀 逛 景 點 ， 以 旅 遊 行 業 為 主 來 發 展 當 地 的 經 濟 ， 教 育 當 地 人 們 懂 得 保 護 自 己 擁 有 之 寶 。\n",
      "({'over_corr': 11, 'total_err': 2, 'true_corr': tensor(0, device='cuda:0')}, {'over_corr': 1, 'total_err': 1, 'true_corr': 0})\n",
      "其 實 如 果 工 作 不 會 影 響 到 讀 書 的 方 面 和 不 會 超 過 學 生 的 能 力 ， 應 該 可 以 保 留 讓 學 生 一 邊 功 作 一 邊 讀 書 的 。\n",
      "其 實 如 果 工 作 不 會 影 響 到 學 書 的 方 面 和 不 會 過 過 學 生 的 能 力 ， 應 該 可 以 保 學 讓 學 生 一 邊 工 做 一 邊 學 書 的 。\n",
      "其 實 如 果 工 作 不 會 影 響 到 讀 書 的 方 面 和 不 會 超 過 學 生 的 能 力 ， 應 該 可 以 保 留 讓 學 生 一 邊 工 作 一 邊 讀 書 的 。\n",
      "({'over_corr': 5, 'total_err': 1, 'true_corr': tensor(1, device='cuda:0')}, {'over_corr': 1, 'total_err': 1, 'true_corr': 0})\n",
      "我 只 是 希 望 經 濟 的 循 環 便 好 的 方 向 。 如 果 繼 續 維 持 現 在 的 洋 相 ， 我 怕 再 回 歸 之 前 美 國 的 大 供 皇 。\n",
      "我 只 是 希 望 經 濟 的 環 環 好 好 的 方 經 。 如 果 做 續 工 持 現 在 的 、 相 ， 我 打 在 回 直 之 前 美 國 的 大 環 車 。\n",
      "我 只 是 希 望 經 濟 的 循 環 變 好 的 方 向 。 如 果 繼 續 維 持 現 在 的 洋 相 ， 我 怕 再 回 歸 之 前 美 國 的 大 恐 慌 。\n",
      "({'over_corr': 8, 'total_err': 3, 'true_corr': tensor(0, device='cuda:0')}, {'over_corr': 1, 'total_err': 1, 'true_corr': 0})\n",
      "可 以 讓 孩 子 們 一 起 發 展 、 學 習 ， 同 時 父 母 可 以 繼 續 工 作 ， 可 避 免 淪 落 經 濟 窘 境 ， 簡 直 是 一 箭 雙 雕 。\n",
      "可 以 讓 孩 子 們 一 起 發 展 、 學 學 ， 同 時 父 母 可 以 做 續 工 作 ， 可 環 學 臭 直 經 濟 環 境 ， 和 直 是 一 高 物 環 。\n",
      "可 以 讓 孩 子 們 一 起 發 展 、 學 習 ， 同 時 父 母 可 以 繼 續 工 作 ， 可 避 免 淪 落 經 濟 窘 境 ， 簡 直 是 一 箭 雙 鵰 。\n",
      "({'over_corr': 10, 'total_err': 1, 'true_corr': tensor(0, device='cuda:0')}, {'over_corr': 1, 'total_err': 1, 'true_corr': 0})\n",
      "Epoch 12 Loss: 1.7367364677410682\n",
      "1.6350472461093555 {'over_corr': 3204, 'total_err': 938, 'true_corr': tensor(181, device='cuda:0')} {'over_corr': 647, 'total_err': 701, 'true_corr': 9}\n"
     ]
    },
    {
     "name": "stderr",
     "output_type": "stream",
     "text": [
      "Epoch:13/35: 100%|██████████| 103/103 [00:28<00:00,  3.65it/s, loss=1.454]\n"
     ]
    },
    {
     "name": "stdout",
     "output_type": "stream",
     "text": [
      "每 個 站 都 不 一 樣 ， 每 個 很 票 亮 。\n",
      "每 個 站 都 不 一 樣 ， 每 個 很 漂 亮 。\n",
      "每 個 站 都 不 一 樣 ， 每 個 很 漂 亮 。\n",
      "({'over_corr': 0, 'total_err': 1, 'true_corr': tensor(1, device='cuda:0')}, {'over_corr': 0, 'total_err': 1, 'true_corr': 1})\n",
      "因 此 我 確 實 可 以 理 解 你 的 期 望 ， 不 夠 我 控 恐 怕 我 沒 辦 法 對 應 你 的 要 求 。 至 是 我 今 天 寫 這 封 信 給 你 的 原 因 之 一 。\n",
      "因 此 我 學 實 可 以 理 解 你 的 期 望 ， 不 過 我 分 高 怕 我 沒 辦 法 對 應 你 的 要 開 。 這 是 我 今 天 寫 這 環 信 給 你 的 覺 因 之 一 。\n",
      "因 此 我 確 實 可 以 理 解 你 的 期 望 ， 不 過 我 控 恐 怕 我 沒 辦 法 對 應 你 的 要 求 。 這 是 我 今 天 寫 這 封 信 給 你 的 原 因 之 一 。\n",
      "({'over_corr': 6, 'total_err': 2, 'true_corr': tensor(2, device='cuda:0')}, {'over_corr': 1, 'total_err': 1, 'true_corr': 0})\n",
      "他 北 老 師 罵 他 ， 所 以 馬 上 去 打 工 車 上 班 。\n",
      "他 同 老 師 他 他 ， 所 以 馬 上 去 打 工 車 上 班 。\n",
      "他 怕 老 師 罵 他 ， 所 以 馬 上 去 搭 公 車 上 班 。\n",
      "({'over_corr': 1, 'total_err': 3, 'true_corr': tensor(0, device='cuda:0')}, {'over_corr': 1, 'total_err': 1, 'true_corr': 0})\n",
      "慢 慢 慢 慢 地 我 可 能 會 變 成 各 不 敢 說 話 的 人 也 不 敢 做 甚 麼 事 、 只 因 為 怕 別 人 批 評 。\n",
      "老 老 老 老 地 我 可 能 會 變 成 個 不 要 說 話 的 人 也 不 要 做 甚 麼 事 、 只 因 為 課 別 人 臭 校 。\n",
      "慢 慢 慢 慢 地 我 可 能 會 變 成 個 不 敢 說 話 的 人 也 不 敢 做 甚 麼 事 、 只 因 為 怕 別 人 批 評 。\n",
      "({'over_corr': 9, 'total_err': 1, 'true_corr': tensor(1, device='cuda:0')}, {'over_corr': 1, 'total_err': 1, 'true_corr': 0})\n",
      "據 我 所 知 噪 音 的 原 因 是 您 工 廠 的 設 備 響 的 ， 所 以 希 望 您 叫 傳 家 來 修 理 ， 讓 鄰 居 們 有 個 安 靜 的 生 活 。\n",
      "現 我 所 知 噪 音 的 覺 因 是 您 工 廠 的 開 備 響 的 ， 所 以 希 望 您 覺 環 家 來 錢 理 ， 讓 鄰 居 們 有 個 安 高 的 生 活 。\n",
      "據 我 所 知 噪 音 的 原 因 是 您 工 廠 的 設 備 響 的 ， 所 以 希 望 您 叫 專 家 來 修 理 ， 讓 鄰 居 們 有 個 安 靜 的 生 活 。\n",
      "({'over_corr': 6, 'total_err': 1, 'true_corr': tensor(0, device='cuda:0')}, {'over_corr': 1, 'total_err': 1, 'true_corr': 0})\n",
      "我 們 還 有 很 多 辦 法 可 以 處 理 你 的 工 廠 ， 你 該 聽 過 「 你 敬 人 一 尺 人 敬 你 一 長 了 吧 ！ 」 要 是 你 尊 重 我 們 我 們 也 會 尊 重 你 的 。\n",
      "我 們 還 有 很 多 辦 法 可 以 處 理 你 的 工 廠 ， 你 該 聽 過 「 你 覺 人 一 環 人 分 你 一 長 了 吧 ！ 」 要 是 你 忙 重 我 們 我 們 也 會 忙 重 你 的 。\n",
      "我 們 還 有 很 多 辦 法 可 以 處 理 你 的 工 廠 ， 你 該 聽 過 「 你 敬 人 一 尺 人 敬 你 一 丈 了 吧 ！ 」 要 是 你 尊 重 我 們 我 們 也 會 尊 重 你 的 。\n",
      "({'over_corr': 5, 'total_err': 1, 'true_corr': tensor(0, device='cuda:0')}, {'over_corr': 1, 'total_err': 1, 'true_corr': 0})\n",
      "Epoch 13 Loss: 1.4846458573943202\n",
      "1.4271129857410083 {'over_corr': 2560, 'total_err': 938, 'true_corr': tensor(218, device='cuda:0')} {'over_corr': 619, 'total_err': 701, 'true_corr': 20}\n"
     ]
    },
    {
     "name": "stderr",
     "output_type": "stream",
     "text": [
      "Epoch:14/35: 100%|██████████| 103/103 [00:28<00:00,  3.65it/s, loss=1.116]\n"
     ]
    },
    {
     "name": "stdout",
     "output_type": "stream",
     "text": [
      "我 已 經 打 給 南 澳 朋 友 電 話 ， 踏 青 我 們 睡 在 他 的 家 。\n",
      "我 已 經 打 給 受 女 朋 友 電 話 ， 他 請 我 們 睡 在 他 的 家 。\n",
      "我 已 經 打 給 南 澳 朋 友 電 話 ， 他 請 我 們 睡 在 他 的 家 。\n",
      "({'over_corr': 2, 'total_err': 2, 'true_corr': tensor(2, device='cuda:0')}, {'over_corr': 1, 'total_err': 1, 'true_corr': 0})\n",
      "下 一 天 他 陪 我 去 看 風 京 ， 幫 我 排 照 。\n",
      "下 一 天 他 坐 我 去 看 法 網 ， 幫 我 臭 照 。\n",
      "下 一 天 他 陪 我 去 看 風 景 ， 幫 我 拍 照 。\n",
      "({'over_corr': 2, 'total_err': 2, 'true_corr': tensor(0, device='cuda:0')}, {'over_corr': 1, 'total_err': 1, 'true_corr': 0})\n",
      "這 樣 對 小 孩 子 的 安 全 好 ， 還 會 讓 父 母 請 放 心 。\n",
      "這 樣 對 小 孩 子 的 安 全 好 ， 還 會 讓 父 母 請 放 心 。\n",
      "這 樣 對 小 孩 子 的 安 全 好 ， 還 會 讓 父 母 親 放 心 。\n",
      "({'over_corr': 0, 'total_err': 1, 'true_corr': tensor(0, device='cuda:0')}, {'over_corr': 0, 'total_err': 1, 'true_corr': 0})\n",
      "學 生 每 天 收 到 不 好 的 影 響 ， 比 如 說 ： 暴 力 的 電 影 ， 在 新 聞 常 常 看 警 察 不 能 抓 壞 人 ， 社 會 鼓 勵 大 家 不 關 係 別 人 ， 甚 麼 的 。\n",
      "學 生 每 天 受 到 不 好 的 影 響 ， 比 如 說 ： 環 力 的 電 影 ， 在 新 車 常 常 看 環 保 不 能 空 壞 人 ， 社 會 直 直 大 家 不 關 心 別 人 ， 甚 麼 的 。\n",
      "學 生 每 天 受 到 不 好 的 影 響 ， 比 如 說 ： 暴 力 的 電 影 ， 在 新 聞 常 常 看 警 察 不 能 抓 壞 人 ， 社 會 鼓 勵 大 家 不 關 心 別 人 ， 甚 麼 的 。\n",
      "({'over_corr': 7, 'total_err': 2, 'true_corr': tensor(2, device='cuda:0')}, {'over_corr': 1, 'total_err': 1, 'true_corr': 0})\n",
      "作 天 我 看 到 你 太 太 ， 她 告 訴 你 有 感 冒 。\n",
      "因 天 我 看 到 你 太 太 ， 她 告 訴 你 有 感 高 。\n",
      "昨 天 我 看 到 你 太 太 ， 她 告 訴 你 有 感 冒 。\n",
      "({'over_corr': 1, 'total_err': 1, 'true_corr': tensor(0, device='cuda:0')}, {'over_corr': 1, 'total_err': 1, 'true_corr': 0})\n",
      "我 很 期 待 他 下 一 次 會 來 看 我 。\n",
      "我 很 期 到 他 下 一 次 會 來 看 我 。\n",
      "我 很 期 待 她 下 一 次 會 來 看 我 。\n",
      "({'over_corr': 1, 'total_err': 1, 'true_corr': tensor(0, device='cuda:0')}, {'over_corr': 1, 'total_err': 1, 'true_corr': 0})\n",
      "Epoch 14 Loss: 1.2764709279375168\n",
      "1.2573705505241046 {'over_corr': 2114, 'total_err': 938, 'true_corr': tensor(231, device='cuda:0')} {'over_corr': 582, 'total_err': 701, 'true_corr': 29}\n"
     ]
    },
    {
     "name": "stderr",
     "output_type": "stream",
     "text": [
      "Epoch:15/35: 100%|██████████| 103/103 [00:28<00:00,  3.66it/s, loss=0.911]\n"
     ]
    },
    {
     "name": "stdout",
     "output_type": "stream",
     "text": [
      "裝 攝 影 機 主 要 目 的 是 維 護 教 室 環 境 的 安 全 、 保 護 每 個 學 校 的 成 員 的 權 力 、 及 幫 忙 提 申 學 生 的 學 習 品 質 。\n",
      "裝 攝 影 機 主 要 目 的 是 保 護 教 室 環 境 的 安 全 、 保 護 每 個 學 校 的 成 等 的 意 力 、 及 幫 忙 提 忙 學 生 的 學 習 品 物 。\n",
      "裝 攝 影 機 主 要 目 的 是 維 護 教 室 環 境 的 安 全 、 保 護 每 個 學 校 的 成 員 的 權 利 、 及 幫 忙 提 升 學 生 的 學 習 品 質 。\n",
      "({'over_corr': 4, 'total_err': 2, 'true_corr': tensor(0, device='cuda:0')}, {'over_corr': 1, 'total_err': 1, 'true_corr': 0})\n",
      "放 這 個 機 在 教 室 裡 面 也 可 以 幫 校 長 了 解 孩 子 還 有 什 麼 需 要 還 沒 卻 到 ， 也 能 幫 學 校 安 排 比 較 有 用 和 有 意 思 的 課 程 。\n",
      "放 這 個 機 在 教 室 裡 面 也 可 以 幫 校 長 了 解 孩 子 還 有 什 麼 需 要 還 沒 學 到 ， 也 能 幫 學 校 安 排 比 較 有 用 和 有 意 思 的 課 程 。\n",
      "放 這 個 機 在 教 室 裡 面 也 可 以 幫 校 長 了 解 孩 子 還 有 什 麼 需 要 還 沒 學 到 ， 也 能 幫 學 校 安 排 比 較 有 用 和 有 意 思 的 課 程 。\n",
      "({'over_corr': 0, 'total_err': 1, 'true_corr': tensor(1, device='cuda:0')}, {'over_corr': 0, 'total_err': 1, 'true_corr': 1})\n",
      "父 母 都 讓 我 們 有 自 己 的 想 法 ， 解 決 問 題 ， 再 加 上 受 到 教 育 ， 所 以 覺 得 女 人 也 可 以 坐 跟 男 人 一 樣 。\n",
      "父 母 都 讓 我 們 有 自 己 的 想 法 ， 解 決 問 題 ， 再 加 上 受 到 教 育 ， 所 以 覺 得 女 人 也 可 以 坐 跟 男 人 一 樣 。\n",
      "父 母 都 讓 我 們 有 自 己 的 想 法 ， 解 決 問 題 ， 再 加 上 受 到 教 育 ， 所 以 覺 得 女 人 也 可 以 做 跟 男 人 一 樣 。\n",
      "({'over_corr': 0, 'total_err': 1, 'true_corr': tensor(0, device='cuda:0')}, {'over_corr': 0, 'total_err': 1, 'true_corr': 0})\n",
      "由 之 可 見 ， 在 教 室 裡 裝 攝 影 機 的 壞 處 比 好 處 比 較 多 。\n",
      "由 之 可 見 ， 在 教 室 裡 裝 攝 影 機 的 壞 處 比 好 處 比 較 多 。\n",
      "由 此 可 見 ， 在 教 室 裡 裝 攝 影 機 的 壞 處 比 好 處 比 較 多 。\n",
      "({'over_corr': 0, 'total_err': 1, 'true_corr': tensor(0, device='cuda:0')}, {'over_corr': 0, 'total_err': 1, 'true_corr': 0})\n",
      "我 已 經 進 入 時 會 幾 年 了 ， 我 有 自 己 的 計 劃 ， 自 己 的 目 標 等 等 。\n",
      "我 已 經 進 入 時 會 幾 年 了 ， 我 有 自 己 的 度 下 ， 自 己 的 目 高 等 等 。\n",
      "我 已 經 進 入 社 會 幾 年 了 ， 我 有 自 己 的 計 劃 ， 自 己 的 目 標 等 等 。\n",
      "({'over_corr': 3, 'total_err': 1, 'true_corr': tensor(0, device='cuda:0')}, {'over_corr': 1, 'total_err': 1, 'true_corr': 0})\n",
      "我 感 冒 得 連 飯 都 吃 部 下 ， 而 且 我 走 不 了 多 久 ， 頭 就 暈 了 。\n",
      "我 感 裝 得 連 飯 都 吃 不 下 ， 而 且 我 走 不 了 多 久 ， 。 就 忙 了 。\n",
      "我 感 冒 得 連 飯 都 吃 不 下 ， 而 且 我 走 不 了 多 久 ， 頭 就 暈 了 。\n",
      "({'over_corr': 3, 'total_err': 1, 'true_corr': tensor(1, device='cuda:0')}, {'over_corr': 1, 'total_err': 1, 'true_corr': 0})\n",
      "Epoch 15 Loss: 1.114755292540615\n",
      "1.1249150119044564 {'over_corr': 1775, 'total_err': 938, 'true_corr': tensor(234, device='cuda:0')} {'over_corr': 552, 'total_err': 701, 'true_corr': 36}\n"
     ]
    },
    {
     "name": "stderr",
     "output_type": "stream",
     "text": [
      "Epoch:16/35: 100%|██████████| 103/103 [00:28<00:00,  3.66it/s, loss=0.946]\n"
     ]
    },
    {
     "name": "stdout",
     "output_type": "stream",
     "text": [
      "第 二 狀 況 為 原 本 很 乾 淨 的 鄉 村 開 始 有 臭 味 ， 我 們 不 太 明 白 ， 為 什 麼 櫃 公 司 會 出 來 臭 味 呢 ？\n",
      "第 二 況 況 為 原 本 很 啊 亮 的 環 苦 開 始 有 臭 味 ， 我 們 不 太 明 白 ， 為 什 麼 貴 公 司 會 出 來 臭 味 呢 ？\n",
      "第 二 狀 況 為 原 本 很 乾 淨 的 鄉 村 開 始 有 臭 味 ， 我 們 不 太 明 白 ， 為 什 麼 貴 公 司 會 出 來 臭 味 呢 ？\n",
      "({'over_corr': 5, 'total_err': 1, 'true_corr': tensor(1, device='cuda:0')}, {'over_corr': 1, 'total_err': 1, 'true_corr': 0})\n",
      "現 在 的 社 會 ， 女 人 地 位 已 經 不 同 了 ， 不 知 你 是 否 常 看 新 聞 ， 向 台 灣 的 政 治 人 理 ， 有 呂 修 蓮 曾 當 了 副 總 統 ， 在 學 校 裡 有 很 多 知 名 老 師 都 是 女 生 。\n",
      "現 在 的 社 會 ， 女 人 地 位 已 經 不 同 了 ， 不 知 你 是 甚 常 看 新 聞 ， 像 台 灣 的 政 飯 人 裡 ， 有 忙 休 花 經 當 了 直 總 吧 ， 在 學 校 裡 有 很 多 知 名 老 師 都 是 女 生 。\n",
      "現 在 的 社 會 ， 女 人 地 位 已 經 不 同 了 ， 不 知 你 是 否 常 看 新 聞 ， 像 台 灣 的 政 治 人 裡 ， 有 呂 秀 蓮 曾 當 了 副 總 統 ， 在 學 校 裡 有 很 多 知 名 老 師 都 是 女 生 。\n",
      "({'over_corr': 7, 'total_err': 3, 'true_corr': tensor(2, device='cuda:0')}, {'over_corr': 1, 'total_err': 1, 'true_corr': 0})\n",
      "結 果 ， 前 夫 從 外 面 透 進 來 本 校 ， 在 教 室 裡 殺 了 她 。\n",
      "結 果 ， 前 生 從 外 面 菜 進 來 本 校 ， 在 教 室 裡 壞 了 她 。\n",
      "結 果 ， 前 夫 從 外 面 偷 進 來 本 校 ， 在 教 室 裡 殺 了 她 。\n",
      "({'over_corr': 2, 'total_err': 1, 'true_corr': tensor(0, device='cuda:0')}, {'over_corr': 1, 'total_err': 1, 'true_corr': 0})\n",
      "我 聽 了 就 放 心 了 ， 所 以 我 跟 他 們 全 晚 一 起 跳 無 。\n",
      "我 聽 了 就 放 心 了 ， 所 以 我 跟 他 們 全 晚 一 起 影 、 。\n",
      "我 聽 了 就 放 心 了 ， 所 以 我 跟 他 們 全 晚 一 起 跳 舞 。\n",
      "({'over_corr': 1, 'total_err': 1, 'true_corr': tensor(0, device='cuda:0')}, {'over_corr': 1, 'total_err': 1, 'true_corr': 0})\n",
      "還 沒 說 道 還 很 小 的 小 朋 友 ， 天 天 沒 好 好 的 念 書 ， 一 下 課 就 馬 上 上 網 ， 連 吃 飯 和 洗 澡 都 不 要 做 。\n",
      "還 沒 說 到 還 很 小 的 小 朋 友 ， 天 天 沒 好 好 的 念 書 ， 一 下 課 就 馬 上 上 網 ， 連 吃 飯 和 一 一 都 不 要 做 。\n",
      "還 沒 說 到 還 很 小 的 小 朋 友 ， 天 天 沒 好 好 地 念 書 ， 一 下 課 就 馬 上 上 網 ， 連 吃 飯 和 洗 澡 都 不 要 做 。\n",
      "({'over_corr': 2, 'total_err': 2, 'true_corr': tensor(1, device='cuda:0')}, {'over_corr': 1, 'total_err': 1, 'true_corr': 0})\n",
      "因 為 如 果 我 們 上 網 ， 著 好 的 方 面 去 學 習 是 非 常 好 的 一 件 事 。\n",
      "因 為 如 果 我 們 上 網 ， 著 好 的 方 面 去 學 習 是 非 常 好 的 一 件 事 。\n",
      "因 為 如 果 我 們 上 網 ， 找 好 的 方 面 去 學 習 是 非 常 好 的 一 件 事 。\n",
      "({'over_corr': 0, 'total_err': 1, 'true_corr': tensor(0, device='cuda:0')}, {'over_corr': 0, 'total_err': 1, 'true_corr': 0})\n",
      "Epoch 16 Loss: 0.9758785210766838\n",
      "1.012044989249923 {'over_corr': 1578, 'total_err': 938, 'true_corr': tensor(255, device='cuda:0')} {'over_corr': 527, 'total_err': 701, 'true_corr': 47}\n"
     ]
    },
    {
     "name": "stderr",
     "output_type": "stream",
     "text": [
      "Epoch:17/35: 100%|██████████| 103/103 [00:28<00:00,  3.65it/s, loss=0.736]\n"
     ]
    },
    {
     "name": "stdout",
     "output_type": "stream",
     "text": [
      "希 望 李 工 廠 可 以 聽 我 們 說 話 ， 亭 很 噪 的 工 作 。\n",
      "希 望 李 工 廠 可 以 聽 我 們 說 話 ， 裡 很 噪 的 工 作 。\n",
      "希 望 李 工 廠 可 以 聽 我 們 說 話 ， 停 很 吵 的 工 作 。\n",
      "({'over_corr': 0, 'total_err': 2, 'true_corr': tensor(0, device='cuda:0')}, {'over_corr': 0, 'total_err': 1, 'true_corr': 0})\n",
      "但 是 有 很 多 課 程 不 因 該 在 電 腦 上 教 ， 例 如 語 言 、 閱 讀 、 寫 作 等 。\n",
      "但 是 有 很 多 課 程 不 應 該 在 電 腦 上 教 ， 例 如 語 言 、 讀 讀 、 寫 作 等 。\n",
      "但 是 有 很 多 課 程 不 應 該 在 電 腦 上 教 ， 例 如 語 言 、 閱 讀 、 寫 作 等 。\n",
      "({'over_corr': 1, 'total_err': 1, 'true_corr': tensor(1, device='cuda:0')}, {'over_corr': 1, 'total_err': 1, 'true_corr': 0})\n",
      "我 高 中 的 時 候 都 去 讀 書 館 看 書 。\n",
      "我 高 中 的 時 候 都 去 讀 書 館 看 書 。\n",
      "我 高 中 的 時 候 都 去 圖 書 館 看 書 。\n",
      "({'over_corr': 0, 'total_err': 1, 'true_corr': tensor(0, device='cuda:0')}, {'over_corr': 0, 'total_err': 1, 'true_corr': 0})\n",
      "在 加 上 你 以 前 不 是 說 要 減 肥 嗎 ？ 那 麼 ， 這 就 是 你 的 好 機 會 ， 運 動 也 是 一 件 免 費 的 事 啊 。\n",
      "再 加 上 你 以 前 不 是 說 要 減 呢 嗎 ？ 那 麼 ， 這 就 是 你 的 好 機 會 ， 運 動 也 是 一 件 免 費 的 事 啊 。\n",
      "再 加 上 你 以 前 不 是 說 要 減 肥 嗎 ？ 那 麼 ， 這 就 是 你 的 好 機 會 ， 運 動 也 是 一 件 免 費 的 事 啊 。\n",
      "({'over_corr': 1, 'total_err': 1, 'true_corr': tensor(1, device='cuda:0')}, {'over_corr': 1, 'total_err': 1, 'true_corr': 0})\n",
      "如 果 你 有 空 ， 我 想 這 個 禮 拜 五 情 你 去 吃 飯 。\n",
      "如 果 你 有 空 ， 我 想 這 個 禮 拜 五 請 你 去 吃 飯 。\n",
      "如 果 你 有 空 ， 我 想 這 個 禮 拜 五 請 你 去 吃 飯 。\n",
      "({'over_corr': 0, 'total_err': 1, 'true_corr': tensor(1, device='cuda:0')}, {'over_corr': 0, 'total_err': 1, 'true_corr': 1})\n",
      "有 的 小 孩 她 不 想 這 個 學 校 但 是 父 母 偏 偏 避 他 們 一 定 要 念 這 所 學 校 ， 造 成 他 們 不 喜 歡 念 ， 如 果 念 只 是 一 個 任 務 罷 了 。\n",
      "有 的 小 孩 她 不 想 這 個 學 校 但 是 父 母 部 錯 直 他 們 一 定 要 念 這 所 學 校 ， 造 成 他 們 不 喜 歡 念 ， 如 果 念 只 是 一 個 任 務 吧 了 。\n",
      "有 的 小 孩 她 不 想 這 個 學 校 但 是 父 母 偏 偏 逼 他 們 一 定 要 念 這 所 學 校 ， 造 成 他 們 不 喜 歡 念 ， 如 果 念 只 是 一 個 任 務 罷 了 。\n",
      "({'over_corr': 3, 'total_err': 1, 'true_corr': tensor(0, device='cuda:0')}, {'over_corr': 1, 'total_err': 1, 'true_corr': 0})\n",
      "Epoch 17 Loss: 0.8609410738482058\n",
      "0.9250582917170092 {'over_corr': 1415, 'total_err': 938, 'true_corr': tensor(259, device='cuda:0')} {'over_corr': 511, 'total_err': 701, 'true_corr': 60}\n"
     ]
    },
    {
     "name": "stderr",
     "output_type": "stream",
     "text": [
      "Epoch:18/35: 100%|██████████| 103/103 [00:28<00:00,  3.65it/s, loss=0.717]\n"
     ]
    },
    {
     "name": "stdout",
     "output_type": "stream",
     "text": [
      "他 真 的 很 胡 塗 ， 因 為 他 還 不 會 說 中 文 。\n",
      "他 真 的 很 啤 度 ， 因 為 他 還 不 會 說 中 文 。\n",
      "他 真 的 很 糊 塗 ， 因 為 他 還 不 會 說 中 文 。\n",
      "({'over_corr': 1, 'total_err': 1, 'true_corr': tensor(0, device='cuda:0')}, {'over_corr': 1, 'total_err': 1, 'true_corr': 0})\n",
      "我 聽 到 我 們 公 司 要 實 無 薪 價 後 我 沒 天 準 備 自 己 的 中 餐 帶 去 上 班 ， 這 樣 很 好 算 也 有 覺 得 比 較 乾 淨 。\n",
      "我 聽 到 我 們 公 司 要 實 無 薪 假 後 我 沒 天 準 備 自 己 的 中 餐 帶 去 上 班 ， 這 樣 很 好 算 也 有 覺 得 比 較 乾 。 。\n",
      "我 聽 到 我 們 公 司 要 實 無 薪 假 後 我 每 天 準 備 自 己 的 中 餐 帶 去 上 班 ， 這 樣 很 划 算 也 有 覺 得 比 較 乾 淨 。\n",
      "({'over_corr': 1, 'total_err': 3, 'true_corr': tensor(1, device='cuda:0')}, {'over_corr': 1, 'total_err': 1, 'true_corr': 0})\n",
      "所 以 你 好 好 得 想 要 怎 麼 做 ， 如 果 要 我 幫 甚 麼 忙 隨 時 都 可 以 告 訴 我 。\n",
      "所 以 你 好 好 地 想 要 怎 麼 做 ， 如 果 要 我 幫 甚 麼 忙 隨 時 都 可 以 告 訴 我 。\n",
      "所 以 你 好 好 地 想 要 怎 麼 做 ， 如 果 要 我 幫 甚 麼 忙 隨 時 都 可 以 告 訴 我 。\n",
      "({'over_corr': 0, 'total_err': 1, 'true_corr': tensor(1, device='cuda:0')}, {'over_corr': 0, 'total_err': 1, 'true_corr': 1})\n",
      "他 也 很 喜 歡 發 山 。\n",
      "他 也 很 喜 歡 發 山 。\n",
      "他 也 很 喜 歡 爬 山 。\n",
      "({'over_corr': 0, 'total_err': 1, 'true_corr': tensor(0, device='cuda:0')}, {'over_corr': 0, 'total_err': 1, 'true_corr': 0})\n",
      "我 們 可 以 親 眼 看 到 上 課 發 現 什 麼 事 ， 就 不 用 疑 為 我 們 的 孩 子 或 者 他 的 老 師 。\n",
      "我 們 可 以 親 眼 看 到 上 課 發 現 什 麼 事 ， 就 不 用 以 為 我 們 的 孩 子 或 者 他 的 老 師 。\n",
      "我 們 可 以 親 眼 看 到 上 課 發 現 什 麼 事 ， 就 不 用 以 為 我 們 的 孩 子 或 者 他 的 老 師 。\n",
      "({'over_corr': 0, 'total_err': 1, 'true_corr': tensor(1, device='cuda:0')}, {'over_corr': 0, 'total_err': 1, 'true_corr': 1})\n",
      "但 是 他 很 利 害 每 次 準 所 上 課 的 時 間 ， 而 且 撐 起 也 不 錯 ， 所 以 他 對 自 己 有 信 心 。\n",
      "但 是 他 很 利 害 每 次 準 所 上 課 的 時 間 ， 而 且 成 起 也 不 錯 ， 所 以 他 對 自 己 有 信 心 。\n",
      "但 是 他 很 厲 害 每 次 準 時 上 課 的 時 間 ， 而 且 成 績 也 不 錯 ， 所 以 他 對 自 己 有 信 心 。\n",
      "({'over_corr': 0, 'total_err': 4, 'true_corr': tensor(1, device='cuda:0')}, {'over_corr': 0, 'total_err': 1, 'true_corr': 0})\n",
      "Epoch 18 Loss: 0.7623319162905795\n",
      "0.8507861183448271 {'over_corr': 1287, 'total_err': 938, 'true_corr': tensor(274, device='cuda:0')} {'over_corr': 487, 'total_err': 701, 'true_corr': 65}\n"
     ]
    },
    {
     "name": "stderr",
     "output_type": "stream",
     "text": [
      "Epoch:19/35: 100%|██████████| 103/103 [00:28<00:00,  3.65it/s, loss=0.989]\n"
     ]
    },
    {
     "name": "stdout",
     "output_type": "stream",
     "text": [
      "傳 家 說 父 母 與 孩 子 們 建 立 好 關 係 基 礎 的 最 重 要 時 期 是 孩 子 五 到 十 二 歲 的 時 間 。\n",
      "專 家 說 父 母 與 孩 子 們 建 立 好 關 係 餐 酒 的 最 重 要 時 期 是 孩 子 五 到 十 二 十 的 時 間 。\n",
      "專 家 說 父 母 與 孩 子 們 建 立 好 關 係 基 礎 的 最 重 要 時 期 是 孩 子 五 到 十 二 歲 的 時 間 。\n",
      "({'over_corr': 3, 'total_err': 1, 'true_corr': tensor(1, device='cuda:0')}, {'over_corr': 1, 'total_err': 1, 'true_corr': 0})\n",
      "因 為 最 近 我 不 舒 服 ， 我 想 去 看 醫 生 ， 所 以 我 明 天 不 難 去 上 課 。\n",
      "因 為 最 近 我 不 舒 服 ， 我 想 去 看 醫 生 ， 所 以 我 明 天 不 能 去 上 課 。\n",
      "因 為 最 近 我 不 舒 服 ， 我 想 去 看 醫 生 ， 所 以 我 明 天 不 能 去 上 課 。\n",
      "({'over_corr': 0, 'total_err': 1, 'true_corr': tensor(1, device='cuda:0')}, {'over_corr': 0, 'total_err': 1, 'true_corr': 1})\n",
      "畢 業 找 高 薪 的 工 作 常 常 是 不 得 已 的 ， 不 然 怎 們 能 還 清 借 來 的 學 費 。\n",
      "畢 業 找 高 薪 的 工 作 常 常 是 不 得 已 的 ， 不 然 怎 麼 能 還 清 接 來 的 學 費 。\n",
      "畢 業 找 高 薪 的 工 作 常 常 是 不 得 已 的 ， 不 然 怎 麼 能 還 清 借 來 的 學 費 。\n",
      "({'over_corr': 1, 'total_err': 1, 'true_corr': tensor(1, device='cuda:0')}, {'over_corr': 1, 'total_err': 1, 'true_corr': 0})\n",
      "優 秀 學 生 讀 錢 多 的 係 ， 可 是 常 常 不 是 他 們 所 愛 的 科 目 ， 這 就 照 成 問 題 。\n",
      "優 康 學 生 讀 錢 多 的 係 ， 可 是 常 常 不 是 他 們 所 愛 的 科 目 ， 這 就 照 成 問 題 。\n",
      "優 秀 學 生 讀 錢 多 的 系 ， 可 是 常 常 不 是 他 們 所 愛 的 科 目 ， 這 就 照 成 問 題 。\n",
      "({'over_corr': 1, 'total_err': 1, 'true_corr': tensor(0, device='cuda:0')}, {'over_corr': 1, 'total_err': 1, 'true_corr': 0})\n",
      "隨 之 社 會 的 進 步 及 競 爭 ， 還 有 物 價 不 斷 的 攀 升 導 致 生 活 更 有 挑 戰 。\n",
      "隨 之 社 會 的 進 步 及 責 苦 ， 還 有 物 費 不 斷 地 餐 餐 導 致 生 活 更 有 酒 站 。\n",
      "隨 著 社 會 的 進 步 及 競 爭 ， 還 有 物 價 不 斷 地 攀 升 導 致 生 活 更 有 挑 戰 。\n",
      "({'over_corr': 7, 'total_err': 2, 'true_corr': tensor(1, device='cuda:0')}, {'over_corr': 1, 'total_err': 1, 'true_corr': 0})\n",
      "但 是 「 教 室 裡 該 不 該 裝 攝 影 機 」 這 個 議 題 不 但 只 談 到 技 術 的 問 題 ， 而 是 牽 涉 到 「 人 文 道 德 」 的 領 域 了 。\n",
      "但 是 「 教 室 裡 該 不 該 裝 攝 影 機 」 這 個 議 題 不 但 只 談 到 技 吧 的 問 題 ， 而 是 啤 啊 到 「 人 文 道 德 」 的 照 鄰 了 。\n",
      "但 是 「 教 室 裡 該 不 該 裝 攝 影 機 」 這 個 議 題 不 單 只 談 到 技 術 的 問 題 ， 而 是 牽 涉 到 「 人 文 道 德 」 的 領 域 了 。\n",
      "({'over_corr': 5, 'total_err': 1, 'true_corr': tensor(0, device='cuda:0')}, {'over_corr': 1, 'total_err': 1, 'true_corr': 0})\n",
      "Epoch 19 Loss: 0.6784578174063303\n",
      "0.7882655506784265 {'over_corr': 1150, 'total_err': 938, 'true_corr': tensor(292, device='cuda:0')} {'over_corr': 452, 'total_err': 701, 'true_corr': 87}\n"
     ]
    },
    {
     "name": "stderr",
     "output_type": "stream",
     "text": [
      "Epoch:20/35: 100%|██████████| 103/103 [00:28<00:00,  3.65it/s, loss=0.937]\n"
     ]
    },
    {
     "name": "stdout",
     "output_type": "stream",
     "text": [
      "他 們 在 餐 廳 吃 好 好 的 菜 ， 然 後 她 男 朋 友 代 去 上 海 有 名 的 地 方 。\n",
      "他 們 在 餐 廳 吃 好 好 的 菜 ， 然 後 她 男 朋 友 帶 去 上 念 有 名 的 地 方 。\n",
      "他 們 在 餐 廳 吃 好 好 的 菜 ， 然 後 她 男 朋 友 帶 去 上 海 有 名 的 地 方 。\n",
      "({'over_corr': 1, 'total_err': 1, 'true_corr': tensor(1, device='cuda:0')}, {'over_corr': 1, 'total_err': 1, 'true_corr': 0})\n",
      "那 個 人 可 以 自 由 的 談 他 們 的 興 趣 ， 恐 怕 ， 夢 想 ， 也 擦 掉 其 他 的 人 的 反 應 。\n",
      "那 個 人 可 以 自 由 地 談 他 們 的 興 趣 ， 怕 怕 ， 兒 想 ， 也 壞 掉 其 他 的 人 的 反 應 。\n",
      "那 個 人 可 以 自 由 地 談 他 們 的 興 趣 ， 恐 怕 ， 夢 想 ， 也 擦 掉 其 他 的 人 的 反 應 。\n",
      "({'over_corr': 3, 'total_err': 1, 'true_corr': tensor(1, device='cuda:0')}, {'over_corr': 1, 'total_err': 1, 'true_corr': 0})\n",
      "我 是 王 天 華 ， 代 表 這 區 的 民 眾 來 給 您 寫 一 封 信 ， 關 於 您 的 工 廠 所 造 成 的 實 像 。\n",
      "我 是 王 天 華 ， 代 表 這 區 的 民 眾 來 給 您 寫 一 封 信 ， 關 於 您 的 工 廠 所 造 成 的 實 響 。\n",
      "我 是 王 天 華 ， 代 表 這 區 的 民 眾 來 給 您 寫 一 封 信 ， 關 於 您 的 工 廠 所 造 成 的 事 項 。\n",
      "({'over_corr': 0, 'total_err': 2, 'true_corr': tensor(0, device='cuda:0')}, {'over_corr': 0, 'total_err': 1, 'true_corr': 0})\n",
      "我 也 知 道 家 裡 附 近 有 工 廠 的 居 民 難 免 會 收 到 一 些 影 響 但 在 合 理 規 定 範 圍 內 是 可 以 接 收 的 。\n",
      "我 也 知 道 家 裡 附 近 有 工 廠 的 居 民 難 免 會 受 到 一 些 影 響 但 在 合 理 規 定 拿 拿 內 是 可 以 接 受 的 。\n",
      "我 也 知 道 家 裡 附 近 有 工 廠 的 居 民 難 免 會 受 到 一 些 影 響 但 在 合 理 規 定 範 圍 內 是 可 以 接 受 的 。\n",
      "({'over_corr': 2, 'total_err': 2, 'true_corr': tensor(2, device='cuda:0')}, {'over_corr': 1, 'total_err': 1, 'true_corr': 0})\n",
      "最 後 ， 我 很 早 就 有 了 我 自 己 的 規 劃 。 已 經 投 入 了 不 少 時 間 與 力 氣 。 如 果 現 在 把 一 切 所 做 的 事 放 妻 ， 那 就 會 半 途 而 廢 ， 會 太 可 惜 了 ！\n",
      "最 後 ， 我 很 早 就 有 了 我 自 己 的 規 劃 。 已 經 投 入 了 不 少 時 間 與 力 氣 。 如 果 現 在 把 一 走 所 做 的 事 放 直 ， 那 就 會 半 結 而 臭 ， 會 太 可 了 了 ！\n",
      "最 後 ， 我 很 早 就 有 了 我 自 己 的 規 劃 。 已 經 投 入 了 不 少 時 間 與 力 氣 。 如 果 現 在 把 一 切 所 做 的 事 放 棄 ， 那 就 會 半 途 而 廢 ， 會 太 可 惜 了 ！\n",
      "({'over_corr': 4, 'total_err': 1, 'true_corr': tensor(0, device='cuda:0')}, {'over_corr': 1, 'total_err': 1, 'true_corr': 0})\n",
      "我 們 提 針 下 列 方 法 、 加 一 張 壁 板 在 工 廠 周 圍 、 加 廢 棄 氣 回 收 機 在 屋 頂 、 廢 棄 水 慮 可 機 等 。\n",
      "我 們 提 針 下 位 方 法 、 加 一 張 壁 裝 在 工 廠 週 末 、 加 菜 直 氣 回 收 機 在 菜 立 、 臭 裝 水 絡 可 機 等 。\n",
      "我 們 提 針 下 列 方 法 、 加 一 張 壁 板 在 工 廠 週 圍 、 加 廢 棄 氣 回 收 機 在 屋 頂 、 廢 棄 水 濾 可 機 等 。\n",
      "({'over_corr': 9, 'total_err': 2, 'true_corr': tensor(1, device='cuda:0')}, {'over_corr': 1, 'total_err': 1, 'true_corr': 0})\n",
      "Epoch 20 Loss: 0.6041177815025293\n",
      "0.7353935390710831 {'over_corr': 1055, 'total_err': 938, 'true_corr': tensor(304, device='cuda:0')} {'over_corr': 439, 'total_err': 701, 'true_corr': 98}\n"
     ]
    },
    {
     "name": "stderr",
     "output_type": "stream",
     "text": [
      "Epoch:21/35: 100%|██████████| 103/103 [00:28<00:00,  3.66it/s, loss=0.678]\n"
     ]
    },
    {
     "name": "stdout",
     "output_type": "stream",
     "text": [
      "如 果 你 們 不 處 理 的 那 我 們 不 會 可 汽 啦 ！\n",
      "如 果 你 們 不 處 理 的 那 我 們 不 會 客 氣 了 ！\n",
      "如 果 你 們 不 處 理 的 那 我 們 不 會 客 氣 啦 ！\n",
      "({'over_corr': 1, 'total_err': 2, 'true_corr': tensor(2, device='cuda:0')}, {'over_corr': 1, 'total_err': 1, 'true_corr': 0})\n",
      "從 古 以 來 女 人 結 婚 後 就 在 家 裡 照 顧 丈 夫 和 孩 子 、 做 家 事 甚 麼 的 ， 而 男 人 必 須 到 外 面 去 、 工 作 賺 錢 養 家 ， 優 其 是 亞 洲 人 的 國 家 。\n",
      "從 張 以 來 女 人 結 婚 後 就 在 家 裡 照 顧 寵 夫 和 孩 子 、 做 家 事 甚 麼 的 ， 而 男 人 必 須 到 外 面 去 、 工 作 賺 錢 養 家 ， 尤 其 是 走 洲 人 的 國 家 。\n",
      "從 古 以 來 女 人 結 婚 後 就 在 家 裡 照 顧 丈 夫 和 孩 子 、 做 家 事 甚 麼 的 ， 而 男 人 必 須 到 外 面 去 、 工 作 賺 錢 養 家 ， 尤 其 是 亞 洲 人 的 國 家 。\n",
      "({'over_corr': 3, 'total_err': 1, 'true_corr': tensor(1, device='cuda:0')}, {'over_corr': 1, 'total_err': 1, 'true_corr': 0})\n",
      "不 久 下 了 大 雨 ， 害 他 們 手 忙 腳 亂 找 不 林 雨 的 地 方 。\n",
      "不 久 下 了 大 雨 ， 害 他 們 手 忙 原 乾 找 不 林 雨 的 地 方 。\n",
      "不 久 下 了 大 雨 ， 害 他 們 手 忙 腳 亂 找 不 淋 雨 的 地 方 。\n",
      "({'over_corr': 2, 'total_err': 1, 'true_corr': tensor(0, device='cuda:0')}, {'over_corr': 1, 'total_err': 1, 'true_corr': 0})\n",
      "他 們 花 很 多 時 間 ， 任 何 事 情 多 不 管 了 ， 這 件 事 情 很 嚴 重 了 。\n",
      "他 們 花 很 多 時 間 ， 任 何 事 情 多 不 管 了 ， 這 件 事 情 很 嚴 重 了 。\n",
      "他 們 花 很 多 時 間 ， 任 何 事 情 都 不 管 了 ， 這 件 事 情 很 嚴 重 了 。\n",
      "({'over_corr': 0, 'total_err': 1, 'true_corr': tensor(0, device='cuda:0')}, {'over_corr': 0, 'total_err': 1, 'true_corr': 0})\n",
      "但 碰 到 這 樣 的 煩 惱 我 真 的 不 可 奈 何 。\n",
      "但 碰 到 這 樣 的 煩 吧 我 真 的 不 可 酒 何 。\n",
      "但 碰 到 這 樣 的 煩 惱 我 真 的 無 可 奈 何 。\n",
      "({'over_corr': 2, 'total_err': 1, 'true_corr': tensor(0, device='cuda:0')}, {'over_corr': 1, 'total_err': 1, 'true_corr': 0})\n",
      "主 要 是 不 用 去 在 意 這 個 事 情 ， 想 太 多 就 會 浪 費 時 間 ， 好 好 保 獲 時 間 去 念 書 比 較 好 。\n",
      "主 要 是 不 用 去 在 意 這 個 事 情 ， 想 太 多 就 會 浪 費 時 間 ， 好 好 保 獲 時 間 去 念 書 比 較 好 。\n",
      "主 要 是 不 用 去 在 意 這 個 事 情 ， 想 太 多 就 會 浪 費 時 間 ， 好 好 把 握 時 間 去 念 書 比 較 好 。\n",
      "({'over_corr': 0, 'total_err': 2, 'true_corr': tensor(0, device='cuda:0')}, {'over_corr': 0, 'total_err': 1, 'true_corr': 0})\n",
      "Epoch 21 Loss: 0.5397410514285264\n",
      "0.6842183355580677 {'over_corr': 933, 'total_err': 938, 'true_corr': tensor(329, device='cuda:0')} {'over_corr': 405, 'total_err': 701, 'true_corr': 115}\n"
     ]
    },
    {
     "name": "stderr",
     "output_type": "stream",
     "text": [
      "Epoch:22/35: 100%|██████████| 103/103 [00:28<00:00,  3.65it/s, loss=0.446]\n"
     ]
    },
    {
     "name": "stdout",
     "output_type": "stream",
     "text": [
      "看 著 電 影 ， 大 名 要 說 給 他 知 道 她 很 喜 歡 她 ， 所 以 他 現 在 不 要 去 上 課 ， 就 要 去 電 影 院 。\n",
      "看 著 電 影 ， 大 明 要 說 給 他 知 道 她 很 喜 歡 她 ， 所 以 他 現 在 不 要 去 上 課 ， 就 要 去 電 影 院 。\n",
      "看 著 電 影 ， 大 明 要 說 給 他 知 道 她 很 喜 歡 她 ， 所 以 他 現 在 不 要 去 上 課 ， 就 要 去 電 影 院 。\n",
      "({'over_corr': 0, 'total_err': 1, 'true_corr': tensor(1, device='cuda:0')}, {'over_corr': 0, 'total_err': 1, 'true_corr': 1})\n",
      "「 青 少 年 上 網 得 數 多 」 的 情 況 。\n",
      "「 青 少 年 上 網 時 數 多 」 的 情 況 。\n",
      "「 青 少 年 上 網 時 數 多 」 的 情 況 。\n",
      "({'over_corr': 0, 'total_err': 1, 'true_corr': tensor(1, device='cuda:0')}, {'over_corr': 0, 'total_err': 1, 'true_corr': 1})\n",
      "她 恨 票 亮 ， 到 晚 上 我 請 他 先 吃 飯 ， 在 去 玩 。\n",
      "她 很 漂 亮 ， 到 晚 上 我 請 他 先 吃 飯 ， 再 去 玩 。\n",
      "她 很 漂 亮 ， 到 晚 上 我 請 他 先 吃 飯 ， 再 去 玩 。\n",
      "({'over_corr': 0, 'total_err': 3, 'true_corr': tensor(3, device='cuda:0')}, {'over_corr': 0, 'total_err': 1, 'true_corr': 1})\n",
      "這 樣 的 研 究 結 果 引 起 了 他 家 的 主 目 ， 而 且 就 學 的 競 爭 越 來 極 烈 ， 人 民 急 急 忙 忙 地 把 孩 子 推 到 補 習 班 去 了 。\n",
      "這 樣 的 研 究 結 果 起 起 了 他 家 的 注 目 ， 而 且 就 學 的 責 壓 越 來 極 討 ， 人 民 急 急 忙 忙 地 把 孩 子 推 到 裡 習 班 去 了 。\n",
      "這 樣 的 研 究 結 果 引 起 了 他 家 的 注 目 ， 而 且 就 學 的 競 爭 越 來 極 烈 ， 人 民 急 急 忙 忙 地 把 孩 子 推 到 補 習 班 去 了 。\n",
      "({'over_corr': 5, 'total_err': 1, 'true_corr': tensor(1, device='cuda:0')}, {'over_corr': 1, 'total_err': 1, 'true_corr': 0})\n",
      "大 明 進 張 得 不 得 了 。\n",
      "大 明 緊 張 得 不 得 了 。\n",
      "大 明 緊 張 得 不 得 了 。\n",
      "({'over_corr': 0, 'total_err': 1, 'true_corr': tensor(1, device='cuda:0')}, {'over_corr': 0, 'total_err': 1, 'true_corr': 1})\n",
      "如 果 你 缺 錢 的 話 你 跟 我 說 ， 我 借 給 你 或 著 我 們 想 別 的 辦 法 。\n",
      "如 果 你 缺 錢 的 話 你 跟 我 說 ， 我 接 給 你 或 者 我 們 想 別 的 辦 法 。\n",
      "如 果 你 缺 錢 的 話 你 跟 我 說 ， 我 借 給 你 或 者 我 們 想 別 的 辦 法 。\n",
      "({'over_corr': 1, 'total_err': 1, 'true_corr': tensor(1, device='cuda:0')}, {'over_corr': 1, 'total_err': 1, 'true_corr': 0})\n",
      "Epoch 22 Loss: 0.4841449427083858\n",
      "0.652627940882336 {'over_corr': 848, 'total_err': 938, 'true_corr': tensor(312, device='cuda:0')} {'over_corr': 383, 'total_err': 701, 'true_corr': 122}\n"
     ]
    },
    {
     "name": "stderr",
     "output_type": "stream",
     "text": [
      "Epoch:23/35: 100%|██████████| 103/103 [00:28<00:00,  3.66it/s, loss=0.443]\n"
     ]
    },
    {
     "name": "stdout",
     "output_type": "stream",
     "text": [
      "我 覺 得 校 長 的 作 法 對 家 長 、 孩 子 跟 學 校 都 不 好 。\n",
      "我 覺 得 校 長 的 做 法 對 家 長 、 孩 子 跟 學 校 都 不 好 。\n",
      "我 覺 得 校 長 的 做 法 對 家 長 、 孩 子 跟 學 校 都 不 好 。\n",
      "({'over_corr': 0, 'total_err': 1, 'true_corr': tensor(1, device='cuda:0')}, {'over_corr': 0, 'total_err': 1, 'true_corr': 1})\n",
      "俗 話 說 ： 魚 和 熊 張 不 可 得 。 我 一 定 要 選 擇 的 話 ， 我 支 持 環 景 保 呼 為 甚 麼 呢 ？ 我 大 概 想 兩 個 方 面 。\n",
      "俗 話 說 ： 魚 和 餅 張 不 可 調 得 。 我 一 定 要 選 擇 的 話 ， 我 支 持 環 境 保 護 為 甚 麼 呢 ？ 我 大 該 想 兩 個 方 面 。\n",
      "俗 話 說 ： 魚 和 熊 掌 不 可 兼 得 。 我 一 定 要 選 擇 的 話 ， 我 支 持 環 境 保 護 為 甚 麼 呢 ？ 我 大 概 想 兩 個 方 面 。\n",
      "({'over_corr': 2, 'total_err': 4, 'true_corr': tensor(2, device='cuda:0')}, {'over_corr': 1, 'total_err': 1, 'true_corr': 0})\n",
      "當 時 我 也 何 你 一 樣 很 不 高 興 ， 不 過 我 跟 他 講 ， 如 果 他 有 隨 便 壞 我 是 它 的 權 力 的 話 ， 事 情 明 確 揭 曉 之 後 向 我 道 歉 是 疑 務 。\n",
      "當 時 我 也 何 你 一 樣 很 不 高 興 ， 不 過 我 跟 他 講 ， 如 果 他 有 隨 便 壞 我 是 它 的 權 力 的 話 ， 事 情 明 確 週 裝 之 後 向 我 道 住 是 疑 務 。\n",
      "當 時 我 也 和 你 一 樣 很 不 高 興 ， 不 過 我 跟 他 講 ， 如 果 他 有 隨 便 壞 我 是 它 的 權 力 的 話 ， 事 情 明 確 揭 曉 之 後 向 我 道 歉 是 疑 務 。\n",
      "({'over_corr': 3, 'total_err': 1, 'true_corr': tensor(0, device='cuda:0')}, {'over_corr': 1, 'total_err': 1, 'true_corr': 0})\n",
      "當 地 居 民 （ 如 花 連 居 民 ） 的 意 願 很 正 常 ， 可 以 瞭 解 。 因 為 誰 都 希 望 自 己 的 生 活 變 好 。 不 過 ， 如 果 因 為 要 經 濟 發 展 而 犧 牲 這 些 美 麗 風 景 ， 我 覺 得 不 太 值 得 去 作 。\n",
      "當 地 居 民 （ 如 花 蓮 居 民 ） 的 意 願 很 正 常 ， 可 以 此 解 。 因 為 誰 都 希 望 自 己 的 生 活 變 好 。 不 過 ， 如 果 因 為 要 經 濟 發 展 而 破 壞 這 些 美 絡 風 景 ， 我 覺 得 不 太 直 得 去 做 。\n",
      "當 地 居 民 （ 如 花 蓮 居 民 ） 的 意 願 很 正 常 ， 可 以 瞭 解 。 因 為 誰 都 希 望 自 己 的 生 活 變 好 。 不 過 ， 如 果 因 為 要 經 濟 發 展 而 犧 牲 這 些 美 麗 風 景 ， 我 覺 得 不 太 值 得 去 做 。\n",
      "({'over_corr': 5, 'total_err': 2, 'true_corr': tensor(2, device='cuda:0')}, {'over_corr': 1, 'total_err': 1, 'true_corr': 0})\n",
      "今 天 在 上 課 學 到 最 難 得 課 ， 我 跟 別 的 同 學 也 覺 得 本 來 是 這 樣 ， 我 的 同 學 不 太 懂 ， 正 好 我 昨 天 剛 才 念 這 個 問 題 ， 所 以 把 他 不 懂 的 問 題 再 教 給 他 。\n",
      "今 天 在 上 課 學 到 最 難 的 課 ， 我 跟 別 的 同 學 也 覺 得 本 來 是 這 樣 ， 我 的 同 學 不 太 懂 ， 正 好 我 昨 天 剛 才 念 這 個 問 題 ， 所 以 把 他 不 懂 的 問 題 再 教 給 他 。\n",
      "今 天 在 上 課 學 到 最 難 的 課 ， 我 跟 別 的 同 學 也 覺 得 本 來 是 這 樣 ， 我 的 同 學 不 太 懂 ， 正 好 我 昨 天 剛 才 念 這 個 問 題 ， 所 以 把 他 不 懂 的 問 題 再 教 給 他 。\n",
      "({'over_corr': 0, 'total_err': 1, 'true_corr': tensor(1, device='cuda:0')}, {'over_corr': 0, 'total_err': 1, 'true_corr': 1})\n",
      "你 們 可 以 坐 市 大 公 車 來 到 我 們 的 家 對 面 。\n",
      "你 們 可 以 坐 師 大 公 車 來 到 我 們 的 家 對 面 。\n",
      "你 們 可 以 坐 師 大 公 車 來 到 我 們 的 家 對 面 。\n",
      "({'over_corr': 0, 'total_err': 1, 'true_corr': tensor(1, device='cuda:0')}, {'over_corr': 0, 'total_err': 1, 'true_corr': 1})\n",
      "Epoch 23 Loss: 0.4363006946531314\n",
      "0.6136197644201192 {'over_corr': 773, 'total_err': 938, 'true_corr': tensor(329, device='cuda:0')} {'over_corr': 356, 'total_err': 701, 'true_corr': 133}\n"
     ]
    },
    {
     "name": "stderr",
     "output_type": "stream",
     "text": [
      "Epoch:24/35: 100%|██████████| 103/103 [00:28<00:00,  3.65it/s, loss=0.231]\n"
     ]
    },
    {
     "name": "stdout",
     "output_type": "stream",
     "text": [
      "我 已 經 自 己 能 到 公 館 捷 運 站 了 ， 可 是 看 地 圖 也 都 看 不 懂 怎 嗎 去 學 校\n",
      "我 已 經 自 己 能 到 公 館 捷 運 站 了 ， 可 是 看 地 圖 也 都 看 不 懂 怎 麼 去 學 校\n",
      "我 已 經 自 己 能 到 公 館 捷 運 站 了 ， 可 是 看 地 圖 也 都 看 不 懂 怎 麼 去 學 校\n",
      "({'over_corr': 0, 'total_err': 1, 'true_corr': tensor(1, device='cuda:0')}, {'over_corr': 0, 'total_err': 1, 'true_corr': 1})\n",
      "可 是 以 前 的 環 境 的 話 女 人 結 婚 生 孩 子 之 後 沒 辦 法 繼 續 工 作 。 因 為 社 會 沒 有 結 婚 生 孩 子 之 後 女 人 可 以 繼 續 公 做 的 安 排 。\n",
      "可 是 以 前 的 環 境 的 話 女 人 結 婚 生 孩 子 之 後 沒 辦 法 繼 續 工 作 。 因 為 社 會 沒 有 結 婚 生 孩 子 之 後 女 人 可 以 繼 續 工 作 的 安 排 。\n",
      "可 是 以 前 的 環 境 的 話 女 人 結 婚 生 孩 子 之 後 沒 辦 法 繼 續 工 作 。 因 為 社 會 沒 有 結 婚 生 孩 子 之 後 女 人 可 以 繼 續 工 作 的 安 排 。\n",
      "({'over_corr': 0, 'total_err': 2, 'true_corr': tensor(2, device='cuda:0')}, {'over_corr': 0, 'total_err': 1, 'true_corr': 1})\n",
      "我 們 跳 無 完 的 以 後 ， 就 回 家 了 。\n",
      "我 們 跳 舞 完 的 以 後 ， 就 回 家 了 。\n",
      "我 們 跳 舞 完 的 以 後 ， 就 回 家 了 。\n",
      "({'over_corr': 0, 'total_err': 1, 'true_corr': tensor(1, device='cuda:0')}, {'over_corr': 0, 'total_err': 1, 'true_corr': 1})\n",
      "去 醫 院 之 後 一 聲 說 ， 很 吵 的 環 境 平 常 對 小 朋 友 的 身 體 有 很 大 的 影 響 。\n",
      "去 醫 院 之 後 一 生 說 ， 很 吵 的 環 境 平 常 對 小 朋 友 的 身 體 有 很 大 的 影 響 。\n",
      "去 醫 院 之 後 醫 生 說 ， 很 吵 的 環 境 平 常 對 小 朋 友 的 身 體 有 很 大 的 影 響 。\n",
      "({'over_corr': 0, 'total_err': 2, 'true_corr': tensor(1, device='cuda:0')}, {'over_corr': 0, 'total_err': 1, 'true_corr': 0})\n",
      "小 文 、 小 明 和 小 華 在 考 。\n",
      "小 文 、 小 明 和 小 華 在 考 。\n",
      "小 文 、 小 明 和 小 華 在 烤 。\n",
      "({'over_corr': 0, 'total_err': 1, 'true_corr': tensor(0, device='cuda:0')}, {'over_corr': 0, 'total_err': 1, 'true_corr': 0})\n",
      "寵 物 出 租 可 以 讓 我 們 高 興 ， 也 可 以 舒 發 壓 力 ， 這 樣 才 可 以 享 受 人 生 的 樂 趣 阿 。\n",
      "寵 物 出 租 可 以 讓 我 們 高 興 ， 也 可 以 舒 發 壓 力 ， 這 樣 才 可 以 享 受 人 生 的 樂 趣 啊 。\n",
      "寵 物 出 租 可 以 讓 我 們 高 興 ， 也 可 以 舒 發 壓 力 ， 這 樣 才 可 以 享 受 人 生 的 樂 趣 啊 。\n",
      "({'over_corr': 0, 'total_err': 1, 'true_corr': tensor(1, device='cuda:0')}, {'over_corr': 0, 'total_err': 1, 'true_corr': 1})\n",
      "Epoch 24 Loss: 0.3938446762492356\n",
      "0.5836229033090852 {'over_corr': 703, 'total_err': 938, 'true_corr': tensor(318, device='cuda:0')} {'over_corr': 341, 'total_err': 701, 'true_corr': 128}\n"
     ]
    },
    {
     "name": "stderr",
     "output_type": "stream",
     "text": [
      "Epoch:25/35: 100%|██████████| 103/103 [00:28<00:00,  3.66it/s, loss=0.234]\n"
     ]
    },
    {
     "name": "stdout",
     "output_type": "stream",
     "text": [
      "建 立 一 條 公 路 事 帶 給 住 在 那 裡 的 人 多 少 的 利 益 呢 ？ 那 個 是 完 全 的 嗎 ？ 那 個 是 永 遠 的 嗎 ？\n",
      "建 立 一 條 公 路 是 帶 給 住 在 那 裡 的 人 多 少 的 利 益 呢 ？ 那 個 是 完 全 的 嗎 ？ 那 個 是 永 遠 的 嗎 ？\n",
      "建 立 一 條 公 路 是 帶 給 住 在 那 裡 的 人 多 少 的 利 益 呢 ？ 那 個 是 完 全 的 嗎 ？ 那 個 是 永 遠 的 嗎 ？\n",
      "({'over_corr': 0, 'total_err': 1, 'true_corr': tensor(1, device='cuda:0')}, {'over_corr': 0, 'total_err': 1, 'true_corr': 1})\n",
      "如 果 你 真 覺 得 受 不 了 ， 請 你 剛 快 把 你 最 重 要 的 東 西 準 備 好 ， 馬 上 來 台 北 找 我 ！\n",
      "如 果 你 真 覺 得 受 不 了 ， 請 你 趕 快 把 你 最 重 要 的 東 西 準 備 好 ， 馬 上 來 台 北 找 我 ！\n",
      "如 果 你 真 覺 得 受 不 了 ， 請 你 趕 快 把 你 最 重 要 的 東 西 準 備 好 ， 馬 上 來 台 北 找 我 ！\n",
      "({'over_corr': 0, 'total_err': 1, 'true_corr': tensor(1, device='cuda:0')}, {'over_corr': 0, 'total_err': 1, 'true_corr': 1})\n",
      "很 高 興 聽 到 你 的 消 息 。 應 為 我 們 好 像 很 久 沒 有 聯 絡 。\n",
      "很 高 興 聽 到 你 的 消 息 。 因 為 我 們 好 像 很 久 沒 有 聯 絡 。\n",
      "很 高 興 聽 到 你 的 消 息 。 因 為 我 們 好 像 很 久 沒 有 聯 絡 。\n",
      "({'over_corr': 0, 'total_err': 1, 'true_corr': tensor(1, device='cuda:0')}, {'over_corr': 0, 'total_err': 1, 'true_corr': 1})\n",
      "老 師 的 薪 要 加 比 較 高 ， 因 為 他 們 是 對 孩 子 最 近 的 人 們 ， 他 們 因 該 辛 苦 了 。\n",
      "老 師 的 薪 要 加 比 較 高 ， 因 為 他 們 是 對 孩 子 最 近 的 人 們 ， 他 們 應 該 辛 苦 了 。\n",
      "老 師 的 薪 要 加 比 較 高 ， 因 為 他 們 是 對 孩 子 最 近 的 人 們 ， 他 們 應 該 辛 苦 了 。\n",
      "({'over_corr': 0, 'total_err': 1, 'true_corr': tensor(1, device='cuda:0')}, {'over_corr': 0, 'total_err': 1, 'true_corr': 1})\n",
      "開 車 的 人 聽 了 他 的 華 馬 上 說 ： 「 我 可 以 用 我 的 車 陪 你 去 ， 好 不 好 ？ 」\n",
      "開 車 的 人 聽 了 他 的 話 馬 上 說 ： 「 我 可 以 用 我 的 車 陪 你 去 ， 好 不 好 ？ 」\n",
      "開 車 的 人 聽 了 他 的 話 馬 上 說 ： 「 我 可 以 用 我 的 車 陪 你 去 ， 好 不 好 ？ 」\n",
      "({'over_corr': 0, 'total_err': 1, 'true_corr': tensor(1, device='cuda:0')}, {'over_corr': 0, 'total_err': 1, 'true_corr': 1})\n",
      "我 覺 得 你 可 以 利 用 空 堂 時 間 ， 找 個 家 教 、 臨 時 打 工 也 不 錯 ， 或 著 利 用 現 在 多 多 休 息 ， 等 到 經 濟 恢 復 經 濟 之 後 ， 在 努 力 工 作 就 可 以 的 。\n",
      "我 覺 得 你 可 以 利 用 空 啤 時 間 ， 找 個 家 教 、 院 時 打 工 也 不 錯 ， 或 者 利 用 現 在 多 多 休 息 ， 等 到 經 濟 恢 復 經 濟 之 後 ， 在 努 力 工 作 就 可 以 的 。\n",
      "我 覺 得 你 可 以 利 用 空 檔 時 間 ， 找 個 家 教 、 臨 時 打 工 也 不 錯 ， 或 者 利 用 現 在 多 多 休 息 ， 等 到 經 濟 恢 復 經 濟 之 後 ， 再 努 力 工 作 就 可 以 的 。\n",
      "({'over_corr': 1, 'total_err': 3, 'true_corr': tensor(1, device='cuda:0')}, {'over_corr': 1, 'total_err': 1, 'true_corr': 0})\n",
      "Epoch 25 Loss: 0.3564720632671152\n",
      "0.5634537413716316 {'over_corr': 659, 'total_err': 938, 'true_corr': tensor(320, device='cuda:0')} {'over_corr': 332, 'total_err': 701, 'true_corr': 138}\n"
     ]
    },
    {
     "name": "stderr",
     "output_type": "stream",
     "text": [
      "Epoch:26/35: 100%|██████████| 103/103 [00:28<00:00,  3.66it/s, loss=0.335]\n"
     ]
    },
    {
     "name": "stdout",
     "output_type": "stream",
     "text": [
      "他 們 吃 了 完 乾 ， 也 喝 了 完 啤 酒 。\n",
      "他 們 吃 了 完 餅 乾 ， 也 喝 了 完 啤 酒 。\n",
      "他 們 吃 了 完 餅 乾 ， 也 喝 了 完 啤 酒 。\n",
      "({'over_corr': 0, 'total_err': 1, 'true_corr': tensor(1, device='cuda:0')}, {'over_corr': 0, 'total_err': 1, 'true_corr': 1})\n",
      "在 某 某 大 校 的 行 銷 係 的 教 課 非 常 輕 鬆 。\n",
      "在 某 某 大 校 的 行 密 系 的 教 課 非 常 輕 鬆 。\n",
      "在 某 某 大 校 的 行 銷 系 的 教 課 非 常 輕 鬆 。\n",
      "({'over_corr': 1, 'total_err': 1, 'true_corr': tensor(1, device='cuda:0')}, {'over_corr': 1, 'total_err': 1, 'true_corr': 0})\n",
      "希 望 你 放 送 心 情 地 盡 量 去 玩 ， 你 回 來 的 時 候 可 以 跟 我 們 全 班 同 學 一 起 分 享 你 去 遊 玩 的 過 程 中 ！\n",
      "希 望 你 放 送 心 情 地 盡 量 去 玩 ， 你 回 來 的 時 候 可 以 跟 我 們 全 班 同 學 一 起 分 享 你 去 遊 玩 的 過 程 中 ！\n",
      "希 望 你 放 鬆 心 情 地 盡 量 去 玩 ， 你 回 來 的 時 候 可 以 跟 我 們 全 班 同 學 一 起 分 享 你 去 遊 玩 的 過 程 中 ！\n",
      "({'over_corr': 0, 'total_err': 1, 'true_corr': tensor(0, device='cuda:0')}, {'over_corr': 0, 'total_err': 1, 'true_corr': 0})\n",
      "一 個 噪 音 、 臭 味 都 沒 有 製 造 是 不 可 能 的 ， 很 小 的 造 ， 臭 味 的 話 我 們 可 以 接 受 ， 可 是 我 希 望 你 們 會 做 出 努 力 減 少 這 些 公 害 。\n",
      "一 個 噪 音 、 臭 味 都 沒 有 造 造 是 不 可 能 的 ， 很 小 的 噪 ， 臭 味 的 話 我 們 可 以 接 受 ， 可 是 我 希 望 你 們 會 做 出 努 力 減 少 這 些 公 害 。\n",
      "一 個 噪 音 、 臭 味 都 沒 有 製 造 是 不 可 能 的 ， 很 小 的 噪 ， 臭 味 的 話 我 們 可 以 接 受 ， 可 是 我 希 望 你 們 會 做 出 努 力 減 少 這 些 公 害 。\n",
      "({'over_corr': 1, 'total_err': 1, 'true_corr': tensor(1, device='cuda:0')}, {'over_corr': 1, 'total_err': 1, 'true_corr': 0})\n",
      "我 們 認 為 工 廠 的 還 清 又 乾 淨 又 健 康 會 對 工 廠 有 好 的 影 響 。 所 以 我 們 會 一 起 互 相 合 作 。\n",
      "我 們 認 為 工 廠 的 環 境 又 乾 乾 又 健 康 會 對 工 廠 有 好 的 影 響 。 所 以 我 們 會 一 起 與 相 合 作 。\n",
      "我 們 認 為 工 廠 的 環 境 又 乾 淨 又 健 康 會 對 工 廠 有 好 的 影 響 。 所 以 我 們 會 一 起 互 相 合 作 。\n",
      "({'over_corr': 2, 'total_err': 2, 'true_corr': tensor(2, device='cuda:0')}, {'over_corr': 1, 'total_err': 1, 'true_corr': 0})\n",
      "其 實 我 也 有 一 個 這 種 經 驗 ， 從 現 在 簡 單 的 介 紹 那 一 個 事 情 吧 。\n",
      "其 實 我 也 有 一 個 這 種 經 驗 ， 從 現 在 簡 單 地 介 紹 那 一 個 事 情 吧 。\n",
      "其 實 我 也 有 一 個 這 種 經 驗 ， 從 現 在 簡 單 地 介 紹 那 一 個 事 情 吧 。\n",
      "({'over_corr': 0, 'total_err': 1, 'true_corr': tensor(1, device='cuda:0')}, {'over_corr': 0, 'total_err': 1, 'true_corr': 1})\n",
      "Epoch 26 Loss: 0.32268522014317\n",
      "0.5395581688393246 {'over_corr': 611, 'total_err': 938, 'true_corr': tensor(323, device='cuda:0')} {'over_corr': 312, 'total_err': 701, 'true_corr': 153}\n"
     ]
    },
    {
     "name": "stderr",
     "output_type": "stream",
     "text": [
      "Epoch:27/35: 100%|██████████| 103/103 [00:28<00:00,  3.66it/s, loss=0.294]\n"
     ]
    },
    {
     "name": "stdout",
     "output_type": "stream",
     "text": [
      "上 個 星 期 你 請 客 ， 所 以 明 天 我 想 情 你 去 一 家 法 國 餐 廳 吃 法 國 菜 。\n",
      "上 個 星 期 你 請 客 ， 所 以 明 天 我 想 請 你 去 一 家 法 國 餐 廳 吃 法 國 菜 。\n",
      "上 個 星 期 你 請 客 ， 所 以 明 天 我 想 請 你 去 一 家 法 國 餐 廳 吃 法 國 菜 。\n",
      "({'over_corr': 0, 'total_err': 1, 'true_corr': tensor(1, device='cuda:0')}, {'over_corr': 0, 'total_err': 1, 'true_corr': 1})\n",
      "即 使 我 們 是 受 害 者 ， 我 不 求 任 何 的 賠 償 ， 只 希 望 貴 單 位 能 夠 更 徹 底 的 實 行 產 品 檢 驗 ， 避 免 這 種 惡 夢 再 度 重 演 。\n",
      "既 使 我 們 是 受 害 者 ， 我 不 求 任 何 的 啤 密 ， 只 希 望 貴 單 位 能 夠 更 啤 底 地 實 行 產 品 檢 驗 ， 避 免 這 種 惡 夢 再 度 重 演 。\n",
      "即 使 我 們 是 受 害 者 ， 我 不 求 任 何 的 賠 償 ， 只 希 望 貴 單 位 能 夠 更 徹 底 地 實 行 產 品 檢 驗 ， 避 免 這 種 惡 夢 再 度 重 演 。\n",
      "({'over_corr': 4, 'total_err': 1, 'true_corr': tensor(1, device='cuda:0')}, {'over_corr': 1, 'total_err': 1, 'true_corr': 0})\n",
      "每 個 人 都 知 道 東 部 的 台 灣 還 有 自 然 美 歡 迎 不 止 台 灣 的 觀 光 客 ， 每 年 也 有 不 少 外 國 觀 光 客 來 參 觀 。\n",
      "每 個 人 都 知 道 東 部 的 台 灣 還 有 自 然 美 歡 迎 不 只 台 灣 的 觀 光 客 ， 每 年 也 有 不 少 外 國 觀 光 客 來 參 觀 。\n",
      "每 個 人 都 知 道 東 部 的 台 灣 還 有 自 然 美 歡 迎 不 只 台 灣 的 觀 光 客 ， 每 年 也 有 不 少 外 國 觀 光 客 來 參 觀 。\n",
      "({'over_corr': 0, 'total_err': 1, 'true_corr': tensor(1, device='cuda:0')}, {'over_corr': 0, 'total_err': 1, 'true_corr': 1})\n",
      "有 人 說 ， 世 界 上 的 事 情 的 黑 白 分 不 了 ， 沒 個 方 法 都 有 所 導 理 。\n",
      "有 人 說 ， 世 界 上 的 事 情 的 黑 白 分 不 了 ， 每 個 方 法 都 有 所 道 理 。\n",
      "有 人 說 ， 世 界 上 的 事 情 的 黑 白 分 不 了 ， 每 個 方 法 都 有 所 道 理 。\n",
      "({'over_corr': 0, 'total_err': 2, 'true_corr': tensor(2, device='cuda:0')}, {'over_corr': 0, 'total_err': 1, 'true_corr': 1})\n",
      "因 為 你 的 國 家 遠 得 不 得 了 ， 再 說 你 一 個 禮 拜 用 很 多 衣 服 ， 所 以 我 看 到 的 紅 虹 大 大 的 包 包 我 覺 得 你 一 定 要 買 。\n",
      "因 為 你 的 國 家 遠 得 不 得 了 ， 再 說 你 一 個 禮 拜 用 很 多 衣 服 ， 所 以 我 看 到 的 紅 紅 大 大 的 包 包 我 覺 得 你 一 定 要 買 。\n",
      "因 為 你 的 國 家 遠 得 不 得 了 ， 再 說 你 一 個 禮 拜 用 很 多 衣 服 ， 所 以 我 看 到 的 紅 紅 大 大 的 包 包 我 覺 得 你 一 定 要 買 。\n",
      "({'over_corr': 0, 'total_err': 1, 'true_corr': tensor(1, device='cuda:0')}, {'over_corr': 0, 'total_err': 1, 'true_corr': 1})\n",
      "恭 喜 恭 喜 ！ 你 找 到 工 作 ， 我 門 也 很 高 興 。\n",
      "恭 喜 恭 喜 ！ 你 找 到 工 作 ， 我 們 也 很 高 興 。\n",
      "恭 喜 恭 喜 ！ 你 找 到 工 作 ， 我 們 也 很 高 興 。\n",
      "({'over_corr': 0, 'total_err': 1, 'true_corr': tensor(1, device='cuda:0')}, {'over_corr': 0, 'total_err': 1, 'true_corr': 1})\n",
      "Epoch 27 Loss: 0.29296345921974737\n",
      "0.5204828422177922 {'over_corr': 574, 'total_err': 938, 'true_corr': tensor(328, device='cuda:0')} {'over_corr': 304, 'total_err': 701, 'true_corr': 149}\n"
     ]
    },
    {
     "name": "stderr",
     "output_type": "stream",
     "text": [
      "Epoch:28/35: 100%|██████████| 103/103 [00:28<00:00,  3.65it/s, loss=0.186]\n"
     ]
    },
    {
     "name": "stdout",
     "output_type": "stream",
     "text": [
      "他 也 不 知 道 這 麼 搭 捷 運 ， 結 果 ， 大 衛 化 了 半 個 小 時 走 來 走 去 。\n",
      "他 也 不 知 道 這 麼 搭 捷 運 ， 結 果 ， 大 衛 花 了 半 個 小 時 走 來 走 去 。\n",
      "他 也 不 知 道 這 麼 搭 捷 運 ， 結 果 ， 大 衛 花 了 半 個 小 時 走 來 走 去 。\n",
      "({'over_corr': 0, 'total_err': 1, 'true_corr': tensor(1, device='cuda:0')}, {'over_corr': 0, 'total_err': 1, 'true_corr': 1})\n",
      "不 過 有 一 些 學 生 不 太 喜 歡 念 書 不 但 沒 做 功 課 還 跳 課 、 有 一 些 老 師 常 常 很 容 易 生 氣 不 但 罵 學 生 還 打 學 生 。\n",
      "不 過 有 一 些 學 生 不 太 喜 歡 念 書 不 但 沒 做 功 課 還 跳 課 、 有 一 些 老 師 常 常 很 容 易 生 氣 不 但 罵 學 生 還 打 學 生 。\n",
      "不 過 有 一 些 學 生 不 太 喜 歡 念 書 不 但 沒 做 功 課 還 翹 課 、 有 一 些 老 師 常 常 很 容 易 生 氣 不 但 罵 學 生 還 打 學 生 。\n",
      "({'over_corr': 0, 'total_err': 1, 'true_corr': tensor(0, device='cuda:0')}, {'over_corr': 0, 'total_err': 1, 'true_corr': 0})\n",
      "李 大 名 坐 公 車 的 時 候 ， 又 一 邊 睡 覺 有 又 一 邊 很 快 的 看 書 ， 因 為 晚 上 沒 有 看 書 。\n",
      "李 大 明 坐 公 車 的 時 候 ， 又 一 邊 睡 覺 有 又 一 邊 很 快 的 看 書 ， 因 為 晚 上 沒 有 看 書 。\n",
      "李 大 明 坐 公 車 的 時 候 ， 又 一 邊 睡 覺 有 又 一 邊 很 快 的 看 書 ， 因 為 晚 上 沒 有 看 書 。\n",
      "({'over_corr': 0, 'total_err': 1, 'true_corr': tensor(1, device='cuda:0')}, {'over_corr': 0, 'total_err': 1, 'true_corr': 1})\n",
      "有 一 次 我 的 室 友 叫 我 幫 他 買 筆 記 電 腦 ， 我 就 幫 他 買 回 到 宿 舍 ， 果 然 他 就 說 沒 有 叫 我 買 ， 那 時 後 我 真 的 很 生 氣 他 。\n",
      "有 一 次 我 的 室 友 叫 我 幫 他 買 筆 記 電 腦 ， 我 就 幫 他 買 回 到 宿 愛 ， 果 然 他 就 說 沒 有 叫 我 買 ， 那 時 候 我 真 的 很 生 氣 他 。\n",
      "有 一 次 我 的 室 友 叫 我 幫 他 買 筆 記 電 腦 ， 我 就 幫 他 買 回 到 宿 舍 ， 果 然 他 就 說 沒 有 叫 我 買 ， 那 時 候 我 真 的 很 生 氣 他 。\n",
      "({'over_corr': 1, 'total_err': 1, 'true_corr': tensor(1, device='cuda:0')}, {'over_corr': 1, 'total_err': 1, 'true_corr': 0})\n",
      "再 這 情 形 下 ， 我 們 也 希 望 您 可 以 推 出 辦 法 解 決 這 問 題 ， 讓 我 們 這 些 住 在 工 廠 附 近 的 人 可 以 住 在 好 的 環 境 。\n",
      "在 這 情 形 下 ， 我 們 也 希 望 您 可 以 推 出 辦 法 解 決 這 問 題 ， 讓 我 們 這 些 住 在 工 廠 附 近 的 人 可 以 住 在 好 的 環 境 。\n",
      "在 這 情 形 下 ， 我 們 也 希 望 您 可 以 推 出 辦 法 解 決 這 問 題 ， 讓 我 們 這 些 住 在 工 廠 附 近 的 人 可 以 住 在 好 的 環 境 。\n",
      "({'over_corr': 0, 'total_err': 1, 'true_corr': tensor(1, device='cuda:0')}, {'over_corr': 0, 'total_err': 1, 'true_corr': 1})\n",
      "反 而 ， 只 好 讓 他 們 每 天 上 網 已 定 的 時 間 。 要 不 然 就 有 很 嚴 格 的 制 裁 。\n",
      "反 而 ， 只 好 讓 他 們 每 天 上 網 一 定 的 時 間 。 要 不 然 就 有 很 嚴 格 的 制 裁 。\n",
      "反 而 ， 只 好 讓 他 們 每 天 上 網 一 定 的 時 間 。 要 不 然 就 有 很 嚴 格 的 制 裁 。\n",
      "({'over_corr': 0, 'total_err': 1, 'true_corr': tensor(1, device='cuda:0')}, {'over_corr': 0, 'total_err': 1, 'true_corr': 1})\n",
      "Epoch 28 Loss: 0.2677449635365634\n",
      "0.504136136309667 {'over_corr': 545, 'total_err': 938, 'true_corr': tensor(330, device='cuda:0')} {'over_corr': 288, 'total_err': 701, 'true_corr': 154}\n"
     ]
    },
    {
     "name": "stderr",
     "output_type": "stream",
     "text": [
      "Epoch:29/35: 100%|██████████| 103/103 [00:28<00:00,  3.65it/s, loss=0.216]\n"
     ]
    },
    {
     "name": "stdout",
     "output_type": "stream",
     "text": [
      "到 了 學 校 以 後 ， 進 去 搬 上 大 衛 馬 上 坐 著 ， 因 為 有 疑 點 背 包 也 放 在 桌 上 。\n",
      "到 了 學 校 以 後 ， 進 去 班 上 大 衛 馬 上 坐 著 ， 因 為 有 一 點 背 包 也 放 在 筆 上 。\n",
      "到 了 學 校 以 後 ， 進 去 班 上 大 衛 馬 上 坐 著 ， 因 為 有 一 點 背 包 也 放 在 桌 上 。\n",
      "({'over_corr': 1, 'total_err': 2, 'true_corr': tensor(2, device='cuda:0')}, {'over_corr': 1, 'total_err': 1, 'true_corr': 0})\n",
      "所 以 去 者 裡 抗 議 這 件 事 情 ， 但 是 他 們 不 聽 我 的 話 ， 而 且 讓 我 被 擋 在 門 外 。\n",
      "所 以 去 這 裡 抗 議 這 件 事 情 ， 但 是 他 們 不 聽 我 的 話 ， 而 且 讓 我 被 眼 在 門 外 。\n",
      "所 以 去 這 裡 抗 議 這 件 事 情 ， 但 是 他 們 不 聽 我 的 話 ， 而 且 讓 我 被 擋 在 門 外 。\n",
      "({'over_corr': 1, 'total_err': 1, 'true_corr': tensor(1, device='cuda:0')}, {'over_corr': 1, 'total_err': 1, 'true_corr': 0})\n",
      "我 覺 得 最 近 的 小 孩 子 由 於 只 一 個 老 師 沒 幫 法 控 制 ， 而 且 很 多 孩 子 的 父 母 在 家 裡 教 養 地 不 好 ， 他 們 都 把 教 養 的 責 任 給 學 校 。\n",
      "我 覺 得 最 近 的 小 孩 子 由 於 只 一 個 老 師 沒 辦 法 控 制 ， 而 且 很 多 孩 子 的 父 母 在 家 裡 教 養 地 不 好 ， 他 們 都 把 教 養 的 責 任 給 學 校 。\n",
      "我 覺 得 最 近 的 小 孩 子 由 於 只 一 個 老 師 沒 辦 法 控 制 ， 而 且 很 多 孩 子 的 父 母 在 家 裡 教 養 地 不 好 ， 他 們 都 把 教 養 的 責 任 給 學 校 。\n",
      "({'over_corr': 0, 'total_err': 1, 'true_corr': tensor(1, device='cuda:0')}, {'over_corr': 0, 'total_err': 1, 'true_corr': 1})\n",
      "在 面 臨 這 問 題 時 ， 老 師 們 會 從 錄 影 過 的 一 片 來 反 省 自 己 的 教 法 、 應 付 學 生 們 的 方 式 、 注 意 那 些 學 生 需 要 特 別 的 照 顧 等 等 。\n",
      "在 面 臨 這 問 題 時 ， 老 師 們 會 從 錄 影 過 的 一 片 來 反 省 自 己 的 教 法 、 應 付 學 生 們 的 方 式 、 注 意 哪 些 學 生 需 要 特 別 的 照 顧 等 等 。\n",
      "在 面 臨 這 問 題 時 ， 老 師 們 會 從 錄 影 過 的 影 片 來 反 省 自 己 的 教 法 、 應 付 學 生 們 的 方 式 、 注 意 哪 些 學 生 需 要 特 別 的 照 顧 等 等 。\n",
      "({'over_corr': 0, 'total_err': 2, 'true_corr': tensor(1, device='cuda:0')}, {'over_corr': 0, 'total_err': 1, 'true_corr': 0})\n",
      "我 恨 情 張 到 學 校 以 後 我 快 跑 上 課 ， 到 教 室 我 看 到 老 師 和 同 學 在 上 課 。\n",
      "我 很 緊 張 到 學 校 以 後 我 快 跑 上 課 ， 到 教 室 我 看 到 老 師 和 同 學 在 上 課 。\n",
      "我 很 緊 張 到 學 校 以 後 我 快 跑 上 課 ， 到 教 室 我 看 到 老 師 和 同 學 在 上 課 。\n",
      "({'over_corr': 0, 'total_err': 2, 'true_corr': tensor(2, device='cuda:0')}, {'over_corr': 0, 'total_err': 1, 'true_corr': 1})\n",
      "大 家 幫 他 找 了 課 本 一 整 天 ， 可 是 卻 沒 有 找 得 到 ， 那 時 候 那 個 同 學 懷 疑 我 的 說 「 環 我 我 的 課 本 ！ 」\n",
      "大 家 幫 他 找 了 課 本 一 整 天 ， 可 是 卻 沒 有 找 得 到 ， 那 時 候 那 個 同 學 懷 疑 我 的 說 「 還 我 我 的 課 本 ！ 」\n",
      "大 家 幫 他 找 了 課 本 一 整 天 ， 可 是 卻 沒 有 找 得 到 ， 那 時 候 那 個 同 學 懷 疑 我 的 說 「 還 我 我 的 課 本 ！ 」\n",
      "({'over_corr': 0, 'total_err': 1, 'true_corr': tensor(1, device='cuda:0')}, {'over_corr': 0, 'total_err': 1, 'true_corr': 1})\n",
      "Epoch 29 Loss: 0.24416982404236653\n",
      "0.4907685426825827 {'over_corr': 517, 'total_err': 938, 'true_corr': tensor(343, device='cuda:0')} {'over_corr': 286, 'total_err': 701, 'true_corr': 163}\n"
     ]
    },
    {
     "name": "stderr",
     "output_type": "stream",
     "text": [
      "Epoch:30/35: 100%|██████████| 103/103 [00:28<00:00,  3.66it/s, loss=0.536]\n"
     ]
    },
    {
     "name": "stdout",
     "output_type": "stream",
     "text": [
      "這 樣 的 研 究 結 果 引 起 了 他 家 的 主 目 ， 而 且 就 學 的 競 爭 越 來 極 烈 ， 人 民 急 急 忙 忙 地 把 孩 子 推 到 補 習 班 去 了 。\n",
      "這 樣 的 研 究 結 果 引 起 了 他 家 的 注 目 ， 而 且 就 學 的 啤 爭 越 來 極 烈 ， 人 民 急 急 忙 忙 地 把 孩 子 推 到 補 習 班 去 了 。\n",
      "這 樣 的 研 究 結 果 引 起 了 他 家 的 注 目 ， 而 且 就 學 的 競 爭 越 來 極 烈 ， 人 民 急 急 忙 忙 地 把 孩 子 推 到 補 習 班 去 了 。\n",
      "({'over_corr': 1, 'total_err': 1, 'true_corr': tensor(1, device='cuda:0')}, {'over_corr': 1, 'total_err': 1, 'true_corr': 0})\n",
      "即 使 我 們 是 受 害 者 ， 我 不 求 任 何 的 賠 償 ， 只 希 望 貴 單 位 能 夠 更 徹 底 的 實 行 產 品 檢 驗 ， 避 免 這 種 惡 夢 再 度 重 演 。\n",
      "既 使 我 們 是 受 害 者 ， 我 不 求 任 何 的 啤 密 ， 只 希 望 貴 單 位 能 夠 更 鼓 底 地 實 行 產 品 檢 驗 ， 避 免 這 種 惡 夢 再 度 重 演 。\n",
      "即 使 我 們 是 受 害 者 ， 我 不 求 任 何 的 賠 償 ， 只 希 望 貴 單 位 能 夠 更 徹 底 地 實 行 產 品 檢 驗 ， 避 免 這 種 惡 夢 再 度 重 演 。\n",
      "({'over_corr': 4, 'total_err': 1, 'true_corr': tensor(1, device='cuda:0')}, {'over_corr': 1, 'total_err': 1, 'true_corr': 0})\n",
      "這 乃 因 為 過 早 授 予 孩 童 類 似 幼 兒 園 抑 或 學 校 或 政 府 所 設 定 的 教 育 方 程 式 ， 會 導 致 孩 童 的 心 智 發 展 被 局 限 於 一 種 無 法 發 揮 的 框 框 裡 。\n",
      "這 敬 因 為 過 早 研 予 孩 童 類 似 幼 兒 園 控 或 學 校 或 政 府 所 設 定 的 教 育 方 程 式 ， 會 導 致 孩 童 的 心 智 發 展 被 限 限 於 一 種 無 法 發 揮 的 遲 遲 裡 。\n",
      "這 乃 因 為 過 早 授 予 孩 童 類 似 幼 兒 園 亦 或 學 校 或 政 府 所 設 定 的 教 育 方 程 式 ， 會 導 致 孩 童 的 心 智 發 展 被 侷 限 於 一 種 無 法 發 揮 的 框 框 裡 。\n",
      "({'over_corr': 4, 'total_err': 2, 'true_corr': tensor(0, device='cuda:0')}, {'over_corr': 1, 'total_err': 1, 'true_corr': 0})\n",
      "我 項 在 有 一 個 月 的 空 ， 可 是 我 還 沒 決 定 我 做 什 麼 。\n",
      "我 現 在 有 一 個 月 的 空 ， 可 是 我 還 沒 決 定 我 做 什 麼 。\n",
      "我 現 在 有 一 個 月 的 空 ， 可 是 我 還 沒 決 定 我 做 什 麼 。\n",
      "({'over_corr': 0, 'total_err': 1, 'true_corr': tensor(1, device='cuda:0')}, {'over_corr': 0, 'total_err': 1, 'true_corr': 1})\n",
      "在 加 上 你 以 前 不 是 說 要 減 肥 嗎 ？ 那 麼 ， 這 就 是 你 的 好 機 會 ， 運 動 也 是 一 件 免 費 的 事 啊 。\n",
      "再 加 上 你 以 前 不 是 說 要 減 減 嗎 ？ 那 麼 ， 這 就 是 你 的 好 機 會 ， 運 動 也 是 一 件 免 費 的 事 啊 。\n",
      "再 加 上 你 以 前 不 是 說 要 減 肥 嗎 ？ 那 麼 ， 這 就 是 你 的 好 機 會 ， 運 動 也 是 一 件 免 費 的 事 啊 。\n",
      "({'over_corr': 1, 'total_err': 1, 'true_corr': tensor(1, device='cuda:0')}, {'over_corr': 1, 'total_err': 1, 'true_corr': 0})\n",
      "或 者 是 你 也 可 奉 獻 你 的 時 間 幫 助 別 人 。 做 一 寫 好 事 ， 協 助 他 人 ， 真 的 能 帶 來 許 多 的 快 樂 和 滿 足 給 自 己 。\n",
      "或 者 是 你 也 可 財 獻 你 的 時 間 幫 助 別 人 。 做 一 些 好 事 ， 火 助 他 人 ， 真 的 能 帶 來 許 多 的 快 樂 和 滿 足 給 自 己 。\n",
      "或 者 是 你 也 可 奉 獻 你 的 時 間 幫 助 別 人 。 做 一 些 好 事 ， 協 助 他 人 ， 真 的 能 帶 來 許 多 的 快 樂 和 滿 足 給 自 己 。\n",
      "({'over_corr': 2, 'total_err': 1, 'true_corr': tensor(1, device='cuda:0')}, {'over_corr': 1, 'total_err': 1, 'true_corr': 0})\n",
      "Epoch 30 Loss: 0.22383683898205897\n",
      "0.47623280909928406 {'over_corr': 473, 'total_err': 938, 'true_corr': tensor(331, device='cuda:0')} {'over_corr': 271, 'total_err': 701, 'true_corr': 162}\n"
     ]
    },
    {
     "name": "stderr",
     "output_type": "stream",
     "text": [
      "Epoch:31/35: 100%|██████████| 103/103 [00:28<00:00,  3.66it/s, loss=0.302]\n"
     ]
    },
    {
     "name": "stdout",
     "output_type": "stream",
     "text": [
      "不 只 是 在 家 外 面 ， 聯 誼 精 密 避 的 家 裡 面 也 會 聞 到 臭 味 。\n",
      "不 只 是 在 家 外 面 ， 連 已 經 密 私 的 家 裡 面 也 會 聞 到 臭 味 。\n",
      "不 只 是 在 家 外 面 ， 連 已 經 密 閉 的 家 裡 面 也 會 聞 到 臭 味 。\n",
      "({'over_corr': 0, 'total_err': 4, 'true_corr': tensor(3, device='cuda:0')}, {'over_corr': 0, 'total_err': 1, 'true_corr': 0})\n",
      "他 去 哪 家 公 司 也 是 ， 為 了 以 後 把 你 的 公 司 經 營 。\n",
      "他 去 那 家 公 司 也 是 ， 為 了 以 後 把 你 的 公 司 經 營 。\n",
      "他 去 那 家 公 司 也 是 ， 為 了 以 後 把 你 的 公 司 經 營 。\n",
      "({'over_corr': 0, 'total_err': 1, 'true_corr': tensor(1, device='cuda:0')}, {'over_corr': 0, 'total_err': 1, 'true_corr': 1})\n",
      "我 們 約 在 台 北 １０１ 前 面 ， 好 不 好 ？ 六 點 可 以 馬 ？ 請 你 星 期 六 以 前 給 我 打 電 話 。\n",
      "我 們 約 在 台 北 敬１ 前 面 ， 好 不 好 ？ 六 點 可 以 嗎 ？ 請 你 星 期 六 以 前 給 我 打 電 話 。\n",
      "我 們 約 在 台 北 １０１ 前 面 ， 好 不 好 ？ 六 點 可 以 嗎 ？ 請 你 星 期 六 以 前 給 我 打 電 話 。\n",
      "({'over_corr': 1, 'total_err': 1, 'true_corr': tensor(1, device='cuda:0')}, {'over_corr': 1, 'total_err': 1, 'true_corr': 0})\n",
      "或 著 會 宣 稱 網 路 交 友 ， 因 為 對 方 無 法 確 認 你 的 身 分 ， 你 就 可 以 盡 可 能 地 扮 演 平 常 沒 有 機 會 扮 演 角 色 。\n",
      "或 者 會 宣 稱 網 路 交 友 ， 因 為 對 方 無 法 確 認 你 的 身 分 ， 你 就 可 以 盡 可 能 地 啤 演 平 常 沒 有 機 會 啤 演 角 色 。\n",
      "或 者 會 宣 稱 網 路 交 友 ， 因 為 對 方 無 法 確 認 你 的 身 分 ， 你 就 可 以 盡 可 能 地 扮 演 平 常 沒 有 機 會 扮 演 角 色 。\n",
      "({'over_corr': 2, 'total_err': 1, 'true_corr': tensor(1, device='cuda:0')}, {'over_corr': 1, 'total_err': 1, 'true_corr': 0})\n",
      "你 能 從 台 配 種 戰 火 車 到 淡 水 坐 火 車 。\n",
      "你 能 從 台 北 總 站 火 車 到 淡 水 坐 火 車 。\n",
      "你 能 從 台 北 總 站 火 車 到 淡 水 坐 火 車 。\n",
      "({'over_corr': 0, 'total_err': 3, 'true_corr': tensor(3, device='cuda:0')}, {'over_corr': 0, 'total_err': 1, 'true_corr': 1})\n",
      "我 門 是 王 天 華 的 家 人 。\n",
      "我 們 是 王 天 華 的 家 人 。\n",
      "我 們 是 王 天 華 的 家 人 。\n",
      "({'over_corr': 0, 'total_err': 1, 'true_corr': tensor(1, device='cuda:0')}, {'over_corr': 0, 'total_err': 1, 'true_corr': 1})\n",
      "Epoch 31 Loss: 0.20411971269301998\n",
      "0.46199571883136575 {'over_corr': 446, 'total_err': 938, 'true_corr': tensor(341, device='cuda:0')} {'over_corr': 254, 'total_err': 701, 'true_corr': 175}\n"
     ]
    },
    {
     "name": "stderr",
     "output_type": "stream",
     "text": [
      "Epoch:32/35: 100%|██████████| 103/103 [00:28<00:00,  3.66it/s, loss=0.208]\n"
     ]
    },
    {
     "name": "stdout",
     "output_type": "stream",
     "text": [
      "他 座 呢 個 公 車 到 學 校 ， 可 是 上 課 時 間 也 已 經 十 分 過 了 。\n",
      "他 坐 那 個 公 車 到 學 校 ， 可 是 上 課 時 間 也 已 經 十 分 過 了 。\n",
      "他 坐 那 個 公 車 到 學 校 ， 可 是 上 課 時 間 也 已 經 十 分 過 了 。\n",
      "({'over_corr': 0, 'total_err': 2, 'true_corr': tensor(2, device='cuda:0')}, {'over_corr': 0, 'total_err': 1, 'true_corr': 1})\n",
      "老 闆 不 看 學 校 來 故 新 員 工 ， 他 們 看 人 才 。\n",
      "老 闆 不 看 學 校 來 故 新 員 工 ， 他 們 看 人 才 。\n",
      "老 闆 不 看 學 校 來 雇 新 員 工 ， 他 們 看 人 才 。\n",
      "({'over_corr': 0, 'total_err': 1, 'true_corr': tensor(0, device='cuda:0')}, {'over_corr': 0, 'total_err': 1, 'true_corr': 0})\n",
      "她 教 我 怎 嗎 去 學 校 了 。\n",
      "她 教 我 怎 麼 去 學 校 了 。\n",
      "她 教 我 怎 麼 去 學 校 了 。\n",
      "({'over_corr': 0, 'total_err': 1, 'true_corr': tensor(1, device='cuda:0')}, {'over_corr': 0, 'total_err': 1, 'true_corr': 1})\n",
      "俗 話 說 「 為 人 不 做 虧 心 事 ， 半 夜 鬼 敲 門 也 不 警 」 。\n",
      "俗 話 說 「 為 人 不 做 虧 心 事 ， 半 夜 餅 密 門 也 不 驚 」 。\n",
      "俗 話 說 「 為 人 不 做 虧 心 事 ， 半 夜 鬼 敲 門 也 不 驚 」 。\n",
      "({'over_corr': 2, 'total_err': 1, 'true_corr': tensor(1, device='cuda:0')}, {'over_corr': 1, 'total_err': 1, 'true_corr': 0})\n",
      "如 果 裝 攝 影 機 校 長 、 老 師 、 父 母 都 可 以 看 到 學 生 做 什 麼 然 後 想 一 想 怎 麼 觸 犯 孩 子 。\n",
      "如 果 裝 攝 影 機 校 長 、 老 師 、 父 母 都 可 以 看 到 學 生 做 什 麼 然 後 想 一 想 怎 麼 處 罰 孩 子 。\n",
      "如 果 裝 攝 影 機 校 長 、 老 師 、 父 母 都 可 以 看 到 學 生 做 什 麼 然 後 想 一 想 怎 麼 處 罰 孩 子 。\n",
      "({'over_corr': 0, 'total_err': 2, 'true_corr': tensor(2, device='cuda:0')}, {'over_corr': 0, 'total_err': 1, 'true_corr': 1})\n",
      "所 以 他 很 快 洗 澡 然 後 走 路 到 公 車 佔 。\n",
      "所 以 他 很 快 洗 澡 然 後 走 路 到 公 車 站 。\n",
      "所 以 他 很 快 洗 澡 然 後 走 路 到 公 車 站 。\n",
      "({'over_corr': 0, 'total_err': 1, 'true_corr': tensor(1, device='cuda:0')}, {'over_corr': 0, 'total_err': 1, 'true_corr': 1})\n",
      "Epoch 32 Loss: 0.18692931836669885\n",
      "0.44822182777253067 {'over_corr': 421, 'total_err': 938, 'true_corr': tensor(335, device='cuda:0')} {'over_corr': 243, 'total_err': 701, 'true_corr': 171}\n"
     ]
    },
    {
     "name": "stderr",
     "output_type": "stream",
     "text": [
      "Epoch:33/35: 100%|██████████| 103/103 [00:28<00:00,  3.66it/s, loss=0.126]\n"
     ]
    },
    {
     "name": "stdout",
     "output_type": "stream",
     "text": [
      "可 能 政 府 會 決 定 你 們 可 以 般 到 別 的 地 方 ， 還 有 可 能 會 給 你 們 更 多 錢 。\n",
      "可 能 政 府 會 決 定 你 們 可 以 搬 到 別 的 地 方 ， 還 有 可 能 會 給 你 們 更 多 錢 。\n",
      "可 能 政 府 會 決 定 你 們 可 以 搬 到 別 的 地 方 ， 還 有 可 能 會 給 你 們 更 多 錢 。\n",
      "({'over_corr': 0, 'total_err': 1, 'true_corr': tensor(1, device='cuda:0')}, {'over_corr': 0, 'total_err': 1, 'true_corr': 1})\n",
      "我 覺 得 校 長 的 作 法 對 家 長 、 孩 子 跟 學 校 都 不 好 。\n",
      "我 覺 得 校 長 的 做 法 對 家 長 、 孩 子 跟 學 校 都 不 好 。\n",
      "我 覺 得 校 長 的 做 法 對 家 長 、 孩 子 跟 學 校 都 不 好 。\n",
      "({'over_corr': 0, 'total_err': 1, 'true_corr': tensor(1, device='cuda:0')}, {'over_corr': 0, 'total_err': 1, 'true_corr': 1})\n",
      "作 天 我 看 到 你 太 太 ， 她 告 訴 你 有 感 冒 。\n",
      "昨 天 我 看 到 你 太 太 ， 她 告 訴 你 有 感 冒 。\n",
      "昨 天 我 看 到 你 太 太 ， 她 告 訴 你 有 感 冒 。\n",
      "({'over_corr': 0, 'total_err': 1, 'true_corr': tensor(1, device='cuda:0')}, {'over_corr': 0, 'total_err': 1, 'true_corr': 1})\n",
      "我 覺 得 他 票 亮 得 很 。\n",
      "我 覺 得 他 漂 亮 得 很 。\n",
      "我 覺 得 他 漂 亮 得 很 。\n",
      "({'over_corr': 0, 'total_err': 1, 'true_corr': tensor(1, device='cuda:0')}, {'over_corr': 0, 'total_err': 1, 'true_corr': 1})\n",
      "救 我 的 想 法 呢 ， 我 可 能 也 會 很 難 過 吧 但 是 我 也 會 讓 她 找 在 我 書 包 ， 先 讓 他 不 會 繼 續 懷 疑 我 然 後 幫 她 找 回 來 看 看 他 那 時 會 對 我 怎 樣 。\n",
      "就 我 的 想 法 呢 ， 我 可 能 也 會 很 難 過 吧 但 是 我 也 會 讓 她 找 在 我 書 包 ， 先 讓 他 不 會 繼 續 懷 疑 我 然 後 幫 她 找 回 來 看 看 他 那 時 會 對 我 怎 樣 。\n",
      "就 我 的 想 法 呢 ， 我 可 能 也 會 很 難 過 吧 但 是 我 也 會 讓 她 找 在 我 書 包 ， 先 讓 他 不 會 繼 續 懷 疑 我 然 後 幫 她 找 回 來 看 看 他 那 時 會 對 我 怎 樣 。\n",
      "({'over_corr': 0, 'total_err': 1, 'true_corr': tensor(1, device='cuda:0')}, {'over_corr': 0, 'total_err': 1, 'true_corr': 1})\n",
      "一 份 耕 耘 一 份 收 穫 ， 只 要 努 力 的 從 事 自 己 的 工 作 ， 不 管 收 入 的 高 低 未 來 一 定 有 充 實 的 人 生 。\n",
      "一 分 某 某 一 分 收 穫 ， 只 要 努 力 的 從 事 自 己 的 工 作 ， 不 管 收 入 的 高 低 未 來 一 定 有 充 實 的 人 生 。\n",
      "一 分 耕 耘 一 分 收 穫 ， 只 要 努 力 的 從 事 自 己 的 工 作 ， 不 管 收 入 的 高 低 未 來 一 定 有 充 實 的 人 生 。\n",
      "({'over_corr': 2, 'total_err': 2, 'true_corr': tensor(2, device='cuda:0')}, {'over_corr': 1, 'total_err': 1, 'true_corr': 0})\n",
      "Epoch 33 Loss: 0.1696171537041664\n",
      "0.4446031925353137 {'over_corr': 416, 'total_err': 938, 'true_corr': tensor(337, device='cuda:0')} {'over_corr': 243, 'total_err': 701, 'true_corr': 171}\n"
     ]
    },
    {
     "name": "stderr",
     "output_type": "stream",
     "text": [
      "Epoch:34/35: 100%|██████████| 103/103 [00:28<00:00,  3.66it/s, loss=0.171]\n"
     ]
    },
    {
     "name": "stdout",
     "output_type": "stream",
     "text": [
      "我 希 望 你 的 病 越 來 越 好 ， 身 體 越 來 越 建 康 。\n",
      "我 希 望 你 的 病 越 來 越 好 ， 身 體 越 來 越 健 康 。\n",
      "我 希 望 你 的 病 越 來 越 好 ， 身 體 越 來 越 健 康 。\n",
      "({'over_corr': 0, 'total_err': 1, 'true_corr': tensor(1, device='cuda:0')}, {'over_corr': 0, 'total_err': 1, 'true_corr': 1})\n",
      "第 三 個 象 片 兒 ： 兩 個 人 都 坐 公 共 汽 車 還 是 昨 坐 火 車 。\n",
      "第 三 個 相 片 兒 ： 兩 個 人 都 坐 公 共 汽 車 還 是 昨 坐 火 車 。\n",
      "第 三 個 相 片 兒 ： 兩 個 人 都 坐 公 共 汽 車 還 是 昨 坐 火 車 。\n",
      "({'over_corr': 0, 'total_err': 1, 'true_corr': tensor(1, device='cuda:0')}, {'over_corr': 0, 'total_err': 1, 'true_corr': 1})\n",
      "我 會 支 持 妳 呀 ， 加 油 喔 ！ 我 也 偷 偷 的 跟 大 年 溝 通 一 下 吧 。\n",
      "我 會 支 持 妳 呀 ， 加 油 喔 ！ 我 也 偷 偷 地 跟 大 年 溝 通 一 下 吧 。\n",
      "我 會 支 持 妳 呀 ， 加 油 喔 ！ 我 也 偷 偷 地 跟 大 年 溝 通 一 下 吧 。\n",
      "({'over_corr': 0, 'total_err': 1, 'true_corr': tensor(1, device='cuda:0')}, {'over_corr': 0, 'total_err': 1, 'true_corr': 1})\n",
      "我 的 生 日 那 天 ， 我 沒 有 邀 請 太 多 的 人 。 我 們 可 以 開 心 的 慶 祝 好 之 後 ， 就 一 起 來 規 劃 我 們 的 未 來 。\n",
      "我 的 生 日 那 天 ， 我 沒 有 邀 請 太 多 的 人 。 我 們 可 以 開 心 地 慶 祝 好 之 後 ， 就 一 起 來 規 劃 我 們 的 未 來 。\n",
      "我 的 生 日 那 天 ， 我 沒 有 邀 請 太 多 的 人 。 我 們 可 以 開 心 地 慶 祝 好 之 後 ， 就 一 起 來 規 劃 我 們 的 未 來 。\n",
      "({'over_corr': 0, 'total_err': 1, 'true_corr': tensor(1, device='cuda:0')}, {'over_corr': 0, 'total_err': 1, 'true_corr': 1})\n",
      "這 幾 天 ， 我 們 的 鄰 區 一 個 一 個 地 來 跟 我 煩 惱 。\n",
      "這 幾 天 ， 我 們 的 鄰 居 一 個 一 個 地 來 跟 我 煩 惱 。\n",
      "這 幾 天 ， 我 們 的 鄰 居 一 個 一 個 地 來 跟 我 煩 惱 。\n",
      "({'over_corr': 0, 'total_err': 1, 'true_corr': tensor(1, device='cuda:0')}, {'over_corr': 0, 'total_err': 1, 'true_corr': 1})\n",
      "所 以 如 果 說 對 他 們 的 心 理 的 影 響 ， 可 說 沒 什 麼 障 礙 輿 憂 慮 。\n",
      "所 以 如 果 說 對 他 們 的 心 理 的 影 響 ， 可 說 沒 什 麼 障 限 與 餅 慮 。\n",
      "所 以 如 果 說 對 他 們 的 心 理 的 影 響 ， 可 說 沒 什 麼 障 礙 與 憂 慮 。\n",
      "({'over_corr': 2, 'total_err': 1, 'true_corr': tensor(1, device='cuda:0')}, {'over_corr': 1, 'total_err': 1, 'true_corr': 0})\n",
      "Epoch 34 Loss: 0.15743008053418503\n",
      "0.4335637661543759 {'over_corr': 399, 'total_err': 938, 'true_corr': tensor(350, device='cuda:0')} {'over_corr': 238, 'total_err': 701, 'true_corr': 186}\n"
     ]
    },
    {
     "name": "stderr",
     "output_type": "stream",
     "text": [
      "Epoch:35/35: 100%|██████████| 103/103 [00:28<00:00,  3.64it/s, loss=0.168]\n"
     ]
    },
    {
     "name": "stdout",
     "output_type": "stream",
     "text": [
      "畢 竟 ， 如 果 你 跟 你 的 這 個 朋 友 再 提 出 這 個 問 題 ， 說 不 定 會 邊 得 更 嚴 重 。\n",
      "畢 竟 ， 如 果 你 跟 你 的 這 個 朋 友 再 提 出 這 個 問 題 ， 說 不 定 會 變 得 更 嚴 重 。\n",
      "畢 竟 ， 如 果 你 跟 你 的 這 個 朋 友 再 提 出 這 個 問 題 ， 說 不 定 會 變 得 更 嚴 重 。\n",
      "({'over_corr': 0, 'total_err': 1, 'true_corr': tensor(1, device='cuda:0')}, {'over_corr': 0, 'total_err': 1, 'true_corr': 1})\n",
      "部 是 指 人 類 有 心 或 感 情 ， 它 們 也 會 感 到 歡 樂 、 也 會 感 到 悲 哀 。\n",
      "不 是 只 人 類 有 心 或 感 情 ， 它 們 也 會 感 到 歡 樂 、 也 會 感 到 悲 塞 。\n",
      "不 是 只 人 類 有 心 或 感 情 ， 它 們 也 會 感 到 歡 樂 、 也 會 感 到 悲 哀 。\n",
      "({'over_corr': 1, 'total_err': 2, 'true_corr': tensor(2, device='cuda:0')}, {'over_corr': 1, 'total_err': 1, 'true_corr': 0})\n",
      "他 們 只 能 有 兩 個 選 擇 ： 接 受 降 新 或 自 動 離 職 。\n",
      "他 們 只 能 有 兩 個 選 擇 ： 接 受 減 薪 或 自 動 離 職 。\n",
      "他 們 只 能 有 兩 個 選 擇 ： 接 受 降 薪 或 自 動 離 職 。\n",
      "({'over_corr': 1, 'total_err': 1, 'true_corr': tensor(1, device='cuda:0')}, {'over_corr': 1, 'total_err': 1, 'true_corr': 0})\n",
      "但 還 是 希 望 你 首 先 平 息 你 的 反 應 ， 其 次 儘 量 跟 那 位 同 學 購 通 你 們 倆 之 間 的 問 題 及 對 這 件 事 情 的 看 法 ， 好 讓 不 要 再 發 生 這 樣 傷 害 彼 此 的 事 情 。\n",
      "但 還 是 希 望 你 首 先 平 息 你 的 反 應 ， 其 次 盡 量 跟 那 位 同 學 溝 通 你 們 黑 之 間 的 問 題 及 對 這 件 事 情 的 看 法 ， 好 讓 不 要 再 發 生 這 樣 傷 害 彼 此 的 事 情 。\n",
      "但 還 是 希 望 你 首 先 平 息 你 的 反 應 ， 其 次 儘 量 跟 那 位 同 學 溝 通 你 們 倆 之 間 的 問 題 及 對 這 件 事 情 的 看 法 ， 好 讓 不 要 再 發 生 這 樣 傷 害 彼 此 的 事 情 。\n",
      "({'over_corr': 2, 'total_err': 1, 'true_corr': tensor(1, device='cuda:0')}, {'over_corr': 1, 'total_err': 1, 'true_corr': 0})\n",
      "如 果 您 哪 裡 真 的 有 事 情 不 能 回 來 ． ． ． 還 是 我 這 裡 想 辦 法 先 處 理 吧 ！\n",
      "如 果 您 那 裡 真 的 有 事 情 不 能 回 來 ． ． ． 還 是 我 這 裡 想 辦 法 先 處 理 吧 ！\n",
      "如 果 您 那 裡 真 的 有 事 情 不 能 回 來 ． ． ． 還 是 我 這 裡 想 辦 法 先 處 理 吧 ！\n",
      "({'over_corr': 0, 'total_err': 1, 'true_corr': tensor(1, device='cuda:0')}, {'over_corr': 0, 'total_err': 1, 'true_corr': 1})\n",
      "現 在 是 ２１ 世 紀 ， 是 公 商 業 化 ， 現 代 化 ， 全 世 界 都 用 經 濟 來 做 標 準 ， 經 濟 發 展 那 國 才 是 發 展 國 家 ， 經 濟 發 展 交 通 也 會 發 展 ， 你 果 想 要 發 展 ， 交 通 得 發 展 ， 人 民 的 生 活 才 會 進 步 。\n",
      "現 在 是 ２１ 世 紀 ， 是 工 商 業 化 ， 現 代 化 ， 全 世 界 都 用 經 濟 來 做 標 準 ， 經 濟 發 展 那 國 才 是 發 展 國 家 ， 經 濟 發 展 交 通 也 會 發 展 ， 你 果 想 要 發 展 ， 交 通 得 發 展 ， 人 民 的 生 活 才 會 進 步 。\n",
      "現 在 是 ２１ 世 紀 ， 是 工 商 業 化 ， 現 代 化 ， 全 世 界 都 用 經 濟 來 做 標 準 ， 經 濟 發 展 那 國 才 是 發 展 國 家 ， 經 濟 發 展 交 通 也 會 發 展 ， 你 果 想 要 發 展 ， 交 通 得 發 展 ， 人 民 的 生 活 才 會 進 步 。\n",
      "({'over_corr': 0, 'total_err': 1, 'true_corr': tensor(1, device='cuda:0')}, {'over_corr': 0, 'total_err': 1, 'true_corr': 1})\n",
      "Epoch 35 Loss: 0.14538415282675363\n",
      "0.4249212958595969 {'over_corr': 395, 'total_err': 938, 'true_corr': tensor(351, device='cuda:0')} {'over_corr': 234, 'total_err': 701, 'true_corr': 185}\n"
     ]
    }
   ],
   "source": [
    "epochs = 35\n",
    "\n",
    "# tokenizer = BertTokenizer.from_pretrained(checkpoint)\n",
    "encoder_model = BertModel.from_pretrained(checkpoint)\n",
    "\n",
    "# The Hyperparameters can be defined in config.py\n",
    "hidden_size = 1024\n",
    "num_layers = 2\n",
    "\n",
    "decoder_model = DecoderBaseRNN(\n",
    "    model=nn.LSTM,\n",
    "    input_size=encoder_model.config.hidden_size,\n",
    "    hidden_size=hidden_size,\n",
    "    num_layers=num_layers,\n",
    ")\n",
    "\n",
    "model = CombineBertModel(encoder_model=encoder_model, decoder_model=decoder_model)\n",
    "\n",
    "train(model, tokenizer, train_data_loader, dev_data_loader)"
   ]
  },
  {
   "cell_type": "code",
   "execution_count": 10,
   "id": "8e3bf412-1d3f-44af-b7f8-116c010d7170",
   "metadata": {},
   "outputs": [
    {
     "name": "stdout",
     "output_type": "stream",
     "text": [
      "0.5369593727367895 {'over_corr': 4982, 'total_err': 5278, 'true_corr': tensor(1425, device='cuda:0')} {'over_corr': 1999, 'total_err': 3436, 'true_corr': 381}\n"
     ]
    }
   ],
   "source": [
    "test(model, tokenizer, test_data_loader)"
   ]
  },
  {
   "cell_type": "markdown",
   "id": "634b2bad-16b0-43d5-8a79-59563e6d0b31",
   "metadata": {},
   "source": [
    "#### BERT + GRU"
   ]
  },
  {
   "cell_type": "code",
   "execution_count": 11,
   "id": "a66e3965-934c-4aea-91d6-81b4986b595e",
   "metadata": {
    "collapsed": true,
    "jupyter": {
     "outputs_hidden": true
    },
    "scrolled": true
   },
   "outputs": [
    {
     "name": "stderr",
     "output_type": "stream",
     "text": [
      "Epoch:1/35: 100%|██████████| 103/103 [00:27<00:00,  3.78it/s, loss=5.318]\n"
     ]
    },
    {
     "name": "stdout",
     "output_type": "stream",
     "text": [
      "王 天 華 開 心 得 一 直 說 話 。\n",
      "我 我 ， ， ， ， ， ， ， ，\n",
      "王 天 華 開 心 地 一 直 說 話 。\n",
      "({'over_corr': 10, 'total_err': 1, 'true_corr': tensor(0, device='cuda:0')}, {'over_corr': 1, 'total_err': 1, 'true_corr': 0})\n",
      "上 週 四 早 上 ， 我 一 如 往 常 的 至 住 家 附 近 的 頂 好 超 市 買 菜 。\n",
      "我 我 ， ， ， ， ， ， ， ， ， ， ， ， ， ， ， ， ， ， ， ， ， ，\n",
      "上 週 四 早 上 ， 我 一 如 往 常 地 至 住 家 附 近 的 頂 好 超 市 買 菜 。\n",
      "({'over_corr': 23, 'total_err': 1, 'true_corr': tensor(0, device='cuda:0')}, {'over_corr': 1, 'total_err': 1, 'true_corr': 0})\n",
      "也 許 老 師 可 以 把 錄 音 給 父 母 看 ， 所 以 他 們 知 道 他 們 的 孩 子 這 麼 樣 ， 也 是 這 麼 樣 教 他 們 的 孩 子 。\n",
      "我 我 ， ， ， ， ， ， ， ， ， ， ， ， ， ， ， ， ， ， ， ， ， ， ， ， ， ， ， ， ， ， ， ， ， ， ， ， ， ，\n",
      "也 許 老 師 可 以 把 錄 影 給 父 母 看 ， 所 以 他 們 知 道 他 們 的 孩 子 怎 麼 樣 ， 也 是 怎 麼 樣 教 他 們 的 孩 子 。\n",
      "({'over_corr': 36, 'total_err': 3, 'true_corr': tensor(0, device='cuda:0')}, {'over_corr': 1, 'total_err': 1, 'true_corr': 0})\n",
      "所 以 你 好 好 得 想 要 怎 麼 做 ， 如 果 要 我 幫 甚 麼 忙 隨 時 都 可 以 告 訴 我 。\n",
      "我 我 ， ， ， ， ， ， ， ， ， ， ， ， ， ， ， ， ， ， ， ， ， ， ， ， ， ，\n",
      "所 以 你 好 好 地 想 要 怎 麼 做 ， 如 果 要 我 幫 甚 麼 忙 隨 時 都 可 以 告 訴 我 。\n",
      "({'over_corr': 27, 'total_err': 1, 'true_corr': tensor(0, device='cuda:0')}, {'over_corr': 1, 'total_err': 1, 'true_corr': 0})\n",
      "他 的 老 師 ： 「 你 怎 了 ？ 」 ， 李 大 明 說 ： 「 我 頭 痛 。 」 。\n",
      "我 我 ， ， ， ， ， ， ， ， ， ， ， ， ， ， ， ， ， ， ， ， ， ，\n",
      "他 的 老 師 ： 「 你 怎 麼 了 ？ 」 ， 李 大 明 說 ： 「 我 頭 痛 。 」 。\n",
      "({'over_corr': 23, 'total_err': 1, 'true_corr': tensor(0, device='cuda:0')}, {'over_corr': 1, 'total_err': 1, 'true_corr': 0})\n",
      "我 來 台 彎 要 學 中 文 ， 因 為 中 文 很 從 邀 。\n",
      "我 我 ， ， ， ， ， ， ， ， ， ， ， ， ， ，\n",
      "我 來 台 灣 要 學 中 文 ， 因 為 中 文 很 重 要 。\n",
      "({'over_corr': 13, 'total_err': 3, 'true_corr': tensor(0, device='cuda:0')}, {'over_corr': 1, 'total_err': 1, 'true_corr': 0})\n",
      "Epoch 1 Loss: 6.868476802862964\n",
      "5.563678904013201 {'over_corr': 19792, 'total_err': 938, 'true_corr': tensor(0, device='cuda:0')} {'over_corr': 701, 'total_err': 701, 'true_corr': 0}\n"
     ]
    },
    {
     "name": "stderr",
     "output_type": "stream",
     "text": [
      "Epoch:2/35: 100%|██████████| 103/103 [00:27<00:00,  3.76it/s, loss=4.695]\n"
     ]
    },
    {
     "name": "stdout",
     "output_type": "stream",
     "text": [
      "但 我 們 的 目 的 還 是 相 同 的 ， 也 是 為 了 家 庭 根 社 會 做 貢 獻 ， 而 只 是 得 到 目 的 的 方 法 不 一 樣 。\n",
      "一 我 們 的 的 的 ， 我 有 一 的 ， ， 我 一 的 的 一 一 ， 的 ， ， 不 ， 一 的 一 的 的 的 的 不 一 一 。\n",
      "但 我 們 的 目 的 還 是 相 同 的 ， 也 是 為 了 家 庭 跟 社 會 做 貢 獻 ， 而 只 是 得 到 目 的 的 方 法 不 一 樣 。\n",
      "({'over_corr': 26, 'total_err': 1, 'true_corr': tensor(0, device='cuda:0')}, {'over_corr': 1, 'total_err': 1, 'true_corr': 0})\n",
      "我 門 可 以 到 外 面 ， 吃 很 多 東 西 了 。\n",
      "我 們 ， 們 有 有 的 ， 的 我 ， 一 一 的 。\n",
      "我 們 可 以 到 外 面 ， 吃 很 多 東 西 了 。\n",
      "({'over_corr': 11, 'total_err': 1, 'true_corr': tensor(1, device='cuda:0')}, {'over_corr': 1, 'total_err': 1, 'true_corr': 0})\n",
      "我 希 望 你 神 病 快 好 ， 你 要 吃 多 水 果 ， 以 後 我 們 可 以 一 起 吃 飯 。\n",
      "我 一 一 你 一 的 一 ， ， 我 們 的 ， ， ， 們 ， 我 們 ， ， 一 一 的 一 。\n",
      "我 希 望 你 生 病 快 好 ， 你 要 吃 多 水 果 ， 以 後 我 們 可 以 一 起 吃 飯 。\n",
      "({'over_corr': 18, 'total_err': 1, 'true_corr': tensor(0, device='cuda:0')}, {'over_corr': 1, 'total_err': 1, 'true_corr': 0})\n",
      "他 從 北 投 捷 運 站 坐 捷 運 到 估 停 站 。\n",
      "他 們 一 一 的 的 一 的 的 。\n",
      "他 從 北 投 捷 運 站 坐 捷 運 到 古 亭 站 。\n",
      "({'over_corr': 11, 'total_err': 2, 'true_corr': tensor(0, device='cuda:0')}, {'over_corr': 1, 'total_err': 1, 'true_corr': 0})\n",
      "反 正 ， 隨 著 時 間 的 流 逝 ， 春 秋 轉 換 事 情 也 被 遺 忘 的 快 無 足 跡 ， 卻 會 帶 來 豐 盛 的 人 生 經 歷 。\n",
      "一 一 ， 的 的 一 的 ， 的 的 ， 一 的 一 有 ， ， ， 的 ， 的 的 ， 一 。\n",
      "反 正 ， 隨 著 時 間 的 流 逝 ， 春 秋 轉 換 事 情 也 被 遺 忘 得 快 無 足 跡 ， 卻 會 帶 來 豐 盛 的 人 生 經 歷 。\n",
      "({'over_corr': 32, 'total_err': 1, 'true_corr': tensor(0, device='cuda:0')}, {'over_corr': 1, 'total_err': 1, 'true_corr': 0})\n",
      "那 是 ， 有 一 個 小 姐 走 進 來 ， 他 就 把 一 張 地 圖 拿 過 這 位 小 姐 問 路 。\n",
      "我 我 ， 有 一 ， ， 的 ， ， 他 我 ， 一 的 的 的 有 ， 一 ， 的 的 。\n",
      "那 時 ， 有 一 個 小 姐 走 進 來 ， 他 就 把 一 張 地 圖 拿 過 這 位 小 姐 問 路 。\n",
      "({'over_corr': 20, 'total_err': 1, 'true_corr': tensor(0, device='cuda:0')}, {'over_corr': 1, 'total_err': 1, 'true_corr': 0})\n",
      "Epoch 2 Loss: 5.2125440014218825\n",
      "4.658714727921919 {'over_corr': 15867, 'total_err': 938, 'true_corr': tensor(27, device='cuda:0')} {'over_corr': 701, 'total_err': 701, 'true_corr': 0}\n"
     ]
    },
    {
     "name": "stderr",
     "output_type": "stream",
     "text": [
      "Epoch:3/35: 100%|██████████| 103/103 [00:27<00:00,  3.78it/s, loss=2.668]\n"
     ]
    },
    {
     "name": "stdout",
     "output_type": "stream",
     "text": [
      "我 的 工 作 里 在 印 尼 有 很 多 人 會 說 華 文 ， 所 以 我 也 要 會 說 跟 寫 中 國 子 。\n",
      "我 的 工 作 裡 在 。 有 很 多 人 會 說 個 。 ， 所 以 我 也 要 會 說 跟 一 們 國 子 。\n",
      "我 的 工 作 裡 在 印 尼 有 很 多 人 會 說 華 文 ， 所 以 我 也 要 會 說 跟 寫 中 國 字 。\n",
      "({'over_corr': 6, 'total_err': 2, 'true_corr': tensor(1, device='cuda:0')}, {'over_corr': 1, 'total_err': 1, 'true_corr': 0})\n",
      "發 生 這 種 事 情 ， 我 也 替 妳 打 包 不 平 ， 老 實 說 ， 我 也 曾 經 有 這 樣 不 好 的 經 驗 ， 所 以 你 的 心 情 我 很 能 夠 體 會 ， 也 很 能 瞭 解 。\n",
      "好 生 這 麼 事 情 ， 我 也 你 的 不 公 ， 老 人 說 ， 我 也 經 有 這 樣 不 好 的 經 很 ， 所 以 你 的 子 情 我 很 能 好 以 會 ， 也 很 能 了 一 。\n",
      "發 生 這 種 事 情 ， 我 也 替 妳 打 抱 不 平 ， 老 實 說 ， 我 也 曾 經 有 這 樣 不 好 的 經 驗 ， 所 以 你 的 心 情 我 很 能 夠 體 會 ， 也 很 能 瞭 解 。\n",
      "({'over_corr': 14, 'total_err': 1, 'true_corr': tensor(0, device='cuda:0')}, {'over_corr': 1, 'total_err': 1, 'true_corr': 0})\n",
      "他 叫 醒 的 時 候 ， 已 經 ８ 點 ２０ 分 左 右 。\n",
      "他 你 你 的 時 候 ， 我 經 了 很 方 。 。\n",
      "他 覺 醒 的 時 候 ， 已 經 ８ 點 ２０ 分 左 右 。\n",
      "({'over_corr': 8, 'total_err': 1, 'true_corr': tensor(0, device='cuda:0')}, {'over_corr': 1, 'total_err': 1, 'true_corr': 0})\n",
      "從 學 校 一 回 來 ， 男 生 女 生 們 都 會 上 各 自 的 部 落 各 ， 寫 下 當 時 的 感 情 ， 或 是 當 天 在 學 校 看 到 的 事 情 。\n",
      "的 學 校 一 回 來 ， 有 生 。 生 們 都 會 上 個 自 的 不 一 個 ， 一 下 ， 時 的 很 情 ， 或 是 ， 天 在 學 校 看 到 的 事 情 。\n",
      "從 學 校 一 回 來 ， 男 生 女 生 們 都 會 上 各 自 的 部 落 格 ， 寫 下 當 時 的 感 情 ， 或 是 當 天 在 學 校 看 到 的 事 情 。\n",
      "({'over_corr': 10, 'total_err': 1, 'true_corr': tensor(0, device='cuda:0')}, {'over_corr': 1, 'total_err': 1, 'true_corr': 0})\n",
      "台 灣 生 活 讓 他 打 開 眼 鏡 知 道 很 多 別 的 國 家 的 社 會 事 情 ， 很 真 得 。\n",
      "為 是 生 活 的 他 的 工 子 。 知 道 很 多 不 的 國 家 的 工 會 的 情 ， 很 很 的 。\n",
      "台 灣 生 活 讓 他 打 開 眼 鏡 知 道 很 多 別 的 國 家 的 社 會 事 情 ， 很 值 得 。\n",
      "({'over_corr': 11, 'total_err': 1, 'true_corr': tensor(0, device='cuda:0')}, {'over_corr': 1, 'total_err': 1, 'true_corr': 0})\n",
      "因 為 我 想 死 她 了 ， 所 以 梅 天 晚 上 我 睡 覺 之 前 ， 我 想 起 來 她 上 次 來 看 我 。\n",
      "因 為 我 們 個 他 了 ， 所 以 天 是 上 我 一 ， 他 一 ， 我 們 起 來 他 上 一 來 看 我 。\n",
      "因 為 我 想 死 她 了 ， 所 以 每 天 晚 上 我 睡 覺 之 前 ， 我 想 起 來 她 上 次 來 看 我 。\n",
      "({'over_corr': 11, 'total_err': 1, 'true_corr': tensor(0, device='cuda:0')}, {'over_corr': 1, 'total_err': 1, 'true_corr': 0})\n",
      "Epoch 3 Loss: 3.8404531039080574\n",
      "2.9022517800331116 {'over_corr': 7374, 'total_err': 938, 'true_corr': tensor(54, device='cuda:0')} {'over_corr': 701, 'total_err': 701, 'true_corr': 0}\n"
     ]
    },
    {
     "name": "stderr",
     "output_type": "stream",
     "text": [
      "Epoch:4/35: 100%|██████████| 103/103 [00:27<00:00,  3.77it/s, loss=1.694]\n"
     ]
    },
    {
     "name": "stdout",
     "output_type": "stream",
     "text": [
      "每 個 人 帶 不 一 樣 的 東 西 ， 也 常 不 一 樣 的 衣 服 。\n",
      "每 個 人 有 不 一 樣 的 東 西 ， 也 常 不 一 樣 的 的 服 。\n",
      "每 個 人 帶 不 一 樣 的 東 西 ， 也 穿 不 一 樣 的 衣 服 。\n",
      "({'over_corr': 2, 'total_err': 1, 'true_corr': tensor(0, device='cuda:0')}, {'over_corr': 1, 'total_err': 1, 'true_corr': 0})\n",
      "這 樣 父 母 只 要 在 家 打 開 電 腦 就 可 以 掌 握 自 己 的 子 女 在 教 室 內 的 莊 況 ， 這 樣 子 女 們 也 不 敢 回 到 家 就 向 爸 爸 媽 媽 說 謊 了 。\n",
      "這 樣 父 母 只 要 在 家 打 開 電 腦 就 可 以 國 我 自 己 的 子 女 在 教 室 工 的 一 況 ， 這 樣 子 女 們 也 不 回 到 家 就 想 爸 爸 媽 媽 說 了 。\n",
      "這 樣 父 母 只 要 在 家 打 開 電 腦 就 可 以 掌 握 自 己 的 子 女 在 教 室 內 的 狀 況 ， 這 樣 子 女 們 也 不 敢 回 到 家 就 向 爸 爸 媽 媽 說 謊 了 。\n",
      "({'over_corr': 6, 'total_err': 1, 'true_corr': tensor(0, device='cuda:0')}, {'over_corr': 1, 'total_err': 1, 'true_corr': 0})\n",
      "我 的 未 來 的 工 作 不 會 因 影 樂 我 的 教 訓 對 我 的 父 母 親 與 我 的 家 人 。\n",
      "我 的 我 來 的 工 作 不 會 因 影 理 我 的 教 響 對 我 的 父 母 公 與 我 的 家 人 。\n",
      "我 的 未 來 的 工 作 不 會 陰 影 了 我 的 教 訓 對 我 的 父 母 親 與 我 的 家 人 。\n",
      "({'over_corr': 3, 'total_err': 2, 'true_corr': tensor(0, device='cuda:0')}, {'over_corr': 1, 'total_err': 1, 'true_corr': 0})\n",
      "我 知 道 您 是 一 位 有 學 問 的 人 因 該 知 道 怎 麼 處 理 這 件 事 ， 所 以 我 不 要 多 說 了 。\n",
      "我 知 道 您 是 一 位 有 學 問 的 人 因 該 知 道 怎 麼 處 理 這 件 事 ， 所 以 我 不 要 多 說 了 。\n",
      "我 知 道 您 是 一 位 有 學 問 的 人 應 該 知 道 怎 麼 處 理 這 件 事 ， 所 以 我 不 要 多 說 了 。\n",
      "({'over_corr': 0, 'total_err': 1, 'true_corr': tensor(0, device='cuda:0')}, {'over_corr': 0, 'total_err': 1, 'true_corr': 0})\n",
      "跟 據 調 查 ， 青 少 年 平 均 上 網 時 間 超 過 看 書 或 看 電 視 。\n",
      "跟 有 。 開 ， 。 少 年 方 都 上 網 時 間 有 過 看 書 或 看 電 ， 。\n",
      "根 據 調 查 ， 青 少 年 平 均 上 網 時 間 超 過 看 書 或 看 電 視 。\n",
      "({'over_corr': 8, 'total_err': 1, 'true_corr': tensor(0, device='cuda:0')}, {'over_corr': 1, 'total_err': 1, 'true_corr': 0})\n",
      "而 且 聊 天 的 時 間 是 很 難 控 制 ， 每 天 都 把 自 己 寶 貴 的 五 、 六 個 小 時 花 光 了 缺 不 知 道 ， 是 一 件 很 容 易 發 生 的 事 情 。\n",
      "而 且 天 天 的 時 間 是 很 難 子 會 ， 每 天 都 把 自 己 他 的 好 、 。 個 小 時 間 長 了 有 不 知 道 ， 是 一 件 很 。 人 發 生 的 事 情 。\n",
      "而 且 聊 天 的 時 間 是 很 難 控 制 ， 每 天 都 把 自 己 寶 貴 的 五 、 六 個 小 時 花 光 了 卻 不 知 道 ， 是 一 件 很 容 易 發 生 的 事 情 。\n",
      "({'over_corr': 11, 'total_err': 1, 'true_corr': tensor(0, device='cuda:0')}, {'over_corr': 1, 'total_err': 1, 'true_corr': 0})\n",
      "Epoch 4 Loss: 2.29268883038493\n",
      "1.6995319398966702 {'over_corr': 3200, 'total_err': 938, 'true_corr': tensor(85, device='cuda:0')} {'over_corr': 641, 'total_err': 701, 'true_corr': 5}\n"
     ]
    },
    {
     "name": "stderr",
     "output_type": "stream",
     "text": [
      "Epoch:5/35: 100%|██████████| 103/103 [00:27<00:00,  3.77it/s, loss=1.090]\n"
     ]
    },
    {
     "name": "stdout",
     "output_type": "stream",
     "text": [
      "在 俄 羅 斯 這 樣 的 情 況 處 處 可 見 ， 不 過 實 地 說 這 些 打 工 的 人 並 不 是 來 自 貧 窮 的 家 庭 。\n",
      "在 工 水 這 樣 的 情 況 處 處 可 見 ， 不 過 實 地 說 這 些 打 工 的 人 並 不 是 來 自 。 的 家 庭 。\n",
      "在 俄 羅 斯 這 樣 的 情 況 處 處 可 見 ， 不 過 實 在 說 這 些 打 工 的 人 並 不 是 來 自 貧 窮 的 家 庭 。\n",
      "({'over_corr': 5, 'total_err': 1, 'true_corr': tensor(0, device='cuda:0')}, {'over_corr': 1, 'total_err': 1, 'true_corr': 0})\n",
      "上 課 的 時 候 ， 老 師 文 學 生 很 難 懂 地 問 題 。\n",
      "上 課 的 時 候 ， 老 師 文 學 生 很 難 懂 的 問 題 。\n",
      "上 課 的 時 候 ， 老 師 問 學 生 很 難 懂 的 問 題 。\n",
      "({'over_corr': 0, 'total_err': 2, 'true_corr': tensor(1, device='cuda:0')}, {'over_corr': 0, 'total_err': 1, 'true_corr': 0})\n",
      "可 以 讓 孩 子 們 一 起 發 展 、 學 習 ， 同 時 父 母 可 以 繼 續 工 作 ， 可 避 免 淪 落 經 濟 窘 境 ， 簡 直 是 一 箭 雙 雕 。\n",
      "可 以 讓 孩 子 們 一 起 發 展 、 學 習 ， 同 時 父 母 可 以 繼 續 工 作 ， 可 公 經 濟 。 境 ， 和 直 是 一 。 。\n",
      "可 以 讓 孩 子 們 一 起 發 展 、 學 習 ， 同 時 父 母 可 以 繼 續 工 作 ， 可 避 免 淪 落 經 濟 窘 境 ， 簡 直 是 一 箭 雙 鵰 。\n",
      "({'over_corr': 8, 'total_err': 1, 'true_corr': tensor(0, device='cuda:0')}, {'over_corr': 1, 'total_err': 1, 'true_corr': 0})\n",
      "要 是 我 們 上 課 的 時 候 說 話 ， 我 的 老 師 說 對 我 們 ： 「 建 在 不 必 說 話 ！ 」\n",
      "要 是 我 們 上 課 的 時 候 說 話 ， 我 的 老 師 說 對 我 們 ： 「 建 在 不 必 說 話 ！ 」\n",
      "要 是 我 們 上 課 的 時 候 說 話 ， 我 的 老 師 說 對 我 們 ： 「 現 在 不 必 說 話 ！ 」\n",
      "({'over_corr': 0, 'total_err': 1, 'true_corr': tensor(0, device='cuda:0')}, {'over_corr': 0, 'total_err': 1, 'true_corr': 0})\n",
      "因 為 又 大 聲 音 又 臭 味 ， 所 以 我 們 不 知 道 什 麼 告 訴 你 我 們 的 問 題 。\n",
      "因 為 又 大 聲 音 又 臭 味 ， 所 以 我 們 不 知 道 什 麼 告 訴 你 我 們 的 問 題 。\n",
      "因 為 又 大 聲 音 又 臭 味 ， 所 以 我 們 不 知 道 怎 麼 告 訴 你 我 們 的 問 題 。\n",
      "({'over_corr': 0, 'total_err': 1, 'true_corr': tensor(0, device='cuda:0')}, {'over_corr': 0, 'total_err': 1, 'true_corr': 0})\n",
      "那 一 天 我 們 安 慰 自 己 說 朋 友 等 以 下 就 到 了 ， 但 過 了 二 十 分 鐘 他 還 沒 到 ， 我 立 即 給 他 打 電 話 。\n",
      "那 一 天 我 們 安 味 自 己 說 朋 友 等 以 下 就 到 了 ， 但 過 了 二 十 分 鐘 他 還 沒 到 ， 我 一 分 給 他 打 電 話 。\n",
      "那 一 天 我 們 安 慰 自 己 說 朋 友 等 一 下 就 到 了 ， 但 過 了 二 十 分 鐘 他 還 沒 到 ， 我 立 即 給 他 打 電 話 。\n",
      "({'over_corr': 3, 'total_err': 1, 'true_corr': tensor(0, device='cuda:0')}, {'over_corr': 1, 'total_err': 1, 'true_corr': 0})\n",
      "Epoch 5 Loss: 1.4108436292814976\n",
      "1.1336260695349087 {'over_corr': 1761, 'total_err': 938, 'true_corr': tensor(133, device='cuda:0')} {'over_corr': 547, 'total_err': 701, 'true_corr': 16}\n"
     ]
    },
    {
     "name": "stderr",
     "output_type": "stream",
     "text": [
      "Epoch:6/35: 100%|██████████| 103/103 [00:27<00:00,  3.77it/s, loss=0.830]\n"
     ]
    },
    {
     "name": "stdout",
     "output_type": "stream",
     "text": [
      "從 沒 有 噪 音 和 臭 味 ， 為 何 你 們 的 工 廠 最 近 會 造 出 那 麼 強 列 噪 音 與 臭 味 呢 ？\n",
      "從 沒 有 噪 音 和 臭 味 ， 為 何 你 們 的 工 廠 最 近 會 造 出 那 麼 活 臭 噪 音 與 臭 味 呢 ？\n",
      "從 沒 有 噪 音 和 臭 味 ， 為 何 你 們 的 工 廠 最 近 會 造 出 那 麼 強 烈 噪 音 與 臭 味 呢 ？\n",
      "({'over_corr': 1, 'total_err': 1, 'true_corr': tensor(0, device='cuda:0')}, {'over_corr': 1, 'total_err': 1, 'true_corr': 0})\n",
      "明 天 是 裡 拜 天 我 想 請 你 跟 我 一 起 出 去 玩 。\n",
      "明 天 是 裡 拜 天 我 想 請 你 跟 我 一 起 出 去 玩 。\n",
      "明 天 是 禮 拜 天 我 想 請 你 跟 我 一 起 出 去 玩 。\n",
      "({'over_corr': 0, 'total_err': 1, 'true_corr': tensor(0, device='cuda:0')}, {'over_corr': 0, 'total_err': 1, 'true_corr': 0})\n",
      "大 家 都 知 道 貴 工 廠 為 我 們 社 區 一 直 不 斷 的 努 力 讓 社 區 成 長 ， 但 是 我 們 還 是 希 望 保 存 原 本 美 麗 的 鄉 村 ， 而 貴 公 司 一 起 發 展 。\n",
      "大 家 都 知 道 貴 工 廠 為 我 們 社 居 一 直 不 斷 的 努 力 讓 社 居 成 長 ， 但 是 我 們 還 是 希 望 保 ， 原 本 美 你 的 鄉 ， 而 貴 公 司 一 起 發 展 。\n",
      "大 家 都 知 道 貴 工 廠 為 我 們 社 區 一 直 不 斷 的 努 力 讓 社 區 成 長 ， 但 是 我 們 還 是 希 望 保 存 原 本 美 麗 的 鄉 村 ， 和 貴 公 司 一 起 發 展 。\n",
      "({'over_corr': 5, 'total_err': 1, 'true_corr': tensor(0, device='cuda:0')}, {'over_corr': 1, 'total_err': 1, 'true_corr': 0})\n",
      "我 的 生 日 那 天 ， 我 沒 有 邀 請 太 多 的 人 。 我 們 可 以 開 心 的 慶 祝 好 之 後 ， 就 一 起 來 規 劃 我 們 的 未 來 。\n",
      "我 的 生 日 那 天 ， 我 沒 有 貴 請 太 多 的 人 。 我 們 可 以 開 心 的 慶 祝 好 之 後 ， 就 一 起 來 規 顧 我 們 的 未 來 。\n",
      "我 的 生 日 那 天 ， 我 沒 有 邀 請 太 多 的 人 。 我 們 可 以 開 心 地 慶 祝 好 之 後 ， 就 一 起 來 規 劃 我 們 的 未 來 。\n",
      "({'over_corr': 2, 'total_err': 1, 'true_corr': tensor(0, device='cuda:0')}, {'over_corr': 1, 'total_err': 1, 'true_corr': 0})\n",
      "此 至 ， 祝 大 安\n",
      "此 至 ， 祝 大 安\n",
      "此 致 ， 祝 大 安\n",
      "({'over_corr': 0, 'total_err': 1, 'true_corr': tensor(0, device='cuda:0')}, {'over_corr': 0, 'total_err': 1, 'true_corr': 0})\n",
      "改 天 我 們 一 直 走 ， 好 不 好 ？\n",
      "改 天 我 們 一 直 走 ， 好 不 好 ？\n",
      "改 天 我 們 一 起 走 ， 好 不 好 ？\n",
      "({'over_corr': 0, 'total_err': 1, 'true_corr': tensor(0, device='cuda:0')}, {'over_corr': 0, 'total_err': 1, 'true_corr': 0})\n",
      "Epoch 6 Loss: 0.9743530194736222\n",
      "0.8578945642167871 {'over_corr': 1198, 'total_err': 938, 'true_corr': tensor(136, device='cuda:0')} {'over_corr': 469, 'total_err': 701, 'true_corr': 25}\n"
     ]
    },
    {
     "name": "stderr",
     "output_type": "stream",
     "text": [
      "Epoch:7/35: 100%|██████████| 103/103 [00:27<00:00,  3.77it/s, loss=0.846]\n"
     ]
    },
    {
     "name": "stdout",
     "output_type": "stream",
     "text": [
      "要 是 您 們 把 這 問 題 方 在 一 邊 不 理 ！ 我 們 會 向 法 院 起 訴 。\n",
      "要 是 您 們 把 這 問 題 方 在 一 邊 不 理 ！ 我 們 會 向 法 院 起 訴 。\n",
      "要 是 您 們 把 這 問 題 放 在 一 邊 不 理 ！ 我 們 會 向 法 院 起 訴 。\n",
      "({'over_corr': 0, 'total_err': 1, 'true_corr': tensor(0, device='cuda:0')}, {'over_corr': 0, 'total_err': 1, 'true_corr': 0})\n",
      "我 很 高 興 受 到 你 們 結 婚 的 邀 請 單 ， 你 們 到 底 決 定 結 婚 了 ！\n",
      "我 很 高 興 受 到 你 們 結 婚 的 我 請 單 ， 你 們 到 底 決 定 結 婚 了 ！\n",
      "我 很 高 興 收 到 你 們 結 婚 的 邀 請 單 ， 你 們 到 底 決 定 結 婚 了 ！\n",
      "({'over_corr': 1, 'total_err': 1, 'true_corr': tensor(0, device='cuda:0')}, {'over_corr': 1, 'total_err': 1, 'true_corr': 0})\n",
      "雖 然 網 路 的 發 達 ， 可 以 讓 我 們 掌 握 最 新 的 資 訊 、 生 活 圈 變 大 、 可 以 快 速 的 獲 取 資 料 ， 但 是 網 絡 是 個 可 怕 的 虛 擬 世 界 。\n",
      "雖 然 網 路 的 發 達 ， 可 以 讓 我 們 假 我 最 新 的 資 訊 、 生 活 變 大 、 可 以 快 速 的 獲 取 資 料 ， 但 是 網 絡 是 個 可 怕 的 相 響 世 界 。\n",
      "雖 然 網 路 的 發 達 ， 可 以 讓 我 們 掌 握 最 新 的 資 訊 、 生 活 圈 變 大 、 可 以 快 速 地 獲 取 資 料 ， 但 是 網 絡 是 個 可 怕 的 虛 擬 世 界 。\n",
      "({'over_corr': 5, 'total_err': 1, 'true_corr': tensor(0, device='cuda:0')}, {'over_corr': 1, 'total_err': 1, 'true_corr': 0})\n",
      "我 覺 得 這 些 人 也 在 第 二 個 象 片 兒 ， 也 在 第 三 個 象 片 兒 。 這 個 男 人 也 在 第 一 個 象 片 兒 。 這 兩 人 是 朋 友 。\n",
      "我 覺 得 這 些 人 也 在 第 二 個 像 片 兒 ， 也 在 第 三 個 像 片 兒 。 這 個 男 人 也 在 第 一 個 像 片 兒 。 這 兩 人 是 朋 友 。\n",
      "我 覺 得 這 些 人 也 在 第 二 個 相 片 兒 ， 也 在 第 三 個 相 片 兒 。 這 個 男 人 也 在 第 一 個 象 片 兒 。 這 兩 人 是 朋 友 。\n",
      "({'over_corr': 1, 'total_err': 2, 'true_corr': tensor(0, device='cuda:0')}, {'over_corr': 1, 'total_err': 1, 'true_corr': 0})\n",
      "跟 據 調 查 ， 青 少 年 平 均 上 網 時 間 超 過 看 書 或 看 電 視 。\n",
      "跟 據 調 查 ， 青 少 年 平 都 上 網 時 間 超 過 看 書 或 看 電 視 。\n",
      "根 據 調 查 ， 青 少 年 平 均 上 網 時 間 超 過 看 書 或 看 電 視 。\n",
      "({'over_corr': 1, 'total_err': 1, 'true_corr': tensor(0, device='cuda:0')}, {'over_corr': 1, 'total_err': 1, 'true_corr': 0})\n",
      "現 在 他 們 沒 辦 法 付 房 租 所 以 他 們 回 到 爸 爸 媽 媽 的 家 ， 所 以 他 們 的 房 東 也 沒 收 到 房 租 的 錢 就 不 能 賄 銀 行 的 款 ！\n",
      "現 在 他 們 沒 辦 法 付 房 租 所 以 他 們 回 到 爸 爸 媽 媽 的 家 ， 所 以 他 們 的 房 東 也 沒 受 到 房 租 的 錢 就 不 能 噪 行 的 公 ！\n",
      "現 在 他 們 沒 辦 法 付 房 租 所 以 他 們 回 到 爸 爸 媽 媽 的 家 ， 所 以 他 們 的 房 東 也 沒 收 到 房 租 的 錢 就 不 能 匯 銀 行 的 款 ！\n",
      "({'over_corr': 3, 'total_err': 1, 'true_corr': tensor(0, device='cuda:0')}, {'over_corr': 1, 'total_err': 1, 'true_corr': 0})\n",
      "Epoch 7 Loss: 0.7356948577663274\n",
      "0.7092387283390219 {'over_corr': 915, 'total_err': 938, 'true_corr': tensor(146, device='cuda:0')} {'over_corr': 399, 'total_err': 701, 'true_corr': 37}\n"
     ]
    },
    {
     "name": "stderr",
     "output_type": "stream",
     "text": [
      "Epoch:8/35: 100%|██████████| 103/103 [00:27<00:00,  3.77it/s, loss=0.515]\n"
     ]
    },
    {
     "name": "stdout",
     "output_type": "stream",
     "text": [
      "因 為 現 在 的 社 會 上 如 果 你 不 斷 的 學 習 不 斷 的 接 受 新 的 知 識 你 有 可 能 被 社 會 淘 汰 ， 現 代 女 性 工 作 能 力 很 強 ， 他 們 可 以 去 外 面 工 作 同 時 也 能 把 家 裡 的 事 情 安 排 得 很 好 。\n",
      "因 為 現 在 的 社 會 上 如 果 你 不 斷 地 學 習 不 斷 地 接 受 新 的 知 識 你 有 可 能 被 社 會 健 ， 現 代 女 性 工 作 能 力 很 強 ， 他 們 可 以 去 外 面 工 作 同 時 也 能 把 家 裡 的 事 情 安 排 得 很 好 。\n",
      "因 為 現 在 的 社 會 上 如 果 你 不 斷 地 學 習 不 斷 地 接 受 新 的 知 識 你 有 可 能 被 社 會 淘 汰 ， 現 代 女 性 工 作 能 力 很 強 ， 她 們 可 以 去 外 面 工 作 同 時 也 能 把 家 裡 的 事 情 安 排 得 很 好 。\n",
      "({'over_corr': 2, 'total_err': 3, 'true_corr': tensor(2, device='cuda:0')}, {'over_corr': 1, 'total_err': 1, 'true_corr': 0})\n",
      "因 為 我 不 能 ， 所 以 我 準 備 小 禮 物 ， 解 我 的 朋 友 送 給 你 。 希 望 你 喜 歡 。\n",
      "因 為 我 不 能 ， 所 以 我 準 備 小 禮 物 ， 解 我 的 朋 友 送 給 你 。 希 望 你 喜 歡 。\n",
      "因 為 我 不 能 ， 所 以 我 準 備 小 禮 物 ， 請 我 的 朋 友 送 給 你 。 希 望 你 喜 歡 。\n",
      "({'over_corr': 0, 'total_err': 1, 'true_corr': tensor(0, device='cuda:0')}, {'over_corr': 0, 'total_err': 1, 'true_corr': 0})\n",
      "他 放 上 他 的 婉 ， 一 輛 汽 車 停 了 。\n",
      "他 放 上 他 的 啤 ， 一 趕 汽 車 停 了 。\n",
      "他 放 上 他 的 腕 ， 一 輛 汽 車 停 了 。\n",
      "({'over_corr': 1, 'total_err': 1, 'true_corr': tensor(0, device='cuda:0')}, {'over_corr': 1, 'total_err': 1, 'true_corr': 0})\n",
      "相 信 不 僅 是 我 的 國 家 馬 來 西 亞 ， 全 世 界 的 青 少 年 也 同 樣 的 面 對 沉 迷 於 網 路 世 界 的 問 題 。\n",
      "相 信 不 僅 是 我 的 國 家 馬 來 西 只 ， 全 世 界 的 青 少 年 也 同 樣 的 面 對 只 迷 於 網 路 世 界 的 問 題 。\n",
      "相 信 不 僅 是 我 的 國 家 馬 來 西 亞 ， 全 世 界 的 青 少 年 也 同 樣 得 面 對 沉 迷 於 網 路 世 界 的 問 題 。\n",
      "({'over_corr': 2, 'total_err': 1, 'true_corr': tensor(0, device='cuda:0')}, {'over_corr': 1, 'total_err': 1, 'true_corr': 0})\n",
      "由 於 網 絡 世 界 的 宜 取 得 特 性 ， 造 成 許 多 青 少 年 更 加 容 易 從 網 路 上 取 得 不 良 的 資 訊 ， 例 如 色 情 網 站 等 等 。\n",
      "由 於 網 絡 世 界 的 花 取 得 特 性 ， 造 成 許 多 青 少 年 更 加 容 易 從 網 路 上 取 得 不 。 的 資 訊 ， 例 如 的 情 網 站 等 等 。\n",
      "由 於 網 絡 世 界 的 易 取 得 特 性 ， 造 成 許 多 青 少 年 更 加 容 易 從 網 路 上 取 得 不 良 的 資 訊 ， 例 如 色 情 網 站 等 等 。\n",
      "({'over_corr': 2, 'total_err': 1, 'true_corr': tensor(0, device='cuda:0')}, {'over_corr': 1, 'total_err': 1, 'true_corr': 0})\n",
      "我 們 都 知 道 你 的 工 廠 工 作 的 很 穩 定 ， 這 幾 年 以 來 你 們 的 展 品 在 世 界 上 非 常 有 名 。\n",
      "我 們 都 知 道 你 的 工 廠 工 作 的 很 累 定 ， 這 幾 年 以 來 你 們 的 展 品 在 世 界 上 非 常 有 名 。\n",
      "我 們 都 知 道 你 的 工 廠 工 作 的 很 穩 定 ， 這 幾 年 以 來 你 們 的 產 品 在 世 界 上 非 常 有 名 。\n",
      "({'over_corr': 1, 'total_err': 1, 'true_corr': tensor(0, device='cuda:0')}, {'over_corr': 1, 'total_err': 1, 'true_corr': 0})\n",
      "Epoch 8 Loss: 0.5799249309359245\n",
      "0.6048084382306446 {'over_corr': 719, 'total_err': 938, 'true_corr': tensor(182, device='cuda:0')} {'over_corr': 350, 'total_err': 701, 'true_corr': 59}\n"
     ]
    },
    {
     "name": "stderr",
     "output_type": "stream",
     "text": [
      "Epoch:9/35: 100%|██████████| 103/103 [00:27<00:00,  3.77it/s, loss=0.559]\n"
     ]
    },
    {
     "name": "stdout",
     "output_type": "stream",
     "text": [
      "所 以 你 也 不 要 太 在 意 ， 利 用 這 個 好 機 會 放 鬆 一 下 ， 跟 朋 友 在 一 起 懷 憶 過 去 的 好 日 。\n",
      "所 以 你 也 不 要 太 在 意 ， 利 用 這 個 好 機 會 放 鬆 一 下 ， 跟 朋 友 在 一 起 壞 一 過 去 的 好 日 。\n",
      "所 以 你 也 不 要 太 在 意 ， 利 用 這 個 好 機 會 放 鬆 一 下 ， 跟 朋 友 在 一 起 回 憶 過 去 的 好 日 。\n",
      "({'over_corr': 1, 'total_err': 1, 'true_corr': tensor(0, device='cuda:0')}, {'over_corr': 1, 'total_err': 1, 'true_corr': 0})\n",
      "那 家 餐 廳 是 吃 到 飽 的 餐 廳 ， 所 以 我 感 在 哪 裡 吃 飯 。\n",
      "那 家 餐 廳 是 吃 到 飽 的 餐 廳 ， 所 以 我 感 在 哪 裡 吃 飯 。\n",
      "那 家 餐 廳 是 吃 到 飽 的 餐 廳 ， 所 以 我 改 在 哪 裡 吃 飯 。\n",
      "({'over_corr': 0, 'total_err': 1, 'true_corr': tensor(0, device='cuda:0')}, {'over_corr': 0, 'total_err': 1, 'true_corr': 0})\n",
      "白 天 機 械 可 替 換 輪 流 運 轉 以 減 少 噪 因 。\n",
      "白 天 機 可 替 換 輪 流 運 轉 以 減 少 噪 因 。\n",
      "白 天 機 械 可 替 換 輪 流 運 轉 以 減 少 噪 音 。\n",
      "({'over_corr': 1, 'total_err': 1, 'true_corr': tensor(0, device='cuda:0')}, {'over_corr': 1, 'total_err': 1, 'true_corr': 0})\n",
      "我 知 道 你 的 意 思 ， 除 了 目 前 的 生 活 很 痛 苦 意 外 ， 你 也 許 那 我 一 個 主 意 。\n",
      "我 知 道 你 的 意 思 ， 除 了 目 前 的 生 活 很 痛 苦 意 外 ， 你 也 許 那 我 一 個 主 意 。\n",
      "我 知 道 你 的 意 思 ， 除 了 目 前 的 生 活 很 痛 苦 以 外 ， 你 也 許 那 我 一 個 主 意 。\n",
      "({'over_corr': 0, 'total_err': 1, 'true_corr': tensor(0, device='cuda:0')}, {'over_corr': 0, 'total_err': 1, 'true_corr': 0})\n",
      "但 同 時 也 發 現 座 在 我 前 面 的 同 學 遽 然 在 作 弊 ， 而 且 不 只 是 一 個 ， 是 坐 在 那 一 區 的 一 群 人 在 一 起 作 弊 。\n",
      "但 同 時 也 發 現 坐 在 我 前 面 的 同 學 居 然 在 作 。 ， 而 且 不 只 是 一 個 ， 是 坐 在 那 一 居 的 一 群 人 在 一 起 作 。 。\n",
      "但 同 時 也 發 現 坐 在 我 前 面 的 同 學 居 然 在 作 弊 ， 而 且 不 只 是 一 個 ， 是 坐 在 那 一 區 的 一 群 人 在 一 起 作 弊 。\n",
      "({'over_corr': 3, 'total_err': 2, 'true_corr': tensor(2, device='cuda:0')}, {'over_corr': 1, 'total_err': 1, 'true_corr': 0})\n",
      "他 站 在 公 車 上 站 著 沾 著 ， 忽 然 一 個 奴 生 叫 他 在 她 的 椅 子 坐 一 下 。\n",
      "他 站 在 公 車 上 站 著 站 著 ， 賺 然 一 個 女 生 叫 他 在 她 的 菜 子 坐 一 下 。\n",
      "他 站 在 公 車 上 站 著 站 著 ， 忽 然 一 個 女 生 叫 他 在 她 的 椅 子 坐 一 下 。\n",
      "({'over_corr': 2, 'total_err': 2, 'true_corr': tensor(2, device='cuda:0')}, {'over_corr': 1, 'total_err': 1, 'true_corr': 0})\n",
      "Epoch 9 Loss: 0.47787694300262673\n",
      "0.5413542220538313 {'over_corr': 610, 'total_err': 938, 'true_corr': tensor(208, device='cuda:0')} {'over_corr': 311, 'total_err': 701, 'true_corr': 81}\n"
     ]
    },
    {
     "name": "stderr",
     "output_type": "stream",
     "text": [
      "Epoch:10/35: 100%|██████████| 103/103 [00:27<00:00,  3.77it/s, loss=0.321]\n"
     ]
    },
    {
     "name": "stdout",
     "output_type": "stream",
     "text": [
      "他 喝 很 多 酒 ， 回 家 的 時 候 很 累 ， 頭 很 通 所 以 他 起 床 不 了 。\n",
      "他 喝 很 多 酒 ， 回 家 的 時 候 很 累 ， 頭 很 通 所 以 他 起 床 不 了 。\n",
      "他 喝 很 多 酒 ， 回 家 的 時 候 很 累 ， 頭 很 痛 所 以 他 起 床 不 了 。\n",
      "({'over_corr': 0, 'total_err': 1, 'true_corr': tensor(0, device='cuda:0')}, {'over_corr': 0, 'total_err': 1, 'true_corr': 0})\n",
      "我 的 碰 妞 要 吃 這 個 東 西 。\n",
      "我 的 碰 友 要 吃 這 個 東 西 。\n",
      "我 的 朋 友 要 吃 這 個 東 西 。\n",
      "({'over_corr': 0, 'total_err': 2, 'true_corr': tensor(1, device='cuda:0')}, {'over_corr': 0, 'total_err': 1, 'true_corr': 0})\n",
      "我 跟 我 的 同 學 們 ， 在 上 課 感 到 無 聊 時 ， 就 會 上 網 上 線 ， 不 但 不 專 心 聽 課 程 ， 也 同 時 再 網 路 上 玩 ， 對 我 們 一 點 都 沒 有 幫 助 。\n",
      "我 跟 我 的 同 學 們 ， 在 上 課 感 到 無 聊 時 ， 就 會 上 網 上 線 ， 不 但 不 專 心 聽 課 程 ， 也 同 時 在 網 路 上 玩 ， 對 我 們 一 點 都 沒 有 幫 助 。\n",
      "我 跟 我 的 同 學 們 ， 在 上 課 感 到 無 聊 時 ， 就 會 上 網 上 線 ， 不 但 不 專 心 聽 課 程 ， 也 同 時 在 網 路 上 玩 ， 對 我 們 一 點 都 沒 有 幫 助 。\n",
      "({'over_corr': 0, 'total_err': 1, 'true_corr': tensor(1, device='cuda:0')}, {'over_corr': 0, 'total_err': 1, 'true_corr': 1})\n",
      "如 果 李 廠 長 不 處 理 的 話 ， 請 麻 煩 你 辦 你 們 的 工 廠 ， 記 得 在 這 土 上 不 是 自 由 你 的 。\n",
      "如 果 李 廠 長 不 處 理 的 話 ， 請 麻 煩 你 辦 你 們 的 工 廠 ， 記 得 在 這 染 上 不 是 自 由 你 的 。\n",
      "如 果 李 廠 長 不 處 理 的 話 ， 請 麻 煩 你 搬 你 們 的 工 廠 ， 記 得 在 這 土 上 不 是 只 有 你 的 。\n",
      "({'over_corr': 1, 'total_err': 3, 'true_corr': tensor(0, device='cuda:0')}, {'over_corr': 1, 'total_err': 1, 'true_corr': 0})\n",
      "看 電 影 以 前 ， 張 愛 文 想 根 林 美 美 去 吃 飯 。\n",
      "看 電 影 以 前 ， 張 愛 文 想 跟 林 美 美 去 吃 飯 。\n",
      "看 電 影 以 前 ， 張 愛 文 想 跟 林 美 美 去 吃 飯 。\n",
      "({'over_corr': 0, 'total_err': 1, 'true_corr': tensor(1, device='cuda:0')}, {'over_corr': 0, 'total_err': 1, 'true_corr': 1})\n",
      "如 果 今 天 有 什 麼 功 課 我 回 去 。 我 會 跟 同 學 惜 來 看 。\n",
      "如 果 今 天 有 什 麼 功 課 我 回 去 。 我 會 跟 同 學 習 來 看 。\n",
      "如 果 今 天 有 什 麼 功 課 我 回 去 。 我 會 跟 同 學 借 來 看 。\n",
      "({'over_corr': 0, 'total_err': 1, 'true_corr': tensor(0, device='cuda:0')}, {'over_corr': 0, 'total_err': 1, 'true_corr': 0})\n",
      "Epoch 10 Loss: 0.39750284332673524\n",
      "0.5151032216169618 {'over_corr': 521, 'total_err': 938, 'true_corr': tensor(204, device='cuda:0')} {'over_corr': 267, 'total_err': 701, 'true_corr': 91}\n"
     ]
    },
    {
     "name": "stderr",
     "output_type": "stream",
     "text": [
      "Epoch:11/35: 100%|██████████| 103/103 [00:27<00:00,  3.76it/s, loss=0.284]\n"
     ]
    },
    {
     "name": "stdout",
     "output_type": "stream",
     "text": [
      "如 果 您 都 不 回 應 我 們 的 反 應 ， 我 們 就 會 把 您 告 警 擦 ， 或 者 鄰 長 。\n",
      "如 果 您 都 不 回 應 我 們 的 反 應 ， 我 們 就 會 把 您 告 警 察 ， 或 者 鄰 長 。\n",
      "如 果 您 都 不 回 應 我 們 的 反 應 ， 我 們 就 會 把 您 告 警 察 ， 或 者 鄰 長 。\n",
      "({'over_corr': 0, 'total_err': 1, 'true_corr': tensor(1, device='cuda:0')}, {'over_corr': 0, 'total_err': 1, 'true_corr': 1})\n",
      "差 不 多 ３０ 份 鐘 他 們 到 了 。\n",
      "差 不 多 離 分 鐘 他 們 到 了 。\n",
      "差 不 多 ３０ 分 鐘 他 們 到 了 。\n",
      "({'over_corr': 1, 'total_err': 1, 'true_corr': tensor(1, device='cuda:0')}, {'over_corr': 1, 'total_err': 1, 'true_corr': 0})\n",
      "聽 說 你 生 病 了 ， 也 不 看 到 你 上 個 。\n",
      "聽 說 你 生 病 了 ， 也 不 看 到 你 上 個 。\n",
      "聽 說 你 生 病 了 ， 也 不 看 到 你 上 課 。\n",
      "({'over_corr': 0, 'total_err': 1, 'true_corr': tensor(0, device='cuda:0')}, {'over_corr': 0, 'total_err': 1, 'true_corr': 0})\n",
      "你 帶 你 的 昭 顯 機 呢 ， 得 不 忘 了 。\n",
      "你 帶 你 的 照 相 機 呢 ， 得 不 忘 了 。\n",
      "你 帶 你 的 照 相 機 呢 ， 得 不 忘 了 。\n",
      "({'over_corr': 0, 'total_err': 2, 'true_corr': tensor(2, device='cuda:0')}, {'over_corr': 0, 'total_err': 1, 'true_corr': 1})\n",
      "我 中 午 十 二 點 中 來 找 您 ， 因 為 我 票 告 訴 您 ， 我 明 天 不 能 來 上 課 。\n",
      "我 中 午 十 二 點 中 來 找 您 ， 因 為 我 漂 告 訴 您 ， 我 明 天 不 能 來 上 課 。\n",
      "我 中 午 十 二 點 中 來 找 您 ， 因 為 我 要 告 訴 您 ， 我 明 天 不 能 來 上 課 。\n",
      "({'over_corr': 0, 'total_err': 1, 'true_corr': tensor(0, device='cuda:0')}, {'over_corr': 0, 'total_err': 1, 'true_corr': 0})\n",
      "當 然 這 不 但 侷 限 在 花 蓮 的 情 況 ， 而 是 我 認 為 全 世 界 都 要 這 樣 的 角 度 來 看 ， 來 對 待 我 門 的 環 境 。\n",
      "當 然 這 不 但 。 限 在 花 蓮 的 情 況 ， 而 是 我 認 為 全 世 界 都 要 這 樣 的 角 度 來 看 ， 來 對 待 我 們 的 環 境 。\n",
      "當 然 這 不 但 侷 限 在 花 蓮 的 情 況 ， 而 是 我 認 為 全 世 界 都 要 這 樣 的 角 度 來 看 ， 來 對 待 我 們 的 環 境 。\n",
      "({'over_corr': 1, 'total_err': 1, 'true_corr': tensor(1, device='cuda:0')}, {'over_corr': 1, 'total_err': 1, 'true_corr': 0})\n",
      "Epoch 11 Loss: 0.3340198095273046\n",
      "0.46669094603170047 {'over_corr': 482, 'total_err': 938, 'true_corr': tensor(248, device='cuda:0')} {'over_corr': 254, 'total_err': 701, 'true_corr': 109}\n"
     ]
    },
    {
     "name": "stderr",
     "output_type": "stream",
     "text": [
      "Epoch:12/35: 100%|██████████| 103/103 [00:27<00:00,  3.77it/s, loss=0.303]\n"
     ]
    },
    {
     "name": "stdout",
     "output_type": "stream",
     "text": [
      "而 且 離 您 的 工 廠 半 經 十 公 里 以 內 有 三 千 人 ， 您 一 家 工 廠 的 噪 音 和 味 道 都 影 響 到 這 三 千 人 的 生 活 。\n",
      "而 且 離 您 的 工 廠 半 經 十 公 里 以 內 有 三 千 人 ， 您 一 家 工 廠 的 噪 音 和 味 道 都 影 響 到 這 三 千 人 的 生 活 。\n",
      "而 且 離 您 的 工 廠 半 徑 十 公 里 以 內 有 三 千 人 ， 您 一 家 工 廠 的 噪 音 和 味 道 都 影 響 到 這 三 千 人 的 生 活 。\n",
      "({'over_corr': 0, 'total_err': 1, 'true_corr': tensor(0, device='cuda:0')}, {'over_corr': 0, 'total_err': 1, 'true_corr': 0})\n",
      "一 個 用 有 基 本 知 識 和 創 意 的 下 代 才 會 讓 以 後 的 社 會 更 美 好 更 進 步 。\n",
      "一 個 用 有 基 本 知 識 和 創 意 的 下 代 才 會 讓 以 後 的 社 會 更 美 好 更 進 步 。\n",
      "一 個 擁 有 基 本 知 識 和 創 意 的 下 代 才 會 讓 以 後 的 社 會 更 美 好 更 進 步 。\n",
      "({'over_corr': 0, 'total_err': 1, 'true_corr': tensor(0, device='cuda:0')}, {'over_corr': 0, 'total_err': 1, 'true_corr': 0})\n",
      "助 你 身 體 健 康 。\n",
      "祝 你 身 體 健 康 。\n",
      "祝 你 身 體 健 康 。\n",
      "({'over_corr': 0, 'total_err': 1, 'true_corr': tensor(1, device='cuda:0')}, {'over_corr': 0, 'total_err': 1, 'true_corr': 1})\n",
      "大 家 應 該 找 一 棵 大 樹 可 能 修 系 吧 。\n",
      "大 家 應 該 找 一 大 速 可 能 休 息 吧 。\n",
      "大 家 應 該 找 一 棵 大 樹 可 能 休 息 吧 。\n",
      "({'over_corr': 2, 'total_err': 2, 'true_corr': tensor(2, device='cuda:0')}, {'over_corr': 1, 'total_err': 1, 'true_corr': 0})\n",
      "在 教 室 裝 攝 影 機 不 如 給 老 師 與 學 生 特 別 的 安 全 資 料 ， 發 生 問 題 的 時 候 讓 他 們 很 快 反 映 而 自 己 保 護 。\n",
      "在 教 室 裝 攝 影 機 不 如 給 老 師 與 學 生 特 別 的 安 全 資 料 ， 發 生 問 題 的 時 候 讓 他 們 很 快 反 應 而 自 己 保 護 。\n",
      "在 教 室 裝 攝 影 機 不 如 給 老 師 與 學 生 特 別 的 安 全 資 料 ， 發 生 問 題 的 時 候 讓 他 們 很 快 反 應 而 自 己 保 護 。\n",
      "({'over_corr': 0, 'total_err': 1, 'true_corr': tensor(1, device='cuda:0')}, {'over_corr': 0, 'total_err': 1, 'true_corr': 1})\n",
      "要 是 我 們 上 課 的 時 候 說 話 ， 我 的 老 師 說 對 我 們 ： 「 建 在 不 必 說 話 ！ 」\n",
      "要 是 我 們 上 課 的 時 候 說 話 ， 我 的 老 師 說 對 我 們 ： 「 現 在 不 必 說 話 ！ 」\n",
      "要 是 我 們 上 課 的 時 候 說 話 ， 我 的 老 師 說 對 我 們 ： 「 現 在 不 必 說 話 ！ 」\n",
      "({'over_corr': 0, 'total_err': 1, 'true_corr': tensor(1, device='cuda:0')}, {'over_corr': 0, 'total_err': 1, 'true_corr': 1})\n",
      "Epoch 12 Loss: 0.2821401428539776\n",
      "0.43875671313567594 {'over_corr': 425, 'total_err': 938, 'true_corr': tensor(253, device='cuda:0')} {'over_corr': 237, 'total_err': 701, 'true_corr': 117}\n"
     ]
    },
    {
     "name": "stderr",
     "output_type": "stream",
     "text": [
      "Epoch:13/35: 100%|██████████| 103/103 [00:27<00:00,  3.77it/s, loss=0.232]\n"
     ]
    },
    {
     "name": "stdout",
     "output_type": "stream",
     "text": [
      "照 這 個 廣 告 來 說 我 們 可 以 租 幾 天 時 間 狗 讓 我 們 了 解 狗 狗 的 習 慣 各 性 等 等 。\n",
      "照 這 個 工 告 來 說 我 們 可 以 租 幾 天 時 間 狗 讓 我 們 了 解 狗 狗 的 習 慣 個 性 等 等 。\n",
      "照 這 個 廣 告 來 說 我 們 可 以 租 幾 天 時 間 狗 讓 我 們 了 解 狗 狗 的 習 慣 個 性 等 等 。\n",
      "({'over_corr': 1, 'total_err': 1, 'true_corr': tensor(1, device='cuda:0')}, {'over_corr': 1, 'total_err': 1, 'true_corr': 0})\n",
      "所 以 我 鼓 勵 您 跟 我 一 起 解 決 我 們 有 的 問 題 為 了 你 們 好 好 地 做 生 意 ， 還 有 為 了 我 跟 我 的 家 人 又 很 快 樂 的 生 活 。\n",
      "所 以 我 鼓 勵 您 跟 我 一 起 解 決 我 們 有 的 問 題 為 了 你 們 好 好 地 做 生 意 ， 還 有 為 了 我 跟 我 的 家 人 又 很 快 樂 的 生 活 。\n",
      "所 以 我 鼓 勵 您 跟 我 一 起 解 決 我 們 有 的 問 題 為 了 你 們 好 好 地 做 生 意 ， 還 有 為 了 我 跟 我 的 家 人 有 很 快 樂 的 生 活 。\n",
      "({'over_corr': 0, 'total_err': 1, 'true_corr': tensor(0, device='cuda:0')}, {'over_corr': 0, 'total_err': 1, 'true_corr': 0})\n",
      "我 認 為 踏 入 社 會 之 前 有 一 些 打 工 的 經 驗 是 相 當 直 得 的 ， 尤 其 是 與 將 來 你 想 做 的 職 業 有 關 的 打 工 。\n",
      "我 認 為 他 入 社 會 之 前 有 一 些 打 工 的 經 驗 是 相 當 直 得 的 ， 尤 其 是 與 將 來 你 想 做 的 職 業 有 關 的 打 工 。\n",
      "我 認 為 踏 入 社 會 之 前 有 一 些 打 工 的 經 驗 是 相 當 值 得 的 ， 尤 其 是 與 將 來 你 想 做 的 職 業 有 關 的 打 工 。\n",
      "({'over_corr': 1, 'total_err': 1, 'true_corr': tensor(0, device='cuda:0')}, {'over_corr': 1, 'total_err': 1, 'true_corr': 0})\n",
      "他 們 做 二 九 七 的 公 車 去 。\n",
      "他 們 坐 二 九 七 的 公 車 去 。\n",
      "他 們 坐 二 九 七 的 公 車 去 。\n",
      "({'over_corr': 0, 'total_err': 1, 'true_corr': tensor(1, device='cuda:0')}, {'over_corr': 0, 'total_err': 1, 'true_corr': 1})\n",
      "在 加 上 你 以 前 不 是 說 要 減 肥 嗎 ？ 那 麼 ， 這 就 是 你 的 好 機 會 ， 運 動 也 是 一 件 免 費 的 事 啊 。\n",
      "再 加 上 你 以 前 不 是 說 要 減 除 嗎 ？ 那 麼 ， 這 就 是 你 的 好 機 會 ， 運 動 也 是 一 件 免 費 的 事 啊 。\n",
      "再 加 上 你 以 前 不 是 說 要 減 肥 嗎 ？ 那 麼 ， 這 就 是 你 的 好 機 會 ， 運 動 也 是 一 件 免 費 的 事 啊 。\n",
      "({'over_corr': 1, 'total_err': 1, 'true_corr': tensor(1, device='cuda:0')}, {'over_corr': 1, 'total_err': 1, 'true_corr': 0})\n",
      "希 望 您 能 夠 以 認 真 的 態 度 面 對 這 些 問 題 且 提 出 處 裡 方 案 。\n",
      "希 望 您 能 夠 以 認 真 的 態 度 面 對 這 些 問 題 且 提 出 處 理 方 案 。\n",
      "希 望 您 能 夠 以 認 真 的 態 度 面 對 這 些 問 題 且 提 出 處 理 方 案 。\n",
      "({'over_corr': 0, 'total_err': 1, 'true_corr': tensor(1, device='cuda:0')}, {'over_corr': 0, 'total_err': 1, 'true_corr': 1})\n",
      "Epoch 13 Loss: 0.23591117611498508\n",
      "0.4657879553057931 {'over_corr': 455, 'total_err': 938, 'true_corr': tensor(261, device='cuda:0')} {'over_corr': 266, 'total_err': 701, 'true_corr': 124}\n"
     ]
    },
    {
     "name": "stderr",
     "output_type": "stream",
     "text": [
      "Epoch:14/35: 100%|██████████| 103/103 [00:27<00:00,  3.77it/s, loss=0.199]\n"
     ]
    },
    {
     "name": "stdout",
     "output_type": "stream",
     "text": [
      "我 不 認 為 打 電 腦 打 的 久 比 較 厲 害 ， 或 是 懂 得 多 ， 重 要 的 是 內 容 。\n",
      "我 不 認 為 打 電 腦 打 得 久 比 較 厲 害 ， 或 是 懂 得 多 ， 重 要 的 是 內 容 。\n",
      "我 不 認 為 打 電 腦 打 得 久 比 較 厲 害 ， 或 是 懂 得 多 ， 重 要 的 是 內 容 。\n",
      "({'over_corr': 0, 'total_err': 1, 'true_corr': tensor(1, device='cuda:0')}, {'over_corr': 0, 'total_err': 1, 'true_corr': 1})\n",
      "我 們 有 很 多 事 情 先 要 錢 、 對 不 對 ？ 請 您 告 訴 我 您 要 負 多 少 錢 ？ 我 提 案 別 的 事 。\n",
      "我 們 有 很 多 事 情 先 要 錢 、 對 不 對 ？ 請 您 告 訴 我 您 要 負 多 少 錢 ？ 我 提 案 別 的 事 。\n",
      "我 們 有 很 多 事 情 先 要 錢 、 對 不 對 ？ 請 您 告 訴 我 您 要 付 多 少 錢 ？ 我 提 案 別 的 事 。\n",
      "({'over_corr': 0, 'total_err': 1, 'true_corr': tensor(0, device='cuda:0')}, {'over_corr': 0, 'total_err': 1, 'true_corr': 0})\n",
      "他 也 很 喜 歡 發 山 。\n",
      "他 也 很 喜 歡 爬 山 。\n",
      "他 也 很 喜 歡 爬 山 。\n",
      "({'over_corr': 0, 'total_err': 1, 'true_corr': tensor(1, device='cuda:0')}, {'over_corr': 0, 'total_err': 1, 'true_corr': 1})\n",
      "這 時 候 他 問 別 人 ： 「 現 在 機 點 ？ 」\n",
      "這 時 候 他 問 別 人 ： 「 現 在 幾 點 ？ 」\n",
      "這 時 候 他 問 別 人 ： 「 現 在 幾 點 ？ 」\n",
      "({'over_corr': 0, 'total_err': 1, 'true_corr': tensor(1, device='cuda:0')}, {'over_corr': 0, 'total_err': 1, 'true_corr': 1})\n",
      "星 期 的 時 候 我 下 了 可 以 後 在 圖 書 館 唸 書 。\n",
      "星 期 的 時 候 我 下 了 可 以 後 在 圖 書 館 唸 書 。\n",
      "星 期 的 時 候 我 下 了 課 以 後 在 圖 書 館 唸 書 。\n",
      "({'over_corr': 0, 'total_err': 1, 'true_corr': tensor(0, device='cuda:0')}, {'over_corr': 0, 'total_err': 1, 'true_corr': 0})\n",
      "王 大 華 帶 他 的 與 沙 ， 他 的 努 兒 報 紙 。\n",
      "王 大 華 帶 他 的 與 傘 ， 他 的 女 兒 報 紙 。\n",
      "王 大 華 帶 他 的 雨 傘 ， 他 的 女 兒 報 紙 。\n",
      "({'over_corr': 0, 'total_err': 3, 'true_corr': tensor(2, device='cuda:0')}, {'over_corr': 0, 'total_err': 1, 'true_corr': 0})\n",
      "Epoch 14 Loss: 0.21428435129448048\n",
      "0.39430568705905567 {'over_corr': 354, 'total_err': 938, 'true_corr': tensor(279, device='cuda:0')} {'over_corr': 221, 'total_err': 701, 'true_corr': 145}\n"
     ]
    },
    {
     "name": "stderr",
     "output_type": "stream",
     "text": [
      "Epoch:15/35: 100%|██████████| 103/103 [00:27<00:00,  3.76it/s, loss=0.059]\n"
     ]
    },
    {
     "name": "stdout",
     "output_type": "stream",
     "text": [
      "我 們 自 己 覺 得 很 幸 福 ， 所 以 我 門 不 想 回 國 。\n",
      "我 們 自 己 覺 得 很 幸 福 ， 所 以 我 們 不 想 回 國 。\n",
      "我 們 自 己 覺 得 很 幸 福 ， 所 以 我 們 不 想 回 國 。\n",
      "({'over_corr': 0, 'total_err': 1, 'true_corr': tensor(1, device='cuda:0')}, {'over_corr': 0, 'total_err': 1, 'true_corr': 1})\n",
      "在 客 廳 我 說 了 ， 請 座 等 一 下 ， 請 看 電 視 。\n",
      "在 客 廳 我 說 了 ， 請 坐 等 一 下 ， 請 看 電 視 。\n",
      "在 客 廳 我 說 了 ， 請 坐 等 一 下 ， 請 看 電 視 。\n",
      "({'over_corr': 0, 'total_err': 1, 'true_corr': tensor(1, device='cuda:0')}, {'over_corr': 0, 'total_err': 1, 'true_corr': 1})\n",
      "我 今 天 早 上 六 點 辦 起 來 了 。\n",
      "我 今 天 早 上 六 點 半 起 來 了 。\n",
      "我 今 天 早 上 六 點 半 起 來 了 。\n",
      "({'over_corr': 0, 'total_err': 1, 'true_corr': tensor(1, device='cuda:0')}, {'over_corr': 0, 'total_err': 1, 'true_corr': 1})\n",
      "對 青 少 年 來 說 ， 好 不 易 區 別 他 們 是 不 是 可 以 相 心 的 人 。\n",
      "對 青 少 年 來 說 ， 好 不 易 區 別 他 們 是 不 是 可 以 相 信 的 人 。\n",
      "對 青 少 年 來 說 ， 好 不 易 區 別 他 們 是 不 是 可 以 相 信 的 人 。\n",
      "({'over_corr': 0, 'total_err': 1, 'true_corr': tensor(1, device='cuda:0')}, {'over_corr': 0, 'total_err': 1, 'true_corr': 1})\n",
      "以 前 的 青 少 年 沒 有 自 己 的 手 機 由 電 腦 ， 可 是 現 在 我 覺 得 沒 有 這 種 機 器 的 人 不 多 。\n",
      "以 前 的 青 少 年 沒 有 自 己 的 手 機 有 電 腦 ， 可 是 現 在 我 覺 得 沒 有 這 種 機 器 的 人 不 多 。\n",
      "以 前 的 青 少 年 沒 有 自 己 的 手 機 有 電 腦 ， 可 是 現 在 我 覺 得 沒 有 這 種 機 器 的 人 不 多 。\n",
      "({'over_corr': 0, 'total_err': 1, 'true_corr': tensor(1, device='cuda:0')}, {'over_corr': 0, 'total_err': 1, 'true_corr': 1})\n",
      "父 母 應 該 合 作 輔 導 ， 照 顧 孩 子 ， 孩 子 長 大 以 後 就 花 很 多 錢 ， 除 了 教 育 一 外 就 是 支 持 他 們 喜 歡 的 動 作 ， 什 麼 的 。\n",
      "父 母 應 該 合 作 輔 導 ， 照 顧 孩 子 ， 孩 子 長 大 以 後 就 花 很 多 錢 ， 除 了 教 育 以 外 就 是 支 持 他 們 喜 歡 的 動 作 ， 什 麼 的 。\n",
      "父 母 應 該 合 作 輔 導 ， 照 顧 孩 子 ， 孩 子 長 大 以 後 就 花 很 多 錢 ， 除 了 教 育 以 外 就 是 支 持 他 們 喜 歡 的 動 作 ， 什 麼 的 。\n",
      "({'over_corr': 0, 'total_err': 1, 'true_corr': tensor(1, device='cuda:0')}, {'over_corr': 0, 'total_err': 1, 'true_corr': 1})\n",
      "Epoch 15 Loss: 0.1610762713097253\n",
      "0.3829297430135987 {'over_corr': 308, 'total_err': 938, 'true_corr': tensor(275, device='cuda:0')} {'over_corr': 197, 'total_err': 701, 'true_corr': 146}\n"
     ]
    },
    {
     "name": "stderr",
     "output_type": "stream",
     "text": [
      "Epoch:16/35: 100%|██████████| 103/103 [00:27<00:00,  3.77it/s, loss=0.135]\n"
     ]
    },
    {
     "name": "stdout",
     "output_type": "stream",
     "text": [
      "我 想 因 為 租 動 物 前 要 透 過 訓 練 所 以 我 這 顆 熱 心 疼 愛 動 物 的 決 對 部 會 傷 害 到 小 狗 小 貓 的 。\n",
      "我 想 因 為 租 動 物 前 要 透 過 訓 練 所 以 我 這 顆 熱 心 疼 愛 動 物 的 絕 對 不 會 傷 害 到 小 狗 小 貓 的 。\n",
      "我 想 因 為 租 動 物 前 要 透 過 訓 練 所 以 我 這 顆 熱 心 疼 愛 動 物 的 絕 對 不 會 傷 害 到 小 狗 小 貓 的 。\n",
      "({'over_corr': 0, 'total_err': 2, 'true_corr': tensor(2, device='cuda:0')}, {'over_corr': 0, 'total_err': 1, 'true_corr': 1})\n",
      "教 育 是 一 股 熱 門 的 話 題 ， 每 個 時 代 都 很 關 心 它 。 為 怎 麼 呢 ？ 這 是 一 代 連 一 代 很 重 要 的 關 節 。\n",
      "教 育 是 一 熱 門 的 話 題 ， 每 個 時 代 都 很 關 心 它 。 為 什 麼 呢 ？ 這 是 一 代 連 一 代 很 重 要 的 關 節 。\n",
      "教 育 是 一 股 熱 門 的 話 題 ， 每 個 時 代 都 很 關 心 它 。 為 什 麼 呢 ？ 這 是 一 代 連 一 代 很 重 要 的 關 節 。\n",
      "({'over_corr': 1, 'total_err': 1, 'true_corr': tensor(1, device='cuda:0')}, {'over_corr': 1, 'total_err': 1, 'true_corr': 0})\n",
      "我 看 到 那 些 沒 有 工 作 的 人 ， 真 的 好 可 憐 ， 有 一 噸 沒 一 噸 的 。\n",
      "我 看 到 那 些 沒 有 工 作 的 人 ， 真 的 好 可 憐 ， 有 一 頓 沒 一 頓 的 。\n",
      "我 看 到 那 些 沒 有 工 作 的 人 ， 真 的 好 可 憐 ， 有 一 頓 沒 一 頓 的 。\n",
      "({'over_corr': 0, 'total_err': 2, 'true_corr': tensor(2, device='cuda:0')}, {'over_corr': 0, 'total_err': 1, 'true_corr': 1})\n",
      "我 覺 得 如 果 我 們 參 加 這 個 校 外 教 學 應 該 會 認 識 新 的 台 灣 朋 友 ， 也 會 練 習 我 們 的 中 文 ， 你 跟 我 一 起 去 把 ！\n",
      "我 覺 得 如 果 我 們 參 加 這 個 校 外 教 學 應 該 會 認 識 新 的 台 灣 朋 友 ， 也 會 練 習 我 們 的 中 文 ， 你 跟 我 一 起 去 吧 ！\n",
      "我 覺 得 如 果 我 們 參 加 這 個 校 外 教 學 應 該 會 認 識 新 的 台 灣 朋 友 ， 也 會 練 習 我 們 的 中 文 ， 你 跟 我 一 起 去 吧 ！\n",
      "({'over_corr': 0, 'total_err': 1, 'true_corr': tensor(1, device='cuda:0')}, {'over_corr': 0, 'total_err': 1, 'true_corr': 1})\n",
      "雖 然 我 很 幸 運 的 還 可 以 留 下 來 繼 續 的 上 班 ， 但 是 卻 必 須 過 著 「 三 天 捕 魚 ， 兩 天 曬 網 」 的 日 子 。\n",
      "雖 然 我 很 幸 運 地 還 可 以 留 下 來 繼 續 的 上 班 ， 但 是 卻 必 須 過 著 「 三 天 捕 魚 ， 兩 天 曬 網 」 的 日 子 。\n",
      "雖 然 我 很 幸 運 地 還 可 以 留 下 來 繼 續 的 上 班 ， 但 是 卻 必 須 過 著 「 三 天 捕 魚 ， 兩 天 曬 網 」 的 日 子 。\n",
      "({'over_corr': 0, 'total_err': 1, 'true_corr': tensor(1, device='cuda:0')}, {'over_corr': 0, 'total_err': 1, 'true_corr': 1})\n",
      "首 先 謝 謝 妳 的 信 件 ！ 然 後 平 安 的 回 來 了 太 好 了 ！\n",
      "首 先 謝 謝 妳 的 信 件 ！ 然 後 平 安 地 回 來 了 太 好 了 ！\n",
      "首 先 謝 謝 妳 的 信 件 ！ 然 後 平 安 地 回 來 了 太 好 了 ！\n",
      "({'over_corr': 0, 'total_err': 1, 'true_corr': tensor(1, device='cuda:0')}, {'over_corr': 0, 'total_err': 1, 'true_corr': 1})\n",
      "Epoch 16 Loss: 0.13029308429042114\n",
      "0.39165654101155023 {'over_corr': 333, 'total_err': 938, 'true_corr': tensor(296, device='cuda:0')} {'over_corr': 193, 'total_err': 701, 'true_corr': 163}\n"
     ]
    },
    {
     "name": "stderr",
     "output_type": "stream",
     "text": [
      "Epoch:17/35: 100%|██████████| 103/103 [00:27<00:00,  3.77it/s, loss=0.095]\n"
     ]
    },
    {
     "name": "stdout",
     "output_type": "stream",
     "text": [
      "有 工 作 經 驗 助 於 個 人 的 休 養 寒 食 及 工 作 能 力 。\n",
      "有 工 作 經 驗 助 於 個 人 的 修 養 和 實 際 工 作 能 力 。\n",
      "有 工 作 經 驗 助 於 個 人 的 修 養 和 實 際 工 作 能 力 。\n",
      "({'over_corr': 0, 'total_err': 4, 'true_corr': tensor(4, device='cuda:0')}, {'over_corr': 0, 'total_err': 1, 'true_corr': 1})\n",
      "以 前 已 經 有 了 臭 味 和 噪 音 ， 那 時 候 我 們 還 是 沒 有 怪 你 ， 應 為 我 們 知 道 工 廠 多 多 少 少 一 定 會 有 ， 可 是 想 在 我 們 真 的 沒 我 們 真 的 沒 有 辦 法 下 去 忍 耐 。\n",
      "以 前 已 經 有 了 臭 味 和 噪 音 ， 那 時 候 我 們 還 是 沒 有 怪 你 ， 因 為 我 們 知 道 工 廠 多 多 少 少 一 定 會 有 ， 可 是 想 在 我 們 真 的 沒 我 們 真 的 沒 有 辦 法 下 去 忍 耐 。\n",
      "以 前 已 經 有 了 臭 味 和 噪 音 ， 那 時 候 我 們 還 是 沒 有 怪 你 ， 因 為 我 們 知 道 工 廠 多 多 少 少 一 定 會 有 ， 可 是 想 在 我 們 真 的 沒 我 們 真 的 沒 有 辦 法 下 去 忍 耐 。\n",
      "({'over_corr': 0, 'total_err': 1, 'true_corr': tensor(1, device='cuda:0')}, {'over_corr': 0, 'total_err': 1, 'true_corr': 1})\n",
      "雖 然 他 先 在 不 在 國 內 ， 但 是 如 果 聽 到 爸 爸 跟 他 說 爸 爸 要 他 的 幫 忙 他 會 馬 上 回 國 。\n",
      "雖 然 他 現 在 不 在 國 內 ， 但 是 如 果 聽 到 爸 爸 跟 他 說 爸 爸 要 他 的 幫 忙 他 會 馬 上 回 國 。\n",
      "雖 然 他 現 在 不 在 國 內 ， 但 是 如 果 聽 到 爸 爸 跟 他 說 爸 爸 要 他 的 幫 忙 他 會 馬 上 回 國 。\n",
      "({'over_corr': 0, 'total_err': 1, 'true_corr': tensor(1, device='cuda:0')}, {'over_corr': 0, 'total_err': 1, 'true_corr': 1})\n",
      "我 今 天 找 老 師 ， 但 是 老 是 不 在 。\n",
      "我 今 天 找 老 師 ， 但 是 老 師 不 在 。\n",
      "我 今 天 找 老 師 ， 但 是 老 師 不 在 。\n",
      "({'over_corr': 0, 'total_err': 1, 'true_corr': tensor(1, device='cuda:0')}, {'over_corr': 0, 'total_err': 1, 'true_corr': 1})\n",
      "在 家 裡 開 了 電 腦 練 了 學 校 網 站 就 可 以 一 邊 作 事 一 邊 看 看 他 們 的 寶 貝 上 課 的 狀 況 ， 孩 子 回 來 就 不 要 問 他 今 天 上 課 態 度 怎 樣 或 有 沒 有 舉 手 發 表 等 等 。\n",
      "在 家 裡 開 了 電 腦 練 了 學 校 網 站 就 可 以 一 邊 做 事 一 邊 看 看 他 們 的 寶 貝 上 課 的 狀 況 ， 孩 子 回 來 就 不 要 問 他 今 天 上 課 態 度 怎 樣 或 有 沒 有 舉 手 發 表 等 等 。\n",
      "在 家 裡 開 了 電 腦 連 了 學 校 網 站 就 可 以 一 邊 做 事 一 邊 看 看 他 們 的 寶 貝 上 課 的 狀 況 ， 孩 子 回 來 就 不 要 問 他 今 天 上 課 態 度 怎 樣 或 有 沒 有 舉 手 發 表 等 等 。\n",
      "({'over_corr': 0, 'total_err': 2, 'true_corr': tensor(1, device='cuda:0')}, {'over_corr': 0, 'total_err': 1, 'true_corr': 0})\n",
      "汽 車 所 使 用 的 油 對 地 球 排 放 的 物 染 必 要 負 責 的 是 ７０ ％ ， 溫 室 效 應 正 在 毀 滅 我 門 的 地 球 。\n",
      "汽 車 所 使 用 的 油 對 地 球 排 放 的 物 染 必 要 負 責 的 是 ７０ ％ ， 溫 室 效 應 正 在 毀 滅 我 們 的 地 球 。\n",
      "汽 車 所 使 用 的 油 對 地 球 排 放 的 污 染 必 要 負 責 的 是 ７０ ％ ， 溫 室 效 應 正 在 毀 滅 我 們 的 地 球 。\n",
      "({'over_corr': 0, 'total_err': 2, 'true_corr': tensor(1, device='cuda:0')}, {'over_corr': 0, 'total_err': 1, 'true_corr': 0})\n",
      "Epoch 17 Loss: 0.1063000812620214\n",
      "0.37804896249012515 {'over_corr': 317, 'total_err': 938, 'true_corr': tensor(297, device='cuda:0')} {'over_corr': 189, 'total_err': 701, 'true_corr': 167}\n"
     ]
    },
    {
     "name": "stderr",
     "output_type": "stream",
     "text": [
      "Epoch:18/35: 100%|██████████| 103/103 [00:27<00:00,  3.77it/s, loss=0.100]\n"
     ]
    },
    {
     "name": "stdout",
     "output_type": "stream",
     "text": [
      "現 在 重 新 開 始 碼 ？ 可 是 我 覺 得 很 難 ， 現 在 連 年 輕 的 人 招 工 作 很 難 ， 那 麼 我 呢 。\n",
      "現 在 重 新 開 始 嗎 ？ 可 是 我 覺 得 很 難 ， 現 在 連 年 輕 的 人 找 工 作 很 難 ， 那 麼 我 呢 。\n",
      "現 在 重 新 開 始 嗎 ？ 可 是 我 覺 得 很 難 ， 現 在 連 年 輕 的 人 找 工 作 很 難 ， 那 麼 我 呢 。\n",
      "({'over_corr': 0, 'total_err': 2, 'true_corr': tensor(2, device='cuda:0')}, {'over_corr': 0, 'total_err': 1, 'true_corr': 1})\n",
      "我 跟 你 說 ， 你 一 個 禮 拜 只 上 兩 天 辦 ， 那 你 要 不 要 看 一 下 在 其 他 時 間 打 工 下 下 。\n",
      "我 跟 你 說 ， 你 一 個 禮 拜 只 上 兩 天 班 ， 那 你 要 不 要 看 一 下 在 其 他 時 間 打 工 下 下 。\n",
      "我 跟 你 說 ， 你 一 個 禮 拜 只 上 兩 天 班 ， 那 你 要 不 要 看 一 下 在 其 他 時 間 打 工 下 下 。\n",
      "({'over_corr': 0, 'total_err': 1, 'true_corr': tensor(1, device='cuda:0')}, {'over_corr': 0, 'total_err': 1, 'true_corr': 1})\n",
      "她 回 到 家 她 九 打 電 話 給 他 的 好 久 不 見 的 好 朋 友 。\n",
      "她 回 到 家 她 就 打 電 話 給 他 的 好 久 不 見 的 好 朋 友 。\n",
      "她 回 到 家 她 就 打 電 話 給 他 的 好 久 不 見 的 好 朋 友 。\n",
      "({'over_corr': 0, 'total_err': 1, 'true_corr': tensor(1, device='cuda:0')}, {'over_corr': 0, 'total_err': 1, 'true_corr': 1})\n",
      "在 加 拿 大 的 夏 天 太 陽 很 晚 才 下 ， 所 以 我 們 去 了 公 園 一 起 建 走 。\n",
      "在 加 拿 大 的 夏 天 太 陽 很 晚 才 下 ， 所 以 我 們 去 了 公 園 一 起 健 走 。\n",
      "在 加 拿 大 的 夏 天 太 陽 很 晚 才 下 ， 所 以 我 們 去 了 公 園 一 起 健 走 。\n",
      "({'over_corr': 0, 'total_err': 1, 'true_corr': tensor(1, device='cuda:0')}, {'over_corr': 0, 'total_err': 1, 'true_corr': 1})\n",
      "祝 您 工 作 順 利 ！ 敬 詞 ！\n",
      "祝 您 工 作 順 利 ！ 敬 此 ！\n",
      "祝 您 工 作 順 利 ！ 欽 此 ！\n",
      "({'over_corr': 0, 'total_err': 2, 'true_corr': tensor(1, device='cuda:0')}, {'over_corr': 0, 'total_err': 1, 'true_corr': 0})\n",
      "他 們 跟 我 說 出 去 的 時 候 不 想 出 去 因 為 問 到 不 知 道 從 哪 裡 來 的 臭 味 ， 在 外 面 吃 飯 的 時 候 沒 有 胃 口 吃 ， 甚 至 買 菜 的 時 候 ， 也 發 現 有 稍 微 工 廠 汙 染 的 臭 味 。\n",
      "他 們 跟 我 說 出 去 的 時 候 不 想 出 去 因 為 問 到 不 知 道 從 哪 裡 來 的 臭 味 ， 在 外 面 吃 飯 的 時 候 沒 有 胃 口 吃 ， 甚 至 買 菜 的 時 候 ， 也 發 現 有 稍 微 工 廠 汙 染 的 臭 味 。\n",
      "他 們 跟 我 說 出 去 的 時 候 不 想 出 去 因 為 聞 到 不 知 道 從 哪 裡 來 的 臭 味 ， 在 外 面 吃 飯 的 時 候 沒 有 胃 口 吃 ， 甚 至 買 菜 的 時 候 ， 也 發 現 有 稍 微 工 廠 汙 染 的 臭 味 。\n",
      "({'over_corr': 0, 'total_err': 1, 'true_corr': tensor(0, device='cuda:0')}, {'over_corr': 0, 'total_err': 1, 'true_corr': 0})\n",
      "Epoch 18 Loss: 0.0873999143182074\n",
      "0.3824016543274576 {'over_corr': 312, 'total_err': 938, 'true_corr': tensor(299, device='cuda:0')} {'over_corr': 185, 'total_err': 701, 'true_corr': 170}\n"
     ]
    },
    {
     "name": "stderr",
     "output_type": "stream",
     "text": [
      "Epoch:19/35: 100%|██████████| 103/103 [00:27<00:00,  3.78it/s, loss=0.037]\n"
     ]
    },
    {
     "name": "stdout",
     "output_type": "stream",
     "text": [
      "我 已 經 進 入 時 會 幾 年 了 ， 我 有 自 己 的 計 劃 ， 自 己 的 目 標 等 等 。\n",
      "我 已 經 進 入 社 會 幾 年 了 ， 我 有 自 己 的 計 劃 ， 自 己 的 目 標 等 等 。\n",
      "我 已 經 進 入 社 會 幾 年 了 ， 我 有 自 己 的 計 劃 ， 自 己 的 目 標 等 等 。\n",
      "({'over_corr': 0, 'total_err': 1, 'true_corr': tensor(1, device='cuda:0')}, {'over_corr': 0, 'total_err': 1, 'true_corr': 1})\n",
      "小 王 今 天 跟 夏 美 有 約 會 。 他 很 警 張 ， 所 以 他 今 天 六 點 半 就 起 床 了 。\n",
      "小 王 今 天 跟 夏 美 有 約 會 。 他 很 緊 張 ， 所 以 他 今 天 六 點 半 就 起 床 了 。\n",
      "小 王 今 天 跟 夏 美 有 約 會 。 他 很 緊 張 ， 所 以 他 今 天 六 點 半 就 起 床 了 。\n",
      "({'over_corr': 0, 'total_err': 1, 'true_corr': tensor(1, device='cuda:0')}, {'over_corr': 0, 'total_err': 1, 'true_corr': 1})\n",
      "因 此 有 的 父 母 會 決 得 小 孩 子 應 盡 早 開 始 正 規 教 育 ， 以 便 給 自 己 上 良 好 的 大 學 的 機 會 ， 然 後 工 作 會 比 較 好 找 。\n",
      "因 此 有 的 父 母 會 覺 得 小 孩 子 應 盡 早 開 始 正 規 教 育 ， 以 便 給 自 己 上 良 好 的 大 學 的 機 會 ， 然 後 工 作 會 比 較 好 找 。\n",
      "因 此 有 的 父 母 會 覺 得 小 孩 子 應 盡 早 開 始 正 規 教 育 ， 以 便 給 自 己 上 良 好 的 大 學 的 機 會 ， 然 後 工 作 會 比 較 好 找 。\n",
      "({'over_corr': 0, 'total_err': 1, 'true_corr': tensor(1, device='cuda:0')}, {'over_corr': 0, 'total_err': 1, 'true_corr': 1})\n",
      "如 果 適 合 的 活 ， 帶 來 最 好 的 效 果 才 算 是 好 的 一 個 方 法 。\n",
      "如 果 適 合 的 話 ， 帶 來 最 好 的 效 果 才 算 是 好 的 一 個 方 法 。\n",
      "如 果 適 合 的 話 ， 帶 來 最 好 的 效 果 才 算 是 好 的 一 個 方 法 。\n",
      "({'over_corr': 0, 'total_err': 1, 'true_corr': tensor(1, device='cuda:0')}, {'over_corr': 0, 'total_err': 1, 'true_corr': 1})\n",
      "因 為 這 個 題 目 對 他 來 說 不 難 ， 沒 幾 分 鐘 她 已 經 就 烤 好 了 。\n",
      "因 為 這 個 題 目 對 他 來 說 不 難 ， 沒 幾 分 鐘 他 已 經 就 考 好 了 。\n",
      "因 為 這 個 題 目 對 他 來 說 不 難 ， 沒 幾 分 鐘 他 已 經 就 考 好 了 。\n",
      "({'over_corr': 0, 'total_err': 2, 'true_corr': tensor(2, device='cuda:0')}, {'over_corr': 0, 'total_err': 1, 'true_corr': 1})\n",
      "我 知 道 您 想 把 您 一 生 多 麼 辛 苦 建 設 的 公 司 交 給 我 這 樣 您 可 以 安 心 的 退 休 了 ， 您 希 望 我 接 受 您 的 安 排 去 做 。\n",
      "我 知 道 您 想 把 您 一 生 多 麼 辛 苦 建 設 的 公 司 交 給 我 這 樣 您 可 以 安 心 地 退 休 了 ， 您 希 望 我 接 受 您 的 安 排 去 做 。\n",
      "我 知 道 您 想 把 您 一 生 多 麼 辛 苦 建 設 的 公 司 交 給 我 這 樣 您 可 以 安 心 地 退 休 了 ， 您 希 望 我 接 受 您 的 安 排 去 做 。\n",
      "({'over_corr': 0, 'total_err': 1, 'true_corr': tensor(1, device='cuda:0')}, {'over_corr': 0, 'total_err': 1, 'true_corr': 1})\n",
      "Epoch 19 Loss: 0.07294711976954081\n",
      "0.3766277212310921 {'over_corr': 323, 'total_err': 938, 'true_corr': tensor(305, device='cuda:0')} {'over_corr': 192, 'total_err': 701, 'true_corr': 173}\n"
     ]
    },
    {
     "name": "stderr",
     "output_type": "stream",
     "text": [
      "Epoch:20/35: 100%|██████████| 103/103 [00:27<00:00,  3.78it/s, loss=0.044]\n"
     ]
    },
    {
     "name": "stdout",
     "output_type": "stream",
     "text": [
      "小 明 的 女 朋 友 覺 得 這 個 電 影 很 有 趣 ， 他 覺 得 這 個 電 影 裡 的 人 都 很 可 愛 。 可 是 下 明 覺 得 有 一 點 長 ， 那 麼 長 他 睡 著 了 。\n",
      "小 明 的 女 朋 友 覺 得 這 個 電 影 很 有 趣 ， 他 覺 得 這 個 電 影 裡 的 人 都 很 可 愛 。 可 是 小 明 覺 得 有 一 點 長 ， 那 麼 長 他 睡 著 了 。\n",
      "小 明 的 女 朋 友 覺 得 這 個 電 影 很 有 趣 ， 他 覺 得 這 個 電 影 裡 的 人 都 很 可 愛 。 可 是 小 明 覺 得 有 一 點 長 ， 那 麼 長 他 睡 著 了 。\n",
      "({'over_corr': 0, 'total_err': 1, 'true_corr': tensor(1, device='cuda:0')}, {'over_corr': 0, 'total_err': 1, 'true_corr': 1})\n",
      "科 技 高 度 發 達 的 現 在 ， 電 腦 已 經 不 再 是 新 鮮 地 工 具 了 。\n",
      "科 技 高 度 發 達 的 現 在 ， 電 腦 已 經 不 再 是 新 鮮 的 工 具 了 。\n",
      "科 技 高 度 發 達 的 現 在 ， 電 腦 已 經 不 再 是 新 鮮 的 工 具 了 。\n",
      "({'over_corr': 0, 'total_err': 1, 'true_corr': tensor(1, device='cuda:0')}, {'over_corr': 0, 'total_err': 1, 'true_corr': 1})\n",
      "這 樣 說 實 在 也 不 太 好 ， 雖 然 可 以 快 速 的 獲 得 資 訊 ， 不 過 還 是 對 身 體 和 心 理 有 不 好 的 影 響 。\n",
      "這 樣 說 實 在 也 不 太 好 ， 雖 然 可 以 快 速 地 獲 得 資 訊 ， 不 過 還 是 對 身 體 和 心 理 有 不 好 的 影 響 。\n",
      "這 樣 說 實 在 也 不 太 好 ， 雖 然 可 以 快 速 地 獲 得 資 訊 ， 不 過 還 是 對 身 體 和 心 理 有 不 好 的 影 響 。\n",
      "({'over_corr': 0, 'total_err': 1, 'true_corr': tensor(1, device='cuda:0')}, {'over_corr': 0, 'total_err': 1, 'true_corr': 1})\n",
      "我 幹 快 洗 澡 ， 洗 了 一 個 澡 ， 把 我 的 包 包 上 身 ， 我 跑 路 去 等 公 車 。\n",
      "我 趕 快 洗 澡 ， 洗 了 一 個 澡 ， 把 我 的 包 包 上 身 ， 我 跑 路 去 等 公 車 。\n",
      "我 趕 快 洗 澡 ， 洗 了 一 個 澡 ， 把 我 的 包 包 上 身 ， 我 跑 路 去 等 公 車 。\n",
      "({'over_corr': 0, 'total_err': 1, 'true_corr': tensor(1, device='cuda:0')}, {'over_corr': 0, 'total_err': 1, 'true_corr': 1})\n",
      "等 你 好 了 一 起 去 釣 魚 好 嗎 ？ 你 一 訂 要 快 好 。\n",
      "等 你 好 了 一 起 去 釣 魚 好 嗎 ？ 你 一 定 要 快 好 。\n",
      "等 你 好 了 一 起 去 釣 魚 好 嗎 ？ 你 一 定 要 快 好 。\n",
      "({'over_corr': 0, 'total_err': 1, 'true_corr': tensor(1, device='cuda:0')}, {'over_corr': 0, 'total_err': 1, 'true_corr': 1})\n",
      "對 台 灣 的 大 學 制 度 和 社 會 血 管 而 言 ， 學 生 要 工 作 的 話 很 難 ， 要 辨 讀 大 學 邊 工 作 的 話 ， 這 會 逼 迫 學 生 工 作 和 學 習 上 分 心 ， 讓 學 生 陷 於 力 不 從 心 精 神 分 散 的 惡 境 。\n",
      "對 台 灣 的 大 學 制 度 和 社 會 血 管 而 言 ， 學 生 要 工 作 的 話 很 難 ， 要 邊 讀 大 學 邊 工 作 的 話 ， 這 會 逼 迫 學 生 工 作 和 學 習 上 分 心 ， 讓 學 生 陷 於 力 不 從 心 精 神 分 散 的 惡 境 。\n",
      "對 台 灣 的 大 學 制 度 和 社 會 血 管 而 言 ， 學 生 要 工 作 的 話 很 難 ， 要 邊 讀 大 學 邊 工 作 的 話 ， 這 會 逼 迫 學 生 工 作 和 學 習 上 分 心 ， 讓 學 生 陷 於 力 不 從 心 精 神 分 散 的 惡 境 。\n",
      "({'over_corr': 0, 'total_err': 1, 'true_corr': tensor(1, device='cuda:0')}, {'over_corr': 0, 'total_err': 1, 'true_corr': 1})\n",
      "Epoch 20 Loss: 0.06027696124341303\n",
      "0.3700151172551242 {'over_corr': 295, 'total_err': 938, 'true_corr': tensor(298, device='cuda:0')} {'over_corr': 174, 'total_err': 701, 'true_corr': 177}\n"
     ]
    },
    {
     "name": "stderr",
     "output_type": "stream",
     "text": [
      "Epoch:21/35: 100%|██████████| 103/103 [00:27<00:00,  3.77it/s, loss=0.043]\n"
     ]
    },
    {
     "name": "stdout",
     "output_type": "stream",
     "text": [
      "可 是 他 們 ， 尤 其 是 從 來 沒 有 養 過 的 人 再 開 始 養 之 前 ， 只 會 想 像 養 了 以 後 有 什 麼 好 的 事 情 ， 卻 不 考 慮 訓 練 、 照 顧 還 有 散 步 等 等 的 辛 苦 。\n",
      "可 是 他 們 ， 尤 其 是 從 來 沒 有 養 過 的 人 在 開 始 養 之 前 ， 只 會 想 像 養 了 以 後 有 什 麼 好 的 事 情 ， 卻 不 考 慮 訓 練 、 照 顧 還 有 散 步 等 等 的 辛 苦 。\n",
      "可 是 他 們 ， 尤 其 是 從 來 沒 有 養 過 的 人 在 開 始 養 之 前 ， 只 會 想 像 養 了 以 後 有 什 麼 好 的 事 情 ， 卻 不 考 慮 訓 練 、 照 顧 還 有 散 步 等 等 的 辛 苦 。\n",
      "({'over_corr': 0, 'total_err': 1, 'true_corr': tensor(1, device='cuda:0')}, {'over_corr': 0, 'total_err': 1, 'true_corr': 1})\n",
      "有 一 天 林 小 安 去 爬 山 ， 因 為 聽 說 風 京 很 漂 亮 。\n",
      "有 一 天 林 小 安 去 爬 山 ， 因 為 聽 說 風 景 很 漂 亮 。\n",
      "有 一 天 林 小 安 去 爬 山 ， 因 為 聽 說 風 景 很 漂 亮 。\n",
      "({'over_corr': 0, 'total_err': 1, 'true_corr': tensor(1, device='cuda:0')}, {'over_corr': 0, 'total_err': 1, 'true_corr': 1})\n",
      "影 機 也 可 以 給 老 師 看 所 以 他 們 知 道 他 們 教 得 這 麼 。\n",
      "影 機 也 可 以 給 老 師 看 所 以 他 們 知 道 他 們 教 得 怎 麼 。\n",
      "影 機 也 可 以 給 老 師 看 所 以 他 們 知 道 他 們 教 得 怎 麼 。\n",
      "({'over_corr': 0, 'total_err': 1, 'true_corr': tensor(1, device='cuda:0')}, {'over_corr': 0, 'total_err': 1, 'true_corr': 1})\n",
      "網 路 交 友 絕 對 是 一 件 從 滿 人 文 的 事 情 ， 我 們 只 要 真 心 真 意 向 人 家 交 往 ， 人 家 也 一 定 會 無 居 心 與 我 們 相 處 。\n",
      "網 路 交 友 絕 對 是 一 件 充 滿 人 文 的 事 情 ， 我 們 只 要 真 心 真 意 向 人 家 交 往 ， 人 家 也 一 定 會 無 居 心 與 我 們 相 處 。\n",
      "網 路 交 友 絕 對 是 一 件 充 滿 人 文 的 事 情 ， 我 們 只 要 真 心 真 意 向 人 家 交 往 ， 人 家 也 一 定 會 無 居 心 與 我 們 相 處 。\n",
      "({'over_corr': 0, 'total_err': 1, 'true_corr': tensor(1, device='cuda:0')}, {'over_corr': 0, 'total_err': 1, 'true_corr': 1})\n",
      "機 天 個 ㄇ 他 們 說 一 說 ， 先 別 告 訴 他 們 重 要 的 消 息 像 你 們 的 電 話 號 碼 ， 地 址 ， 你 們 的 學 校 ， 什 麼 的 ！\n",
      "幾 天 個 ㄇ 他 們 說 一 說 ， 先 別 告 訴 他 們 重 要 的 消 息 像 你 們 的 電 話 號 碼 ， 地 址 ， 你 們 的 學 校 ， 什 麼 的 ！\n",
      "幾 天 個 ㄇ 他 們 說 一 說 ， 先 別 告 訴 他 們 重 要 的 消 息 像 你 們 的 電 話 號 碼 ， 地 址 ， 你 們 的 學 校 ， 什 麼 的 ！\n",
      "({'over_corr': 0, 'total_err': 1, 'true_corr': tensor(1, device='cuda:0')}, {'over_corr': 0, 'total_err': 1, 'true_corr': 1})\n",
      "近 畿 年 來 ， 科 技 發 達 ， 社 會 生 活 品 質 提 升 ， 很 多 家 庭 是 因 為 隨 著 這 個 著 潮 流 而 人 際 關 係 也 漸 漸 遠 離 。\n",
      "近 幾 年 來 ， 科 技 發 達 ， 社 會 生 活 品 質 提 升 ， 很 多 家 庭 是 因 為 隨 著 這 個 著 潮 流 而 人 際 關 係 也 漸 漸 遠 離 。\n",
      "近 幾 年 來 ， 科 技 發 達 ， 社 會 生 活 品 質 提 升 ， 很 多 家 庭 是 因 為 隨 著 這 個 著 潮 流 而 人 際 關 係 也 漸 漸 遠 離 。\n",
      "({'over_corr': 0, 'total_err': 1, 'true_corr': tensor(1, device='cuda:0')}, {'over_corr': 0, 'total_err': 1, 'true_corr': 1})\n",
      "Epoch 21 Loss: 0.04961538801277147\n",
      "0.3669417334551161 {'over_corr': 298, 'total_err': 938, 'true_corr': tensor(299, device='cuda:0')} {'over_corr': 175, 'total_err': 701, 'true_corr': 179}\n"
     ]
    },
    {
     "name": "stderr",
     "output_type": "stream",
     "text": [
      "Epoch:22/35: 100%|██████████| 103/103 [00:27<00:00,  3.76it/s, loss=0.014]\n"
     ]
    },
    {
     "name": "stdout",
     "output_type": "stream",
     "text": [
      "座 下 看 菜 單 的 時 候 ， 太 可 惜 了 ， 只 有 魚 可 以 吃 了 。\n",
      "坐 下 看 菜 單 的 時 候 ， 太 可 惜 了 ， 只 有 魚 可 以 吃 了 。\n",
      "坐 下 看 菜 單 的 時 候 ， 太 可 惜 了 ， 只 有 魚 可 以 吃 了 。\n",
      "({'over_corr': 0, 'total_err': 1, 'true_corr': tensor(1, device='cuda:0')}, {'over_corr': 0, 'total_err': 1, 'true_corr': 1})\n",
      "我 希 望 很 多 人 支 持 您 的 作 法 ， 謝 謝 您 看 我 的 信 。\n",
      "我 希 望 很 多 人 支 持 您 的 做 法 ， 謝 謝 您 看 我 的 信 。\n",
      "我 希 望 很 多 人 支 持 您 的 做 法 ， 謝 謝 您 看 我 的 信 。\n",
      "({'over_corr': 0, 'total_err': 1, 'true_corr': tensor(1, device='cuda:0')}, {'over_corr': 0, 'total_err': 1, 'true_corr': 1})\n",
      "打 工 雖 然 可 辛 苦 ， 還 是 值 得 做 。\n",
      "打 工 雖 然 很 辛 苦 ， 還 是 值 得 做 。\n",
      "打 工 雖 然 很 辛 苦 ， 還 是 值 得 做 。\n",
      "({'over_corr': 0, 'total_err': 1, 'true_corr': tensor(1, device='cuda:0')}, {'over_corr': 0, 'total_err': 1, 'true_corr': 1})\n",
      "然 後 那 個 外 國 學 生 馬 上 去 市 大 學 校 學 中 文 。\n",
      "然 後 那 個 外 國 學 生 馬 上 去 師 大 學 校 學 中 文 。\n",
      "然 後 那 個 外 國 學 生 馬 上 去 師 大 學 校 學 中 文 。\n",
      "({'over_corr': 0, 'total_err': 1, 'true_corr': tensor(1, device='cuda:0')}, {'over_corr': 0, 'total_err': 1, 'true_corr': 1})\n",
      "上 個 星 期 我 跟 這 裡 附 近 的 人 已 經 討 論 這 件 事 了 ， 如 果 還 這 樣 下 去 ， 我 們 就 不 知 道 這 麼 活 下 去 了 。\n",
      "上 個 星 期 我 跟 這 裡 附 近 的 人 已 經 討 論 這 件 事 了 ， 如 果 還 這 樣 下 去 ， 我 們 就 不 知 道 怎 麼 活 下 去 了 。\n",
      "上 個 星 期 我 跟 這 裡 附 近 的 人 已 經 討 論 這 件 事 了 ， 如 果 還 這 樣 下 去 ， 我 們 就 不 知 道 怎 麼 活 下 去 了 。\n",
      "({'over_corr': 0, 'total_err': 1, 'true_corr': tensor(1, device='cuda:0')}, {'over_corr': 0, 'total_err': 1, 'true_corr': 1})\n",
      "根 據 人 生 的 自 然 來 講 ， 每 個 人 都 愛 自 己 的 家 人 ， 尤 其 是 「 兒 子 與 媽 媽 的 關 奚 」 ， 大 家 都 會 知 道 他 們 的 愛 是 無 法 計 算 的 。\n",
      "根 據 人 生 的 自 然 來 講 ， 每 個 人 都 愛 自 己 的 家 人 ， 尤 其 是 「 兒 子 與 媽 媽 的 關 係 」 ， 大 家 都 會 知 道 他 們 的 愛 是 無 法 計 算 的 。\n",
      "根 據 人 生 的 自 然 來 講 ， 每 個 人 都 愛 自 己 的 家 人 ， 尤 其 是 「 兒 子 與 媽 媽 的 關 係 」 ， 大 家 都 會 知 道 他 們 的 愛 是 無 法 計 算 的 。\n",
      "({'over_corr': 0, 'total_err': 1, 'true_corr': tensor(1, device='cuda:0')}, {'over_corr': 0, 'total_err': 1, 'true_corr': 1})\n",
      "Epoch 22 Loss: 0.04215539827291827\n",
      "0.37952919372103433 {'over_corr': 283, 'total_err': 938, 'true_corr': tensor(275, device='cuda:0')} {'over_corr': 169, 'total_err': 701, 'true_corr': 158}\n"
     ]
    },
    {
     "name": "stderr",
     "output_type": "stream",
     "text": [
      "Epoch:23/35: 100%|██████████| 103/103 [00:27<00:00,  3.77it/s, loss=0.030]\n"
     ]
    },
    {
     "name": "stdout",
     "output_type": "stream",
     "text": [
      "以 前 在 大 學 的 時 候 ， 都 是 你 鼓 勵 我 們 ， 先 宰 我 們 更 鼓 勵 。 加 油 。 你 做 得 到 ！\n",
      "以 前 在 大 學 的 時 候 ， 都 是 你 鼓 勵 我 們 ， 現 在 我 們 更 鼓 勵 。 加 油 。 你 做 得 到 ！\n",
      "以 前 在 大 學 的 時 候 ， 都 是 你 鼓 勵 我 們 ， 現 在 我 們 更 鼓 勵 。 加 油 。 你 做 得 到 ！\n",
      "({'over_corr': 0, 'total_err': 2, 'true_corr': tensor(2, device='cuda:0')}, {'over_corr': 0, 'total_err': 1, 'true_corr': 1})\n",
      "我 今 天 早 上 在 鄉 下 看 一 些 很 漂 亮 的 風 京 。\n",
      "我 今 天 早 上 在 鄉 下 看 一 些 很 漂 亮 的 風 景 。\n",
      "我 今 天 早 上 在 鄉 下 看 一 些 很 漂 亮 的 風 景 。\n",
      "({'over_corr': 0, 'total_err': 1, 'true_corr': tensor(1, device='cuda:0')}, {'over_corr': 0, 'total_err': 1, 'true_corr': 1})\n",
      "發 生 這 種 事 情 ， 我 也 替 妳 打 包 不 平 ， 老 實 說 ， 我 也 曾 經 有 這 樣 不 好 的 經 驗 ， 所 以 你 的 心 情 我 很 能 夠 體 會 ， 也 很 能 瞭 解 。\n",
      "發 生 這 種 事 情 ， 我 也 替 妳 打 抱 不 平 ， 老 實 說 ， 我 也 曾 經 有 這 樣 不 好 的 經 驗 ， 所 以 你 的 心 情 我 很 能 夠 體 會 ， 也 很 能 瞭 解 。\n",
      "發 生 這 種 事 情 ， 我 也 替 妳 打 抱 不 平 ， 老 實 說 ， 我 也 曾 經 有 這 樣 不 好 的 經 驗 ， 所 以 你 的 心 情 我 很 能 夠 體 會 ， 也 很 能 瞭 解 。\n",
      "({'over_corr': 0, 'total_err': 1, 'true_corr': tensor(1, device='cuda:0')}, {'over_corr': 0, 'total_err': 1, 'true_corr': 1})\n",
      "那 也 是 應 該 得 ， 畢 竟 您 已 經 勞 累 了 那 麼 多 年 ， 該 是 我 幫 忙 打 理 公 司 的 事 務 了 。\n",
      "那 也 是 應 該 的 ， 畢 竟 您 已 經 勞 累 了 那 麼 多 年 ， 該 是 我 幫 忙 打 理 公 司 的 事 務 了 。\n",
      "那 也 是 應 該 的 ， 畢 竟 您 已 經 勞 累 了 那 麼 多 年 ， 該 是 我 幫 忙 打 理 公 司 的 事 務 了 。\n",
      "({'over_corr': 0, 'total_err': 1, 'true_corr': tensor(1, device='cuda:0')}, {'over_corr': 0, 'total_err': 1, 'true_corr': 1})\n",
      "跟 據 調 查 ， 青 少 年 平 均 上 網 時 間 超 過 看 書 或 看 電 視 。\n",
      "根 據 調 查 ， 青 少 年 平 均 上 網 時 間 超 過 看 書 或 看 電 視 。\n",
      "根 據 調 查 ， 青 少 年 平 均 上 網 時 間 超 過 看 書 或 看 電 視 。\n",
      "({'over_corr': 0, 'total_err': 1, 'true_corr': tensor(1, device='cuda:0')}, {'over_corr': 0, 'total_err': 1, 'true_corr': 1})\n",
      "他 們 要 搭 ２９７ 號 共 車 到 山 上 旅 行 。\n",
      "他 們 要 搭 ２９７ 號 公 車 到 山 上 旅 行 。\n",
      "他 們 要 搭 ２９７ 號 公 車 到 山 上 旅 行 。\n",
      "({'over_corr': 0, 'total_err': 1, 'true_corr': tensor(1, device='cuda:0')}, {'over_corr': 0, 'total_err': 1, 'true_corr': 1})\n",
      "Epoch 23 Loss: 0.0436493885133741\n",
      "0.3667880858887326 {'over_corr': 295, 'total_err': 938, 'true_corr': tensor(297, device='cuda:0')} {'over_corr': 177, 'total_err': 701, 'true_corr': 169}\n"
     ]
    },
    {
     "name": "stderr",
     "output_type": "stream",
     "text": [
      "Epoch:24/35: 100%|██████████| 103/103 [00:27<00:00,  3.78it/s, loss=0.039]\n"
     ]
    },
    {
     "name": "stdout",
     "output_type": "stream",
     "text": [
      "我 覺 得 這 些 人 也 在 第 二 個 象 片 兒 ， 也 在 第 三 個 象 片 兒 。 這 個 男 人 也 在 第 一 個 象 片 兒 。 這 兩 人 是 朋 友 。\n",
      "我 覺 得 這 些 人 也 在 第 二 個 相 片 兒 ， 也 在 第 三 個 相 片 兒 。 這 個 男 人 也 在 第 一 個 象 片 兒 。 這 兩 人 是 朋 友 。\n",
      "我 覺 得 這 些 人 也 在 第 二 個 相 片 兒 ， 也 在 第 三 個 相 片 兒 。 這 個 男 人 也 在 第 一 個 象 片 兒 。 這 兩 人 是 朋 友 。\n",
      "({'over_corr': 0, 'total_err': 2, 'true_corr': tensor(2, device='cuda:0')}, {'over_corr': 0, 'total_err': 1, 'true_corr': 1})\n",
      "從 你 的 工 廠 移 來 這 兒 起 我 們 收 到 不 少 噪 音 和 臭 味 的 影 響 ， 每 天 你 們 工 廠 都 上 班 而 且 上 到 很 晚 。\n",
      "從 你 的 工 廠 移 來 這 兒 起 我 們 受 到 不 少 噪 音 和 臭 味 的 影 響 ， 每 天 你 們 工 廠 都 上 班 而 且 上 到 很 晚 。\n",
      "從 你 的 工 廠 移 來 這 兒 起 我 們 受 到 不 少 噪 音 和 臭 味 的 影 響 ， 每 天 你 們 工 廠 都 上 班 而 且 上 到 很 晚 。\n",
      "({'over_corr': 0, 'total_err': 1, 'true_corr': tensor(1, device='cuda:0')}, {'over_corr': 0, 'total_err': 1, 'true_corr': 1})\n",
      "我 覺 得 你 高 心 得 不 得 了 。\n",
      "我 覺 得 你 高 興 得 不 得 了 。\n",
      "我 覺 得 你 高 興 得 不 得 了 。\n",
      "({'over_corr': 0, 'total_err': 1, 'true_corr': tensor(1, device='cuda:0')}, {'over_corr': 0, 'total_err': 1, 'true_corr': 1})\n",
      "為 什 麼 只 有 女 人 結 婚 之 後 需 要 離 開 工 司 。 我 覺 得 結 婚 之 後 也 可 以 繼 續 去 上 班 。\n",
      "為 什 麼 只 有 女 人 結 婚 之 後 需 要 離 開 公 司 。 我 覺 得 結 婚 之 後 也 可 以 繼 續 去 上 班 。\n",
      "為 什 麼 只 有 女 人 結 婚 之 後 需 要 離 開 公 司 。 我 覺 得 結 婚 之 後 也 可 以 繼 續 去 上 班 。\n",
      "({'over_corr': 0, 'total_err': 1, 'true_corr': tensor(1, device='cuda:0')}, {'over_corr': 0, 'total_err': 1, 'true_corr': 1})\n",
      "俗 話 說 ： 魚 和 熊 張 不 可 得 。 我 一 定 要 選 擇 的 話 ， 我 支 持 環 景 保 呼 為 甚 麼 呢 ？ 我 大 概 想 兩 個 方 面 。\n",
      "俗 話 說 ： 魚 和 熊 張 不 可 兼 得 。 我 一 定 要 選 擇 的 話 ， 我 支 持 環 境 保 護 為 甚 麼 呢 ？ 我 大 概 想 兩 個 方 面 。\n",
      "俗 話 說 ： 魚 和 熊 掌 不 可 兼 得 。 我 一 定 要 選 擇 的 話 ， 我 支 持 環 境 保 護 為 甚 麼 呢 ？ 我 大 概 想 兩 個 方 面 。\n",
      "({'over_corr': 0, 'total_err': 4, 'true_corr': tensor(3, device='cuda:0')}, {'over_corr': 0, 'total_err': 1, 'true_corr': 0})\n",
      "有 時 候 老 師 人 不 在 教 室 裡 也 可 以 看 到 孩 子 有 沒 有 在 做 功 課 ， 所 以 我 覺 得 這 作 法 對 學 校 好 。\n",
      "有 時 候 老 師 人 不 在 教 室 裡 也 可 以 看 到 孩 子 有 沒 有 在 做 功 課 ， 所 以 我 覺 得 這 做 法 對 學 校 好 。\n",
      "有 時 候 老 師 人 不 在 教 室 裡 也 可 以 看 到 孩 子 有 沒 有 在 做 功 課 ， 所 以 我 覺 得 這 做 法 對 學 校 好 。\n",
      "({'over_corr': 0, 'total_err': 1, 'true_corr': tensor(1, device='cuda:0')}, {'over_corr': 0, 'total_err': 1, 'true_corr': 1})\n",
      "Epoch 24 Loss: 0.03140063673366331\n",
      "0.37053863738070836 {'over_corr': 288, 'total_err': 938, 'true_corr': tensor(300, device='cuda:0')} {'over_corr': 170, 'total_err': 701, 'true_corr': 175}\n"
     ]
    },
    {
     "name": "stderr",
     "output_type": "stream",
     "text": [
      "Epoch:25/35: 100%|██████████| 103/103 [00:27<00:00,  3.77it/s, loss=0.024]\n"
     ]
    },
    {
     "name": "stdout",
     "output_type": "stream",
     "text": [
      "在 夜 店 很 熱 鬧 ， 有 很 多 辣 妹 在 跳 舞 ， 還 可 以 喝 酒 和 啤 酒 ， 跳 無 ， 跟 啦 妹 聊 一 聊 。\n",
      "在 夜 店 很 熱 鬧 ， 有 很 多 辣 妹 在 跳 舞 ， 還 可 以 喝 酒 和 啤 酒 ， 跳 舞 ， 跟 辣 妹 聊 一 聊 。\n",
      "在 夜 店 很 熱 鬧 ， 有 很 多 辣 妹 在 跳 舞 ， 還 可 以 喝 酒 和 啤 酒 ， 跳 舞 ， 跟 辣 妹 聊 一 聊 。\n",
      "({'over_corr': 0, 'total_err': 2, 'true_corr': tensor(2, device='cuda:0')}, {'over_corr': 0, 'total_err': 1, 'true_corr': 1})\n",
      "慶 祝 你 的 結 昏 ， 可 是 我 有 國 外 出 差 ， 所 以 我 不 能 摻 加 。\n",
      "慶 祝 你 的 結 婚 ， 可 是 我 有 國 外 出 差 ， 所 以 我 不 能 參 加 。\n",
      "慶 祝 你 的 結 婚 ， 可 是 我 有 國 外 出 差 ， 所 以 我 不 能 參 加 。\n",
      "({'over_corr': 0, 'total_err': 2, 'true_corr': tensor(2, device='cuda:0')}, {'over_corr': 0, 'total_err': 1, 'true_corr': 1})\n",
      "在 家 裡 開 了 電 腦 練 了 學 校 網 站 就 可 以 一 邊 作 事 一 邊 看 看 他 們 的 寶 貝 上 課 的 狀 況 ， 孩 子 回 來 就 不 要 問 他 今 天 上 課 態 度 怎 樣 或 有 沒 有 舉 手 發 表 等 等 。\n",
      "在 家 裡 開 了 電 腦 連 了 學 校 網 站 就 可 以 一 邊 做 事 一 邊 看 看 他 們 的 寶 貝 上 課 的 狀 況 ， 孩 子 回 來 就 不 要 問 他 今 天 上 課 態 度 怎 樣 或 有 沒 有 舉 手 發 表 等 等 。\n",
      "在 家 裡 開 了 電 腦 連 了 學 校 網 站 就 可 以 一 邊 做 事 一 邊 看 看 他 們 的 寶 貝 上 課 的 狀 況 ， 孩 子 回 來 就 不 要 問 他 今 天 上 課 態 度 怎 樣 或 有 沒 有 舉 手 發 表 等 等 。\n",
      "({'over_corr': 0, 'total_err': 2, 'true_corr': tensor(2, device='cuda:0')}, {'over_corr': 0, 'total_err': 1, 'true_corr': 1})\n",
      "第 二 狀 況 為 原 本 很 乾 淨 的 鄉 村 開 始 有 臭 味 ， 我 們 不 太 明 白 ， 為 什 麼 櫃 公 司 會 出 來 臭 味 呢 ？\n",
      "第 二 狀 況 為 原 本 很 乾 淨 的 鄉 村 開 始 有 臭 味 ， 我 們 不 太 明 白 ， 為 什 麼 貴 公 司 會 出 來 臭 味 呢 ？\n",
      "第 二 狀 況 為 原 本 很 乾 淨 的 鄉 村 開 始 有 臭 味 ， 我 們 不 太 明 白 ， 為 什 麼 貴 公 司 會 出 來 臭 味 呢 ？\n",
      "({'over_corr': 0, 'total_err': 1, 'true_corr': tensor(1, device='cuda:0')}, {'over_corr': 0, 'total_err': 1, 'true_corr': 1})\n",
      "搞 不 好 這 就 是 讓 孩 子 成 為 兩 種 人 格 的 人 格 體 ， 機 器 低 下 成 為 好 的 機 器 人 ， 沒 有 機 器 之 下 得 到 自 由 ， 隨 便 生 活 的 人 。\n",
      "搞 不 好 這 就 是 讓 孩 子 成 為 兩 種 人 格 的 人 格 體 ， 機 器 底 下 成 為 好 的 機 器 人 ， 沒 有 機 器 之 下 得 到 自 由 ， 隨 便 生 活 的 人 。\n",
      "搞 不 好 這 就 是 讓 孩 子 成 為 兩 種 人 格 的 人 格 體 ， 機 器 底 下 成 為 好 的 機 器 人 ， 沒 有 機 器 之 下 得 到 自 由 ， 隨 便 生 活 的 人 。\n",
      "({'over_corr': 0, 'total_err': 1, 'true_corr': tensor(1, device='cuda:0')}, {'over_corr': 0, 'total_err': 1, 'true_corr': 1})\n",
      "我 們 都 超 愛 喝 埤 酒 。\n",
      "我 們 都 超 愛 喝 啤 酒 。\n",
      "我 們 都 超 愛 喝 啤 酒 。\n",
      "({'over_corr': 0, 'total_err': 1, 'true_corr': tensor(1, device='cuda:0')}, {'over_corr': 0, 'total_err': 1, 'true_corr': 1})\n",
      "Epoch 25 Loss: 0.02569705487491147\n",
      "0.3684145530516451 {'over_corr': 286, 'total_err': 938, 'true_corr': tensor(293, device='cuda:0')} {'over_corr': 168, 'total_err': 701, 'true_corr': 172}\n"
     ]
    },
    {
     "name": "stderr",
     "output_type": "stream",
     "text": [
      "Epoch:26/35: 100%|██████████| 103/103 [00:27<00:00,  3.77it/s, loss=0.016]\n"
     ]
    },
    {
     "name": "stdout",
     "output_type": "stream",
     "text": [
      "明 天 是 裡 拜 天 我 想 請 你 跟 我 一 起 出 去 玩 。\n",
      "明 天 是 禮 拜 天 我 想 請 你 跟 我 一 起 出 去 玩 。\n",
      "明 天 是 禮 拜 天 我 想 請 你 跟 我 一 起 出 去 玩 。\n",
      "({'over_corr': 0, 'total_err': 1, 'true_corr': tensor(1, device='cuda:0')}, {'over_corr': 0, 'total_err': 1, 'true_corr': 1})\n",
      "父 母 要 有 一 個 看 法 ， 就 是 裝 攝 影 機 只 是 讓 他 們 了 解 孩 子 的 情 況 ， 然 後 找 辦 法 去 幫 他 ， 卻 不 是 一 種 管 孩 子 的 作 法 。\n",
      "父 母 要 有 一 個 看 法 ， 就 是 裝 攝 影 機 只 是 讓 他 們 了 解 孩 子 的 情 況 ， 然 後 找 辦 法 去 幫 他 ， 卻 不 是 一 種 管 孩 子 的 做 法 。\n",
      "父 母 要 有 一 個 看 法 ， 就 是 裝 攝 影 機 只 是 讓 他 們 了 解 孩 子 的 情 況 ， 然 後 找 辦 法 去 幫 他 ， 卻 不 是 一 種 管 孩 子 的 做 法 。\n",
      "({'over_corr': 0, 'total_err': 1, 'true_corr': tensor(1, device='cuda:0')}, {'over_corr': 0, 'total_err': 1, 'true_corr': 1})\n",
      "首 先 ， 我 要 說 明 他 為 什 麼 不 算 商 品 。 儘 管 卻 有 人 買 賣 牠 ， 我 想 那 種 行 為 是 不 對 的 。\n",
      "首 先 ， 我 要 說 明 牠 為 什 麼 不 算 商 品 。 儘 管 卻 有 人 買 賣 牠 ， 我 想 那 種 行 為 是 不 對 的 。\n",
      "首 先 ， 我 要 說 明 牠 為 什 麼 不 算 商 品 。 儘 管 卻 有 人 買 賣 牠 ， 我 想 那 種 行 為 是 不 對 的 。\n",
      "({'over_corr': 0, 'total_err': 1, 'true_corr': tensor(1, device='cuda:0')}, {'over_corr': 0, 'total_err': 1, 'true_corr': 1})\n",
      "女 性 再 工 作 上 的 地 位 ， 已 經 逐 漸 跟 男 性 一 樣 了 。\n",
      "女 性 在 工 作 上 的 地 位 ， 已 經 逐 漸 跟 男 性 一 樣 了 。\n",
      "女 性 在 工 作 上 的 地 位 ， 已 經 逐 漸 跟 男 性 一 樣 了 。\n",
      "({'over_corr': 0, 'total_err': 1, 'true_corr': tensor(1, device='cuda:0')}, {'over_corr': 0, 'total_err': 1, 'true_corr': 1})\n",
      "作 天 ， 我 爬 山 ， 空 氣 好 還 有 看 法 很 漂 亮 。\n",
      "昨 天 ， 我 爬 山 ， 空 氣 好 還 有 看 法 很 漂 亮 。\n",
      "昨 天 ， 我 爬 山 ， 空 氣 好 還 有 看 法 很 漂 亮 。\n",
      "({'over_corr': 0, 'total_err': 1, 'true_corr': tensor(1, device='cuda:0')}, {'over_corr': 0, 'total_err': 1, 'true_corr': 1})\n",
      "誰 知 道 ， 明 天 來 上 課 的 時 候 ， 她 會 主 動 想 跟 你 關 系 合 好 。\n",
      "誰 知 道 ， 明 天 來 上 課 的 時 候 ， 她 會 主 動 想 跟 你 關 係 和 好 。\n",
      "誰 知 道 ， 明 天 來 上 課 的 時 候 ， 她 會 主 動 想 跟 你 關 係 和 好 。\n",
      "({'over_corr': 0, 'total_err': 2, 'true_corr': tensor(2, device='cuda:0')}, {'over_corr': 0, 'total_err': 1, 'true_corr': 1})\n",
      "Epoch 26 Loss: 0.021775125643437348\n",
      "0.36468134922060097 {'over_corr': 280, 'total_err': 938, 'true_corr': tensor(299, device='cuda:0')} {'over_corr': 164, 'total_err': 701, 'true_corr': 178}\n"
     ]
    },
    {
     "name": "stderr",
     "output_type": "stream",
     "text": [
      "Epoch:27/35: 100%|██████████| 103/103 [00:27<00:00,  3.77it/s, loss=0.024]\n"
     ]
    },
    {
     "name": "stdout",
     "output_type": "stream",
     "text": [
      "我 門 必 要 面 對 人 與 環 境 做 一 些 平 衡 ， 所 以 研 發 新 的 綠 色 環 保 是 將 來 的 需 求 。\n",
      "我 們 必 要 面 對 人 與 環 境 做 一 些 平 衡 ， 所 以 研 發 新 的 綠 色 環 保 是 將 來 的 需 求 。\n",
      "我 們 必 要 面 對 人 與 環 境 做 一 些 平 衡 ， 所 以 研 發 新 的 綠 色 環 保 是 將 來 的 需 求 。\n",
      "({'over_corr': 0, 'total_err': 1, 'true_corr': tensor(1, device='cuda:0')}, {'over_corr': 0, 'total_err': 1, 'true_corr': 1})\n",
      "以 前 我 朋 友 游 泳 的 時 候 ， 她 的 東 西 像 游 泳 衣 啊 、 毛 巾 啊 身 麼 的 放 進 去 公 用 櫃 子 。\n",
      "以 前 我 朋 友 游 泳 的 時 候 ， 她 的 東 西 像 游 泳 衣 啊 、 毛 巾 啊 什 麼 的 放 進 去 公 用 櫃 子 。\n",
      "以 前 我 朋 友 游 泳 的 時 候 ， 她 的 東 西 像 游 泳 衣 啊 、 毛 巾 啊 什 麼 的 放 進 去 公 用 櫃 子 。\n",
      "({'over_corr': 0, 'total_err': 1, 'true_corr': tensor(1, device='cuda:0')}, {'over_corr': 0, 'total_err': 1, 'true_corr': 1})\n",
      "越 來 越 多 人 都 是 靠 網 路 來 過 生 活 的 ， 沒 有 了 網 路 就 好 像 沒 了 生 命 史 的 。\n",
      "越 來 越 多 人 都 是 靠 網 路 來 過 生 活 的 ， 沒 有 了 網 路 就 好 像 沒 了 生 命 似 的 。\n",
      "越 來 越 多 人 都 是 靠 網 路 來 過 生 活 的 ， 沒 有 了 網 路 就 好 像 沒 了 生 命 似 的 。\n",
      "({'over_corr': 0, 'total_err': 1, 'true_corr': tensor(1, device='cuda:0')}, {'over_corr': 0, 'total_err': 1, 'true_corr': 1})\n",
      "下 午 的 時 候 除 了 看 很 多 漂 亮 的 術 ， 還 有 很 多 特 別 的 花 。\n",
      "下 午 的 時 候 除 了 看 很 多 漂 亮 的 樹 ， 還 有 很 多 特 別 的 花 。\n",
      "下 午 的 時 候 除 了 看 很 多 漂 亮 的 樹 ， 還 有 很 多 特 別 的 花 。\n",
      "({'over_corr': 0, 'total_err': 1, 'true_corr': tensor(1, device='cuda:0')}, {'over_corr': 0, 'total_err': 1, 'true_corr': 1})\n",
      "所 為 愛 的 教 學 是 不 體 罰 而 用 勸 說 的 方 式 來 教 育 學 生 。\n",
      "所 謂 愛 的 教 學 是 不 體 罰 而 用 勸 說 的 方 式 來 教 育 學 生 。\n",
      "所 謂 愛 的 教 學 是 不 體 罰 而 用 勸 說 的 方 式 來 教 育 學 生 。\n",
      "({'over_corr': 0, 'total_err': 1, 'true_corr': tensor(1, device='cuda:0')}, {'over_corr': 0, 'total_err': 1, 'true_corr': 1})\n",
      "再 這 情 形 下 ， 我 們 也 希 望 您 可 以 推 出 辦 法 解 決 這 問 題 ， 讓 我 們 這 些 住 在 工 廠 附 近 的 人 可 以 住 在 好 的 環 境 。\n",
      "在 這 情 形 下 ， 我 們 也 希 望 您 可 以 推 出 辦 法 解 決 這 問 題 ， 讓 我 們 這 些 住 在 工 廠 附 近 的 人 可 以 住 在 好 的 環 境 。\n",
      "在 這 情 形 下 ， 我 們 也 希 望 您 可 以 推 出 辦 法 解 決 這 問 題 ， 讓 我 們 這 些 住 在 工 廠 附 近 的 人 可 以 住 在 好 的 環 境 。\n",
      "({'over_corr': 0, 'total_err': 1, 'true_corr': tensor(1, device='cuda:0')}, {'over_corr': 0, 'total_err': 1, 'true_corr': 1})\n",
      "Epoch 27 Loss: 0.01872987769435621\n",
      "0.3686892285265706 {'over_corr': 273, 'total_err': 938, 'true_corr': tensor(291, device='cuda:0')} {'over_corr': 159, 'total_err': 701, 'true_corr': 170}\n"
     ]
    },
    {
     "name": "stderr",
     "output_type": "stream",
     "text": [
      "Epoch:28/35: 100%|██████████| 103/103 [00:27<00:00,  3.77it/s, loss=0.010]\n"
     ]
    },
    {
     "name": "stdout",
     "output_type": "stream",
     "text": [
      "但 是 在 工 廠 我 附 近 哪 邊 ， 每 天 都 排 出 怎 麼 味 道 很 臭 跟 很 多 噪 音 ， 有 影 響 大 家 的 建 康 和 我 們 的 生 活 。\n",
      "但 是 在 工 廠 我 附 近 那 邊 ， 每 天 都 排 出 什 麼 味 道 很 臭 跟 很 多 噪 音 ， 有 影 響 大 家 的 健 康 和 我 們 的 生 活 。\n",
      "但 是 在 工 廠 我 附 近 那 邊 ， 每 天 都 排 出 什 麼 味 道 很 臭 跟 很 多 噪 音 ， 有 影 響 大 家 的 健 康 和 我 們 的 生 活 。\n",
      "({'over_corr': 0, 'total_err': 3, 'true_corr': tensor(3, device='cuda:0')}, {'over_corr': 0, 'total_err': 1, 'true_corr': 1})\n",
      "今 天 給 您 寫 了 一 封 信 ， 希 望 您 趕 快 找 處 理 讓 我 們 可 以 睡 個 飽 覺 。\n",
      "今 天 給 您 寫 了 一 封 信 ， 希 望 您 趕 快 早 處 理 讓 我 們 可 以 睡 個 飽 覺 。\n",
      "今 天 給 您 寫 了 一 封 信 ， 希 望 您 趕 快 早 處 理 讓 我 們 可 以 睡 個 飽 覺 。\n",
      "({'over_corr': 0, 'total_err': 1, 'true_corr': tensor(1, device='cuda:0')}, {'over_corr': 0, 'total_err': 1, 'true_corr': 1})\n",
      "你 的 日 字 都 好 嗎 ？ 我 很 高 興 你 找 到 了 工 作 啊 ！\n",
      "你 的 日 子 都 好 嗎 ？ 我 很 高 興 你 找 到 了 工 作 啊 ！\n",
      "你 的 日 子 都 好 嗎 ？ 我 很 高 興 你 找 到 了 工 作 啊 ！\n",
      "({'over_corr': 0, 'total_err': 1, 'true_corr': tensor(1, device='cuda:0')}, {'over_corr': 0, 'total_err': 1, 'true_corr': 1})\n",
      "如 果 從 古 代 來 說 ： 大 部 分 的 女 人 結 婚 後 ， 職 在 家 當 家 庭 主 婦 ， 專 心 照 顧 先 生 ， 孩 子 。\n",
      "如 果 從 古 代 來 說 ： 大 部 分 的 女 人 結 婚 後 ， 只 在 家 當 家 庭 主 婦 ， 專 心 照 顧 先 生 ， 孩 子 。\n",
      "如 果 從 古 代 來 說 ： 大 部 分 的 女 人 結 婚 後 ， 只 在 家 當 家 庭 主 婦 ， 專 心 照 顧 先 生 ， 孩 子 。\n",
      "({'over_corr': 0, 'total_err': 1, 'true_corr': tensor(1, device='cuda:0')}, {'over_corr': 0, 'total_err': 1, 'true_corr': 1})\n",
      "打 工 雖 然 可 辛 苦 ， 還 是 值 得 做 。\n",
      "打 工 雖 然 很 辛 苦 ， 還 是 值 得 做 。\n",
      "打 工 雖 然 很 辛 苦 ， 還 是 值 得 做 。\n",
      "({'over_corr': 0, 'total_err': 1, 'true_corr': tensor(1, device='cuda:0')}, {'over_corr': 0, 'total_err': 1, 'true_corr': 1})\n",
      "我 下 此 暑 假 打 算 回 家 ， 到 時 候 我 們 再 好 好 討 論 。\n",
      "我 下 次 暑 假 打 算 回 家 ， 到 時 候 我 們 再 好 好 討 論 。\n",
      "我 下 次 暑 假 打 算 回 家 ， 到 時 候 我 們 再 好 好 討 論 。\n",
      "({'over_corr': 0, 'total_err': 1, 'true_corr': tensor(1, device='cuda:0')}, {'over_corr': 0, 'total_err': 1, 'true_corr': 1})\n",
      "Epoch 28 Loss: 0.016013072098343118\n",
      "0.36984049765901134 {'over_corr': 273, 'total_err': 938, 'true_corr': tensor(294, device='cuda:0')} {'over_corr': 162, 'total_err': 701, 'true_corr': 173}\n"
     ]
    },
    {
     "name": "stderr",
     "output_type": "stream",
     "text": [
      "Epoch:29/35: 100%|██████████| 103/103 [00:27<00:00,  3.78it/s, loss=0.026]\n"
     ]
    },
    {
     "name": "stdout",
     "output_type": "stream",
     "text": [
      "你 應 該 多 喝 水 ， 熱 水 就 屬 最 好 的 ， 也 多 吃 水 果 。\n",
      "你 應 該 多 喝 水 ， 熱 水 就 是 最 好 的 ， 也 多 吃 水 果 。\n",
      "你 應 該 多 喝 水 ， 熱 水 就 是 最 好 的 ， 也 多 吃 水 果 。\n",
      "({'over_corr': 0, 'total_err': 1, 'true_corr': tensor(1, device='cuda:0')}, {'over_corr': 0, 'total_err': 1, 'true_corr': 1})\n",
      "可 是 我 看 地 圖 的 時 候 在 哪 裡 有 好 吃 的 餐 廳 、 在 那 裡 有 很 有 名 的 公 園 都 看 不 懂 。\n",
      "可 是 我 看 地 圖 的 時 候 在 哪 裡 有 好 吃 的 餐 廳 、 在 哪 裡 有 很 有 名 的 公 園 都 看 不 懂 。\n",
      "可 是 我 看 地 圖 的 時 候 在 哪 裡 有 好 吃 的 餐 廳 、 在 哪 裡 有 很 有 名 的 公 園 都 看 不 懂 。\n",
      "({'over_corr': 0, 'total_err': 1, 'true_corr': tensor(1, device='cuda:0')}, {'over_corr': 0, 'total_err': 1, 'true_corr': 1})\n",
      "可 是 對 富 翁 們 來 講 沒 有 很 大 的 影 響 ， 影 響 都 在 平 民 跟 老 闆 性 吧 ， 這 樣 使 貧 富 差 距 更 大 。\n",
      "可 是 對 富 翁 們 來 講 沒 有 很 大 的 影 響 ， 影 響 都 在 平 民 跟 老 百 姓 吧 ， 這 樣 使 貧 富 差 距 更 大 。\n",
      "可 是 對 富 翁 們 來 講 沒 有 很 大 的 影 響 ， 影 響 都 在 平 民 跟 老 百 姓 吧 ， 這 樣 使 貧 富 差 距 更 大 。\n",
      "({'over_corr': 0, 'total_err': 2, 'true_corr': tensor(2, device='cuda:0')}, {'over_corr': 0, 'total_err': 1, 'true_corr': 1})\n",
      "請 不 要 太 難 過 你 朋 有 這 麼 有 反 應 也 是 理 所 當 然 的 嘛 。\n",
      "請 不 要 太 難 過 你 朋 友 這 麼 有 反 應 也 是 理 所 當 然 的 嘛 。\n",
      "請 不 要 太 難 過 你 朋 友 這 麼 有 反 應 也 是 理 所 當 然 的 嘛 。\n",
      "({'over_corr': 0, 'total_err': 1, 'true_corr': tensor(1, device='cuda:0')}, {'over_corr': 0, 'total_err': 1, 'true_corr': 1})\n",
      "去 年 ， 美 國 華 人 友 請 我 們 來 桃 園 看 叔 叔 家 。\n",
      "去 年 ， 美 國 華 人 有 請 我 們 來 桃 園 看 叔 叔 家 。\n",
      "去 年 ， 美 國 華 人 有 請 我 們 來 桃 園 看 叔 叔 家 。\n",
      "({'over_corr': 0, 'total_err': 1, 'true_corr': tensor(1, device='cuda:0')}, {'over_corr': 0, 'total_err': 1, 'true_corr': 1})\n",
      "明 天 我 的 父 母 從 日 本 來 的 ， 而 且 他 們 第 一 次 來 台 灣 ， 所 以 我 應 該 跟 父 母 一 起 去 台 南 跟 高 雄 的 游 覽 。\n",
      "明 天 我 的 父 母 從 日 本 來 的 ， 而 且 他 們 第 一 次 來 台 灣 ， 所 以 我 應 該 跟 父 母 一 起 去 台 南 跟 高 雄 的 遊 覽 。\n",
      "明 天 我 的 父 母 從 日 本 來 的 ， 而 且 他 們 第 一 次 來 台 灣 ， 所 以 我 應 該 跟 父 母 一 起 去 台 南 跟 高 雄 的 遊 覽 。\n",
      "({'over_corr': 0, 'total_err': 1, 'true_corr': tensor(1, device='cuda:0')}, {'over_corr': 0, 'total_err': 1, 'true_corr': 1})\n",
      "Epoch 29 Loss: 0.014565880234054859\n",
      "0.3726849102161147 {'over_corr': 287, 'total_err': 938, 'true_corr': tensor(298, device='cuda:0')} {'over_corr': 169, 'total_err': 701, 'true_corr': 176}\n"
     ]
    },
    {
     "name": "stderr",
     "output_type": "stream",
     "text": [
      "Epoch:30/35: 100%|██████████| 103/103 [00:27<00:00,  3.77it/s, loss=0.020]\n"
     ]
    },
    {
     "name": "stdout",
     "output_type": "stream",
     "text": [
      "妳 上 課 很 忙 綠 ， 我 知 道 ， 我 也 忙 著 寫 論 。\n",
      "妳 上 課 很 忙 碌 ， 我 知 道 ， 我 也 忙 著 寫 論 。\n",
      "妳 上 課 很 忙 碌 ， 我 知 道 ， 我 也 忙 著 寫 論 。\n",
      "({'over_corr': 0, 'total_err': 1, 'true_corr': tensor(1, device='cuda:0')}, {'over_corr': 0, 'total_err': 1, 'true_corr': 1})\n",
      "因 此 我 們 區 民 都 對 您 工 廠 附 近 的 味 道 與 環 境 上 反 感 。\n",
      "因 此 我 們 居 民 都 對 您 工 廠 附 近 的 味 道 與 環 境 上 反 感 。\n",
      "因 此 我 們 居 民 都 對 您 工 廠 附 近 的 味 道 與 環 境 上 反 感 。\n",
      "({'over_corr': 0, 'total_err': 1, 'true_corr': tensor(1, device='cuda:0')}, {'over_corr': 0, 'total_err': 1, 'true_corr': 1})\n",
      "花 蓮 台 東 的 風 景 氣 勢 磅 礡 、 澎 湖 的 景 觀 是 人 間 仙 境 ， 要 是 這 兩 各 地 方 的 可 貴 自 然 美 都 被 破 壞 了 ， 台 灣 反 而 就 是 去 了 觀 光 的 吸 引 力 。\n",
      "花 蓮 台 東 的 風 景 氣 勢 磅 礡 、 澎 湖 的 景 觀 是 人 間 仙 境 ， 要 是 這 兩 個 地 方 的 可 貴 自 然 美 都 被 破 壞 了 ， 台 灣 反 而 就 失 去 了 觀 光 的 吸 引 力 。\n",
      "花 蓮 台 東 的 風 景 氣 勢 磅 礡 、 澎 湖 的 景 觀 是 人 間 仙 境 ， 要 是 這 兩 個 地 方 的 可 貴 自 然 美 都 被 破 壞 了 ， 台 灣 反 而 就 失 去 了 觀 光 的 吸 引 力 。\n",
      "({'over_corr': 0, 'total_err': 2, 'true_corr': tensor(2, device='cuda:0')}, {'over_corr': 0, 'total_err': 1, 'true_corr': 1})\n",
      "而 且 我 覺 得 我 的 知 識 還 不 足 我 還 要 學 習 各 各 方 面 的 。\n",
      "而 且 我 覺 得 我 的 知 識 還 不 足 我 還 要 學 習 各 個 方 面 的 。\n",
      "而 且 我 覺 得 我 的 知 識 還 不 足 我 還 要 學 習 各 個 方 面 的 。\n",
      "({'over_corr': 0, 'total_err': 1, 'true_corr': tensor(1, device='cuda:0')}, {'over_corr': 0, 'total_err': 1, 'true_corr': 1})\n",
      "在 日 本 也 很 多 青 少 年 愛 上 網 。 有 些 人 上 網 中 毒 了 不 能 停 上 網 。 而 且 很 多 青 少 年 在 上 網 收 了 不 好 的 影 響 。\n",
      "在 日 本 也 很 多 青 少 年 愛 上 網 。 有 些 人 上 網 中 毒 了 不 能 停 上 網 。 而 且 很 多 青 少 年 在 上 網 受 了 不 好 的 影 響 。\n",
      "在 日 本 也 很 多 青 少 年 愛 上 網 。 有 些 人 上 網 中 毒 了 不 能 停 上 網 。 而 且 很 多 青 少 年 在 上 網 受 了 不 好 的 影 響 。\n",
      "({'over_corr': 0, 'total_err': 1, 'true_corr': tensor(1, device='cuda:0')}, {'over_corr': 0, 'total_err': 1, 'true_corr': 1})\n",
      "我 們 都 知 道 你 的 工 廠 工 作 的 很 穩 定 ， 這 幾 年 以 來 你 們 的 展 品 在 世 界 上 非 常 有 名 。\n",
      "我 們 都 知 道 你 的 工 廠 工 作 的 很 穩 定 ， 這 幾 年 以 來 你 們 的 產 品 在 世 界 上 非 常 有 名 。\n",
      "我 們 都 知 道 你 的 工 廠 工 作 的 很 穩 定 ， 這 幾 年 以 來 你 們 的 產 品 在 世 界 上 非 常 有 名 。\n",
      "({'over_corr': 0, 'total_err': 1, 'true_corr': tensor(1, device='cuda:0')}, {'over_corr': 0, 'total_err': 1, 'true_corr': 1})\n",
      "Epoch 30 Loss: 0.012934586539575197\n",
      "0.3745590317994356 {'over_corr': 276, 'total_err': 938, 'true_corr': tensor(298, device='cuda:0')} {'over_corr': 162, 'total_err': 701, 'true_corr': 171}\n"
     ]
    },
    {
     "name": "stderr",
     "output_type": "stream",
     "text": [
      "Epoch:31/35: 100%|██████████| 103/103 [00:27<00:00,  3.77it/s, loss=0.012]\n"
     ]
    },
    {
     "name": "stdout",
     "output_type": "stream",
     "text": [
      "他 去 哪 家 公 司 也 是 ， 為 了 以 後 把 你 的 公 司 經 營 。\n",
      "他 去 那 家 公 司 也 是 ， 為 了 以 後 把 你 的 公 司 經 營 。\n",
      "他 去 那 家 公 司 也 是 ， 為 了 以 後 把 你 的 公 司 經 營 。\n",
      "({'over_corr': 0, 'total_err': 1, 'true_corr': tensor(1, device='cuda:0')}, {'over_corr': 0, 'total_err': 1, 'true_corr': 1})\n",
      "我 覺 得 你 高 心 得 不 得 了 。\n",
      "我 覺 得 你 高 興 得 不 得 了 。\n",
      "我 覺 得 你 高 興 得 不 得 了 。\n",
      "({'over_corr': 0, 'total_err': 1, 'true_corr': tensor(1, device='cuda:0')}, {'over_corr': 0, 'total_err': 1, 'true_corr': 1})\n",
      "總 得 來 說 ， 正 規 教 育 和 游 戲 探 索 世 界 是 缺 一 不 可 的 。 家 長 應 該 讓 孩 子 自 由 的 摸 索 這 個 世 界 並 适 時 的 給 予 指 導 和 協 助 。\n",
      "總 得 來 說 ， 正 規 教 育 和 游 戲 探 索 世 界 是 缺 一 不 可 的 。 家 長 應 該 讓 孩 子 自 由 的 摸 索 這 個 世 界 並 適 時 的 給 予 指 導 和 協 助 。\n",
      "總 得 來 說 ， 正 規 教 育 和 游 戲 探 索 世 界 是 缺 一 不 可 的 。 家 長 應 該 讓 孩 子 自 由 的 摸 索 這 個 世 界 並 適 時 的 給 予 指 導 和 協 助 。\n",
      "({'over_corr': 0, 'total_err': 1, 'true_corr': tensor(1, device='cuda:0')}, {'over_corr': 0, 'total_err': 1, 'true_corr': 1})\n",
      "因 此 我 們 區 民 都 對 您 工 廠 附 近 的 味 道 與 環 境 上 反 感 。\n",
      "因 此 我 們 居 民 都 對 您 工 廠 附 近 的 味 道 與 環 境 上 反 感 。\n",
      "因 此 我 們 居 民 都 對 您 工 廠 附 近 的 味 道 與 環 境 上 反 感 。\n",
      "({'over_corr': 0, 'total_err': 1, 'true_corr': tensor(1, device='cuda:0')}, {'over_corr': 0, 'total_err': 1, 'true_corr': 1})\n",
      "教 師 連 莊 攝 影 機 的 作 法 是 一 個 好 作 法 而 不 會 害 任 何 人 。\n",
      "教 室 裡 裝 攝 影 機 的 做 法 是 一 個 好 做 法 而 不 會 害 任 何 人 。\n",
      "教 室 裡 裝 攝 影 機 的 做 法 是 一 個 好 做 法 而 不 會 害 任 何 人 。\n",
      "({'over_corr': 0, 'total_err': 5, 'true_corr': tensor(5, device='cuda:0')}, {'over_corr': 0, 'total_err': 1, 'true_corr': 1})\n",
      "他 喝 很 多 酒 ， 回 家 的 時 候 很 累 ， 頭 很 通 所 以 他 起 床 不 了 。\n",
      "他 喝 很 多 酒 ， 回 家 的 時 候 很 累 ， 頭 很 痛 所 以 他 起 床 不 了 。\n",
      "他 喝 很 多 酒 ， 回 家 的 時 候 很 累 ， 頭 很 痛 所 以 他 起 床 不 了 。\n",
      "({'over_corr': 0, 'total_err': 1, 'true_corr': tensor(1, device='cuda:0')}, {'over_corr': 0, 'total_err': 1, 'true_corr': 1})\n",
      "Epoch 31 Loss: 0.01142819754743171\n",
      "0.37773899734020233 {'over_corr': 271, 'total_err': 938, 'true_corr': tensor(296, device='cuda:0')} {'over_corr': 161, 'total_err': 701, 'true_corr': 175}\n"
     ]
    },
    {
     "name": "stderr",
     "output_type": "stream",
     "text": [
      "Epoch:32/35: 100%|██████████| 103/103 [00:27<00:00,  3.77it/s, loss=0.006]\n"
     ]
    },
    {
     "name": "stdout",
     "output_type": "stream",
     "text": [
      "她 是 他 的 中 文 老 師 ， 他 們 都 吃 涼 了 。\n",
      "她 是 他 的 中 文 老 師 ， 他 們 都 吃 驚 了 。\n",
      "她 是 他 的 中 文 老 師 ， 他 們 都 吃 驚 了 。\n",
      "({'over_corr': 0, 'total_err': 1, 'true_corr': tensor(1, device='cuda:0')}, {'over_corr': 0, 'total_err': 1, 'true_corr': 1})\n",
      "上 個 星 期 你 請 客 ， 所 以 明 天 我 想 情 你 去 一 家 法 國 餐 廳 吃 法 國 菜 。\n",
      "上 個 星 期 你 請 客 ， 所 以 明 天 我 想 請 你 去 一 家 法 國 餐 廳 吃 法 國 菜 。\n",
      "上 個 星 期 你 請 客 ， 所 以 明 天 我 想 請 你 去 一 家 法 國 餐 廳 吃 法 國 菜 。\n",
      "({'over_corr': 0, 'total_err': 1, 'true_corr': tensor(1, device='cuda:0')}, {'over_corr': 0, 'total_err': 1, 'true_corr': 1})\n",
      "再 加 上 ， 煤 田 工 廠 發 出 來 的 聲 音 真 讓 人 受 不 了 ， 要 是 人 民 休 息 的 話 也 沒 有 安 靜 的 環 境 ， 真 是 讓 人 難 受 。\n",
      "再 加 上 ， 每 天 工 廠 發 出 來 的 聲 音 真 讓 人 受 不 了 ， 要 是 人 民 休 息 的 話 也 沒 有 安 靜 的 環 境 ， 真 是 讓 人 難 受 。\n",
      "再 加 上 ， 每 天 工 廠 發 出 來 的 聲 音 真 讓 人 受 不 了 ， 要 是 人 民 休 息 的 話 也 沒 有 安 靜 的 環 境 ， 真 是 讓 人 難 受 。\n",
      "({'over_corr': 0, 'total_err': 2, 'true_corr': tensor(2, device='cuda:0')}, {'over_corr': 0, 'total_err': 1, 'true_corr': 1})\n",
      "如 果 你 有 孔 ， 請 你 打 電 話 給 我 ， 告 訴 我 什 麼 時 候 你 有 空 。\n",
      "如 果 你 有 空 ， 請 你 打 電 話 給 我 ， 告 訴 我 什 麼 時 候 你 有 空 。\n",
      "如 果 你 有 空 ， 請 你 打 電 話 給 我 ， 告 訴 我 什 麼 時 候 你 有 空 。\n",
      "({'over_corr': 0, 'total_err': 1, 'true_corr': tensor(1, device='cuda:0')}, {'over_corr': 0, 'total_err': 1, 'true_corr': 1})\n",
      "父 母 自 然 而 然 地 給 學 生 一 些 零 用 錢 ， 但 是 通 常 考 盧 不 到 現 代 的 價 錢 跟 他 們 讀 書 時 候 的 價 錢 不 太 一 樣 。\n",
      "父 母 自 然 而 然 地 給 學 生 一 些 零 用 錢 ， 但 是 通 常 考 慮 不 到 現 代 的 價 錢 跟 他 們 讀 書 時 候 的 價 錢 不 太 一 樣 。\n",
      "父 母 自 然 而 然 地 給 學 生 一 些 零 用 錢 ， 但 是 通 常 考 慮 不 到 現 代 的 價 錢 跟 他 們 讀 書 時 候 的 價 錢 不 太 一 樣 。\n",
      "({'over_corr': 0, 'total_err': 1, 'true_corr': tensor(1, device='cuda:0')}, {'over_corr': 0, 'total_err': 1, 'true_corr': 1})\n",
      "外 國 學 生 說 「 對 啊 ， 我 是 市 大 學 生 可 是 我 還 沒 開 始 上 中 文 課 ， 謝 謝 你 ！ 」\n",
      "外 國 學 生 說 「 對 啊 ， 我 是 師 大 學 生 可 是 我 還 沒 開 始 上 中 文 課 ， 謝 謝 你 ！ 」\n",
      "外 國 學 生 說 「 對 啊 ， 我 是 師 大 學 生 可 是 我 還 沒 開 始 上 中 文 課 ， 謝 謝 你 ！ 」\n",
      "({'over_corr': 0, 'total_err': 1, 'true_corr': tensor(1, device='cuda:0')}, {'over_corr': 0, 'total_err': 1, 'true_corr': 1})\n",
      "Epoch 32 Loss: 0.010324582014486048\n",
      "0.37620499662377616 {'over_corr': 261, 'total_err': 938, 'true_corr': tensor(282, device='cuda:0')} {'over_corr': 153, 'total_err': 701, 'true_corr': 168}\n"
     ]
    },
    {
     "name": "stderr",
     "output_type": "stream",
     "text": [
      "Epoch:33/35: 100%|██████████| 103/103 [00:27<00:00,  3.78it/s, loss=0.011]\n"
     ]
    },
    {
     "name": "stdout",
     "output_type": "stream",
     "text": [
      "反 而 ， 只 好 讓 他 們 每 天 上 網 已 定 的 時 間 。 要 不 然 就 有 很 嚴 格 的 制 裁 。\n",
      "反 而 ， 只 好 讓 他 們 每 天 上 網 一 定 的 時 間 。 要 不 然 就 有 很 嚴 格 的 制 裁 。\n",
      "反 而 ， 只 好 讓 他 們 每 天 上 網 一 定 的 時 間 。 要 不 然 就 有 很 嚴 格 的 制 裁 。\n",
      "({'over_corr': 0, 'total_err': 1, 'true_corr': tensor(1, device='cuda:0')}, {'over_corr': 0, 'total_err': 1, 'true_corr': 1})\n",
      "作 天 ， 我 爬 山 ， 空 氣 好 還 有 看 法 很 漂 亮 。\n",
      "昨 天 ， 我 爬 山 ， 空 氣 好 還 有 看 法 很 漂 亮 。\n",
      "昨 天 ， 我 爬 山 ， 空 氣 好 還 有 看 法 很 漂 亮 。\n",
      "({'over_corr': 0, 'total_err': 1, 'true_corr': tensor(1, device='cuda:0')}, {'over_corr': 0, 'total_err': 1, 'true_corr': 1})\n",
      "攝 影 機 的 特 色 是 可 以 看 到 小 孩 在 教 室 裡 做 什 麼 ， 家 長 可 以 知 道 自 己 孩 子 上 課 的 態 度 這 麼 樣 ， 像 又 沒 有 主 動 參 加 教 室 裡 的 活 動 ， 每 天 學 習 什 麼 等 等 。\n",
      "攝 影 機 的 特 色 是 可 以 看 到 小 孩 在 教 室 裡 做 什 麼 ， 家 長 可 以 知 道 自 己 孩 子 上 課 的 態 度 怎 麼 樣 ， 像 有 沒 有 主 動 參 加 教 室 裡 的 活 動 ， 每 天 學 習 什 麼 等 等 。\n",
      "攝 影 機 的 特 色 是 可 以 看 到 小 孩 在 教 室 裡 做 什 麼 ， 家 長 可 以 知 道 自 己 孩 子 上 課 的 態 度 怎 麼 樣 ， 像 有 沒 有 主 動 參 加 教 室 裡 的 活 動 ， 每 天 學 習 什 麼 等 等 。\n",
      "({'over_corr': 0, 'total_err': 2, 'true_corr': tensor(2, device='cuda:0')}, {'over_corr': 0, 'total_err': 1, 'true_corr': 1})\n",
      "因 為 不 見 得 聰 名 校 出 來 都 能 幹 ， 都 會 做 事 的 人 。\n",
      "因 為 不 見 得 從 名 校 出 來 都 能 幹 ， 都 會 做 事 的 人 。\n",
      "因 為 不 見 得 從 名 校 出 來 都 能 幹 ， 都 會 做 事 的 人 。\n",
      "({'over_corr': 0, 'total_err': 1, 'true_corr': tensor(1, device='cuda:0')}, {'over_corr': 0, 'total_err': 1, 'true_corr': 1})\n",
      "你 道 德 地 旁 給 我 打 電 話 。\n",
      "你 到 的 地 方 給 我 打 電 話 。\n",
      "你 到 的 地 方 給 我 打 電 話 。\n",
      "({'over_corr': 0, 'total_err': 3, 'true_corr': tensor(3, device='cuda:0')}, {'over_corr': 0, 'total_err': 1, 'true_corr': 1})\n",
      "不 只 是 在 家 外 面 ， 聯 誼 精 密 避 的 家 裡 面 也 會 聞 到 臭 味 。\n",
      "不 只 是 在 家 外 面 ， 連 已 經 密 閉 的 家 裡 面 也 會 聞 到 臭 味 。\n",
      "不 只 是 在 家 外 面 ， 連 已 經 密 閉 的 家 裡 面 也 會 聞 到 臭 味 。\n",
      "({'over_corr': 0, 'total_err': 4, 'true_corr': tensor(4, device='cuda:0')}, {'over_corr': 0, 'total_err': 1, 'true_corr': 1})\n",
      "Epoch 33 Loss: 0.01040616917686121\n",
      "0.3774923800744794 {'over_corr': 274, 'total_err': 938, 'true_corr': tensor(299, device='cuda:0')} {'over_corr': 161, 'total_err': 701, 'true_corr': 179}\n"
     ]
    },
    {
     "name": "stderr",
     "output_type": "stream",
     "text": [
      "Epoch:34/35: 100%|██████████| 103/103 [00:27<00:00,  3.78it/s, loss=0.005]\n"
     ]
    },
    {
     "name": "stdout",
     "output_type": "stream",
     "text": [
      "我 看 他 的 時 候 我 很 高 心 ， 因 為 上 子 我 看 他 是 一 年 以 前 。\n",
      "我 看 他 的 時 候 我 很 高 興 ， 因 為 上 次 我 看 他 是 一 年 以 前 。\n",
      "我 看 他 的 時 候 我 很 高 興 ， 因 為 上 次 我 看 他 是 一 年 以 前 。\n",
      "({'over_corr': 0, 'total_err': 2, 'true_corr': tensor(2, device='cuda:0')}, {'over_corr': 0, 'total_err': 1, 'true_corr': 1})\n",
      "我 的 弟 弟 也 很 高 薪 看 到 你 們 ， 因 為 你 們 好 久 不 見 沒 看 到 。\n",
      "我 的 弟 弟 也 很 高 興 看 到 你 們 ， 因 為 你 們 好 久 不 見 沒 看 到 。\n",
      "我 的 弟 弟 也 很 高 興 看 到 你 們 ， 因 為 你 們 好 久 不 見 沒 看 到 。\n",
      "({'over_corr': 0, 'total_err': 1, 'true_corr': tensor(1, device='cuda:0')}, {'over_corr': 0, 'total_err': 1, 'true_corr': 1})\n",
      "在 說 ， 我 覺 得 這 裡 也 可 以 有 很 好 玩 ， 也 可 以 學 很 多 很 好 的 東 西 。\n",
      "再 說 ， 我 覺 得 這 裡 也 可 以 有 很 好 玩 ， 也 可 以 學 很 多 很 好 的 東 西 。\n",
      "再 說 ， 我 覺 得 這 裡 也 可 以 有 很 好 玩 ， 也 可 以 學 很 多 很 好 的 東 西 。\n",
      "({'over_corr': 0, 'total_err': 1, 'true_corr': tensor(1, device='cuda:0')}, {'over_corr': 0, 'total_err': 1, 'true_corr': 1})\n",
      "今 天 早 藏 ， 我 們 八 點 出 公 車 贊 。\n",
      "今 天 早 上 ， 我 們 八 點 出 公 車 站 。\n",
      "今 天 早 上 ， 我 們 八 點 出 公 車 站 。\n",
      "({'over_corr': 0, 'total_err': 2, 'true_corr': tensor(2, device='cuda:0')}, {'over_corr': 0, 'total_err': 1, 'true_corr': 1})\n",
      "同 時 我 們 也 可 以 發 揮 愛 心 好 好 地 照 顧 它 們 ， 給 於 它 們 溫 暖 的 生 活 。\n",
      "同 時 我 們 也 可 以 發 揮 愛 心 好 好 地 照 顧 它 們 ， 給 予 它 們 溫 暖 的 生 活 。\n",
      "同 時 我 們 也 可 以 發 揮 愛 心 好 好 地 照 顧 它 們 ， 給 予 它 們 溫 暖 的 生 活 。\n",
      "({'over_corr': 0, 'total_err': 1, 'true_corr': tensor(1, device='cuda:0')}, {'over_corr': 0, 'total_err': 1, 'true_corr': 1})\n",
      "我 希 望 你 很 快 回 復 你 的 健 康 ！ 那 麼 你 好 好 得 休 息 。\n",
      "我 希 望 你 很 快 恢 復 你 的 健 康 ！ 那 麼 你 好 好 得 休 息 。\n",
      "我 希 望 你 很 快 恢 復 你 的 健 康 ！ 那 麼 你 好 好 得 休 息 。\n",
      "({'over_corr': 0, 'total_err': 1, 'true_corr': tensor(1, device='cuda:0')}, {'over_corr': 0, 'total_err': 1, 'true_corr': 1})\n",
      "Epoch 34 Loss: 0.010798156853692913\n",
      "0.3686623718928207 {'over_corr': 278, 'total_err': 938, 'true_corr': tensor(301, device='cuda:0')} {'over_corr': 162, 'total_err': 701, 'true_corr': 178}\n"
     ]
    },
    {
     "name": "stderr",
     "output_type": "stream",
     "text": [
      "Epoch:35/35: 100%|██████████| 103/103 [00:27<00:00,  3.78it/s, loss=0.009]\n"
     ]
    },
    {
     "name": "stdout",
     "output_type": "stream",
     "text": [
      "雖 然 筆 找 到 了 也 證 明 我 的 清 白 但 整 件 事 情 會 讓 我 心 理 遭 到 傷 痕 呀 ！ 所 以 我 很 瞭 解 你 現 在 的 心 情 。\n",
      "雖 然 筆 找 到 了 也 證 明 我 的 清 白 但 整 件 事 情 會 讓 我 心 裡 遭 到 傷 痕 呀 ！ 所 以 我 很 瞭 解 你 現 在 的 心 情 。\n",
      "雖 然 筆 找 到 了 也 證 明 我 的 清 白 但 整 件 事 情 會 讓 我 心 裡 遭 到 傷 痕 呀 ！ 所 以 我 很 瞭 解 你 現 在 的 心 情 。\n",
      "({'over_corr': 0, 'total_err': 1, 'true_corr': tensor(1, device='cuda:0')}, {'over_corr': 0, 'total_err': 1, 'true_corr': 1})\n",
      "開 車 的 人 聽 了 他 的 華 馬 上 說 ： 「 我 可 以 用 我 的 車 陪 你 去 ， 好 不 好 ？ 」\n",
      "開 車 的 人 聽 了 他 的 話 馬 上 說 ： 「 我 可 以 用 我 的 車 陪 你 去 ， 好 不 好 ？ 」\n",
      "開 車 的 人 聽 了 他 的 話 馬 上 說 ： 「 我 可 以 用 我 的 車 陪 你 去 ， 好 不 好 ？ 」\n",
      "({'over_corr': 0, 'total_err': 1, 'true_corr': tensor(1, device='cuda:0')}, {'over_corr': 0, 'total_err': 1, 'true_corr': 1})\n",
      "由 於 上 述 係 區 民 所 抱 怨 項 目 ， 我 們 在 此 敬 請 您 方 進 行 環 境 改 善 。\n",
      "由 於 上 述 係 居 民 所 抱 怨 項 目 ， 我 們 在 此 敬 請 您 方 進 行 環 境 改 善 。\n",
      "由 於 上 述 係 居 民 所 抱 怨 項 目 ， 我 們 在 此 敬 請 您 方 進 行 環 境 改 善 。\n",
      "({'over_corr': 0, 'total_err': 1, 'true_corr': tensor(1, device='cuda:0')}, {'over_corr': 0, 'total_err': 1, 'true_corr': 1})\n",
      "我 們 跳 無 完 的 以 後 ， 就 回 家 了 。\n",
      "我 們 跳 舞 完 的 以 後 ， 就 回 家 了 。\n",
      "我 們 跳 舞 完 的 以 後 ， 就 回 家 了 。\n",
      "({'over_corr': 0, 'total_err': 1, 'true_corr': tensor(1, device='cuda:0')}, {'over_corr': 0, 'total_err': 1, 'true_corr': 1})\n",
      "吃 了 飯 ， 我 們 的 衣 服 都 感 。\n",
      "吃 了 飯 ， 我 們 的 衣 服 都 乾 。\n",
      "吃 了 飯 ， 我 們 的 衣 服 都 乾 。\n",
      "({'over_corr': 0, 'total_err': 1, 'true_corr': tensor(1, device='cuda:0')}, {'over_corr': 0, 'total_err': 1, 'true_corr': 1})\n",
      "那 份 統 計 結 果 只 表 示 ， 名 校 畢 業 生 趨 向 高 新 ， 並 不 表 示 不 進 入 名 校 就 沒 有 未 來 的 保 障 。\n",
      "那 份 統 計 結 果 只 表 示 ， 名 校 畢 業 生 趨 向 高 薪 ， 並 不 表 示 不 進 入 名 校 就 沒 有 未 來 的 保 障 。\n",
      "那 份 統 計 結 果 只 表 示 ， 名 校 畢 業 生 趨 向 高 薪 ， 並 不 表 示 不 進 入 名 校 就 沒 有 未 來 的 保 障 。\n",
      "({'over_corr': 0, 'total_err': 1, 'true_corr': tensor(1, device='cuda:0')}, {'over_corr': 0, 'total_err': 1, 'true_corr': 1})\n",
      "Epoch 35 Loss: 0.007495103697789815\n",
      "0.3791213530031117 {'over_corr': 263, 'total_err': 938, 'true_corr': tensor(299, device='cuda:0')} {'over_corr': 153, 'total_err': 701, 'true_corr': 180}\n"
     ]
    }
   ],
   "source": [
    "encoder_model = BertModel.from_pretrained(checkpoint)\n",
    "\n",
    "# The Hyperparameters can be defined in config.py\n",
    "hidden_size = 1024\n",
    "num_layers = 2\n",
    "\n",
    "decoder_model = DecoderBaseRNN(\n",
    "    model=nn.GRU,\n",
    "    input_size=encoder_model.config.hidden_size,\n",
    "    hidden_size=hidden_size,\n",
    "    num_layers=num_layers,\n",
    ")\n",
    "\n",
    "model = CombineBertModel(encoder_model=encoder_model, decoder_model=decoder_model)\n",
    "\n",
    "train(model, tokenizer, train_data_loader, dev_data_loader)"
   ]
  },
  {
   "cell_type": "code",
   "execution_count": 12,
   "id": "dc5f3ba3-ddd0-44fd-b112-f4457f097508",
   "metadata": {},
   "outputs": [
    {
     "name": "stdout",
     "output_type": "stream",
     "text": [
      "0.45158677106654205 {'over_corr': 3414, 'total_err': 5278, 'true_corr': tensor(1152, device='cuda:0')} {'over_corr': 1435, 'total_err': 3436, 'true_corr': 421}\n"
     ]
    }
   ],
   "source": [
    "test(model, tokenizer, test_data_loader)"
   ]
  },
  {
   "cell_type": "markdown",
   "id": "ecfd0f40-000b-423e-9343-1fae4754abf4",
   "metadata": {},
   "source": [
    "#### BERT + transformers"
   ]
  },
  {
   "cell_type": "code",
   "execution_count": 13,
   "id": "635e5020-9a3f-4298-be03-ebb42c11e14f",
   "metadata": {
    "collapsed": true,
    "jupyter": {
     "outputs_hidden": true
    },
    "scrolled": true
   },
   "outputs": [
    {
     "name": "stderr",
     "output_type": "stream",
     "text": [
      "Epoch:1/35: 100%|██████████| 103/103 [00:26<00:00,  3.85it/s, loss=1.651]\n"
     ]
    },
    {
     "name": "stdout",
     "output_type": "stream",
     "text": [
      "還 有 ， 你 們 工 廠 可 以 使 用 檔 聲 音 的 玻 璃 。 那 麼 聲 音 與 臭 味 不 能 傳 到 外 面 ， 那 一 定 是 很 好 的 辦 法 。\n",
      "還 有 ， 你 們 工 廠 可 以 使 用 我 聲 音 的 電 。 那 麼 聲 音 與 臭 味 不 能 到 外 面 ， 那 一 定 是 很 好 的 辦 法 。\n",
      "還 有 ， 你 們 工 廠 可 以 使 用 擋 聲 音 的 玻 璃 。 那 麼 聲 音 與 臭 味 不 能 傳 到 外 面 ， 那 一 定 是 很 好 的 辦 法 。\n",
      "({'over_corr': 3, 'total_err': 1, 'true_corr': tensor(0, device='cuda:0')}, {'over_corr': 1, 'total_err': 1, 'true_corr': 0})\n",
      "今 天 大 明 第 一 次 到 十 大 去 ， 他 是 新 生 在 師 大 。\n",
      "今 天 大 明 第 一 次 到 十 大 去 ， 他 是 新 生 在 師 大 。\n",
      "今 天 大 明 第 一 次 到 師 大 去 ， 他 是 新 生 在 師 大 。\n",
      "({'over_corr': 0, 'total_err': 1, 'true_corr': tensor(0, device='cuda:0')}, {'over_corr': 0, 'total_err': 1, 'true_corr': 0})\n",
      "爸 爸 請 你 在 一 次 想 一 想 好 好 兒 的 辦 法 。\n",
      "爸 爸 請 你 在 一 次 想 一 想 好 好 兒 的 辦 法 。\n",
      "爸 爸 請 你 再 一 次 想 一 想 好 好 兒 的 辦 法 。\n",
      "({'over_corr': 0, 'total_err': 1, 'true_corr': tensor(0, device='cuda:0')}, {'over_corr': 0, 'total_err': 1, 'true_corr': 0})\n",
      "我 想 拿 出 來 一 些 啤 酒 ， 一 些 平 乾 。\n",
      "我 想 拿 出 來 一 些 。 酒 ， 一 些 平 。 。\n",
      "我 想 拿 出 來 一 些 啤 酒 ， 一 些 餅 乾 。\n",
      "({'over_corr': 2, 'total_err': 1, 'true_corr': tensor(0, device='cuda:0')}, {'over_corr': 1, 'total_err': 1, 'true_corr': 0})\n",
      "我 的 家 離 古 亭 站 不 遠 ， 我 六 點 就 跟 你 們 那 理 見 面 ， 好 不 好 ？\n",
      "我 的 家 離 然 以 站 不 ， ， 我 ， 點 就 跟 你 們 那 理 見 面 ， 好 不 好 ？\n",
      "我 的 家 離 古 亭 站 不 遠 ， 我 六 點 就 跟 你 們 那 裡 見 面 ， 好 不 好 ？\n",
      "({'over_corr': 4, 'total_err': 1, 'true_corr': tensor(0, device='cuda:0')}, {'over_corr': 1, 'total_err': 1, 'true_corr': 0})\n",
      "這 個 事 情 一 般 是 我 們 最 喜 歡 的 享 受 ， 我 們 不 是 看 轅 動 比 賽 ， 就 是 在 轅 動 場 玩 球 。\n",
      "這 個 事 情 一 的 是 我 們 最 喜 歡 的 有 受 ， 我 們 不 是 看 有 動 比 題 ， 就 是 在 有 動 下 玩 球 。\n",
      "這 個 事 情 一 般 是 我 們 最 喜 歡 的 享 受 ， 我 們 不 是 看 運 動 比 賽 ， 就 是 在 運 動 場 玩 球 。\n",
      "({'over_corr': 4, 'total_err': 2, 'true_corr': tensor(0, device='cuda:0')}, {'over_corr': 1, 'total_err': 1, 'true_corr': 0})\n",
      "Epoch 1 Loss: 4.469007434196842\n",
      "1.433582072908228 {'over_corr': 1829, 'total_err': 938, 'true_corr': tensor(68, device='cuda:0')} {'over_corr': 559, 'total_err': 701, 'true_corr': 9}\n"
     ]
    },
    {
     "name": "stderr",
     "output_type": "stream",
     "text": [
      "Epoch:2/35: 100%|██████████| 103/103 [00:26<00:00,  3.84it/s, loss=1.020]\n"
     ]
    },
    {
     "name": "stdout",
     "output_type": "stream",
     "text": [
      "格 位 學 生 的 父 母 ， 您 門 好 。\n",
      "回 位 學 生 的 父 母 ， 您 們 好 。\n",
      "各 位 學 生 的 父 母 ， 您 們 好 。\n",
      "({'over_corr': 0, 'total_err': 2, 'true_corr': tensor(1, device='cuda:0')}, {'over_corr': 0, 'total_err': 1, 'true_corr': 0})\n",
      "如 果 你 有 空 ， 我 想 這 個 禮 拜 五 情 你 去 吃 飯 。\n",
      "如 果 你 有 空 ， 我 想 這 個 禮 拜 五 情 你 去 吃 飯 。\n",
      "如 果 你 有 空 ， 我 想 這 個 禮 拜 五 請 你 去 吃 飯 。\n",
      "({'over_corr': 0, 'total_err': 1, 'true_corr': tensor(0, device='cuda:0')}, {'over_corr': 0, 'total_err': 1, 'true_corr': 0})\n",
      "所 以 我 比 較 想 推 薦 其 他 餐 廳 ， 就 是 一 本 導 游 書 裡 面 的 餐 廳 。\n",
      "所 以 我 比 較 想 推 出 其 他 餐 廳 ， 就 是 一 本 導 遊 書 裡 面 的 餐 廳 。\n",
      "所 以 我 比 較 想 推 薦 其 他 餐 廳 ， 就 是 一 本 導 遊 書 裡 面 的 餐 廳 。\n",
      "({'over_corr': 1, 'total_err': 1, 'true_corr': tensor(1, device='cuda:0')}, {'over_corr': 1, 'total_err': 1, 'true_corr': 0})\n",
      "對 我 來 說 要 是 我 受 傷 也 感 冒 也 都 沒 問 題 ， 我 總 是 一 定 上 課 。 可 是 如 果 我 的 血 綠 人 出 事 的 話 ， 我 不 能 上 課 。\n",
      "對 我 來 說 要 是 我 受 傷 也 感 冒 也 都 沒 問 題 ， 我 總 是 一 定 上 課 。 可 是 如 果 我 的 希 現 人 出 事 的 話 ， 我 不 能 上 課 。\n",
      "對 我 來 說 要 是 我 受 傷 也 感 冒 也 都 沒 問 題 ， 我 總 是 一 定 上 課 。 可 是 如 果 我 的 血 緣 人 出 事 的 話 ， 我 不 能 上 課 。\n",
      "({'over_corr': 1, 'total_err': 1, 'true_corr': tensor(0, device='cuda:0')}, {'over_corr': 1, 'total_err': 1, 'true_corr': 0})\n",
      "一 天 到 晚 在 自 之 的 職 場 辛 苦 地 工 作 回 到 家 沒 有 人 來 迎 他 會 使 他 感 到 淒 涼 。\n",
      "一 天 到 晚 在 自 之 的 職 場 辛 苦 地 工 作 回 到 家 沒 有 人 來 的 他 會 使 他 感 到 間 道 。\n",
      "一 天 到 晚 在 自 己 的 職 場 辛 苦 地 工 作 回 到 家 沒 有 人 來 迎 他 會 使 他 感 到 淒 涼 。\n",
      "({'over_corr': 3, 'total_err': 1, 'true_corr': tensor(0, device='cuda:0')}, {'over_corr': 1, 'total_err': 1, 'true_corr': 0})\n",
      "回 撥 蘭 的 時 候 會 向 台 灣 朋 友 和 台 灣 漂 亮 的 風 景 像 阿 里 山 、 海 邊 、 台 灣 的 水 果 和 漂 亮 的 衣 服 。\n",
      "回 的 變 的 時 候 會 向 台 灣 朋 友 和 台 灣 漂 亮 的 風 景 像 啊 裡 山 、 海 邊 、 台 灣 的 水 果 和 漂 亮 的 衣 服 。\n",
      "回 波 蘭 的 時 候 會 向 台 灣 朋 友 和 台 灣 漂 亮 的 風 景 像 阿 里 山 、 海 邊 、 台 灣 的 水 果 和 漂 亮 的 衣 服 。\n",
      "({'over_corr': 3, 'total_err': 1, 'true_corr': tensor(0, device='cuda:0')}, {'over_corr': 1, 'total_err': 1, 'true_corr': 0})\n",
      "Epoch 2 Loss: 1.1991891982485947\n",
      "0.7530862932855432 {'over_corr': 755, 'total_err': 938, 'true_corr': tensor(94, device='cuda:0')} {'over_corr': 355, 'total_err': 701, 'true_corr': 31}\n"
     ]
    },
    {
     "name": "stderr",
     "output_type": "stream",
     "text": [
      "Epoch:3/35: 100%|██████████| 103/103 [00:26<00:00,  3.83it/s, loss=0.614]\n"
     ]
    },
    {
     "name": "stdout",
     "output_type": "stream",
     "text": [
      "做 生 意 並 不 簡 單 ， 天 天 要 找 辦 法 來 得 利 益 ， 導 致 心 理 上 巨 大 的 壓 力 。 我 從 來 知 道 我 沒 辦 法 適 合 這 種 生 崖 。\n",
      "做 生 意 並 不 簡 單 ， 天 天 要 找 辦 法 來 得 利 益 ， 導 致 心 理 上 的 大 的 壓 力 。 我 從 來 知 道 我 沒 辦 法 適 合 這 種 生 拜 。\n",
      "做 生 意 並 不 簡 單 ， 天 天 要 找 辦 法 來 得 利 益 ， 導 致 心 理 上 巨 大 的 壓 力 。 我 從 來 知 道 我 沒 辦 法 適 合 這 種 生 涯 。\n",
      "({'over_corr': 1, 'total_err': 1, 'true_corr': tensor(0, device='cuda:0')}, {'over_corr': 1, 'total_err': 1, 'true_corr': 0})\n",
      "針 對 人 生 關 點 上 的 看 法 應 概 給 我 門 小 孩 子 一 個 自 然 生 活 ， 快 樂 成 長 。 不 管 他 門 太 緊 ， 讓 他 門 有 自 我 空 間 處 理 他 門 問 題 。\n",
      "針 對 人 生 關 點 上 的 看 法 應 該 給 我 們 小 孩 子 一 個 自 然 生 活 ， 快 樂 成 長 。 不 管 他 門 太 緊 ， 讓 他 們 有 自 我 空 間 處 理 他 們 問 題 。\n",
      "針 對 人 生 觀 點 上 的 看 法 應 該 給 我 們 小 孩 子 一 個 自 然 生 活 ， 快 樂 成 長 。 不 管 他 們 太 緊 ， 讓 他 們 有 自 我 空 間 處 理 他 門 問 題 。\n",
      "({'over_corr': 1, 'total_err': 5, 'true_corr': tensor(3, device='cuda:0')}, {'over_corr': 1, 'total_err': 1, 'true_corr': 0})\n",
      "因 為 小 孩 有 時 候 很 怪 但 是 也 有 時 候 很 調 皮 ， 可 能 發 生 很 多 情 況 不 好 ， 有 時 候 老 師 不 注 意 家 人 可 能 打 電 話 來 提 請 老 師 停 止 哪 個 情 況 。\n",
      "因 為 小 孩 有 時 候 很 怪 但 是 也 有 時 候 很 調 皮 ， 可 能 發 生 很 多 情 況 不 好 ， 有 時 候 老 師 不 注 意 家 人 可 能 打 電 話 來 提 請 老 師 停 只 哪 個 情 況 。\n",
      "因 為 小 孩 有 時 候 很 怪 但 是 也 有 時 候 很 調 皮 ， 可 能 發 生 很 多 情 況 不 好 ， 有 時 候 老 師 不 注 意 家 人 可 能 打 電 話 來 提 醒 老 師 停 止 哪 個 情 況 。\n",
      "({'over_corr': 1, 'total_err': 1, 'true_corr': tensor(0, device='cuda:0')}, {'over_corr': 1, 'total_err': 1, 'true_corr': 0})\n",
      "我 項 在 有 一 個 月 的 空 ， 可 是 我 還 沒 決 定 我 做 什 麼 。\n",
      "我 快 在 有 一 個 月 的 空 ， 可 是 我 還 沒 決 定 我 做 什 麼 。\n",
      "我 現 在 有 一 個 月 的 空 ， 可 是 我 還 沒 決 定 我 做 什 麼 。\n",
      "({'over_corr': 0, 'total_err': 1, 'true_corr': tensor(0, device='cuda:0')}, {'over_corr': 0, 'total_err': 1, 'true_corr': 0})\n",
      "總 得 來 說 ， 正 規 教 育 和 游 戲 探 索 世 界 是 缺 一 不 可 的 。 家 長 應 該 讓 孩 子 自 由 的 摸 索 這 個 世 界 並 适 時 的 給 予 指 導 和 協 助 。\n",
      "總 得 來 說 ， 正 規 教 育 和 遊 戲 研 活 世 界 是 缺 一 不 可 的 。 家 長 應 該 讓 孩 子 自 由 的 每 有 這 個 世 界 並 適 時 的 給 予 指 導 和 幫 助 。\n",
      "總 得 來 說 ， 正 規 教 育 和 游 戲 探 索 世 界 是 缺 一 不 可 的 。 家 長 應 該 讓 孩 子 自 由 的 摸 索 這 個 世 界 並 適 時 的 給 予 指 導 和 協 助 。\n",
      "({'over_corr': 6, 'total_err': 1, 'true_corr': tensor(1, device='cuda:0')}, {'over_corr': 1, 'total_err': 1, 'true_corr': 0})\n",
      "老 師 跟 大 明 說 ： 「 已 經 幾 點 了 你 才 來 學 校 ？ 」 ， 大 明 怎 不 好 意 事 。\n",
      "老 師 跟 大 明 說 ： 「 已 經 幾 點 了 你 才 來 學 校 ？ 」 ， 大 明 怎 不 好 意 事 。\n",
      "老 師 跟 大 明 說 ： 「 已 經 幾 點 了 你 才 來 學 校 ？ 」 ， 大 明 真 不 好 意 思 。\n",
      "({'over_corr': 0, 'total_err': 2, 'true_corr': tensor(0, device='cuda:0')}, {'over_corr': 0, 'total_err': 1, 'true_corr': 0})\n",
      "Epoch 3 Loss: 0.710319292776793\n",
      "0.5656611242077567 {'over_corr': 494, 'total_err': 938, 'true_corr': tensor(96, device='cuda:0')} {'over_corr': 276, 'total_err': 701, 'true_corr': 39}\n"
     ]
    },
    {
     "name": "stderr",
     "output_type": "stream",
     "text": [
      "Epoch:4/35: 100%|██████████| 103/103 [00:26<00:00,  3.84it/s, loss=0.407]\n"
     ]
    },
    {
     "name": "stdout",
     "output_type": "stream",
     "text": [
      "從 星 期 一 到 星 期 五 有 要 是 下 個 周 末 你 有 時 間 ， 你 就 可 以 不 可 以 幫 我 買 這 個 點 視 機 ？\n",
      "從 星 期 一 到 星 期 五 有 要 是 下 個 週 末 你 有 時 間 ， 你 就 可 以 不 可 以 幫 我 買 這 個 點 視 機 ？\n",
      "從 星 期 一 到 星 期 五 有 要 是 下 個 周 末 你 有 時 間 ， 你 就 可 以 不 可 以 幫 我 買 這 個 電 視 機 ？\n",
      "({'over_corr': 1, 'total_err': 1, 'true_corr': tensor(0, device='cuda:0')}, {'over_corr': 1, 'total_err': 1, 'true_corr': 0})\n",
      "因 此 如 果 有 網 站 可 以 直 接 看 學 校 的 小 孩 ， 這 些 壞 色 人 有 新 的 機 會 抓 到 他 們 ！\n",
      "因 此 如 果 有 網 站 可 以 直 接 看 學 校 的 小 孩 ， 這 些 壞 色 人 有 新 的 機 會 抓 到 他 們 ！\n",
      "因 此 如 果 有 網 站 可 以 直 接 看 學 校 的 小 孩 ， 這 些 壞 的 人 有 新 的 機 會 抓 到 他 們 ！\n",
      "({'over_corr': 0, 'total_err': 1, 'true_corr': tensor(0, device='cuda:0')}, {'over_corr': 0, 'total_err': 1, 'true_corr': 0})\n",
      "讓 父 母 看 到 他 們 的 美 好 時 刻 、 用 公 讀 書 、 與 老 師 和 朋 友 們 有 如 何 關 係 等 情 形 。\n",
      "讓 父 母 看 到 他 們 的 美 好 時 刻 、 用 公 讀 書 、 與 老 師 和 朋 友 們 有 如 何 關 係 等 情 形 。\n",
      "讓 父 母 看 到 他 們 的 美 好 時 刻 、 用 功 讀 書 、 與 老 師 和 朋 友 們 有 如 何 關 係 等 情 形 。\n",
      "({'over_corr': 0, 'total_err': 1, 'true_corr': tensor(0, device='cuda:0')}, {'over_corr': 0, 'total_err': 1, 'true_corr': 0})\n",
      "雖 然 你 也 自 己 說 ， 幸 虧 你 還 有 工 作 ， 所 以 請 你 每 周 兩 天 好 好 地 工 作 ， 為 了 提 高 自 己 的 能 力 ， 另 外 每 周 五 天 ， 請 你 好 好 地 學 習 自 己 有 興 趣 的 事 情 。\n",
      "雖 然 你 也 自 己 說 ， 幸 虧 你 還 有 工 作 ， 所 以 請 你 每 週 兩 天 好 好 地 工 作 ， 為 了 提 高 自 己 的 能 力 ， 另 外 每 週 五 天 ， 請 你 好 好 地 學 習 自 己 有 興 趣 的 事 情 。\n",
      "雖 然 你 也 自 己 說 ， 幸 虧 你 還 有 工 作 ， 所 以 請 你 每 週 兩 天 好 好 地 工 作 ， 為 了 提 高 自 己 的 能 力 ， 另 外 每 週 五 天 ， 請 你 好 好 地 學 習 自 己 有 興 趣 的 事 情 。\n",
      "({'over_corr': 0, 'total_err': 2, 'true_corr': tensor(2, device='cuda:0')}, {'over_corr': 0, 'total_err': 1, 'true_corr': 1})\n",
      "我 很 高 興 你 們 要 請 我 參 加 你 們 的 寰 麟 。\n",
      "我 很 高 興 你 們 要 請 我 參 加 你 們 的 婚 禮 。\n",
      "我 很 高 興 你 們 邀 請 我 參 加 你 們 的 婚 禮 。\n",
      "({'over_corr': 0, 'total_err': 3, 'true_corr': tensor(2, device='cuda:0')}, {'over_corr': 0, 'total_err': 1, 'true_corr': 0})\n",
      "我 們 因 該 鼓 勵 青 少 年 繼 續 培 養 這 些 能 力 ， 因 為 限 況 已 經 不 是 如 此 。\n",
      "我 們 因 該 鼓 勵 青 少 年 繼 續 培 養 這 些 能 力 ， 因 為 限 況 已 經 不 是 如 此 。\n",
      "我 們 應 該 鼓 勵 青 少 年 繼 續 培 養 這 些 能 力 ， 因 為 現 況 已 經 不 是 如 此 。\n",
      "({'over_corr': 0, 'total_err': 2, 'true_corr': tensor(0, device='cuda:0')}, {'over_corr': 0, 'total_err': 1, 'true_corr': 0})\n",
      "Epoch 4 Loss: 0.5197453932854735\n",
      "0.4875483682209795 {'over_corr': 424, 'total_err': 938, 'true_corr': tensor(127, device='cuda:0')} {'over_corr': 257, 'total_err': 701, 'true_corr': 51}\n"
     ]
    },
    {
     "name": "stderr",
     "output_type": "stream",
     "text": [
      "Epoch:5/35: 100%|██████████| 103/103 [00:26<00:00,  3.84it/s, loss=0.748]\n"
     ]
    },
    {
     "name": "stdout",
     "output_type": "stream",
     "text": [
      "今 天 他 學 習 的 很 愉 快 。\n",
      "今 天 他 學 習 得 很 愉 快 。\n",
      "今 天 他 學 習 得 很 愉 快 。\n",
      "({'over_corr': 0, 'total_err': 1, 'true_corr': tensor(1, device='cuda:0')}, {'over_corr': 0, 'total_err': 1, 'true_corr': 1})\n",
      "關 於 教 室 裡 的 攝 影 機 ， 我 非 常 支 持 這 位 校 長 的 作 法 ， 我 相 信 教 室 裡 裝 攝 影 機 會 給 有 關 學 校 跟 學 生 帶 來 好 幾 個 優 點 。\n",
      "關 於 教 室 裡 的 攝 影 機 ， 我 非 常 支 持 這 位 校 長 的 做 法 ， 我 相 信 教 室 裡 裝 攝 影 機 會 給 有 關 學 校 跟 學 生 帶 來 好 幾 個 優 點 。\n",
      "關 於 教 室 裡 的 攝 影 機 ， 我 非 常 支 持 這 位 校 長 的 做 法 ， 我 相 信 教 室 裡 裝 攝 影 機 會 給 有 關 學 校 跟 學 生 帶 來 好 幾 個 優 點 。\n",
      "({'over_corr': 0, 'total_err': 1, 'true_corr': tensor(1, device='cuda:0')}, {'over_corr': 0, 'total_err': 1, 'true_corr': 1})\n",
      "為 甚 麼 需 要 裝 攝 影 機 是 ， 因 為 現 代 的 小 孩 由 父 母 疼 愛 地 甚 麼 都 有 。\n",
      "為 甚 麼 需 要 裝 攝 影 機 是 ， 因 為 現 代 的 小 孩 有 父 母 疼 愛 地 甚 麼 都 有 。\n",
      "為 甚 麼 需 要 裝 攝 影 機 是 ， 因 為 現 代 的 小 孩 有 父 母 疼 愛 地 甚 麼 都 有 。\n",
      "({'over_corr': 0, 'total_err': 1, 'true_corr': tensor(1, device='cuda:0')}, {'over_corr': 0, 'total_err': 1, 'true_corr': 1})\n",
      "原 來 是 本 校 一 個 行 動 不 便 的 殘 障 學 生 ， 一 手 撐 著 被 狂 風 吹 得 東 歪 西 到 的 雨 傘 ， 另 一 手 艱 難 地 在 濕 滑 的 水 泥 地 上 滾 動 輪 椅 的 輪 子 。\n",
      "原 來 是 本 校 一 個 行 動 不 便 的 ？ 障 學 生 ， 一 手 成 著 被 病 風 婚 的 東 裝 西 到 的 雨 雨 ， 另 一 手 艱 難 地 在 費 噪 的 水 你 地 上 什 動 輪 椅 的 輪 子 。\n",
      "原 來 是 本 校 一 個 行 動 不 便 的 殘 障 學 生 ， 一 手 撐 著 被 狂 風 吹 得 東 歪 西 倒 的 雨 傘 ， 另 一 手 艱 難 地 在 濕 滑 的 水 泥 地 上 滾 動 輪 椅 的 輪 子 。\n",
      "({'over_corr': 12, 'total_err': 1, 'true_corr': tensor(0, device='cuda:0')}, {'over_corr': 1, 'total_err': 1, 'true_corr': 0})\n",
      "他 平 常 來 一 點 早 ， 可 是 作 天 他 來 了 一 點 晚 。\n",
      "他 平 常 來 一 點 早 ， 可 是 作 天 他 來 了 一 點 晚 。\n",
      "他 平 常 來 一 點 早 ， 可 是 昨 天 他 來 了 一 點 晚 。\n",
      "({'over_corr': 0, 'total_err': 1, 'true_corr': tensor(0, device='cuda:0')}, {'over_corr': 0, 'total_err': 1, 'true_corr': 0})\n",
      "不 只 是 在 家 外 面 ， 聯 誼 精 密 避 的 家 裡 面 也 會 聞 到 臭 味 。\n",
      "不 只 是 在 家 外 面 ， 聯 一 精 密 避 的 家 裡 面 也 會 聞 到 臭 味 。\n",
      "不 只 是 在 家 外 面 ， 連 已 經 密 閉 的 家 裡 面 也 會 聞 到 臭 味 。\n",
      "({'over_corr': 0, 'total_err': 4, 'true_corr': tensor(0, device='cuda:0')}, {'over_corr': 0, 'total_err': 1, 'true_corr': 0})\n",
      "Epoch 5 Loss: 0.41276961188871886\n",
      "0.43102594126354565 {'over_corr': 380, 'total_err': 938, 'true_corr': tensor(178, device='cuda:0')} {'over_corr': 235, 'total_err': 701, 'true_corr': 85}\n"
     ]
    },
    {
     "name": "stderr",
     "output_type": "stream",
     "text": [
      "Epoch:6/35: 100%|██████████| 103/103 [00:26<00:00,  3.85it/s, loss=0.460]\n"
     ]
    },
    {
     "name": "stdout",
     "output_type": "stream",
     "text": [
      "我 準 備 一 些 麵 包 給 他 吃 ， 我 也 從 冰 箱 拿 出 來 了 埤 酒 。\n",
      "我 準 備 一 些 麵 包 給 他 吃 ， 我 也 從 冰 箱 拿 出 來 了 啤 酒 。\n",
      "我 準 備 一 些 麵 包 給 他 吃 ， 我 也 從 冰 箱 拿 出 來 了 啤 酒 。\n",
      "({'over_corr': 0, 'total_err': 1, 'true_corr': tensor(1, device='cuda:0')}, {'over_corr': 0, 'total_err': 1, 'true_corr': 1})\n",
      "我 是 王 天 華 ， 代 表 這 區 的 民 眾 來 給 您 寫 一 封 信 ， 關 於 您 的 工 廠 所 造 成 的 實 像 。\n",
      "我 是 王 天 華 ， 代 表 這 居 的 民 眾 來 給 您 寫 一 封 信 ， 關 於 您 的 工 廠 所 造 成 的 實 像 。\n",
      "我 是 王 天 華 ， 代 表 這 區 的 民 眾 來 給 您 寫 一 封 信 ， 關 於 您 的 工 廠 所 造 成 的 事 項 。\n",
      "({'over_corr': 1, 'total_err': 2, 'true_corr': tensor(0, device='cuda:0')}, {'over_corr': 1, 'total_err': 1, 'true_corr': 0})\n",
      "跟 據 調 查 ， 青 少 年 平 均 上 網 時 間 超 過 看 書 或 看 電 視 。\n",
      "跟 據 調 查 ， 青 少 年 平 都 上 網 時 間 超 過 看 書 或 看 電 視 。\n",
      "根 據 調 查 ， 青 少 年 平 均 上 網 時 間 超 過 看 書 或 看 電 視 。\n",
      "({'over_corr': 1, 'total_err': 1, 'true_corr': tensor(0, device='cuda:0')}, {'over_corr': 1, 'total_err': 1, 'true_corr': 0})\n",
      "反 正 ， 隨 著 時 間 的 流 逝 ， 春 秋 轉 換 事 情 也 被 遺 忘 的 快 無 足 跡 ， 卻 會 帶 來 豐 盛 的 人 生 經 歷 。\n",
      "反 正 ， 隨 著 時 間 的 流 逝 ， 春 秋 轉 換 事 情 也 被 以 忘 得 快 無 足 跡 ， 卻 會 帶 來 封 代 的 人 生 經 歷 。\n",
      "反 正 ， 隨 著 時 間 的 流 逝 ， 春 秋 轉 換 事 情 也 被 遺 忘 得 快 無 足 跡 ， 卻 會 帶 來 豐 盛 的 人 生 經 歷 。\n",
      "({'over_corr': 3, 'total_err': 1, 'true_corr': tensor(1, device='cuda:0')}, {'over_corr': 1, 'total_err': 1, 'true_corr': 0})\n",
      "老 師 們 也 可 以 觀 察 哪 一 個 學 生 需 要 指 教 ， 哪 一 些 學 生 很 活 潑 ， 這 樣 可 以 讓 老 師 更 了 解 平 常 部 會 很 容 易 觀 察 到 的 學 生 們 。\n",
      "老 師 們 也 可 以 觀 察 那 一 個 學 生 需 要 指 教 ， 哪 一 些 學 生 很 活 很 ， 這 樣 可 以 讓 老 師 更 了 解 平 常 部 會 很 容 易 觀 察 到 的 學 生 們 。\n",
      "老 師 們 也 可 以 觀 察 哪 一 個 學 生 需 要 指 教 ， 哪 一 些 學 生 很 活 潑 ， 這 樣 可 以 讓 老 師 更 了 解 平 常 不 會 很 容 易 觀 察 到 的 學 生 們 。\n",
      "({'over_corr': 2, 'total_err': 1, 'true_corr': tensor(0, device='cuda:0')}, {'over_corr': 1, 'total_err': 1, 'true_corr': 0})\n",
      "或 著 會 宣 稱 網 路 交 友 ， 因 為 對 方 無 法 確 認 你 的 身 分 ， 你 就 可 以 盡 可 能 地 扮 演 平 常 沒 有 機 會 扮 演 角 色 。\n",
      "或 著 會 宣 稱 網 路 交 友 ， 因 為 對 方 無 法 確 認 你 的 身 分 ， 你 就 可 以 盡 可 能 地 扮 演 平 常 沒 有 機 會 扮 演 角 色 。\n",
      "或 者 會 宣 稱 網 路 交 友 ， 因 為 對 方 無 法 確 認 你 的 身 分 ， 你 就 可 以 盡 可 能 地 扮 演 平 常 沒 有 機 會 扮 演 角 色 。\n",
      "({'over_corr': 0, 'total_err': 1, 'true_corr': tensor(0, device='cuda:0')}, {'over_corr': 0, 'total_err': 1, 'true_corr': 0})\n",
      "Epoch 6 Loss: 0.3385348668665562\n",
      "0.39521623335101386 {'over_corr': 314, 'total_err': 938, 'true_corr': tensor(201, device='cuda:0')} {'over_corr': 200, 'total_err': 701, 'true_corr': 106}\n"
     ]
    },
    {
     "name": "stderr",
     "output_type": "stream",
     "text": [
      "Epoch:7/35: 100%|██████████| 103/103 [00:26<00:00,  3.83it/s, loss=0.238]\n"
     ]
    },
    {
     "name": "stdout",
     "output_type": "stream",
     "text": [
      "首 先 我 要 說 辛 苦 您 們 天 天 的 徒 勞 ， 同 時 希 望 你 們 會 拿 到 更 好 的 利 益 與 信 賴 。\n",
      "首 先 我 要 說 辛 苦 您 們 天 天 的 苦 勞 ， 同 時 希 望 你 們 會 拿 到 更 好 的 利 益 與 信 賴 。\n",
      "首 先 我 要 說 辛 苦 您 們 天 天 的 苦 勞 ， 同 時 希 望 你 們 會 拿 到 更 好 的 利 益 與 信 賴 。\n",
      "({'over_corr': 0, 'total_err': 1, 'true_corr': tensor(1, device='cuda:0')}, {'over_corr': 0, 'total_err': 1, 'true_corr': 1})\n",
      "去 年 ， 學 生 回 家 之 後 高 二 年 級 老 師 曾 小 姐 留 下 來 該 考 卷 。\n",
      "去 年 ， 學 生 回 家 之 後 高 二 年 級 老 師 曾 小 姐 留 下 來 該 考 卷 。\n",
      "去 年 ， 學 生 回 家 之 後 高 二 年 級 老 師 曾 小 姐 留 下 來 改 考 卷 。\n",
      "({'over_corr': 0, 'total_err': 1, 'true_corr': tensor(0, device='cuda:0')}, {'over_corr': 0, 'total_err': 1, 'true_corr': 0})\n",
      "昨 天 對 她 沒 來 說 是 一 個 很 特 別 的 日 子 ， 台 灣 和 美 國 棒 球 比 賽 最 後 的 一 天 。\n",
      "昨 天 對 她 沒 來 說 是 一 個 很 特 別 的 日 子 ， 台 灣 和 美 國 棒 球 比 賽 最 後 的 一 天 。\n",
      "昨 天 對 她 們 來 說 是 一 個 很 特 別 的 日 子 ， 台 灣 和 美 國 棒 球 比 賽 最 後 的 一 天 。\n",
      "({'over_corr': 0, 'total_err': 1, 'true_corr': tensor(0, device='cuda:0')}, {'over_corr': 0, 'total_err': 1, 'true_corr': 0})\n",
      "我 已 經 進 入 時 會 幾 年 了 ， 我 有 自 己 的 計 劃 ， 自 己 的 目 標 等 等 。\n",
      "我 已 經 進 入 時 會 幾 年 了 ， 我 有 自 己 的 計 劃 ， 自 己 的 目 標 等 等 。\n",
      "我 已 經 進 入 社 會 幾 年 了 ， 我 有 自 己 的 計 劃 ， 自 己 的 目 標 等 等 。\n",
      "({'over_corr': 0, 'total_err': 1, 'true_corr': tensor(0, device='cuda:0')}, {'over_corr': 0, 'total_err': 1, 'true_corr': 0})\n",
      "過 了 三 十 分 鐘 后 ， 下 著 雨 了 ！\n",
      "過 了 三 十 分 鐘 後 ， 下 著 雨 了 ！\n",
      "過 了 三 十 分 鐘 後 ， 下 著 雨 了 ！\n",
      "({'over_corr': 0, 'total_err': 1, 'true_corr': tensor(1, device='cuda:0')}, {'over_corr': 0, 'total_err': 1, 'true_corr': 1})\n",
      "你 的 身 體 什 麼 樣 ？ 你 生 什 麼 病 了 ？\n",
      "你 的 身 體 什 麼 樣 ？ 你 生 什 麼 病 了 ？\n",
      "你 的 身 體 怎 麼 樣 ？ 你 生 什 麼 病 了 ？\n",
      "({'over_corr': 0, 'total_err': 1, 'true_corr': tensor(0, device='cuda:0')}, {'over_corr': 0, 'total_err': 1, 'true_corr': 0})\n",
      "Epoch 7 Loss: 0.2715660161474376\n",
      "0.37137221680446103 {'over_corr': 281, 'total_err': 938, 'true_corr': tensor(233, device='cuda:0')} {'over_corr': 184, 'total_err': 701, 'true_corr': 127}\n"
     ]
    },
    {
     "name": "stderr",
     "output_type": "stream",
     "text": [
      "Epoch:8/35: 100%|██████████| 103/103 [00:26<00:00,  3.84it/s, loss=0.247]\n"
     ]
    },
    {
     "name": "stdout",
     "output_type": "stream",
     "text": [
      "我 發 現 這 個 消 息 馬 上 去 超 級 市 場 買 菜 的 地 方 告 訴 他 們 ， 卻 被 搶 在 門 外 ， 所 以 我 決 定 告 訴 您 們 這 個 情 況 。\n",
      "我 發 現 這 個 消 息 馬 上 去 超 級 市 場 買 菜 的 地 方 告 訴 他 們 ， 卻 被 搶 在 門 外 ， 所 以 我 決 定 告 訴 您 們 這 個 情 況 。\n",
      "我 發 現 這 個 消 息 馬 上 去 超 級 市 場 買 菜 的 地 方 告 訴 他 們 ， 卻 被 擋 在 門 外 ， 所 以 我 決 定 告 訴 您 們 這 個 情 況 。\n",
      "({'over_corr': 0, 'total_err': 1, 'true_corr': tensor(0, device='cuda:0')}, {'over_corr': 0, 'total_err': 1, 'true_corr': 0})\n",
      "我 昨 天 打 電 話 給 了 你 媽 媽 ， 她 說 你 感 冒 住 院 了 ， 我 聽 了 以 後 真 得 很 擔 心 。\n",
      "我 昨 天 打 電 話 給 了 你 媽 媽 ， 她 說 你 感 冒 住 院 了 ， 我 聽 了 以 後 真 的 很 擔 心 。\n",
      "我 昨 天 打 電 話 給 了 你 媽 媽 ， 她 說 你 感 冒 住 院 了 ， 我 聽 了 以 後 真 的 很 擔 心 。\n",
      "({'over_corr': 0, 'total_err': 1, 'true_corr': tensor(1, device='cuda:0')}, {'over_corr': 0, 'total_err': 1, 'true_corr': 1})\n",
      "現 在 ， 電 腦 與 網 際 網 路 發 達 、 快 速 的 發 展 ， 人 跟 人 之 間 的 距 離 也 為 了 這 樣 變 的 更 近 。\n",
      "現 在 ， 電 腦 與 網 際 網 路 發 達 、 快 速 的 發 展 ， 人 跟 人 之 間 的 距 離 也 為 了 這 樣 變 得 更 近 。\n",
      "現 在 ， 電 腦 與 網 際 網 路 發 達 、 快 速 的 發 展 ， 人 跟 人 之 間 的 距 離 也 為 了 這 樣 變 得 更 近 。\n",
      "({'over_corr': 0, 'total_err': 1, 'true_corr': tensor(1, device='cuda:0')}, {'over_corr': 0, 'total_err': 1, 'true_corr': 1})\n",
      "簡 單 的 說 ， 你 要 運 用 的 個 時 間 來 投 資 你 自 己 ， 努 力 的 做 你 喜 歡 做 的 事 ， 以 後 一 定 會 成 功 ！\n",
      "簡 單 地 說 ， 你 要 運 用 的 個 時 間 來 投 資 你 自 己 ， 努 力 地 做 你 喜 歡 做 的 事 ， 以 後 一 定 會 成 功 ！\n",
      "簡 單 地 說 ， 你 要 運 用 這 個 時 間 來 投 資 你 自 己 ， 努 力 地 做 你 喜 歡 做 的 事 ， 以 後 一 定 會 成 功 ！\n",
      "({'over_corr': 0, 'total_err': 3, 'true_corr': tensor(2, device='cuda:0')}, {'over_corr': 0, 'total_err': 1, 'true_corr': 0})\n",
      "對 孩 子 們 來 說 ， 他 們 也 年 不 料 數 因 為 不 能 專 心 地 念 。\n",
      "對 孩 子 們 來 說 ， 他 們 也 年 不 料 數 因 為 不 能 專 心 地 念 。\n",
      "對 孩 子 們 來 說 ， 他 們 也 念 不 了 書 因 為 不 能 專 心 地 念 。\n",
      "({'over_corr': 0, 'total_err': 3, 'true_corr': tensor(0, device='cuda:0')}, {'over_corr': 0, 'total_err': 1, 'true_corr': 0})\n",
      "如 果 貴 工 廠 在 段 時 間 內 未 改 善 ， 不 肯 處 理 ！ 我 們 只 好 尋 求 公 家 單 位 來 解 決 ， 甚 至 法 律 途 徑 ！\n",
      "如 果 貴 工 廠 在 段 時 間 內 未 改 善 ， 不 肯 處 理 ！ 我 們 只 好 尋 求 公 家 單 位 來 解 決 ， 甚 至 法 律 途 徑 ！\n",
      "如 果 貴 工 廠 在 短 時 間 內 未 改 善 ， 不 肯 處 理 ！ 我 們 只 好 尋 求 公 家 單 位 來 解 決 ， 甚 至 法 律 途 徑 ！\n",
      "({'over_corr': 0, 'total_err': 1, 'true_corr': tensor(0, device='cuda:0')}, {'over_corr': 0, 'total_err': 1, 'true_corr': 0})\n",
      "Epoch 8 Loss: 0.22402494407973242\n",
      "0.35128194974227384 {'over_corr': 257, 'total_err': 938, 'true_corr': tensor(256, device='cuda:0')} {'over_corr': 165, 'total_err': 701, 'true_corr': 149}\n"
     ]
    },
    {
     "name": "stderr",
     "output_type": "stream",
     "text": [
      "Epoch:9/35: 100%|██████████| 103/103 [00:26<00:00,  3.84it/s, loss=0.143]\n"
     ]
    },
    {
     "name": "stdout",
     "output_type": "stream",
     "text": [
      "你 們 可 以 坐 市 大 公 車 來 到 我 們 的 家 對 面 。\n",
      "你 們 可 以 坐 師 大 公 車 來 到 我 們 的 家 對 面 。\n",
      "你 們 可 以 坐 師 大 公 車 來 到 我 們 的 家 對 面 。\n",
      "({'over_corr': 0, 'total_err': 1, 'true_corr': tensor(1, device='cuda:0')}, {'over_corr': 0, 'total_err': 1, 'true_corr': 1})\n",
      "你 有 聽 過 個 小 朋 友 從 爸 爸 的 胸 部 的 到 東 西 吃 嗎 ？ 你 還 是 覺 得 這 個 時 候 去 強 迫 女 人 去 念 書 上 班 算 是 男 女 公 平 的 看 法 嗎 ？\n",
      "你 有 聽 過 個 小 朋 友 從 爸 爸 的 天 部 得 到 東 西 吃 嗎 ？ 你 還 是 覺 得 這 個 時 候 去 強 迫 女 人 去 念 書 上 班 算 是 男 女 公 平 的 看 法 嗎 ？\n",
      "你 有 聽 過 個 小 朋 友 從 爸 爸 的 胸 部 得 到 東 西 吃 嗎 ？ 你 還 是 覺 得 這 個 時 候 去 強 迫 女 人 去 念 書 上 班 算 是 男 女 公 平 的 看 法 嗎 ？\n",
      "({'over_corr': 1, 'total_err': 1, 'true_corr': tensor(1, device='cuda:0')}, {'over_corr': 1, 'total_err': 1, 'true_corr': 0})\n",
      "即 使 我 們 是 受 害 者 ， 我 不 求 任 何 的 賠 償 ， 只 希 望 貴 單 位 能 夠 更 徹 底 的 實 行 產 品 檢 驗 ， 避 免 這 種 惡 夢 再 度 重 演 。\n",
      "既 使 我 們 是 受 害 者 ， 我 不 求 任 何 的 賠 償 ， 只 希 望 貴 單 位 能 夠 更 徹 底 地 實 行 產 品 檢 驗 ， 避 免 這 種 惡 夢 再 度 重 演 。\n",
      "即 使 我 們 是 受 害 者 ， 我 不 求 任 何 的 賠 償 ， 只 希 望 貴 單 位 能 夠 更 徹 底 地 實 行 產 品 檢 驗 ， 避 免 這 種 惡 夢 再 度 重 演 。\n",
      "({'over_corr': 1, 'total_err': 1, 'true_corr': tensor(1, device='cuda:0')}, {'over_corr': 1, 'total_err': 1, 'true_corr': 0})\n",
      "如 您 方 於 一 個 禮 拜 之 內 未 處 理 我 們 區 民 將 會 之 環 保 局 提 出 訴 狀 ， 至 時 相 信 此 事 將 對 於 您 工 廠 不 利 。\n",
      "如 您 方 於 一 個 禮 拜 之 內 未 處 理 我 們 區 民 將 會 之 環 保 局 提 出 訴 狀 ， 至 時 相 信 此 事 將 對 於 您 工 廠 不 利 。\n",
      "如 您 方 於 一 個 禮 拜 之 內 未 處 理 我 們 居 民 將 會 之 環 保 局 提 出 訴 狀 ， 至 時 相 信 此 事 將 對 於 您 工 廠 不 利 。\n",
      "({'over_corr': 0, 'total_err': 1, 'true_corr': tensor(0, device='cuda:0')}, {'over_corr': 0, 'total_err': 1, 'true_corr': 0})\n",
      "有 人 反 對 大 學 生 打 工 ， 是 因 為 大 學 生 因 該 專 心 念 書 而 不 因 該 在 打 工 上 浪 費 時 間 。\n",
      "有 人 反 對 大 學 生 打 工 ， 是 因 為 大 學 生 應 該 專 心 念 書 而 不 應 該 在 打 工 上 浪 費 時 間 。\n",
      "有 人 反 對 大 學 生 打 工 ， 是 因 為 大 學 生 應 該 專 心 念 書 而 不 應 該 在 打 工 上 浪 費 時 間 。\n",
      "({'over_corr': 0, 'total_err': 2, 'true_corr': tensor(2, device='cuda:0')}, {'over_corr': 0, 'total_err': 1, 'true_corr': 1})\n",
      "開 車 的 人 聽 了 他 的 華 馬 上 說 ： 「 我 可 以 用 我 的 車 陪 你 去 ， 好 不 好 ？ 」\n",
      "開 車 的 人 聽 了 他 的 華 馬 上 說 ： 「 我 可 以 用 我 的 車 陪 你 去 ， 好 不 好 ？ 」\n",
      "開 車 的 人 聽 了 他 的 話 馬 上 說 ： 「 我 可 以 用 我 的 車 陪 你 去 ， 好 不 好 ？ 」\n",
      "({'over_corr': 0, 'total_err': 1, 'true_corr': tensor(0, device='cuda:0')}, {'over_corr': 0, 'total_err': 1, 'true_corr': 0})\n",
      "Epoch 9 Loss: 0.18000308518270844\n",
      "0.34254584325985477 {'over_corr': 251, 'total_err': 938, 'true_corr': tensor(272, device='cuda:0')} {'over_corr': 167, 'total_err': 701, 'true_corr': 154}\n"
     ]
    },
    {
     "name": "stderr",
     "output_type": "stream",
     "text": [
      "Epoch:10/35: 100%|██████████| 103/103 [00:26<00:00,  3.84it/s, loss=0.166]\n"
     ]
    },
    {
     "name": "stdout",
     "output_type": "stream",
     "text": [
      "「 家 張 限 制 青 少 年 上 網 時 數 」 的 話 題 ？ 我 非 常 支 持 ！\n",
      "「 家 張 限 制 青 少 年 上 網 時 數 」 的 話 題 ？ 我 非 常 支 持 ！\n",
      "「 家 長 限 制 青 少 年 上 網 時 數 」 的 話 題 ？ 我 非 常 支 持 ！\n",
      "({'over_corr': 0, 'total_err': 1, 'true_corr': tensor(0, device='cuda:0')}, {'over_corr': 0, 'total_err': 1, 'true_corr': 0})\n",
      "我 偷 偷 輕 去 ， 老 師 看 到 我 ， 她 就 生 氣 了 。\n",
      "我 偷 偷 輕 去 ， 老 師 看 到 我 ， 她 就 生 氣 了 。\n",
      "我 偷 偷 進 去 ， 老 師 看 到 我 ， 她 就 生 氣 了 。\n",
      "({'over_corr': 0, 'total_err': 1, 'true_corr': tensor(0, device='cuda:0')}, {'over_corr': 0, 'total_err': 1, 'true_corr': 0})\n",
      "由 之 可 見 ， 在 教 室 裡 裝 攝 影 機 的 壞 處 比 好 處 比 較 多 。\n",
      "由 此 可 見 ， 在 教 室 裡 裝 攝 影 機 的 壞 處 比 好 處 比 較 多 。\n",
      "由 此 可 見 ， 在 教 室 裡 裝 攝 影 機 的 壞 處 比 好 處 比 較 多 。\n",
      "({'over_corr': 0, 'total_err': 1, 'true_corr': tensor(1, device='cuda:0')}, {'over_corr': 0, 'total_err': 1, 'true_corr': 1})\n",
      "前 天 你 劉 信 給 我 說 你 門 大 學 考 試 玩 了 。\n",
      "前 天 你 留 信 給 我 說 你 們 大 學 考 試 玩 了 。\n",
      "前 天 你 留 信 給 我 說 你 們 大 學 考 試 完 了 。\n",
      "({'over_corr': 0, 'total_err': 3, 'true_corr': tensor(2, device='cuda:0')}, {'over_corr': 0, 'total_err': 1, 'true_corr': 0})\n",
      "我 希 望 你 近 快 處 理 這 兩 件 事 情 ， 讓 大 家 有 安 心 的 生 活 。\n",
      "我 希 望 你 進 快 處 理 這 兩 件 事 情 ， 讓 大 家 有 安 心 的 生 活 。\n",
      "我 希 望 你 盡 快 處 理 這 兩 件 事 情 ， 讓 大 家 有 安 心 的 生 活 。\n",
      "({'over_corr': 0, 'total_err': 1, 'true_corr': tensor(0, device='cuda:0')}, {'over_corr': 0, 'total_err': 1, 'true_corr': 0})\n",
      "她 是 重 美 國 留 學 回 來 的 。\n",
      "她 是 重 美 國 留 學 回 來 的 。\n",
      "她 是 從 美 國 留 學 回 來 的 。\n",
      "({'over_corr': 0, 'total_err': 1, 'true_corr': tensor(0, device='cuda:0')}, {'over_corr': 0, 'total_err': 1, 'true_corr': 0})\n",
      "Epoch 10 Loss: 0.14488773561507753\n",
      "0.33303376829082315 {'over_corr': 267, 'total_err': 938, 'true_corr': tensor(302, device='cuda:0')} {'over_corr': 168, 'total_err': 701, 'true_corr': 175}\n"
     ]
    },
    {
     "name": "stderr",
     "output_type": "stream",
     "text": [
      "Epoch:11/35: 100%|██████████| 103/103 [00:26<00:00,  3.84it/s, loss=0.069]\n"
     ]
    },
    {
     "name": "stdout",
     "output_type": "stream",
     "text": [
      "我 覺 得 他 票 亮 得 很 。\n",
      "我 覺 得 他 漂 亮 得 很 。\n",
      "我 覺 得 他 漂 亮 得 很 。\n",
      "({'over_corr': 0, 'total_err': 1, 'true_corr': tensor(1, device='cuda:0')}, {'over_corr': 0, 'total_err': 1, 'true_corr': 1})\n",
      "迷 上 網 路 的 有 些 青 少 年 是 因 為 網 路 上 有 很 多 不 同 範 疇 的 資 訊 ， 可 以 看 他 們 所 提 供 的 資 訊 ， 也 可 以 寫 自 己 的 資 訊 ， 可 以 擴 大 自 己 的 知 識 ， 而 且 很 快 得 獲 得 自 己 想 要 的 資 訊 。\n",
      "迷 上 網 路 的 有 些 青 少 年 是 因 為 網 路 上 有 很 多 不 同 範 疇 的 資 訊 ， 可 以 看 他 們 所 提 供 的 資 訊 ， 也 可 以 寫 自 己 的 資 訊 ， 可 以 擴 大 自 己 的 知 識 ， 而 且 很 快 地 獲 得 自 己 想 要 的 資 訊 。\n",
      "迷 上 網 路 的 有 些 青 少 年 是 因 為 網 路 上 有 很 多 不 同 範 疇 的 資 訊 ， 可 以 看 他 們 所 提 供 的 資 訊 ， 也 可 以 寫 自 己 的 資 訊 ， 可 以 擴 大 自 己 的 知 識 ， 而 且 很 快 地 獲 得 自 己 想 要 的 資 訊 。\n",
      "({'over_corr': 0, 'total_err': 1, 'true_corr': tensor(1, device='cuda:0')}, {'over_corr': 0, 'total_err': 1, 'true_corr': 1})\n",
      "可 是 我 剛 剛 來 的 留 學 生 ， 所 以 我 不 智 道 學 校 在 那 兒 。\n",
      "可 是 我 剛 剛 來 的 留 學 生 ， 所 以 我 不 知 道 學 校 在 那 兒 。\n",
      "可 是 我 剛 剛 來 的 留 學 生 ， 所 以 我 不 知 道 學 校 在 那 兒 。\n",
      "({'over_corr': 0, 'total_err': 1, 'true_corr': tensor(1, device='cuda:0')}, {'over_corr': 0, 'total_err': 1, 'true_corr': 1})\n",
      "因 為 不 見 得 聰 名 校 出 來 都 能 幹 ， 都 會 做 事 的 人 。\n",
      "因 為 不 見 得 聰 名 校 出 來 都 能 幹 ， 都 會 做 事 的 人 。\n",
      "因 為 不 見 得 從 名 校 出 來 都 能 幹 ， 都 會 做 事 的 人 。\n",
      "({'over_corr': 0, 'total_err': 1, 'true_corr': tensor(0, device='cuda:0')}, {'over_corr': 0, 'total_err': 1, 'true_corr': 0})\n",
      "我 恨 情 張 到 學 校 以 後 我 快 跑 上 課 ， 到 教 室 我 看 到 老 師 和 同 學 在 上 課 。\n",
      "我 很 請 張 到 學 校 以 後 我 快 跑 上 課 ， 到 教 室 我 看 到 老 師 和 同 學 在 上 課 。\n",
      "我 很 緊 張 到 學 校 以 後 我 快 跑 上 課 ， 到 教 室 我 看 到 老 師 和 同 學 在 上 課 。\n",
      "({'over_corr': 0, 'total_err': 2, 'true_corr': tensor(1, device='cuda:0')}, {'over_corr': 0, 'total_err': 1, 'true_corr': 0})\n",
      "而 且 你 到 現 在 忙 得 不 得 了 。 沒 有 自 己 的 時 間 和 跟 媽 媽 一 起 出 去 的 時 間 。 所 以 以 後 我 想 讓 你 要 好 好 的 休 息 。\n",
      "而 且 你 到 現 在 忙 得 不 得 了 。 沒 有 自 己 的 時 間 和 跟 媽 媽 一 起 出 去 的 時 間 。 所 以 以 後 我 想 讓 你 要 好 好 地 休 息 。\n",
      "而 且 你 到 現 在 忙 得 不 得 了 。 沒 有 自 己 的 時 間 和 跟 媽 媽 一 起 出 去 的 時 間 。 所 以 以 後 我 想 讓 你 要 好 好 地 休 息 。\n",
      "({'over_corr': 0, 'total_err': 1, 'true_corr': tensor(1, device='cuda:0')}, {'over_corr': 0, 'total_err': 1, 'true_corr': 1})\n",
      "Epoch 11 Loss: 0.1126074612285327\n",
      "0.3379940045150844 {'over_corr': 241, 'total_err': 938, 'true_corr': tensor(291, device='cuda:0')} {'over_corr': 154, 'total_err': 701, 'true_corr': 176}\n"
     ]
    },
    {
     "name": "stderr",
     "output_type": "stream",
     "text": [
      "Epoch:12/35: 100%|██████████| 103/103 [00:26<00:00,  3.83it/s, loss=0.123]\n"
     ]
    },
    {
     "name": "stdout",
     "output_type": "stream",
     "text": [
      "其 實 我 也 有 一 個 這 種 經 驗 ， 從 現 在 簡 單 的 介 紹 那 一 個 事 情 吧 。\n",
      "其 實 我 也 有 一 個 這 種 經 驗 ， 從 現 在 簡 單 地 介 紹 那 一 個 事 情 吧 。\n",
      "其 實 我 也 有 一 個 這 種 經 驗 ， 從 現 在 簡 單 地 介 紹 那 一 個 事 情 吧 。\n",
      "({'over_corr': 0, 'total_err': 1, 'true_corr': tensor(1, device='cuda:0')}, {'over_corr': 0, 'total_err': 1, 'true_corr': 1})\n",
      "我 很 高 興 你 們 結 婚 了 ， 難 怪 熱 心 的 不 得 了 。\n",
      "我 很 高 興 你 們 結 婚 了 ， 難 怪 熱 心 得 不 得 了 。\n",
      "我 很 高 興 你 們 結 婚 了 ， 難 怪 熱 心 得 不 得 了 。\n",
      "({'over_corr': 0, 'total_err': 1, 'true_corr': tensor(1, device='cuda:0')}, {'over_corr': 0, 'total_err': 1, 'true_corr': 1})\n",
      "我 沒 有 辦 法 養 它 ， 決 定 送 給 朋 友 。 我 的 環 境 也 部 適 合 養 狗 。\n",
      "我 沒 有 辦 法 養 它 ， 決 定 送 給 朋 友 。 我 的 環 境 也 不 適 合 養 狗 。\n",
      "我 沒 有 辦 法 養 它 ， 決 定 送 給 朋 友 。 我 的 環 境 也 不 適 合 養 狗 。\n",
      "({'over_corr': 0, 'total_err': 1, 'true_corr': tensor(1, device='cuda:0')}, {'over_corr': 0, 'total_err': 1, 'true_corr': 1})\n",
      "網 路 對 我 們 影 響 非 淺 ， 它 不 但 讓 我 們 日 常 生 活 變 得 更 方 便 ， 也 為 我 們 生 活 增 添 了 不 少 的 色 彩 。\n",
      "網 路 對 我 們 影 響 非 淺 ， 它 不 但 讓 我 們 日 常 生 活 變 得 更 方 便 ， 也 為 我 們 生 活 增 添 了 不 少 的 色 彩 。\n",
      "網 路 對 我 們 影 響 匪 淺 ， 它 不 但 讓 我 們 日 常 生 活 變 得 更 方 便 ， 也 為 我 們 生 活 增 添 了 不 少 的 色 彩 。\n",
      "({'over_corr': 0, 'total_err': 1, 'true_corr': tensor(0, device='cuda:0')}, {'over_corr': 0, 'total_err': 1, 'true_corr': 0})\n",
      "我 們 的 技 術 越 來 越 發 展 但 是 我 們 的 環 境 比 方 說 空 氣 阿 、 水 阿 、 土 地 阿 、 越 來 越 壞 掉 了 。 ]\n",
      "我 們 的 技 術 越 來 越 發 展 但 是 我 們 的 環 境 比 方 說 空 氣 啊 、 水 啊 、 土 地 啊 、 越 來 越 壞 掉 了 。 ]\n",
      "我 們 的 技 術 越 來 越 發 展 但 是 我 們 的 環 境 比 方 說 空 氣 啊 、 水 啊 、 土 地 啊 、 越 來 越 壞 掉 了 。 ]\n",
      "({'over_corr': 0, 'total_err': 3, 'true_corr': tensor(3, device='cuda:0')}, {'over_corr': 0, 'total_err': 1, 'true_corr': 1})\n",
      "今 天 是 學 校 的 最 後 一 天 ， 小 朋 友 好 興 奮 得 上 學 校 的 車 。\n",
      "今 天 是 學 校 的 最 後 一 天 ， 小 朋 友 好 興 奮 地 上 學 校 的 車 。\n",
      "今 天 是 學 校 的 最 後 一 天 ， 小 朋 友 好 興 奮 地 上 學 校 的 車 。\n",
      "({'over_corr': 0, 'total_err': 1, 'true_corr': tensor(1, device='cuda:0')}, {'over_corr': 0, 'total_err': 1, 'true_corr': 1})\n",
      "Epoch 12 Loss: 0.0854175932777738\n",
      "0.3311510512774641 {'over_corr': 259, 'total_err': 938, 'true_corr': tensor(317, device='cuda:0')} {'over_corr': 172, 'total_err': 701, 'true_corr': 183}\n"
     ]
    },
    {
     "name": "stderr",
     "output_type": "stream",
     "text": [
      "Epoch:13/35: 100%|██████████| 103/103 [00:26<00:00,  3.83it/s, loss=0.038]\n"
     ]
    },
    {
     "name": "stdout",
     "output_type": "stream",
     "text": [
      "等 你 好 了 一 起 去 釣 魚 好 嗎 ？ 你 一 訂 要 快 好 。\n",
      "等 你 好 了 一 起 去 釣 魚 好 嗎 ？ 你 一 定 要 快 好 。\n",
      "等 你 好 了 一 起 去 釣 魚 好 嗎 ？ 你 一 定 要 快 好 。\n",
      "({'over_corr': 0, 'total_err': 1, 'true_corr': tensor(1, device='cuda:0')}, {'over_corr': 0, 'total_err': 1, 'true_corr': 1})\n",
      "大 明 阿 你 知 道 嗎 ？ 之 前 我 的 公 司 也 受 到 經 濟 的 影 響 所 以 都 沒 有 工 作 也 放 無 薪 假 ， 我 每 天 都 煩 惱 ， 怎 麼 讓 公 司 的 生 意 會 好 起 來 呢 ！\n",
      "大 明 啊 你 知 道 嗎 ？ 之 前 我 的 公 司 也 受 到 經 濟 的 影 響 所 以 都 沒 有 工 作 也 放 無 薪 假 ， 我 每 天 都 煩 惱 ， 怎 麼 讓 公 司 的 生 意 會 好 起 來 呢 ！\n",
      "大 明 啊 你 知 道 嗎 ？ 之 前 我 的 公 司 也 受 到 經 濟 的 影 響 所 以 都 沒 有 工 作 也 放 無 薪 假 ， 我 每 天 都 煩 惱 ， 怎 麼 讓 公 司 的 生 意 會 好 起 來 呢 ！\n",
      "({'over_corr': 0, 'total_err': 1, 'true_corr': tensor(1, device='cuda:0')}, {'over_corr': 0, 'total_err': 1, 'true_corr': 1})\n",
      "雖 然 是 有 ＂ 經 濟 ＂ ， 可 是 又 影 響 到 生 態 環 境 ， 導 致 台 灣 持 有 的 動 值 物 可 能 因 此 消 失 ， 接 下 來 旅 客 為 此 而 不 再 來 會 導 致 台 灣 旅 遊 業 損 失 。\n",
      "雖 然 是 有 ＂ 經 濟 ＂ ， 可 是 又 影 響 到 生 態 環 境 ， 導 致 台 灣 持 有 的 動 植 物 可 能 因 此 消 失 ， 接 下 來 旅 客 為 此 而 不 再 來 會 導 致 台 灣 旅 遊 業 損 失 。\n",
      "雖 然 是 有 ＂ 經 濟 ＂ ， 可 是 又 影 響 到 生 態 環 境 ， 導 致 台 灣 持 有 的 動 植 物 可 能 因 此 消 失 ， 接 下 來 旅 客 為 此 而 不 再 來 會 導 致 台 灣 旅 遊 業 損 失 。\n",
      "({'over_corr': 0, 'total_err': 1, 'true_corr': tensor(1, device='cuda:0')}, {'over_corr': 0, 'total_err': 1, 'true_corr': 1})\n",
      "昨 天 對 她 沒 來 說 是 一 個 很 特 別 的 日 子 ， 台 灣 和 美 國 棒 球 比 賽 最 後 的 一 天 。\n",
      "昨 天 對 她 們 來 說 是 一 個 很 特 別 的 日 子 ， 台 灣 和 美 國 棒 球 比 賽 最 後 的 一 天 。\n",
      "昨 天 對 她 們 來 說 是 一 個 很 特 別 的 日 子 ， 台 灣 和 美 國 棒 球 比 賽 最 後 的 一 天 。\n",
      "({'over_corr': 0, 'total_err': 1, 'true_corr': tensor(1, device='cuda:0')}, {'over_corr': 0, 'total_err': 1, 'true_corr': 1})\n",
      "我 也 覺 得 這 件 事 ， 如 果 在 這 樣 下 去 ， 大 家 都 會 面 臨 困 難 。\n",
      "我 也 覺 得 這 件 事 ， 如 果 再 這 樣 下 去 ， 大 家 都 會 面 臨 困 難 。\n",
      "我 也 覺 得 這 件 事 ， 如 果 再 這 樣 下 去 ， 大 家 都 會 面 臨 困 難 。\n",
      "({'over_corr': 0, 'total_err': 1, 'true_corr': tensor(1, device='cuda:0')}, {'over_corr': 0, 'total_err': 1, 'true_corr': 1})\n",
      "十 分 鐘 以 後 他 的 老 師 進 來 ， 大 明 看 大 的 老 師 就 知 道 他 的 老 師 是 女 生 在 馬 路 ， 老 師 也 認 到 大 明 社 男 生 問 他 捷 運 站 怎 麼 走 。\n",
      "十 分 鐘 以 後 他 的 老 師 進 來 ， 大 明 看 他 的 老 師 就 知 道 他 的 老 師 是 女 生 在 馬 路 ， 老 師 也 認 到 大 明 是 男 生 問 他 捷 運 站 怎 麼 走 。\n",
      "十 分 鐘 以 後 他 的 老 師 進 來 ， 大 明 看 他 的 老 師 就 知 道 他 的 老 師 是 女 生 在 馬 路 ， 老 師 也 認 到 大 明 是 男 生 問 他 捷 運 站 怎 麼 走 。\n",
      "({'over_corr': 0, 'total_err': 2, 'true_corr': tensor(2, device='cuda:0')}, {'over_corr': 0, 'total_err': 1, 'true_corr': 1})\n",
      "Epoch 13 Loss: 0.06411087335747423\n",
      "0.33635926619172096 {'over_corr': 248, 'total_err': 938, 'true_corr': tensor(306, device='cuda:0')} {'over_corr': 164, 'total_err': 701, 'true_corr': 176}\n"
     ]
    },
    {
     "name": "stderr",
     "output_type": "stream",
     "text": [
      "Epoch:14/35: 100%|██████████| 103/103 [00:26<00:00,  3.83it/s, loss=0.085]\n"
     ]
    },
    {
     "name": "stdout",
     "output_type": "stream",
     "text": [
      "我 上 高 中 的 那 時 候 ， 在 我 們 班 裡 ， 我 跟 一 位 同 學 間 的 關 系 不 好 。\n",
      "我 上 高 中 的 那 時 候 ， 在 我 們 班 裡 ， 我 跟 一 位 同 學 間 的 關 係 不 好 。\n",
      "我 上 高 中 的 那 時 候 ， 在 我 們 班 裡 ， 我 跟 一 位 同 學 間 的 關 係 不 好 。\n",
      "({'over_corr': 0, 'total_err': 1, 'true_corr': tensor(1, device='cuda:0')}, {'over_corr': 0, 'total_err': 1, 'true_corr': 1})\n",
      "我 們 認 為 工 廠 的 還 清 又 乾 淨 又 健 康 會 對 工 廠 有 好 的 影 響 。 所 以 我 們 會 一 起 互 相 合 作 。\n",
      "我 們 認 為 工 廠 的 環 境 又 乾 淨 又 健 康 會 對 工 廠 有 好 的 影 響 。 所 以 我 們 會 一 起 互 相 合 作 。\n",
      "我 們 認 為 工 廠 的 環 境 又 乾 淨 又 健 康 會 對 工 廠 有 好 的 影 響 。 所 以 我 們 會 一 起 互 相 合 作 。\n",
      "({'over_corr': 0, 'total_err': 2, 'true_corr': tensor(2, device='cuda:0')}, {'over_corr': 0, 'total_err': 1, 'true_corr': 1})\n",
      "如 果 您 都 不 回 應 我 們 的 反 應 ， 我 們 就 會 把 您 告 警 擦 ， 或 者 鄰 長 。\n",
      "如 果 您 都 不 回 應 我 們 的 反 應 ， 我 們 就 會 把 您 告 警 察 ， 或 者 鄰 長 。\n",
      "如 果 您 都 不 回 應 我 們 的 反 應 ， 我 們 就 會 把 您 告 警 察 ， 或 者 鄰 長 。\n",
      "({'over_corr': 0, 'total_err': 1, 'true_corr': tensor(1, device='cuda:0')}, {'over_corr': 0, 'total_err': 1, 'true_corr': 1})\n",
      "花 蓮 台 東 的 風 景 氣 勢 磅 礡 、 澎 湖 的 景 觀 是 人 間 仙 境 ， 要 是 這 兩 各 地 方 的 可 貴 自 然 美 都 被 破 壞 了 ， 台 灣 反 而 就 是 去 了 觀 光 的 吸 引 力 。\n",
      "花 蓮 台 東 的 風 景 氣 勢 磅 礡 、 澎 湖 的 景 觀 是 人 間 仙 境 ， 要 是 這 兩 個 地 方 的 可 貴 自 然 美 都 被 破 壞 了 ， 台 灣 反 而 就 是 去 了 觀 光 的 吸 引 力 。\n",
      "花 蓮 台 東 的 風 景 氣 勢 磅 礡 、 澎 湖 的 景 觀 是 人 間 仙 境 ， 要 是 這 兩 個 地 方 的 可 貴 自 然 美 都 被 破 壞 了 ， 台 灣 反 而 就 失 去 了 觀 光 的 吸 引 力 。\n",
      "({'over_corr': 0, 'total_err': 2, 'true_corr': tensor(1, device='cuda:0')}, {'over_corr': 0, 'total_err': 1, 'true_corr': 0})\n",
      "不 過 那 些 養 寵 物 的 人 都 對 自 己 的 寵 物 有 愛 心 ， 不 像 「 寵 物 出 租 」 的 顧 客 只 要 一 斷 的 時 間 要 照 顧 它 們 。\n",
      "不 過 那 些 養 寵 物 的 人 都 對 自 己 的 寵 物 有 愛 心 ， 不 像 「 寵 物 出 租 」 的 顧 客 只 要 一 斷 的 時 間 要 照 顧 它 們 。\n",
      "不 過 那 些 養 寵 物 的 人 都 對 自 己 的 寵 物 有 愛 心 ， 不 像 「 寵 物 出 租 」 的 顧 客 只 要 一 段 的 時 間 要 照 顧 它 們 。\n",
      "({'over_corr': 0, 'total_err': 1, 'true_corr': tensor(0, device='cuda:0')}, {'over_corr': 0, 'total_err': 1, 'true_corr': 0})\n",
      "那 份 統 計 結 果 只 表 示 ， 名 校 畢 業 生 趨 向 高 新 ， 並 不 表 示 不 進 入 名 校 就 沒 有 未 來 的 保 障 。\n",
      "那 份 統 計 結 果 只 表 示 ， 名 校 畢 業 生 趨 向 高 薪 ， 並 不 表 示 不 進 入 名 校 就 沒 有 未 來 的 保 障 。\n",
      "那 份 統 計 結 果 只 表 示 ， 名 校 畢 業 生 趨 向 高 薪 ， 並 不 表 示 不 進 入 名 校 就 沒 有 未 來 的 保 障 。\n",
      "({'over_corr': 0, 'total_err': 1, 'true_corr': tensor(1, device='cuda:0')}, {'over_corr': 0, 'total_err': 1, 'true_corr': 1})\n",
      "Epoch 14 Loss: 0.04814087930451898\n",
      "0.327557273209095 {'over_corr': 244, 'total_err': 938, 'true_corr': tensor(322, device='cuda:0')} {'over_corr': 162, 'total_err': 701, 'true_corr': 192}\n"
     ]
    },
    {
     "name": "stderr",
     "output_type": "stream",
     "text": [
      "Epoch:15/35: 100%|██████████| 103/103 [00:26<00:00,  3.82it/s, loss=0.022]\n"
     ]
    },
    {
     "name": "stdout",
     "output_type": "stream",
     "text": [
      "他 的 床 很 小 ， 是 藍 的 也 是 錄 的 。\n",
      "他 的 床 很 小 ， 是 藍 的 也 是 綠 的 。\n",
      "他 的 床 很 小 ， 是 藍 的 也 是 綠 的 。\n",
      "({'over_corr': 0, 'total_err': 1, 'true_corr': tensor(1, device='cuda:0')}, {'over_corr': 0, 'total_err': 1, 'true_corr': 1})\n",
      "在 加 拿 大 的 夏 天 太 陽 很 晚 才 下 ， 所 以 我 們 去 了 公 園 一 起 建 走 。\n",
      "在 加 拿 大 的 夏 天 太 陽 很 晚 才 下 ， 所 以 我 們 去 了 公 園 一 起 健 走 。\n",
      "在 加 拿 大 的 夏 天 太 陽 很 晚 才 下 ， 所 以 我 們 去 了 公 園 一 起 健 走 。\n",
      "({'over_corr': 0, 'total_err': 1, 'true_corr': tensor(1, device='cuda:0')}, {'over_corr': 0, 'total_err': 1, 'true_corr': 1})\n",
      "經 濟 發 展 方 面 ， 可 以 將 華 連 成 為 國 家 觀 逛 景 點 ， 以 旅 遊 行 業 為 主 來 發 展 當 地 的 經 濟 ， 教 育 當 地 人 們 懂 得 保 護 自 己 擁 有 之 寶 。\n",
      "經 濟 發 展 方 面 ， 可 以 將 花 蓮 成 為 國 家 觀 逛 景 點 ， 以 旅 遊 行 業 為 主 來 發 展 當 地 的 經 濟 ， 教 育 當 地 人 們 懂 得 保 護 自 己 擁 有 之 寶 。\n",
      "經 濟 發 展 方 面 ， 可 以 將 花 蓮 成 為 國 家 觀 逛 景 點 ， 以 旅 遊 行 業 為 主 來 發 展 當 地 的 經 濟 ， 教 育 當 地 人 們 懂 得 保 護 自 己 擁 有 之 寶 。\n",
      "({'over_corr': 0, 'total_err': 2, 'true_corr': tensor(2, device='cuda:0')}, {'over_corr': 0, 'total_err': 1, 'true_corr': 1})\n",
      "由 於 下 午 五 點 後 區 民 都 與 其 小 孩 相 當 疲 累 ， 但 回 家 之 後 卻 又 被 您 方 的 噪 音 困 擾 。\n",
      "由 於 下 午 五 點 後 居 民 都 與 其 小 孩 相 當 疲 累 ， 但 回 家 之 後 卻 又 被 您 方 的 噪 音 困 擾 。\n",
      "由 於 下 午 五 點 後 居 民 都 與 其 小 孩 相 當 疲 累 ， 但 回 家 之 後 卻 又 被 您 方 的 噪 音 困 擾 。\n",
      "({'over_corr': 0, 'total_err': 1, 'true_corr': tensor(1, device='cuda:0')}, {'over_corr': 0, 'total_err': 1, 'true_corr': 1})\n",
      "到 了 一 後 他 就 走 路 ， 可 是 他 要 一 個 問 題 他 不 知 道 到 學 校 怎 麼 去 。\n",
      "到 了 以 後 他 就 走 路 ， 可 是 他 有 一 個 問 題 他 不 知 道 到 學 校 怎 麼 去 。\n",
      "到 了 以 後 他 就 走 路 ， 可 是 他 有 一 個 問 題 他 不 知 道 到 學 校 怎 麼 去 。\n",
      "({'over_corr': 0, 'total_err': 2, 'true_corr': tensor(2, device='cuda:0')}, {'over_corr': 0, 'total_err': 1, 'true_corr': 1})\n",
      "那 個 時 候 我 們 只 好 慢 慢 得 安 慰 鼓 勵 他 讓 他 想 得 開 ， 他 想 得 開 以 後 就 改 變 自 己 的 想 法 了 。\n",
      "那 個 時 候 我 們 只 好 慢 慢 地 安 慰 鼓 勵 他 讓 他 想 得 開 ， 他 想 得 開 以 後 就 改 變 自 己 的 想 法 了 。\n",
      "那 個 時 候 我 們 只 好 慢 慢 地 安 慰 鼓 勵 他 讓 他 想 得 開 ， 他 想 得 開 以 後 就 改 變 自 己 的 想 法 了 。\n",
      "({'over_corr': 0, 'total_err': 1, 'true_corr': tensor(1, device='cuda:0')}, {'over_corr': 0, 'total_err': 1, 'true_corr': 1})\n",
      "Epoch 15 Loss: 0.035632397934288074\n",
      "0.3307821591469375 {'over_corr': 237, 'total_err': 938, 'true_corr': tensor(321, device='cuda:0')} {'over_corr': 158, 'total_err': 701, 'true_corr': 184}\n"
     ]
    },
    {
     "name": "stderr",
     "output_type": "stream",
     "text": [
      "Epoch:16/35: 100%|██████████| 103/103 [00:26<00:00,  3.83it/s, loss=0.019]\n"
     ]
    },
    {
     "name": "stdout",
     "output_type": "stream",
     "text": [
      "不 過 有 的 人 會 認 為 ， 遊 戲 也 是 小 孩 子 的 一 個 重 要 徒 徑 ， 這 樣 幫 他 們 學 習 怎 麼 跟 別 的 小 孩 子 溝 通 、 相 處 等 。\n",
      "不 過 有 的 人 會 認 為 ， 遊 戲 也 是 小 孩 子 的 一 個 重 要 途 徑 ， 這 樣 幫 他 們 學 習 怎 麼 跟 別 的 小 孩 子 溝 通 、 相 處 等 。\n",
      "不 過 有 的 人 會 認 為 ， 遊 戲 也 是 小 孩 子 的 一 個 重 要 途 徑 ， 這 樣 幫 他 們 學 習 怎 麼 跟 別 的 小 孩 子 溝 通 、 相 處 等 。\n",
      "({'over_corr': 0, 'total_err': 1, 'true_corr': tensor(1, device='cuda:0')}, {'over_corr': 0, 'total_err': 1, 'true_corr': 1})\n",
      "同 時 你 也 相 信 老 師 的 專 業 ， 能 夠 處 裡 教 學 過 程 中 的 種 種 問 題 。\n",
      "同 時 你 也 相 信 老 師 的 專 業 ， 能 夠 處 理 教 學 過 程 中 的 種 種 問 題 。\n",
      "同 時 你 也 相 信 老 師 的 專 業 ， 能 夠 處 理 教 學 過 程 中 的 種 種 問 題 。\n",
      "({'over_corr': 0, 'total_err': 1, 'true_corr': tensor(1, device='cuda:0')}, {'over_corr': 0, 'total_err': 1, 'true_corr': 1})\n",
      "但 如 果 您 不 可 做 哪 些 方 法 您 要 給 我 們 做 家 裡 的 隔 音 設 備 。\n",
      "但 如 果 您 不 可 做 那 些 方 法 您 要 給 我 們 做 家 裡 的 隔 音 設 備 。\n",
      "但 如 果 您 不 可 做 那 些 方 法 您 要 給 我 們 做 家 裡 的 隔 音 設 備 。\n",
      "({'over_corr': 0, 'total_err': 1, 'true_corr': tensor(1, device='cuda:0')}, {'over_corr': 0, 'total_err': 1, 'true_corr': 1})\n",
      "為 甚 麼 需 要 裝 攝 影 機 是 ， 因 為 現 代 的 小 孩 由 父 母 疼 愛 地 甚 麼 都 有 。\n",
      "為 甚 麼 需 要 裝 攝 影 機 是 ， 因 為 現 代 的 小 孩 有 父 母 疼 愛 地 甚 麼 都 有 。\n",
      "為 甚 麼 需 要 裝 攝 影 機 是 ， 因 為 現 代 的 小 孩 有 父 母 疼 愛 地 甚 麼 都 有 。\n",
      "({'over_corr': 0, 'total_err': 1, 'true_corr': tensor(1, device='cuda:0')}, {'over_corr': 0, 'total_err': 1, 'true_corr': 1})\n",
      "天 華 知 道 我 喜 歡 吃 烤 肉 ， 所 已 需 要 的 東 西 她 都 準 備 好 了 。\n",
      "天 華 知 道 我 喜 歡 吃 烤 肉 ， 所 以 需 要 的 東 西 她 都 準 備 好 了 。\n",
      "天 華 知 道 我 喜 歡 吃 烤 肉 ， 所 以 需 要 的 東 西 她 都 準 備 好 了 。\n",
      "({'over_corr': 0, 'total_err': 1, 'true_corr': tensor(1, device='cuda:0')}, {'over_corr': 0, 'total_err': 1, 'true_corr': 1})\n",
      "那 時 候 台 北 有 蔡 伊 領 的 演 唱 會 ， 大 年 說 一 定 要 去 因 為 伊 領 又 漂 亮 又 會 唱 。\n",
      "那 時 候 台 北 有 菜 依 林 的 演 唱 會 ， 大 年 說 一 定 要 去 因 為 依 林 又 漂 亮 又 會 唱 。\n",
      "那 時 候 台 北 有 蔡 依 林 的 演 唱 會 ， 大 年 說 一 定 要 去 因 為 依 林 又 漂 亮 又 會 唱 。\n",
      "({'over_corr': 1, 'total_err': 4, 'true_corr': tensor(4, device='cuda:0')}, {'over_corr': 1, 'total_err': 1, 'true_corr': 0})\n",
      "Epoch 16 Loss: 0.02672478122618592\n",
      "0.33735852214423095 {'over_corr': 244, 'total_err': 938, 'true_corr': tensor(326, device='cuda:0')} {'over_corr': 163, 'total_err': 701, 'true_corr': 182}\n"
     ]
    },
    {
     "name": "stderr",
     "output_type": "stream",
     "text": [
      "Epoch:17/35: 100%|██████████| 103/103 [00:26<00:00,  3.84it/s, loss=0.008]\n"
     ]
    },
    {
     "name": "stdout",
     "output_type": "stream",
     "text": [
      "我 但 然 去 了 看 醫 生 ， 他 說 沒 什 麼 關 係 ， 我 只 需 要 休 息 一 下 。\n",
      "我 當 然 去 了 看 醫 生 ， 他 說 沒 什 麼 關 係 ， 我 只 需 要 休 息 一 下 。\n",
      "我 當 然 去 了 看 醫 生 ， 他 說 沒 什 麼 關 係 ， 我 只 需 要 休 息 一 下 。\n",
      "({'over_corr': 0, 'total_err': 1, 'true_corr': tensor(1, device='cuda:0')}, {'over_corr': 0, 'total_err': 1, 'true_corr': 1})\n",
      "我 很 想 參 家 你 的 舞 會 因 為 你 的 舞 會 總 是 很 好 玩 。\n",
      "我 很 想 參 加 你 的 舞 會 因 為 你 的 舞 會 總 是 很 好 玩 。\n",
      "我 很 想 參 加 你 的 舞 會 因 為 你 的 舞 會 總 是 很 好 玩 。\n",
      "({'over_corr': 0, 'total_err': 1, 'true_corr': tensor(1, device='cuda:0')}, {'over_corr': 0, 'total_err': 1, 'true_corr': 1})\n",
      "不 知 道 你 們 有 什 麼 想 法 ， 但 是 對 我 來 說 這 位 校 長 的 作 法 很 好 ， 她 會 聽 到 家 長 們 的 聲 音 。\n",
      "不 知 道 你 們 有 什 麼 想 法 ， 但 是 對 我 來 說 這 位 校 長 的 做 法 很 好 ， 她 會 聽 到 家 長 們 的 聲 音 。\n",
      "不 知 道 你 們 有 什 麼 想 法 ， 但 是 對 我 來 說 這 位 校 長 的 做 法 很 好 ， 她 會 聽 到 家 長 們 的 聲 音 。\n",
      "({'over_corr': 0, 'total_err': 1, 'true_corr': tensor(1, device='cuda:0')}, {'over_corr': 0, 'total_err': 1, 'true_corr': 1})\n",
      "在 這 忙 綠 的 社 會 裡 ， 一 個 家 庭 家 庭 應 該 達 到 工 作 與 生 活 的 平 衡 。\n",
      "在 這 忙 碌 的 社 會 裡 ， 一 個 家 庭 家 庭 應 該 達 到 工 作 與 生 活 的 平 衡 。\n",
      "在 這 忙 碌 的 社 會 裡 ， 一 個 家 庭 家 庭 應 該 達 到 工 作 與 生 活 的 平 衡 。\n",
      "({'over_corr': 0, 'total_err': 1, 'true_corr': tensor(1, device='cuda:0')}, {'over_corr': 0, 'total_err': 1, 'true_corr': 1})\n",
      "一 個 人 是 大 名 跟 他 的 奴 生 的 朋 友 ， 她 們 很 票 亮 。\n",
      "一 個 人 是 大 明 跟 他 的 女 生 的 朋 友 ， 她 們 很 漂 亮 。\n",
      "一 個 人 是 大 明 跟 他 的 女 生 的 朋 友 ， 她 們 很 漂 亮 。\n",
      "({'over_corr': 0, 'total_err': 3, 'true_corr': tensor(3, device='cuda:0')}, {'over_corr': 0, 'total_err': 1, 'true_corr': 1})\n",
      "我 覺 得 你 高 心 得 不 得 了 。\n",
      "我 覺 得 你 高 興 得 不 得 了 。\n",
      "我 覺 得 你 高 興 得 不 得 了 。\n",
      "({'over_corr': 0, 'total_err': 1, 'true_corr': tensor(1, device='cuda:0')}, {'over_corr': 0, 'total_err': 1, 'true_corr': 1})\n",
      "Epoch 17 Loss: 0.020937497845118485\n",
      "0.3371274061501026 {'over_corr': 256, 'total_err': 938, 'true_corr': tensor(340, device='cuda:0')} {'over_corr': 172, 'total_err': 701, 'true_corr': 191}\n"
     ]
    },
    {
     "name": "stderr",
     "output_type": "stream",
     "text": [
      "Epoch:18/35: 100%|██████████| 103/103 [00:26<00:00,  3.84it/s, loss=0.004]\n"
     ]
    },
    {
     "name": "stdout",
     "output_type": "stream",
     "text": [
      "如 果 我 有 小 孩 子 的 話 ， 我 不 燒 得 我 不 會 跟 他 們 一 樣 支 持 在 教 室 裡 面 裝 攝 影 機 。\n",
      "如 果 我 有 小 孩 子 的 話 ， 我 不 曉 得 我 不 會 跟 他 們 一 樣 支 持 在 教 室 裡 面 裝 攝 影 機 。\n",
      "如 果 我 有 小 孩 子 的 話 ， 我 不 曉 得 我 不 會 跟 他 們 一 樣 支 持 在 教 室 裡 面 裝 攝 影 機 。\n",
      "({'over_corr': 0, 'total_err': 1, 'true_corr': tensor(1, device='cuda:0')}, {'over_corr': 0, 'total_err': 1, 'true_corr': 1})\n",
      "如 果 每 個 學 校 有 自 己 的 網 站 ， 我 們 可 以 上 網 看 當 天 或 者 前 幾 天 課 的 錄 音 。\n",
      "如 果 每 個 學 校 有 自 己 的 網 站 ， 我 們 可 以 上 網 看 當 天 或 者 前 幾 天 課 的 錄 影 。\n",
      "如 果 每 個 學 校 有 自 己 的 網 站 ， 我 們 可 以 上 網 看 當 天 或 者 前 幾 天 課 的 錄 影 。\n",
      "({'over_corr': 0, 'total_err': 1, 'true_corr': tensor(1, device='cuda:0')}, {'over_corr': 0, 'total_err': 1, 'true_corr': 1})\n",
      "我 們 可 以 聊 以 前 上 學 時 的 事 情 ， 開 開 心 心 的 聊 。\n",
      "我 們 可 以 聊 以 前 上 學 時 的 事 情 ， 開 開 心 心 地 聊 。\n",
      "我 們 可 以 聊 以 前 上 學 時 的 事 情 ， 開 開 心 心 地 聊 。\n",
      "({'over_corr': 0, 'total_err': 1, 'true_corr': tensor(1, device='cuda:0')}, {'over_corr': 0, 'total_err': 1, 'true_corr': 1})\n",
      "老 師 可 能 教 一 個 題 目 但 是 有 的 學 生 不 懂 她 的 意 思 可 是 她 不 會 幫 他 們 懂 這 個 問 題 ， 這 事 不 好 的 教 法 因 為 老 師 應 該 幫 學 生 學 習 很 好 。\n",
      "老 師 可 能 教 一 個 題 目 但 是 有 的 學 生 不 懂 她 的 意 思 可 是 她 不 會 幫 他 們 懂 這 個 問 題 ， 這 是 不 好 的 教 法 因 為 老 師 應 該 幫 學 生 學 習 很 好 。\n",
      "老 師 可 能 教 一 個 題 目 但 是 有 的 學 生 不 懂 她 的 意 思 可 是 她 不 會 幫 他 們 懂 這 個 問 題 ， 這 是 不 好 的 教 法 因 為 老 師 應 該 幫 學 生 學 習 很 好 。\n",
      "({'over_corr': 0, 'total_err': 1, 'true_corr': tensor(1, device='cuda:0')}, {'over_corr': 0, 'total_err': 1, 'true_corr': 1})\n",
      "當 然 經 濟 發 展 也 是 一 件 很 重 要 的 事 情 ， 但 是 我 認 為 我 們 需 要 由 遠 見 來 看 穿 情 況 。\n",
      "當 然 經 濟 發 展 也 是 一 件 很 重 要 的 事 情 ， 但 是 我 認 為 我 們 需 要 有 遠 見 來 看 穿 情 況 。\n",
      "當 然 經 濟 發 展 也 是 一 件 很 重 要 的 事 情 ， 但 是 我 認 為 我 們 需 要 有 遠 見 來 看 穿 情 況 。\n",
      "({'over_corr': 0, 'total_err': 1, 'true_corr': tensor(1, device='cuda:0')}, {'over_corr': 0, 'total_err': 1, 'true_corr': 1})\n",
      "天 華 覺 得 這 次 的 考 試 一 點 都 不 難 ， 因 為 昨 天 晚 上 他 很 認 陳 學 習 。\n",
      "天 華 覺 得 這 次 的 考 試 一 點 都 不 難 ， 因 為 昨 天 晚 上 他 很 認 真 學 習 。\n",
      "天 華 覺 得 這 次 的 考 試 一 點 都 不 難 ， 因 為 昨 天 晚 上 他 很 認 真 學 習 。\n",
      "({'over_corr': 0, 'total_err': 1, 'true_corr': tensor(1, device='cuda:0')}, {'over_corr': 0, 'total_err': 1, 'true_corr': 1})\n",
      "Epoch 18 Loss: 0.016294550860427248\n",
      "0.34149770506403665 {'over_corr': 233, 'total_err': 938, 'true_corr': tensor(331, device='cuda:0')} {'over_corr': 156, 'total_err': 701, 'true_corr': 192}\n"
     ]
    },
    {
     "name": "stderr",
     "output_type": "stream",
     "text": [
      "Epoch:19/35: 100%|██████████| 103/103 [00:26<00:00,  3.84it/s, loss=0.016]\n"
     ]
    },
    {
     "name": "stdout",
     "output_type": "stream",
     "text": [
      "我 希 望 很 多 人 支 持 您 的 作 法 ， 謝 謝 您 看 我 的 信 。\n",
      "我 希 望 很 多 人 支 持 您 的 做 法 ， 謝 謝 您 看 我 的 信 。\n",
      "我 希 望 很 多 人 支 持 您 的 做 法 ， 謝 謝 您 看 我 的 信 。\n",
      "({'over_corr': 0, 'total_err': 1, 'true_corr': tensor(1, device='cuda:0')}, {'over_corr': 0, 'total_err': 1, 'true_corr': 1})\n",
      "受 到 你 的 信 自 己 覺 得 李 大 年 真 是 太 過 分 了 ！ 雖 然 我 跟 他 不 熟 ， 可 能 不 太 了 解 他 的 個 性 ， 但 是 不 管 如 何 ， 這 樣 的 行 為 太 離 普 了 。\n",
      "收 到 你 的 信 自 己 覺 得 李 大 年 真 是 太 過 分 了 ！ 雖 然 我 跟 他 不 熟 ， 可 能 不 太 了 解 他 的 個 性 ， 但 是 不 管 如 何 ， 這 樣 的 行 為 太 離 普 了 。\n",
      "收 到 你 的 信 自 己 覺 得 李 大 年 真 是 太 過 分 了 ！ 雖 然 我 跟 他 不 熟 ， 可 能 不 太 了 解 他 的 個 性 ， 但 是 不 管 如 何 ， 這 樣 的 行 為 太 離 譜 了 。\n",
      "({'over_corr': 0, 'total_err': 2, 'true_corr': tensor(1, device='cuda:0')}, {'over_corr': 0, 'total_err': 1, 'true_corr': 0})\n",
      "如 果 今 天 有 什 麼 功 課 我 回 去 。 我 會 跟 同 學 惜 來 看 。\n",
      "如 果 今 天 有 什 麼 功 課 我 回 去 。 我 會 跟 同 學 借 來 看 。\n",
      "如 果 今 天 有 什 麼 功 課 我 回 去 。 我 會 跟 同 學 借 來 看 。\n",
      "({'over_corr': 0, 'total_err': 1, 'true_corr': tensor(1, device='cuda:0')}, {'over_corr': 0, 'total_err': 1, 'true_corr': 1})\n",
      "我 必 須 在 實 驗 室 做 實 驗 ， 應 為 明 年 我 要 畢 業 了 。\n",
      "我 必 須 在 實 驗 室 做 實 驗 ， 因 為 明 年 我 要 畢 業 了 。\n",
      "我 必 須 在 實 驗 室 做 實 驗 ， 因 為 明 年 我 要 畢 業 了 。\n",
      "({'over_corr': 0, 'total_err': 1, 'true_corr': tensor(1, device='cuda:0')}, {'over_corr': 0, 'total_err': 1, 'true_corr': 1})\n",
      "不 知 道 你 們 有 什 麼 想 法 ， 但 是 對 我 來 說 這 位 校 長 的 作 法 很 好 ， 她 會 聽 到 家 長 們 的 聲 音 。\n",
      "不 知 道 你 們 有 什 麼 想 法 ， 但 是 對 我 來 說 這 位 校 長 的 做 法 很 好 ， 她 會 聽 到 家 長 們 的 聲 音 。\n",
      "不 知 道 你 們 有 什 麼 想 法 ， 但 是 對 我 來 說 這 位 校 長 的 做 法 很 好 ， 她 會 聽 到 家 長 們 的 聲 音 。\n",
      "({'over_corr': 0, 'total_err': 1, 'true_corr': tensor(1, device='cuda:0')}, {'over_corr': 0, 'total_err': 1, 'true_corr': 1})\n",
      "你 可 以 住 在 我 的 家 ， 你 可 以 認 識 我 的 家 又 看 我 的 夠 貓 。\n",
      "你 可 以 住 在 我 的 家 ， 你 可 以 認 識 我 的 家 又 看 我 的 狗 貓 。\n",
      "你 可 以 住 在 我 的 家 ， 你 可 以 認 識 我 的 家 又 看 我 的 狗 貓 。\n",
      "({'over_corr': 0, 'total_err': 1, 'true_corr': tensor(1, device='cuda:0')}, {'over_corr': 0, 'total_err': 1, 'true_corr': 1})\n",
      "Epoch 19 Loss: 0.013545358114993399\n",
      "0.34447061812335794 {'over_corr': 243, 'total_err': 938, 'true_corr': tensor(334, device='cuda:0')} {'over_corr': 159, 'total_err': 701, 'true_corr': 194}\n"
     ]
    },
    {
     "name": "stderr",
     "output_type": "stream",
     "text": [
      "Epoch:20/35: 100%|██████████| 103/103 [00:26<00:00,  3.83it/s, loss=0.010]\n"
     ]
    },
    {
     "name": "stdout",
     "output_type": "stream",
     "text": [
      "很 高 興 聽 到 你 的 消 息 。 應 為 我 們 好 像 很 久 沒 有 聯 絡 。\n",
      "很 高 興 聽 到 你 的 消 息 。 因 為 我 們 好 像 很 久 沒 有 聯 絡 。\n",
      "很 高 興 聽 到 你 的 消 息 。 因 為 我 們 好 像 很 久 沒 有 聯 絡 。\n",
      "({'over_corr': 0, 'total_err': 1, 'true_corr': tensor(1, device='cuda:0')}, {'over_corr': 0, 'total_err': 1, 'true_corr': 1})\n",
      "政 府 和 國 民 共 同 努 力 保 乎 台 灣 的 自 然 。\n",
      "政 府 和 國 民 共 同 努 力 保 護 台 灣 的 自 然 。\n",
      "政 府 和 國 民 共 同 努 力 保 護 台 灣 的 自 然 。\n",
      "({'over_corr': 0, 'total_err': 1, 'true_corr': tensor(1, device='cuda:0')}, {'over_corr': 0, 'total_err': 1, 'true_corr': 1})\n",
      "我 覺 得 在 學 校 哩 ， 很 安 全 的 環 境 很 重 要 。\n",
      "我 覺 得 在 學 校 裡 ， 很 安 全 的 環 境 很 重 要 。\n",
      "我 覺 得 在 學 校 裡 ， 很 安 全 的 環 境 很 重 要 。\n",
      "({'over_corr': 0, 'total_err': 1, 'true_corr': tensor(1, device='cuda:0')}, {'over_corr': 0, 'total_err': 1, 'true_corr': 1})\n",
      "我 們 的 技 術 越 來 越 發 展 但 是 我 們 的 環 境 比 方 說 空 氣 阿 、 水 阿 、 土 地 阿 、 越 來 越 壞 掉 了 。 ]\n",
      "我 們 的 技 術 越 來 越 發 展 但 是 我 們 的 環 境 比 方 說 空 氣 啊 、 水 啊 、 土 地 啊 、 越 來 越 壞 掉 了 。 ]\n",
      "我 們 的 技 術 越 來 越 發 展 但 是 我 們 的 環 境 比 方 說 空 氣 啊 、 水 啊 、 土 地 啊 、 越 來 越 壞 掉 了 。 ]\n",
      "({'over_corr': 0, 'total_err': 3, 'true_corr': tensor(3, device='cuda:0')}, {'over_corr': 0, 'total_err': 1, 'true_corr': 1})\n",
      "請 想 像 一 位 未 來 總 統 候 選 人 ； 如 果 媒 體 捉 去 她 小 時 候 影 片 ， 發 現 甚 麼 缺 點 ， 就 算 是 小 時 候 ， 選 民 必 然 會 受 不 好 的 影 像 。\n",
      "請 想 像 一 位 未 來 總 統 候 選 人 ； 如 果 媒 體 捉 去 她 小 時 候 影 片 ， 發 現 甚 麼 缺 點 ， 就 算 是 小 時 候 ， 選 民 必 然 會 受 不 好 的 影 響 。\n",
      "請 想 像 一 位 未 來 總 統 候 選 人 ； 如 果 媒 體 捉 去 她 小 時 候 影 片 ， 發 現 甚 麼 缺 點 ， 就 算 是 小 時 候 ， 選 民 必 然 會 受 不 好 的 影 響 。\n",
      "({'over_corr': 0, 'total_err': 1, 'true_corr': tensor(1, device='cuda:0')}, {'over_corr': 0, 'total_err': 1, 'true_corr': 1})\n",
      "我 們 這 計 劃 是 研 發 太 陽 能 的 汽 車 ， 先 在 已 到 一 個 段 落 ， 未 會 跟 同 學 一 規 劃 ， 一 起 合 作 開 一 家 公 司 關 於 這 各 方 面 ， 希 望 您 能 了 解 ！\n",
      "我 們 這 計 劃 是 研 發 太 陽 能 的 汽 車 ， 現 在 已 到 一 個 段 落 ， 未 會 跟 同 學 一 規 劃 ， 一 起 合 作 開 一 家 公 司 關 於 這 個 方 面 ， 希 望 您 能 了 解 ！\n",
      "我 們 這 計 劃 是 研 發 太 陽 能 的 汽 車 ， 現 在 已 到 一 個 段 落 ， 未 會 跟 同 學 一 規 劃 ， 一 起 合 作 開 一 家 公 司 關 於 這 個 方 面 ， 希 望 您 能 了 解 ！\n",
      "({'over_corr': 0, 'total_err': 2, 'true_corr': tensor(2, device='cuda:0')}, {'over_corr': 0, 'total_err': 1, 'true_corr': 1})\n",
      "Epoch 20 Loss: 0.015593905666463294\n",
      "0.34044108201156964 {'over_corr': 245, 'total_err': 938, 'true_corr': tensor(341, device='cuda:0')} {'over_corr': 159, 'total_err': 701, 'true_corr': 196}\n"
     ]
    },
    {
     "name": "stderr",
     "output_type": "stream",
     "text": [
      "Epoch:21/35: 100%|██████████| 103/103 [00:26<00:00,  3.83it/s, loss=0.010]\n"
     ]
    },
    {
     "name": "stdout",
     "output_type": "stream",
     "text": [
      "尤 其 是 醫 療 方 面 系 所 的 學 費 ， 差 不 多 買 的 到 一 個 房 子 一 樣 貴 ！\n",
      "尤 其 是 醫 療 方 面 系 所 的 學 費 ， 差 不 多 買 得 到 一 個 房 子 一 樣 貴 ！\n",
      "尤 其 是 醫 療 方 面 系 所 的 學 費 ， 差 不 多 買 得 到 一 個 房 子 一 樣 貴 ！\n",
      "({'over_corr': 0, 'total_err': 1, 'true_corr': tensor(1, device='cuda:0')}, {'over_corr': 0, 'total_err': 1, 'true_corr': 1})\n",
      "印 尼 有 一 個 地 方 叫 巴 黎 ， 那 邊 的 風 景 最 好 看 的 。\n",
      "印 尼 有 一 個 地 方 叫 峇 里 ， 那 邊 的 風 景 最 好 看 的 。\n",
      "印 尼 有 一 個 地 方 叫 峇 里 ， 那 邊 的 風 景 最 好 看 的 。\n",
      "({'over_corr': 0, 'total_err': 2, 'true_corr': tensor(2, device='cuda:0')}, {'over_corr': 0, 'total_err': 1, 'true_corr': 1})\n",
      "但 是 有 很 多 課 程 不 因 該 在 電 腦 上 教 ， 例 如 語 言 、 閱 讀 、 寫 作 等 。\n",
      "但 是 有 很 多 課 程 不 應 該 在 電 腦 上 教 ， 例 如 語 言 、 閱 讀 、 寫 作 等 。\n",
      "但 是 有 很 多 課 程 不 應 該 在 電 腦 上 教 ， 例 如 語 言 、 閱 讀 、 寫 作 等 。\n",
      "({'over_corr': 0, 'total_err': 1, 'true_corr': tensor(1, device='cuda:0')}, {'over_corr': 0, 'total_err': 1, 'true_corr': 1})\n",
      "攝 影 機 低 下 可 能 表 現 得 很 好 ， 但 是 這 就 是 代 表 教 室 外 面 的 生 活 表 現 嗎 ？\n",
      "攝 影 機 底 下 可 能 表 現 得 很 好 ， 但 是 這 就 是 代 表 教 室 外 面 的 生 活 表 現 嗎 ？\n",
      "攝 影 機 底 下 可 能 表 現 得 很 好 ， 但 是 這 就 是 代 表 教 室 外 面 的 生 活 表 現 嗎 ？\n",
      "({'over_corr': 0, 'total_err': 1, 'true_corr': tensor(1, device='cuda:0')}, {'over_corr': 0, 'total_err': 1, 'true_corr': 1})\n",
      "在 面 臨 這 問 題 時 ， 老 師 們 會 從 錄 影 過 的 一 片 來 反 省 自 己 的 教 法 、 應 付 學 生 們 的 方 式 、 注 意 那 些 學 生 需 要 特 別 的 照 顧 等 等 。\n",
      "在 面 臨 這 問 題 時 ， 老 師 們 會 從 錄 影 過 的 影 片 來 反 省 自 己 的 教 法 、 應 付 學 生 們 的 方 式 、 注 意 哪 些 學 生 需 要 特 別 的 照 顧 等 等 。\n",
      "在 面 臨 這 問 題 時 ， 老 師 們 會 從 錄 影 過 的 影 片 來 反 省 自 己 的 教 法 、 應 付 學 生 們 的 方 式 、 注 意 哪 些 學 生 需 要 特 別 的 照 顧 等 等 。\n",
      "({'over_corr': 0, 'total_err': 2, 'true_corr': tensor(2, device='cuda:0')}, {'over_corr': 0, 'total_err': 1, 'true_corr': 1})\n",
      "如 果 以 台 灣 為 例 ， 保 護 環 境 調 查 研 究 表 明 ， 台 灣 人 對 於 保 護 環 境 的 意 識 很 高 。 次 緣 故 也 是 經 濟 發 展 的 結 果 。\n",
      "如 果 以 台 灣 為 例 ， 保 護 環 境 調 查 研 究 表 明 ， 台 灣 人 對 於 保 護 環 境 的 意 識 很 高 。 此 緣 故 也 是 經 濟 發 展 的 結 果 。\n",
      "如 果 以 台 灣 為 例 ， 保 護 環 境 調 查 研 究 表 明 ， 台 灣 人 對 於 保 護 環 境 的 意 識 很 高 。 此 緣 故 也 是 經 濟 發 展 的 結 果 。\n",
      "({'over_corr': 0, 'total_err': 1, 'true_corr': tensor(1, device='cuda:0')}, {'over_corr': 0, 'total_err': 1, 'true_corr': 1})\n",
      "Epoch 21 Loss: 0.012075577749536165\n",
      "0.350269979712638 {'over_corr': 243, 'total_err': 938, 'true_corr': tensor(332, device='cuda:0')} {'over_corr': 160, 'total_err': 701, 'true_corr': 204}\n"
     ]
    },
    {
     "name": "stderr",
     "output_type": "stream",
     "text": [
      "Epoch:22/35: 100%|██████████| 103/103 [00:26<00:00,  3.84it/s, loss=0.008]\n"
     ]
    },
    {
     "name": "stdout",
     "output_type": "stream",
     "text": [
      "我 們 已 經 綠 影 您 的 工 廠 產 多 大 的 噪 音 ， 還 有 住 民 去 了 醫 院 的 時 候 醫 生 檢 查 生 病 跟 您 的 工 廠 的 關 係 。\n",
      "我 們 已 經 錄 影 您 的 工 廠 產 多 大 的 噪 音 ， 還 有 住 民 去 了 醫 院 的 時 候 醫 生 檢 查 生 病 跟 您 的 工 廠 的 關 係 。\n",
      "我 們 已 經 錄 影 您 的 工 廠 產 多 大 的 噪 音 ， 還 有 住 民 去 了 醫 院 的 時 候 醫 生 檢 查 生 病 跟 您 的 工 廠 的 關 係 。\n",
      "({'over_corr': 0, 'total_err': 1, 'true_corr': tensor(1, device='cuda:0')}, {'over_corr': 0, 'total_err': 1, 'true_corr': 1})\n",
      "早 上 到 晚 上 ， 天 天 都 太 噪 ， 讓 附 近 的 孩 子 們 不 睡 覺 。\n",
      "早 上 到 晚 上 ， 天 天 都 太 吵 ， 讓 附 近 的 孩 子 們 不 睡 覺 。\n",
      "早 上 到 晚 上 ， 天 天 都 太 吵 ， 讓 附 近 的 孩 子 們 不 睡 覺 。\n",
      "({'over_corr': 0, 'total_err': 1, 'true_corr': tensor(1, device='cuda:0')}, {'over_corr': 0, 'total_err': 1, 'true_corr': 1})\n",
      "一 般 大 一 、 大 二 學 生 都 坐 家 師 或 發 廣 告 片 ， 大 三 、 大 四 學 生 可 以 在 某 些 公 司 坐 半 天 工 作 。\n",
      "一 般 大 一 、 大 二 學 生 都 做 家 事 或 發 廣 告 片 ， 大 三 、 大 四 學 生 可 以 在 某 些 公 司 做 半 天 工 作 。\n",
      "一 般 大 一 、 大 二 學 生 都 做 家 事 或 發 廣 告 片 ， 大 三 、 大 四 學 生 可 以 在 某 些 公 司 做 半 天 工 作 。\n",
      "({'over_corr': 0, 'total_err': 3, 'true_corr': tensor(3, device='cuda:0')}, {'over_corr': 0, 'total_err': 1, 'true_corr': 1})\n",
      "九 號 是 我 的 弟 弟 生 日 ， 所 以 我 想 要 請 你 們 一 起 來 我 的 家 完 、 吃 飯 、 也 吃 黨 奧 。\n",
      "九 號 是 我 的 弟 弟 生 日 ， 所 以 我 想 要 請 你 們 一 起 來 我 的 家 玩 、 吃 飯 、 也 吃 蛋 糕 。\n",
      "九 號 是 我 的 弟 弟 生 日 ， 所 以 我 想 要 請 你 們 一 起 來 我 的 家 玩 、 吃 飯 、 也 吃 蛋 糕 。\n",
      "({'over_corr': 0, 'total_err': 3, 'true_corr': tensor(3, device='cuda:0')}, {'over_corr': 0, 'total_err': 1, 'true_corr': 1})\n",
      "在 這 樣 的 情 況 下 ， 孩 子 們 也 會 開 開 興 興 學 習 、 玩 兒 、 交 朋 友 、 等 。\n",
      "在 這 樣 的 情 況 下 ， 孩 子 們 也 會 開 開 心 心 學 習 、 玩 兒 、 交 朋 友 、 等 。\n",
      "在 這 樣 的 情 況 下 ， 孩 子 們 也 會 開 開 心 心 學 習 、 玩 兒 、 交 朋 友 、 等 。\n",
      "({'over_corr': 0, 'total_err': 2, 'true_corr': tensor(2, device='cuda:0')}, {'over_corr': 0, 'total_err': 1, 'true_corr': 1})\n",
      "我 很 想 參 家 你 的 舞 會 因 為 你 的 舞 會 總 是 很 好 玩 。\n",
      "我 很 想 參 加 你 的 舞 會 因 為 你 的 舞 會 總 是 很 好 玩 。\n",
      "我 很 想 參 加 你 的 舞 會 因 為 你 的 舞 會 總 是 很 好 玩 。\n",
      "({'over_corr': 0, 'total_err': 1, 'true_corr': tensor(1, device='cuda:0')}, {'over_corr': 0, 'total_err': 1, 'true_corr': 1})\n",
      "Epoch 22 Loss: 0.009590720572481745\n",
      "0.35089299929412926 {'over_corr': 230, 'total_err': 938, 'true_corr': tensor(331, device='cuda:0')} {'over_corr': 151, 'total_err': 701, 'true_corr': 197}\n"
     ]
    },
    {
     "name": "stderr",
     "output_type": "stream",
     "text": [
      "Epoch:23/35: 100%|██████████| 103/103 [00:27<00:00,  3.81it/s, loss=0.023]\n"
     ]
    },
    {
     "name": "stdout",
     "output_type": "stream",
     "text": [
      "我 相 心 男 同 學 他 本 身 有 毛 病 ， 換 句 話 說 ， 我 認 為 這 一 場 誤 會 並 不 是 妳 個 人 的 問 題 ， 而 是 他 心 理 上 或 個 性 上 的 問 題 。\n",
      "我 相 信 男 同 學 他 本 身 有 毛 病 ， 換 句 話 說 ， 我 認 為 這 一 場 誤 會 並 不 是 妳 個 人 的 問 題 ， 而 是 他 心 理 上 或 個 性 上 的 問 題 。\n",
      "我 相 信 男 同 學 他 本 身 有 毛 病 ， 換 句 話 說 ， 我 認 為 這 一 場 誤 會 並 不 是 妳 個 人 的 問 題 ， 而 是 他 心 理 上 或 個 性 上 的 問 題 。\n",
      "({'over_corr': 0, 'total_err': 1, 'true_corr': tensor(1, device='cuda:0')}, {'over_corr': 0, 'total_err': 1, 'true_corr': 1})\n",
      "因 為 後 天 我 有 靠 事 ， 所 以 我 要 看 書 。\n",
      "因 為 候 天 我 有 考 試 ， 所 以 我 要 看 書 。\n",
      "因 為 後 天 我 有 考 試 ， 所 以 我 要 看 書 。\n",
      "({'over_corr': 1, 'total_err': 2, 'true_corr': tensor(2, device='cuda:0')}, {'over_corr': 1, 'total_err': 1, 'true_corr': 0})\n",
      "天 下 的 父 母 對 自 己 孩 子 的 愛 心 都 莫 過 於 任 何 情 感 ， 但 我 想 倒 不 必 在 教 室 裡 裝 攝 影 機 來 檢 視 。\n",
      "天 下 的 父 母 對 自 己 孩 子 的 愛 心 都 莫 過 於 任 何 情 感 ， 但 我 想 倒 不 必 在 教 室 裡 裝 攝 影 機 來 監 視 。\n",
      "天 下 的 父 母 對 自 己 孩 子 的 愛 心 都 莫 過 於 任 何 情 感 ， 但 我 想 倒 不 必 在 教 室 裡 裝 攝 影 機 來 監 視 。\n",
      "({'over_corr': 0, 'total_err': 1, 'true_corr': tensor(1, device='cuda:0')}, {'over_corr': 0, 'total_err': 1, 'true_corr': 1})\n",
      "但 問 題 是 假 如 他 上 班 至 下 班 以 來 ， 小 狗 只 好 在 家 一 隻 。\n",
      "但 問 題 是 假 如 他 上 班 至 下 班 以 來 ， 小 狗 只 好 在 家 一 直 。\n",
      "但 問 題 是 假 如 他 上 班 至 下 班 以 來 ， 小 狗 只 好 在 家 一 直 。\n",
      "({'over_corr': 0, 'total_err': 1, 'true_corr': tensor(1, device='cuda:0')}, {'over_corr': 0, 'total_err': 1, 'true_corr': 1})\n",
      "因 為 日 本 的 雨 鞋 很 可 愛 也 很 漂 涼 。\n",
      "因 為 日 本 的 雨 鞋 很 可 愛 也 很 漂 亮 。\n",
      "因 為 日 本 的 雨 鞋 很 可 愛 也 很 漂 亮 。\n",
      "({'over_corr': 0, 'total_err': 1, 'true_corr': tensor(1, device='cuda:0')}, {'over_corr': 0, 'total_err': 1, 'true_corr': 1})\n",
      "對 孩 子 們 來 說 ， 他 們 也 年 不 料 數 因 為 不 能 專 心 地 念 。\n",
      "對 孩 子 們 來 說 ， 他 們 也 念 不 了 書 因 為 不 能 專 心 地 念 。\n",
      "對 孩 子 們 來 說 ， 他 們 也 念 不 了 書 因 為 不 能 專 心 地 念 。\n",
      "({'over_corr': 0, 'total_err': 3, 'true_corr': tensor(3, device='cuda:0')}, {'over_corr': 0, 'total_err': 1, 'true_corr': 1})\n",
      "Epoch 23 Loss: 0.009189785372248842\n",
      "0.34738469597968186 {'over_corr': 273, 'total_err': 938, 'true_corr': tensor(340, device='cuda:0')} {'over_corr': 182, 'total_err': 701, 'true_corr': 191}\n"
     ]
    },
    {
     "name": "stderr",
     "output_type": "stream",
     "text": [
      "Epoch:24/35: 100%|██████████| 103/103 [00:26<00:00,  3.83it/s, loss=0.008]\n"
     ]
    },
    {
     "name": "stdout",
     "output_type": "stream",
     "text": [
      "以 前 都 很 希 望 可 以 每 個 學 期 修 一 兩 門 課 而 已 ， 這 樣 我 研 究 的 科 目 能 夠 薰 陶 我 的 心 力 讓 我 好 好 笑 話 拿 份 專 業 知 識 ， 也 能 同 時 由 精 神 管 理 工 作 和 家 庭 的 事 情 。\n",
      "以 前 都 很 希 望 可 以 每 個 學 期 修 一 兩 門 課 而 已 ， 這 樣 我 研 究 的 科 目 能 夠 薰 陶 我 的 心 力 讓 我 好 好 消 耗 拿 份 專 業 知 識 ， 也 能 同 時 有 精 神 管 理 工 作 和 家 庭 的 事 情 。\n",
      "以 前 都 很 希 望 可 以 每 個 學 期 修 一 兩 門 課 而 已 ， 這 樣 我 研 究 的 科 目 能 夠 薰 陶 我 的 心 力 讓 我 好 好 消 耗 拿 份 專 業 知 識 ， 也 能 同 時 有 精 神 管 理 工 作 和 家 庭 的 事 情 。\n",
      "({'over_corr': 0, 'total_err': 3, 'true_corr': tensor(3, device='cuda:0')}, {'over_corr': 0, 'total_err': 1, 'true_corr': 1})\n",
      "部 是 指 人 類 有 心 或 感 情 ， 它 們 也 會 感 到 歡 樂 、 也 會 感 到 悲 哀 。\n",
      "不 是 只 人 類 有 心 或 感 情 ， 它 們 也 會 感 到 歡 樂 、 也 會 感 到 悲 哀 。\n",
      "不 是 只 人 類 有 心 或 感 情 ， 它 們 也 會 感 到 歡 樂 、 也 會 感 到 悲 哀 。\n",
      "({'over_corr': 0, 'total_err': 2, 'true_corr': tensor(2, device='cuda:0')}, {'over_corr': 0, 'total_err': 1, 'true_corr': 1})\n",
      "因 為 我 不 能 參 家 你 的 舞 會 所 以 我 要 請 你 跟 我 去 吃 晚 飯 再 看 電 影 。\n",
      "因 為 我 不 能 參 加 你 的 舞 會 所 以 我 要 請 你 跟 我 去 吃 晚 飯 再 看 電 影 。\n",
      "因 為 我 不 能 參 加 你 的 舞 會 所 以 我 要 請 你 跟 我 去 吃 晚 飯 再 看 電 影 。\n",
      "({'over_corr': 0, 'total_err': 1, 'true_corr': tensor(1, device='cuda:0')}, {'over_corr': 0, 'total_err': 1, 'true_corr': 1})\n",
      "有 時 候 老 師 人 不 在 教 室 裡 也 可 以 看 到 孩 子 有 沒 有 在 做 功 課 ， 所 以 我 覺 得 這 作 法 對 學 校 好 。\n",
      "有 時 候 老 師 人 不 在 教 室 裡 也 可 以 看 到 孩 子 有 沒 有 在 做 功 課 ， 所 以 我 覺 得 這 做 法 對 學 校 好 。\n",
      "有 時 候 老 師 人 不 在 教 室 裡 也 可 以 看 到 孩 子 有 沒 有 在 做 功 課 ， 所 以 我 覺 得 這 做 法 對 學 校 好 。\n",
      "({'over_corr': 0, 'total_err': 1, 'true_corr': tensor(1, device='cuda:0')}, {'over_corr': 0, 'total_err': 1, 'true_corr': 1})\n",
      "我 認 為 現 在 已 經 是 電 腦 化 的 時 代 、 攝 影 機 不 管 在 路 上 或 在 家 裡 到 處 都 有 了 、 經 費 也 不 會 很 貴 阿 。\n",
      "我 認 為 現 在 已 經 是 電 腦 化 的 時 代 、 攝 影 機 不 管 在 路 上 或 在 家 裡 到 處 都 有 了 、 經 費 也 不 會 很 貴 啊 。\n",
      "我 認 為 現 在 已 經 是 電 腦 化 的 時 代 、 攝 影 機 不 管 在 路 上 或 在 家 裡 到 處 都 有 了 、 經 費 也 不 會 很 貴 啊 。\n",
      "({'over_corr': 0, 'total_err': 1, 'true_corr': tensor(1, device='cuda:0')}, {'over_corr': 0, 'total_err': 1, 'true_corr': 1})\n",
      "我 希 望 你 趕 快 堅 固 起 來 ， 我 會 去 的 時 候 好 好 的 見 面 。\n",
      "我 希 望 你 趕 快 堅 固 起 來 ， 我 回 去 的 時 候 好 好 的 見 面 。\n",
      "我 希 望 你 趕 快 堅 固 起 來 ， 我 回 去 的 時 候 好 好 的 見 面 。\n",
      "({'over_corr': 0, 'total_err': 1, 'true_corr': tensor(1, device='cuda:0')}, {'over_corr': 0, 'total_err': 1, 'true_corr': 1})\n",
      "Epoch 24 Loss: 0.010653188962995717\n",
      "0.3505234928293662 {'over_corr': 233, 'total_err': 938, 'true_corr': tensor(328, device='cuda:0')} {'over_corr': 152, 'total_err': 701, 'true_corr': 199}\n"
     ]
    },
    {
     "name": "stderr",
     "output_type": "stream",
     "text": [
      "Epoch:25/35: 100%|██████████| 103/103 [00:26<00:00,  3.84it/s, loss=0.006]\n"
     ]
    },
    {
     "name": "stdout",
     "output_type": "stream",
     "text": [
      "我 感 冒 得 連 飯 都 吃 部 下 ， 而 且 我 走 不 了 多 久 ， 頭 就 暈 了 。\n",
      "我 感 冒 得 連 飯 都 吃 不 下 ， 而 且 我 走 不 了 多 久 ， 頭 就 暈 了 。\n",
      "我 感 冒 得 連 飯 都 吃 不 下 ， 而 且 我 走 不 了 多 久 ， 頭 就 暈 了 。\n",
      "({'over_corr': 0, 'total_err': 1, 'true_corr': tensor(1, device='cuda:0')}, {'over_corr': 0, 'total_err': 1, 'true_corr': 1})\n",
      "攝 影 機 記 錄 學 生 的 念 書 行 為 ， 可 以 幫 助 老 師 提 申 教 學 品 質 。\n",
      "攝 影 機 記 錄 學 生 的 念 書 行 為 ， 可 以 幫 助 老 師 提 升 教 學 品 質 。\n",
      "攝 影 機 記 錄 學 生 的 念 書 行 為 ， 可 以 幫 助 老 師 提 升 教 學 品 質 。\n",
      "({'over_corr': 0, 'total_err': 1, 'true_corr': tensor(1, device='cuda:0')}, {'over_corr': 0, 'total_err': 1, 'true_corr': 1})\n",
      "公 司 針 對 無 薪 假 實 行 部 份 現 在 公 司 的 經 濟 狀 況 不 是 那 麼 佳 ， 所 以 我 們 大 家 都 即 忍 耐 ， 也 堅 持 這 段 困 惱 的 時 間 。\n",
      "公 司 針 對 無 薪 假 實 行 部 份 現 在 公 司 的 經 濟 狀 況 不 是 那 麼 佳 ， 所 以 我 們 大 家 都 既 忍 耐 ， 也 堅 持 這 段 困 擾 的 時 間 。\n",
      "公 司 針 對 無 薪 假 實 行 部 份 現 在 公 司 的 經 濟 狀 況 不 是 那 麼 佳 ， 所 以 我 們 大 家 都 既 忍 耐 ， 也 堅 持 這 段 困 擾 的 時 間 。\n",
      "({'over_corr': 0, 'total_err': 2, 'true_corr': tensor(2, device='cuda:0')}, {'over_corr': 0, 'total_err': 1, 'true_corr': 1})\n",
      "在 家 中 父 母 親 每 天 要 安 排 時 將 跟 孩 子 溝 通 ， 讓 多 了 解 他 們 的 事 情 。\n",
      "在 家 中 父 母 親 每 天 要 安 排 時 間 跟 孩 子 溝 通 ， 讓 多 了 解 他 們 的 事 情 。\n",
      "在 家 中 父 母 親 每 天 要 安 排 時 間 跟 孩 子 溝 通 ， 讓 多 了 解 他 們 的 事 情 。\n",
      "({'over_corr': 0, 'total_err': 1, 'true_corr': tensor(1, device='cuda:0')}, {'over_corr': 0, 'total_err': 1, 'true_corr': 1})\n",
      "下 課 以 後 他 跟 怒 朋 友 上 公 車 到 別 的 地 方 去 。 公 車 理 沒 有 坐 的 地 方 所 以 他 們 得 站 著 去 。\n",
      "下 課 以 後 他 跟 女 朋 友 上 公 車 到 別 的 地 方 去 。 公 車 裡 沒 有 坐 的 地 方 所 以 他 們 得 站 著 去 。\n",
      "下 課 以 後 他 跟 女 朋 友 上 公 車 到 別 的 地 方 去 。 公 車 裡 沒 有 坐 的 地 方 所 以 他 們 得 站 著 去 。\n",
      "({'over_corr': 0, 'total_err': 2, 'true_corr': tensor(2, device='cuda:0')}, {'over_corr': 0, 'total_err': 1, 'true_corr': 1})\n",
      "我 門 可 以 到 外 面 ， 吃 很 多 東 西 了 。\n",
      "我 們 可 以 到 外 面 ， 吃 很 多 東 西 了 。\n",
      "我 們 可 以 到 外 面 ， 吃 很 多 東 西 了 。\n",
      "({'over_corr': 0, 'total_err': 1, 'true_corr': tensor(1, device='cuda:0')}, {'over_corr': 0, 'total_err': 1, 'true_corr': 1})\n",
      "Epoch 25 Loss: 0.008821713855689011\n",
      "0.351217642087828 {'over_corr': 245, 'total_err': 938, 'true_corr': tensor(335, device='cuda:0')} {'over_corr': 162, 'total_err': 701, 'true_corr': 193}\n"
     ]
    },
    {
     "name": "stderr",
     "output_type": "stream",
     "text": [
      "Epoch:26/35: 100%|██████████| 103/103 [00:26<00:00,  3.84it/s, loss=0.012]\n"
     ]
    },
    {
     "name": "stdout",
     "output_type": "stream",
     "text": [
      "我 們 以 起 吃 飯 和 慢 慢 變 成 好 朋 友 。\n",
      "我 們 一 起 吃 飯 和 慢 慢 變 成 好 朋 友 。\n",
      "我 們 一 起 吃 飯 和 慢 慢 變 成 好 朋 友 。\n",
      "({'over_corr': 0, 'total_err': 1, 'true_corr': tensor(1, device='cuda:0')}, {'over_corr': 0, 'total_err': 1, 'true_corr': 1})\n",
      "你 也 別 怪 她 吧 ， 也 許 他 回 家 後 自 己 心 理 會 很 尷 尬 。\n",
      "你 也 別 怪 她 吧 ， 也 許 他 回 家 後 自 己 心 裡 會 很 尷 尬 。\n",
      "你 也 別 怪 她 吧 ， 也 許 他 回 家 後 自 己 心 裡 會 很 尷 尬 。\n",
      "({'over_corr': 0, 'total_err': 1, 'true_corr': tensor(1, device='cuda:0')}, {'over_corr': 0, 'total_err': 1, 'true_corr': 1})\n",
      "一 個 人 是 大 名 跟 他 的 奴 生 的 朋 友 ， 她 們 很 票 亮 。\n",
      "一 個 人 是 大 明 跟 他 的 女 生 的 朋 友 ， 她 們 很 漂 亮 。\n",
      "一 個 人 是 大 明 跟 他 的 女 生 的 朋 友 ， 她 們 很 漂 亮 。\n",
      "({'over_corr': 0, 'total_err': 3, 'true_corr': tensor(3, device='cuda:0')}, {'over_corr': 0, 'total_err': 1, 'true_corr': 1})\n",
      "我 今 天 寫 這 封 信 給 你 也 希 望 妳 為 你 自 己 的 健 康 早 想 一 下 、 不 要 太 看 前 面 的 利 金 望 了 自 己 跟 大 的 建 康 。\n",
      "我 今 天 寫 這 封 信 給 你 也 希 望 妳 為 你 自 己 的 健 康 著 想 一 下 、 不 要 太 看 前 面 地 利 金 忘 了 自 己 更 大 的 健 康 。\n",
      "我 今 天 寫 這 封 信 給 你 也 希 望 妳 為 你 自 己 的 健 康 著 想 一 下 、 不 要 太 看 前 面 的 利 金 忘 了 自 己 更 大 的 健 康 。\n",
      "({'over_corr': 1, 'total_err': 4, 'true_corr': tensor(4, device='cuda:0')}, {'over_corr': 1, 'total_err': 1, 'true_corr': 0})\n",
      "我 從 我 的 家 去 捷 運 站 ， 座 捷 運 到 了 捷 運 古 亭 站 ， 我 迷 路 了 因 為 我 選 不 對 的 出 口 出 去 。\n",
      "我 從 我 的 家 去 捷 運 站 ， 坐 捷 運 到 了 捷 運 古 亭 站 ， 我 迷 路 了 因 為 我 選 不 對 的 出 口 出 去 。\n",
      "我 從 我 的 家 去 捷 運 站 ， 坐 捷 運 到 了 捷 運 古 亭 站 ， 我 迷 路 了 因 為 我 選 不 對 的 出 口 出 去 。\n",
      "({'over_corr': 0, 'total_err': 1, 'true_corr': tensor(1, device='cuda:0')}, {'over_corr': 0, 'total_err': 1, 'true_corr': 1})\n",
      "如 果 您 都 不 回 應 我 們 的 反 應 ， 我 們 就 會 把 您 告 警 擦 ， 或 者 鄰 長 。\n",
      "如 果 您 都 不 回 應 我 們 的 反 應 ， 我 們 就 會 把 您 告 警 察 ， 或 者 鄰 長 。\n",
      "如 果 您 都 不 回 應 我 們 的 反 應 ， 我 們 就 會 把 您 告 警 察 ， 或 者 鄰 長 。\n",
      "({'over_corr': 0, 'total_err': 1, 'true_corr': tensor(1, device='cuda:0')}, {'over_corr': 0, 'total_err': 1, 'true_corr': 1})\n",
      "Epoch 26 Loss: 0.007343676472444413\n",
      "0.3592151308601553 {'over_corr': 240, 'total_err': 938, 'true_corr': tensor(332, device='cuda:0')} {'over_corr': 159, 'total_err': 701, 'true_corr': 193}\n"
     ]
    },
    {
     "name": "stderr",
     "output_type": "stream",
     "text": [
      "Epoch:27/35: 100%|██████████| 103/103 [00:26<00:00,  3.83it/s, loss=0.003]\n"
     ]
    },
    {
     "name": "stdout",
     "output_type": "stream",
     "text": [
      "我 今 天 來 找 你 的 時 候 你 不 再 ， 我 想 告 訴 你 ， 我 明 天 不 能 來 上 課 。\n",
      "我 今 天 來 找 你 的 時 候 你 不 在 ， 我 想 告 訴 你 ， 我 明 天 不 能 來 上 課 。\n",
      "我 今 天 來 找 你 的 時 候 你 不 在 ， 我 想 告 訴 你 ， 我 明 天 不 能 來 上 課 。\n",
      "({'over_corr': 0, 'total_err': 1, 'true_corr': tensor(1, device='cuda:0')}, {'over_corr': 0, 'total_err': 1, 'true_corr': 1})\n",
      "到 新 科 技 的 時 代 ， 電 腦 對 我 們 人 類 實 在 有 很 大 的 貢 獻 。 而 且 在 加 上 網 路 的 功 能 ， 把 電 腦 的 運 作 變 成 更 完 美 。\n",
      "到 新 科 技 的 時 代 ， 電 腦 對 我 們 人 類 實 在 有 很 大 的 貢 獻 。 而 且 再 加 上 網 路 的 功 能 ， 把 電 腦 的 運 作 變 成 更 完 美 。\n",
      "到 新 科 技 的 時 代 ， 電 腦 對 我 們 人 類 實 在 有 很 大 的 貢 獻 。 而 且 再 加 上 網 路 的 功 能 ， 把 電 腦 的 運 作 變 成 更 完 美 。\n",
      "({'over_corr': 0, 'total_err': 1, 'true_corr': tensor(1, device='cuda:0')}, {'over_corr': 0, 'total_err': 1, 'true_corr': 1})\n",
      "我 覺 得 日 本 飯 館 兒 在 師 大 路 不 錯 也 方 便 ， 因 為 離 學 校 很 近 ， 所 以 我 覺 得 他 家 都 能 參 加 。\n",
      "我 覺 得 日 本 飯 館 兒 在 師 大 路 不 錯 也 方 便 ， 因 為 離 學 校 很 近 ， 所 以 我 覺 得 大 家 都 能 參 加 。\n",
      "我 覺 得 日 本 飯 館 兒 在 師 大 路 不 錯 也 方 便 ， 因 為 離 學 校 很 近 ， 所 以 我 覺 得 大 家 都 能 參 加 。\n",
      "({'over_corr': 0, 'total_err': 1, 'true_corr': tensor(1, device='cuda:0')}, {'over_corr': 0, 'total_err': 1, 'true_corr': 1})\n",
      "他 喝 很 多 酒 ， 回 家 的 時 候 很 累 ， 頭 很 通 所 以 他 起 床 不 了 。\n",
      "他 喝 很 多 酒 ， 回 家 的 時 候 很 累 ， 頭 很 痛 所 以 他 起 床 不 了 。\n",
      "他 喝 很 多 酒 ， 回 家 的 時 候 很 累 ， 頭 很 痛 所 以 他 起 床 不 了 。\n",
      "({'over_corr': 0, 'total_err': 1, 'true_corr': tensor(1, device='cuda:0')}, {'over_corr': 0, 'total_err': 1, 'true_corr': 1})\n",
      "大 明 來 台 北 兩 天 一 後 所 以 他 不 會 走 到 他 的 學 校 。\n",
      "大 明 來 台 北 兩 天 以 後 所 以 他 不 會 走 到 他 的 學 校 。\n",
      "大 明 來 台 北 兩 天 以 後 所 以 他 不 會 走 到 他 的 學 校 。\n",
      "({'over_corr': 0, 'total_err': 1, 'true_corr': tensor(1, device='cuda:0')}, {'over_corr': 0, 'total_err': 1, 'true_corr': 1})\n",
      "我 來 台 彎 要 學 中 文 ， 因 為 中 文 很 從 邀 。\n",
      "我 來 台 灣 要 學 中 文 ， 因 為 中 文 很 重 要 。\n",
      "我 來 台 灣 要 學 中 文 ， 因 為 中 文 很 重 要 。\n",
      "({'over_corr': 0, 'total_err': 3, 'true_corr': tensor(3, device='cuda:0')}, {'over_corr': 0, 'total_err': 1, 'true_corr': 1})\n",
      "Epoch 27 Loss: 0.007234474632762445\n",
      "0.35880376771092415 {'over_corr': 238, 'total_err': 938, 'true_corr': tensor(329, device='cuda:0')} {'over_corr': 157, 'total_err': 701, 'true_corr': 193}\n"
     ]
    },
    {
     "name": "stderr",
     "output_type": "stream",
     "text": [
      "Epoch:28/35: 100%|██████████| 103/103 [00:26<00:00,  3.83it/s, loss=0.004]\n"
     ]
    },
    {
     "name": "stdout",
     "output_type": "stream",
     "text": [
      "除 了 兩 個 禮 拜 上 班 以 外 我 都 在 夜 市 做 生 意 ， 夏 天 的 時 候 我 買 一 下 飲 料 ， 可 是 這 幾 天 冬 天 就 來 了 ， 所 以 我 已 經 換 過 買 一 些 熱 的 甜 湯 。\n",
      "除 了 兩 個 禮 拜 上 班 以 外 我 都 在 夜 市 做 生 意 ， 夏 天 的 時 候 我 賣 一 下 飲 料 ， 可 是 這 幾 天 冬 天 就 來 了 ， 所 以 我 已 經 換 過 賣 一 些 熱 的 甜 湯 。\n",
      "除 了 兩 個 禮 拜 上 班 以 外 我 都 在 夜 市 做 生 意 ， 夏 天 的 時 候 我 賣 一 下 飲 料 ， 可 是 這 幾 天 冬 天 就 來 了 ， 所 以 我 已 經 換 過 賣 一 些 熱 的 甜 湯 。\n",
      "({'over_corr': 0, 'total_err': 2, 'true_corr': tensor(2, device='cuda:0')}, {'over_corr': 0, 'total_err': 1, 'true_corr': 1})\n",
      "我 們 對 工 廠 的 音 和 臭 味 都 受 不 了 了 。 音 和 臭 味 從 工 廠 對 我 們 有 很 多 不 好 得 影 響 。\n",
      "我 們 對 工 廠 的 音 和 臭 味 都 受 不 了 了 。 音 和 臭 味 從 工 廠 對 我 們 有 很 多 不 好 的 影 響 。\n",
      "我 們 對 工 廠 的 音 和 臭 味 都 受 不 了 了 。 音 和 臭 味 從 工 廠 對 我 們 有 很 多 不 好 的 影 響 。\n",
      "({'over_corr': 0, 'total_err': 1, 'true_corr': tensor(1, device='cuda:0')}, {'over_corr': 0, 'total_err': 1, 'true_corr': 1})\n",
      "相 信 不 僅 是 我 的 國 家 馬 來 西 亞 ， 全 世 界 的 青 少 年 也 同 樣 的 面 對 沉 迷 於 網 路 世 界 的 問 題 。\n",
      "相 信 不 僅 是 我 的 國 家 馬 來 西 亞 ， 全 世 界 的 青 少 年 也 同 樣 得 面 對 沉 迷 於 網 路 世 界 的 問 題 。\n",
      "相 信 不 僅 是 我 的 國 家 馬 來 西 亞 ， 全 世 界 的 青 少 年 也 同 樣 得 面 對 沉 迷 於 網 路 世 界 的 問 題 。\n",
      "({'over_corr': 0, 'total_err': 1, 'true_corr': tensor(1, device='cuda:0')}, {'over_corr': 0, 'total_err': 1, 'true_corr': 1})\n",
      "因 此 父 母 們 從 小 把 孩 子 送 到 各 种 補 習 班 學 習 ， 給 孩 子 造 成 壓 力 。\n",
      "因 此 父 母 們 從 小 把 孩 子 送 到 各 種 補 習 班 學 習 ， 給 孩 子 造 成 壓 力 。\n",
      "因 此 父 母 們 從 小 把 孩 子 送 到 各 種 補 習 班 學 習 ， 給 孩 子 造 成 壓 力 。\n",
      "({'over_corr': 0, 'total_err': 1, 'true_corr': tensor(1, device='cuda:0')}, {'over_corr': 0, 'total_err': 1, 'true_corr': 1})\n",
      "但 還 是 希 望 你 首 先 平 息 你 的 反 應 ， 其 次 儘 量 跟 那 位 同 學 購 通 你 們 倆 之 間 的 問 題 及 對 這 件 事 情 的 看 法 ， 好 讓 不 要 再 發 生 這 樣 傷 害 彼 此 的 事 情 。\n",
      "但 還 是 希 望 你 首 先 平 息 你 的 反 應 ， 其 次 儘 量 跟 那 位 同 學 溝 通 你 們 倆 之 間 的 問 題 及 對 這 件 事 情 的 看 法 ， 好 讓 不 要 再 發 生 這 樣 傷 害 彼 此 的 事 情 。\n",
      "但 還 是 希 望 你 首 先 平 息 你 的 反 應 ， 其 次 儘 量 跟 那 位 同 學 溝 通 你 們 倆 之 間 的 問 題 及 對 這 件 事 情 的 看 法 ， 好 讓 不 要 再 發 生 這 樣 傷 害 彼 此 的 事 情 。\n",
      "({'over_corr': 0, 'total_err': 1, 'true_corr': tensor(1, device='cuda:0')}, {'over_corr': 0, 'total_err': 1, 'true_corr': 1})\n",
      "改 天 我 們 一 直 走 ， 好 不 好 ？\n",
      "改 天 我 們 一 起 走 ， 好 不 好 ？\n",
      "改 天 我 們 一 起 走 ， 好 不 好 ？\n",
      "({'over_corr': 0, 'total_err': 1, 'true_corr': tensor(1, device='cuda:0')}, {'over_corr': 0, 'total_err': 1, 'true_corr': 1})\n",
      "Epoch 28 Loss: 0.006072100100460128\n",
      "0.3540306497703899 {'over_corr': 253, 'total_err': 938, 'true_corr': tensor(349, device='cuda:0')} {'over_corr': 165, 'total_err': 701, 'true_corr': 204}\n"
     ]
    },
    {
     "name": "stderr",
     "output_type": "stream",
     "text": [
      "Epoch:29/35: 100%|██████████| 103/103 [00:26<00:00,  3.82it/s, loss=0.003]\n"
     ]
    },
    {
     "name": "stdout",
     "output_type": "stream",
     "text": [
      "對 這 種 人 而 言 ， 一 後 你 再 也 不 要 理 他 了 ！\n",
      "對 這 種 人 而 言 ， 以 後 你 再 也 不 要 理 他 了 ！\n",
      "對 這 種 人 而 言 ， 以 後 你 再 也 不 要 理 他 了 ！\n",
      "({'over_corr': 0, 'total_err': 1, 'true_corr': tensor(1, device='cuda:0')}, {'over_corr': 0, 'total_err': 1, 'true_corr': 1})\n",
      "因 為 中 國 反 是 很 好 ， 所 以 吃 得 很 多 我 常 常 錯 共 車 去 台 大 吃 了 飯 。\n",
      "因 為 中 國 飯 是 很 好 ， 所 以 吃 得 很 多 我 常 常 坐 公 車 去 台 大 吃 了 飯 。\n",
      "因 為 中 國 飯 是 很 好 ， 所 以 吃 得 很 多 我 常 常 坐 公 車 去 台 大 吃 了 飯 。\n",
      "({'over_corr': 0, 'total_err': 3, 'true_corr': tensor(3, device='cuda:0')}, {'over_corr': 0, 'total_err': 1, 'true_corr': 1})\n",
      "我 的 頭 有 疑 點 藤 。\n",
      "我 的 頭 有 一 點 疼 。\n",
      "我 的 頭 有 一 點 疼 。\n",
      "({'over_corr': 0, 'total_err': 2, 'true_corr': tensor(2, device='cuda:0')}, {'over_corr': 0, 'total_err': 1, 'true_corr': 1})\n",
      "所 以 有 攝 影 機 也 一 個 方 便 很 重 要 ， 讓 父 母 跟 老 師 互 教 育 小 孩 。\n",
      "所 以 有 攝 影 機 有 一 個 方 便 很 重 要 ， 讓 父 母 跟 老 師 互 教 育 小 孩 。\n",
      "所 以 有 攝 影 機 有 一 個 方 便 很 重 要 ， 讓 父 母 跟 老 師 互 教 育 小 孩 。\n",
      "({'over_corr': 0, 'total_err': 1, 'true_corr': tensor(1, device='cuda:0')}, {'over_corr': 0, 'total_err': 1, 'true_corr': 1})\n",
      "可 是 ， 大 自 然 一 段 壞 破 了 ， 就 不 容 易 恢 復 。\n",
      "可 是 ， 大 自 然 一 旦 壞 破 了 ， 就 不 容 易 恢 復 。\n",
      "可 是 ， 大 自 然 一 旦 壞 破 了 ， 就 不 容 易 恢 復 。\n",
      "({'over_corr': 0, 'total_err': 1, 'true_corr': tensor(1, device='cuda:0')}, {'over_corr': 0, 'total_err': 1, 'true_corr': 1})\n",
      "父 母 應 該 合 作 輔 導 ， 照 顧 孩 子 ， 孩 子 長 大 以 後 就 花 很 多 錢 ， 除 了 教 育 一 外 就 是 支 持 他 們 喜 歡 的 動 作 ， 什 麼 的 。\n",
      "父 母 應 該 合 作 輔 導 ， 照 顧 孩 子 ， 孩 子 長 大 以 後 就 花 很 多 錢 ， 除 了 教 育 以 外 就 是 支 持 他 們 喜 歡 的 動 作 ， 什 麼 的 。\n",
      "父 母 應 該 合 作 輔 導 ， 照 顧 孩 子 ， 孩 子 長 大 以 後 就 花 很 多 錢 ， 除 了 教 育 以 外 就 是 支 持 他 們 喜 歡 的 動 作 ， 什 麼 的 。\n",
      "({'over_corr': 0, 'total_err': 1, 'true_corr': tensor(1, device='cuda:0')}, {'over_corr': 0, 'total_err': 1, 'true_corr': 1})\n",
      "Epoch 29 Loss: 0.004548760293756874\n",
      "0.3727632513777776 {'over_corr': 260, 'total_err': 938, 'true_corr': tensor(325, device='cuda:0')} {'over_corr': 171, 'total_err': 701, 'true_corr': 180}\n"
     ]
    },
    {
     "name": "stderr",
     "output_type": "stream",
     "text": [
      "Epoch:30/35: 100%|██████████| 103/103 [00:26<00:00,  3.84it/s, loss=0.006]\n"
     ]
    },
    {
     "name": "stdout",
     "output_type": "stream",
     "text": [
      "這 個 情 況 發 聲 過 以 後 ， 我 們 的 關 係 並 沒 有 以 前 的 那 麼 好 。 他 真 的 賠 了 夫 人 又 折 兵 ﹗\n",
      "這 個 情 況 發 生 過 以 後 ， 我 們 的 關 係 並 沒 有 以 前 的 那 麼 好 。 他 真 的 賠 了 夫 人 又 折 兵 ﹗\n",
      "這 個 情 況 發 生 過 以 後 ， 我 們 的 關 係 並 沒 有 以 前 的 那 麼 好 。 他 真 的 賠 了 夫 人 又 折 兵 ﹗\n",
      "({'over_corr': 0, 'total_err': 1, 'true_corr': tensor(1, device='cuda:0')}, {'over_corr': 0, 'total_err': 1, 'true_corr': 1})\n",
      "因 為 我 們 看 電 影 看 到 很 晚 ， 女 生 一 個 人 回 家 不 太 好 ， 所 以 我 去 送 林 美 妹 回 家 我 才 回 家 。\n",
      "因 為 我 們 看 電 影 看 到 很 晚 ， 女 生 一 個 人 回 家 不 太 好 ， 所 以 我 去 送 林 美 美 回 家 我 才 回 家 。\n",
      "因 為 我 們 看 電 影 看 到 很 晚 ， 女 生 一 個 人 回 家 不 太 好 ， 所 以 我 去 送 林 美 美 回 家 我 才 回 家 。\n",
      "({'over_corr': 0, 'total_err': 1, 'true_corr': tensor(1, device='cuda:0')}, {'over_corr': 0, 'total_err': 1, 'true_corr': 1})\n",
      "我 知 道 你 的 意 思 ， 除 了 目 前 的 生 活 很 痛 苦 意 外 ， 你 也 許 那 我 一 個 主 意 。\n",
      "我 知 道 你 的 意 思 ， 除 了 目 前 的 生 活 很 痛 苦 以 外 ， 你 也 許 那 我 一 個 主 意 。\n",
      "我 知 道 你 的 意 思 ， 除 了 目 前 的 生 活 很 痛 苦 以 外 ， 你 也 許 那 我 一 個 主 意 。\n",
      "({'over_corr': 0, 'total_err': 1, 'true_corr': tensor(1, device='cuda:0')}, {'over_corr': 0, 'total_err': 1, 'true_corr': 1})\n",
      "因 為 有 很 多 人 用 了 電 腦 跟 家 人 、 客 人 、 同 學 、 同 事 溝 通 ， 他 們 就 像 也 可 以 用 電 腦 交 朋 友 。\n",
      "因 為 有 很 多 人 用 了 電 腦 跟 家 人 、 客 人 、 同 學 、 同 事 溝 通 ， 他 們 就 想 也 可 以 用 電 腦 交 朋 友 。\n",
      "因 為 有 很 多 人 用 了 電 腦 跟 家 人 、 客 人 、 同 學 、 同 事 溝 通 ， 他 們 就 想 也 可 以 用 電 腦 交 朋 友 。\n",
      "({'over_corr': 0, 'total_err': 1, 'true_corr': tensor(1, device='cuda:0')}, {'over_corr': 0, 'total_err': 1, 'true_corr': 1})\n",
      "女 人 結 婚 生 子 以 後 ， 應 該 繼 續 工 作 當 個 職 業 婦 女 ， 不 應 該 只 再 家 當 個 家 庭 主 婦 ， 專 心 照 顧 先 生 ， 孩 子 。\n",
      "女 人 結 婚 生 子 以 後 ， 應 該 繼 續 工 作 當 個 職 業 婦 女 ， 不 應 該 只 在 家 當 個 家 庭 主 婦 ， 專 心 照 顧 先 生 ， 孩 子 。\n",
      "女 人 結 婚 生 子 以 後 ， 應 該 繼 續 工 作 當 個 職 業 婦 女 ， 不 應 該 只 在 家 當 個 家 庭 主 婦 ， 專 心 照 顧 先 生 ， 孩 子 。\n",
      "({'over_corr': 0, 'total_err': 1, 'true_corr': tensor(1, device='cuda:0')}, {'over_corr': 0, 'total_err': 1, 'true_corr': 1})\n",
      "「 家 張 限 制 青 少 年 上 網 時 數 」 的 話 題 ？ 我 非 常 支 持 ！\n",
      "「 家 長 限 制 青 少 年 上 網 時 數 」 的 話 題 ？ 我 非 常 支 持 ！\n",
      "「 家 長 限 制 青 少 年 上 網 時 數 」 的 話 題 ？ 我 非 常 支 持 ！\n",
      "({'over_corr': 0, 'total_err': 1, 'true_corr': tensor(1, device='cuda:0')}, {'over_corr': 0, 'total_err': 1, 'true_corr': 1})\n",
      "Epoch 30 Loss: 0.00571884375372992\n",
      "0.3627035015008666 {'over_corr': 248, 'total_err': 938, 'true_corr': tensor(345, device='cuda:0')} {'over_corr': 165, 'total_err': 701, 'true_corr': 202}\n"
     ]
    },
    {
     "name": "stderr",
     "output_type": "stream",
     "text": [
      "Epoch:31/35: 100%|██████████| 103/103 [00:26<00:00,  3.83it/s, loss=0.008]\n"
     ]
    },
    {
     "name": "stdout",
     "output_type": "stream",
     "text": [
      "你 知 道 你 比 起 那 些 沒 有 工 作 的 人 還 是 很 幸 運 ， 那 你 要 更 好 好 的 工 作 ， 知 道 嗎 ？\n",
      "你 知 道 你 比 起 那 些 沒 有 工 作 的 人 還 是 很 幸 運 ， 那 你 要 更 好 好 地 工 作 ， 知 道 嗎 ？\n",
      "你 知 道 你 比 起 那 些 沒 有 工 作 的 人 還 是 很 幸 運 ， 那 你 要 更 好 好 地 工 作 ， 知 道 嗎 ？\n",
      "({'over_corr': 0, 'total_err': 1, 'true_corr': tensor(1, device='cuda:0')}, {'over_corr': 0, 'total_err': 1, 'true_corr': 1})\n",
      "我 聽 說 日 本 又 漂 亮 的 衣 服 。 我 不 怎 們 喜 歡 台 灣 的 衣 服 ， 所 以 要 是 你 麻 煩 幫 我 忙 ， 我 真 很 高 興 。\n",
      "我 聽 說 日 本 有 漂 亮 的 衣 服 。 我 不 怎 麼 喜 歡 台 灣 的 衣 服 ， 所 以 要 是 你 麻 煩 幫 我 忙 ， 我 真 很 高 興 。\n",
      "我 聽 說 日 本 有 漂 亮 的 衣 服 。 我 不 怎 麼 喜 歡 台 灣 的 衣 服 ， 所 以 要 是 你 麻 煩 幫 我 忙 ， 我 真 很 高 興 。\n",
      "({'over_corr': 0, 'total_err': 2, 'true_corr': tensor(2, device='cuda:0')}, {'over_corr': 0, 'total_err': 1, 'true_corr': 1})\n",
      "不 過 也 有 可 能 你 跟 他 之 間 曾 經 由 莫 一 種 事 情 讓 你 們 之 間 造 成 了 一 些 對 彼 此 之 間 的 誤 會 甚 麼 的 ， 使 他 竟 然 誤 會 無 辜 的 你 。\n",
      "不 過 也 有 可 能 你 跟 他 之 間 曾 經 由 某 一 種 事 情 讓 你 們 之 間 造 成 了 一 些 對 彼 此 之 間 的 誤 會 甚 麼 的 ， 使 他 竟 然 誤 會 無 辜 的 你 。\n",
      "不 過 也 有 可 能 你 跟 他 之 間 曾 經 由 某 一 種 事 情 讓 你 們 之 間 造 成 了 一 些 對 彼 此 之 間 的 誤 會 甚 麼 的 ， 使 他 竟 然 誤 會 無 辜 的 你 。\n",
      "({'over_corr': 0, 'total_err': 1, 'true_corr': tensor(1, device='cuda:0')}, {'over_corr': 0, 'total_err': 1, 'true_corr': 1})\n",
      "我 們 玩 著 玩 者 就 睡 覺 了 。\n",
      "我 們 玩 著 玩 著 就 睡 覺 亮 。\n",
      "我 們 玩 著 玩 著 就 睡 覺 了 。\n",
      "({'over_corr': 1, 'total_err': 1, 'true_corr': tensor(1, device='cuda:0')}, {'over_corr': 1, 'total_err': 1, 'true_corr': 0})\n",
      "請 全 公 司 的 職 員 一 起 負 擔 公 司 的 危 機 。 機 的 經 紀 狀 況 轉 好 而 復 甦 ， 這 些 你 們 的 功 勞 一 定 是 會 報 恩 你 們 的 。\n",
      "請 全 公 司 的 職 員 一 起 負 擔 公 司 的 危 機 。 機 的 經 濟 狀 況 轉 好 而 復 甦 ， 這 些 你 們 的 功 勞 一 定 是 會 報 恩 你 們 的 。\n",
      "請 全 公 司 的 職 員 一 起 負 擔 公 司 的 危 機 。 機 的 經 濟 狀 況 轉 好 而 復 甦 ， 這 些 你 們 的 功 勞 一 定 是 會 報 恩 你 們 的 。\n",
      "({'over_corr': 0, 'total_err': 1, 'true_corr': tensor(1, device='cuda:0')}, {'over_corr': 0, 'total_err': 1, 'true_corr': 1})\n",
      "慢 慢 慢 慢 地 我 可 能 會 變 成 各 不 敢 說 話 的 人 也 不 敢 做 甚 麼 事 、 只 因 為 怕 別 人 批 評 。\n",
      "慢 慢 慢 慢 地 我 可 能 會 變 成 個 不 敢 說 話 的 人 也 不 敢 做 甚 麼 事 、 只 因 為 怕 別 人 批 評 。\n",
      "慢 慢 慢 慢 地 我 可 能 會 變 成 個 不 敢 說 話 的 人 也 不 敢 做 甚 麼 事 、 只 因 為 怕 別 人 批 評 。\n",
      "({'over_corr': 0, 'total_err': 1, 'true_corr': tensor(1, device='cuda:0')}, {'over_corr': 0, 'total_err': 1, 'true_corr': 1})\n",
      "Epoch 31 Loss: 0.005956725178973623\n",
      "0.36519769714637235 {'over_corr': 236, 'total_err': 938, 'true_corr': tensor(331, device='cuda:0')} {'over_corr': 157, 'total_err': 701, 'true_corr': 198}\n"
     ]
    },
    {
     "name": "stderr",
     "output_type": "stream",
     "text": [
      "Epoch:32/35: 100%|██████████| 103/103 [00:26<00:00,  3.84it/s, loss=0.003]\n"
     ]
    },
    {
     "name": "stdout",
     "output_type": "stream",
     "text": [
      "工 廠 內 重 新 莊 還 牆 壁 成 為 隔 音 的 效 果 。\n",
      "工 廠 內 重 新 裝 潢 牆 壁 成 為 隔 音 的 效 果 。\n",
      "工 廠 內 重 新 裝 潢 牆 壁 成 為 隔 音 的 效 果 。\n",
      "({'over_corr': 0, 'total_err': 2, 'true_corr': tensor(2, device='cuda:0')}, {'over_corr': 0, 'total_err': 1, 'true_corr': 1})\n",
      "我 很 想 參 家 你 的 舞 會 因 為 你 的 舞 會 總 是 很 好 玩 。\n",
      "我 很 想 參 加 你 的 舞 會 因 為 你 的 舞 會 總 是 很 好 玩 。\n",
      "我 很 想 參 加 你 的 舞 會 因 為 你 的 舞 會 總 是 很 好 玩 。\n",
      "({'over_corr': 0, 'total_err': 1, 'true_corr': tensor(1, device='cuda:0')}, {'over_corr': 0, 'total_err': 1, 'true_corr': 1})\n",
      "那 樣 ， 你 就 不 但 能 夠 享 受 你 喜 歡 的 工 作 ， 也 可 以 鑽 到 比 較 多 薪 水 ， 支 持 你 的 家 庭 。\n",
      "那 樣 ， 你 就 不 但 能 夠 享 受 你 喜 歡 的 工 作 ， 也 可 以 賺 到 比 較 多 薪 水 ， 支 持 你 的 家 庭 。\n",
      "那 樣 ， 你 就 不 但 能 夠 享 受 你 喜 歡 的 工 作 ， 也 可 以 賺 到 比 較 多 薪 水 ， 支 持 你 的 家 庭 。\n",
      "({'over_corr': 0, 'total_err': 1, 'true_corr': tensor(1, device='cuda:0')}, {'over_corr': 0, 'total_err': 1, 'true_corr': 1})\n",
      "雖 然 工 作 有 點 壓 力 ， 不 過 我 一 直 都 聽 你 花 ， 保 持 每 天 都 運 動 ， 所 以 ， 身 體 很 好 。\n",
      "雖 然 工 作 有 點 壓 力 ， 不 過 我 一 直 都 聽 你 話 ， 保 持 每 天 都 運 動 ， 所 以 ， 身 體 很 好 。\n",
      "雖 然 工 作 有 點 壓 力 ， 不 過 我 一 直 都 聽 你 話 ， 保 持 每 天 都 運 動 ， 所 以 ， 身 體 很 好 。\n",
      "({'over_corr': 0, 'total_err': 1, 'true_corr': tensor(1, device='cuda:0')}, {'over_corr': 0, 'total_err': 1, 'true_corr': 1})\n",
      "還 有 在 那 個 包 包 裡 面 裡 可 以 放 很 多 禮 物 待 你 的 國 家 ， 所 以 你 可 以 那 些 禮 物 給 你 的 家 人 讓 他 們 高 心 。\n",
      "還 有 在 那 個 包 包 裡 面 裡 可 以 放 很 多 禮 物 到 你 的 國 家 ， 所 以 你 可 以 那 些 禮 物 給 你 的 家 人 讓 他 們 高 興 。\n",
      "還 有 在 那 個 包 包 裡 面 裡 可 以 放 很 多 禮 物 到 你 的 國 家 ， 所 以 你 可 以 那 些 禮 物 給 你 的 家 人 讓 他 們 高 興 。\n",
      "({'over_corr': 0, 'total_err': 2, 'true_corr': tensor(2, device='cuda:0')}, {'over_corr': 0, 'total_err': 1, 'true_corr': 1})\n",
      "新 愛 父 親 。\n",
      "親 愛 父 親 。\n",
      "親 愛 父 親 。\n",
      "({'over_corr': 0, 'total_err': 1, 'true_corr': tensor(1, device='cuda:0')}, {'over_corr': 0, 'total_err': 1, 'true_corr': 1})\n",
      "Epoch 32 Loss: 0.003608247023347078\n",
      "0.35791133310307155 {'over_corr': 247, 'total_err': 938, 'true_corr': tensor(344, device='cuda:0')} {'over_corr': 160, 'total_err': 701, 'true_corr': 205}\n"
     ]
    },
    {
     "name": "stderr",
     "output_type": "stream",
     "text": [
      "Epoch:33/35: 100%|██████████| 103/103 [00:26<00:00,  3.83it/s, loss=0.002]\n"
     ]
    },
    {
     "name": "stdout",
     "output_type": "stream",
     "text": [
      "看 教 室 的 情 況 讓 父 母 安 全 ， 他 們 知 道 他 們 的 孩 子 這 麼 樣 。\n",
      "看 教 室 的 情 況 讓 父 母 安 全 ， 他 們 知 道 他 們 的 孩 子 怎 麼 樣 。\n",
      "看 教 室 的 情 況 讓 父 母 安 全 ， 他 們 知 道 他 們 的 孩 子 怎 麼 樣 。\n",
      "({'over_corr': 0, 'total_err': 1, 'true_corr': tensor(1, device='cuda:0')}, {'over_corr': 0, 'total_err': 1, 'true_corr': 1})\n",
      "我 們 受 不 了 了 ！ 李 廠 廠 你 必 須 改 變 工 廠 ！ 我 要 告 訴 您 怎 麼 解 決 我 們 的 問 題 。\n",
      "我 們 受 不 了 了 ！ 李 廠 長 你 必 須 改 變 工 廠 ！ 我 要 告 訴 您 怎 麼 解 決 我 們 的 問 題 。\n",
      "我 們 受 不 了 了 ！ 李 廠 長 你 必 須 改 變 工 廠 ！ 我 要 告 訴 您 怎 麼 解 決 我 們 的 問 題 。\n",
      "({'over_corr': 0, 'total_err': 1, 'true_corr': tensor(1, device='cuda:0')}, {'over_corr': 0, 'total_err': 1, 'true_corr': 1})\n",
      "下 個 星 期 五 是 我 的 生 日 ， 所 以 我 要 開 一 個 無 會 。\n",
      "下 個 星 期 五 是 我 的 生 日 ， 所 以 我 要 開 一 個 舞 會 。\n",
      "下 個 星 期 五 是 我 的 生 日 ， 所 以 我 要 開 一 個 舞 會 。\n",
      "({'over_corr': 0, 'total_err': 1, 'true_corr': tensor(1, device='cuda:0')}, {'over_corr': 0, 'total_err': 1, 'true_corr': 1})\n",
      "爸 爸 剛 開 始 也 和 你 現 在 一 樣 ， 但 是 因 為 媽 媽 ， 家 人 的 鼓 勵 和 支 持 ， 爸 爸 還 是 努 力 的 找 尋 新 工 作 。\n",
      "爸 爸 剛 開 始 也 和 你 現 在 一 樣 ， 但 是 因 為 媽 媽 ， 家 人 的 鼓 勵 和 支 持 ， 爸 爸 還 是 努 力 地 找 尋 新 工 作 。\n",
      "爸 爸 剛 開 始 也 和 你 現 在 一 樣 ， 但 是 因 為 媽 媽 ， 家 人 的 鼓 勵 和 支 持 ， 爸 爸 還 是 努 力 地 找 尋 新 工 作 。\n",
      "({'over_corr': 0, 'total_err': 1, 'true_corr': tensor(1, device='cuda:0')}, {'over_corr': 0, 'total_err': 1, 'true_corr': 1})\n",
      "我 只 是 希 望 經 濟 的 循 環 便 好 的 方 向 。 如 果 繼 續 維 持 現 在 的 洋 相 ， 我 怕 再 回 歸 之 前 美 國 的 大 供 皇 。\n",
      "我 只 是 希 望 經 濟 的 循 環 變 好 的 方 向 。 如 果 繼 續 維 持 現 在 的 洋 相 ， 我 怕 再 回 歸 之 前 美 國 的 大 恐 慌 。\n",
      "我 只 是 希 望 經 濟 的 循 環 變 好 的 方 向 。 如 果 繼 續 維 持 現 在 的 洋 相 ， 我 怕 再 回 歸 之 前 美 國 的 大 恐 慌 。\n",
      "({'over_corr': 0, 'total_err': 3, 'true_corr': tensor(3, device='cuda:0')}, {'over_corr': 0, 'total_err': 1, 'true_corr': 1})\n",
      "更 換 或 進 一 步 改 善 處 裡 味 道 的 設 備 。\n",
      "更 換 或 進 一 步 改 善 處 理 味 道 的 設 備 。\n",
      "更 換 或 進 一 步 改 善 處 理 味 道 的 設 備 。\n",
      "({'over_corr': 0, 'total_err': 1, 'true_corr': tensor(1, device='cuda:0')}, {'over_corr': 0, 'total_err': 1, 'true_corr': 1})\n",
      "Epoch 33 Loss: 0.0032011742174661564\n",
      "0.3696214085952802 {'over_corr': 236, 'total_err': 938, 'true_corr': tensor(335, device='cuda:0')} {'over_corr': 154, 'total_err': 701, 'true_corr': 199}\n"
     ]
    },
    {
     "name": "stderr",
     "output_type": "stream",
     "text": [
      "Epoch:34/35: 100%|██████████| 103/103 [00:26<00:00,  3.83it/s, loss=0.002]\n"
     ]
    },
    {
     "name": "stdout",
     "output_type": "stream",
     "text": [
      "感 覺 到 無 可 奈 何 ， 不 知 道 怎 麼 辦 在 行 了 。\n",
      "感 覺 到 無 可 奈 何 ， 不 知 道 怎 麼 辦 才 行 了 。\n",
      "感 覺 到 無 可 奈 何 ， 不 知 道 怎 麼 辦 才 行 了 。\n",
      "({'over_corr': 0, 'total_err': 1, 'true_corr': tensor(1, device='cuda:0')}, {'over_corr': 0, 'total_err': 1, 'true_corr': 1})\n",
      "這 樣 也 可 以 幫 父 母 了 解 孩 子 的 件 況 ， 他 們 對 什 麼 還 有 問 題 ， 所 以 父 母 可 以 鼓 勵 孩 子 。\n",
      "這 樣 也 可 以 幫 父 母 了 解 孩 子 的 情 況 ， 他 們 對 什 麼 還 有 問 題 ， 所 以 父 母 可 以 鼓 勵 孩 子 。\n",
      "這 樣 也 可 以 幫 父 母 了 解 孩 子 的 情 況 ， 他 們 對 什 麼 還 有 問 題 ， 所 以 父 母 可 以 鼓 勵 孩 子 。\n",
      "({'over_corr': 0, 'total_err': 1, 'true_corr': tensor(1, device='cuda:0')}, {'over_corr': 0, 'total_err': 1, 'true_corr': 1})\n",
      "雖 然 你 也 自 己 說 ， 幸 虧 你 還 有 工 作 ， 所 以 請 你 每 周 兩 天 好 好 地 工 作 ， 為 了 提 高 自 己 的 能 力 ， 另 外 每 周 五 天 ， 請 你 好 好 地 學 習 自 己 有 興 趣 的 事 情 。\n",
      "雖 然 你 也 自 己 說 ， 幸 虧 你 還 有 工 作 ， 所 以 請 你 每 週 兩 天 好 好 地 工 作 ， 為 了 提 高 自 己 的 能 力 ， 另 外 每 週 五 天 ， 請 你 好 好 地 學 習 自 己 有 興 趣 的 事 情 。\n",
      "雖 然 你 也 自 己 說 ， 幸 虧 你 還 有 工 作 ， 所 以 請 你 每 週 兩 天 好 好 地 工 作 ， 為 了 提 高 自 己 的 能 力 ， 另 外 每 週 五 天 ， 請 你 好 好 地 學 習 自 己 有 興 趣 的 事 情 。\n",
      "({'over_corr': 0, 'total_err': 2, 'true_corr': tensor(2, device='cuda:0')}, {'over_corr': 0, 'total_err': 1, 'true_corr': 1})\n",
      "請 你 快 告 訴 我 你 願 不 原 意 跟 我 一 起 去 。\n",
      "請 你 快 告 訴 我 你 願 不 願 意 跟 我 一 起 去 。\n",
      "請 你 快 告 訴 我 你 願 不 願 意 跟 我 一 起 去 。\n",
      "({'over_corr': 0, 'total_err': 1, 'true_corr': tensor(1, device='cuda:0')}, {'over_corr': 0, 'total_err': 1, 'true_corr': 1})\n",
      "有 人 提 起 「 隱 私 權 」 的 問 題 ， 但 然 了 解 他 們 的 想 法 ， 但 跟 小 孩 的 學 校 生 活 安 全 比 起 來 哪 一 個 是 重 要 呢 ？\n",
      "有 人 提 起 「 隱 私 權 」 的 問 題 ， 當 然 了 解 他 們 的 想 法 ， 但 跟 小 孩 的 學 校 生 活 安 全 比 起 來 哪 一 個 是 重 要 呢 ？\n",
      "有 人 提 起 「 隱 私 權 」 的 問 題 ， 當 然 了 解 他 們 的 想 法 ， 但 跟 小 孩 的 學 校 生 活 安 全 比 起 來 哪 一 個 是 重 要 呢 ？\n",
      "({'over_corr': 0, 'total_err': 1, 'true_corr': tensor(1, device='cuda:0')}, {'over_corr': 0, 'total_err': 1, 'true_corr': 1})\n",
      "春 天 跟 愁 天 很 舒 服 。 冬 天 很 冷 ， 夏 天 很 熱 ， 所 以 我 不 很 喜 兩 個 季 節 。\n",
      "春 天 跟 秋 天 很 舒 服 。 冬 天 很 冷 ， 夏 天 很 熱 ， 所 以 我 不 很 喜 兩 個 季 節 。\n",
      "春 天 跟 秋 天 很 舒 服 。 冬 天 很 冷 ， 夏 天 很 熱 ， 所 以 我 不 很 喜 兩 個 季 節 。\n",
      "({'over_corr': 0, 'total_err': 1, 'true_corr': tensor(1, device='cuda:0')}, {'over_corr': 0, 'total_err': 1, 'true_corr': 1})\n",
      "Epoch 34 Loss: 0.0029740736512376847\n",
      "0.3713577708060091 {'over_corr': 241, 'total_err': 938, 'true_corr': tensor(339, device='cuda:0')} {'over_corr': 158, 'total_err': 701, 'true_corr': 201}\n"
     ]
    },
    {
     "name": "stderr",
     "output_type": "stream",
     "text": [
      "Epoch:35/35: 100%|██████████| 103/103 [00:26<00:00,  3.84it/s, loss=0.002]\n"
     ]
    },
    {
     "name": "stdout",
     "output_type": "stream",
     "text": [
      "二 十 世 紀 帶 來 很 多 創 新 進 社 會 應 用 。\n",
      "二 十 世 紀 帶 來 很 多 創 新 及 社 會 應 用 。\n",
      "二 十 世 紀 帶 來 很 多 創 新 及 社 會 應 用 。\n",
      "({'over_corr': 0, 'total_err': 1, 'true_corr': tensor(1, device='cuda:0')}, {'over_corr': 0, 'total_err': 1, 'true_corr': 1})\n",
      "我 還 不 知 道 如 果 這 件 事 是 每 一 個 裡 拜 四 跟 明 天 一 樣 ， 可 是 我 知 道 的 時 候 馬 上 告 訴 您 。\n",
      "我 還 不 知 道 如 果 這 件 事 是 每 一 個 禮 拜 四 跟 明 天 一 樣 ， 可 是 我 知 道 的 時 候 馬 上 告 訴 您 。\n",
      "我 還 不 知 道 如 果 這 件 事 是 每 一 個 禮 拜 四 跟 明 天 一 樣 ， 可 是 我 知 道 的 時 候 馬 上 告 訴 您 。\n",
      "({'over_corr': 0, 'total_err': 1, 'true_corr': tensor(1, device='cuda:0')}, {'over_corr': 0, 'total_err': 1, 'true_corr': 1})\n",
      "如 果 您 都 不 回 應 我 們 的 反 應 ， 我 們 就 會 把 您 告 警 擦 ， 或 者 鄰 長 。\n",
      "如 果 您 都 不 回 應 我 們 的 反 應 ， 我 們 就 會 把 您 告 警 察 ， 或 者 鄰 長 。\n",
      "如 果 您 都 不 回 應 我 們 的 反 應 ， 我 們 就 會 把 您 告 警 察 ， 或 者 鄰 長 。\n",
      "({'over_corr': 0, 'total_err': 1, 'true_corr': tensor(1, device='cuda:0')}, {'over_corr': 0, 'total_err': 1, 'true_corr': 1})\n",
      "美 一 個 晚 上 他 出 去 兩 點 以 前 再 家 。\n",
      "每 一 個 晚 上 他 出 去 兩 點 以 前 再 回 家 。\n",
      "每 一 個 晚 上 他 出 去 兩 點 以 前 再 回 家 。\n",
      "({'over_corr': 0, 'total_err': 2, 'true_corr': tensor(2, device='cuda:0')}, {'over_corr': 0, 'total_err': 1, 'true_corr': 1})\n",
      "要 是 你 有 空 ， 我 們 找 的 時 間 聊 吧 ！\n",
      "要 是 你 有 空 ， 我 們 找 個 時 間 聊 吧 ！\n",
      "要 是 你 有 空 ， 我 們 找 個 時 間 聊 吧 ！\n",
      "({'over_corr': 0, 'total_err': 1, 'true_corr': tensor(1, device='cuda:0')}, {'over_corr': 0, 'total_err': 1, 'true_corr': 1})\n",
      "我 的 工 作 里 在 印 尼 有 很 多 人 會 說 華 文 ， 所 以 我 也 要 會 說 跟 寫 中 國 子 。\n",
      "我 的 工 作 裡 在 印 尼 有 很 多 人 會 說 華 文 ， 所 以 我 也 要 會 說 跟 寫 中 國 字 。\n",
      "我 的 工 作 裡 在 印 尼 有 很 多 人 會 說 華 文 ， 所 以 我 也 要 會 說 跟 寫 中 國 字 。\n",
      "({'over_corr': 0, 'total_err': 2, 'true_corr': tensor(2, device='cuda:0')}, {'over_corr': 0, 'total_err': 1, 'true_corr': 1})\n",
      "Epoch 35 Loss: 0.002539247372730192\n",
      "0.372955631126057 {'over_corr': 239, 'total_err': 938, 'true_corr': tensor(339, device='cuda:0')} {'over_corr': 155, 'total_err': 701, 'true_corr': 203}\n"
     ]
    }
   ],
   "source": [
    "encoder_model = BertModel.from_pretrained(checkpoint)\n",
    "\n",
    "nhead = 2\n",
    "num_encoder_layers = 2\n",
    "num_decoder_layers = 2\n",
    "\n",
    "decoder_model = DecoderTransformer(\n",
    "    input_size=encoder_model.config.hidden_size,\n",
    "    nhead=nhead,\n",
    "    num_encoder_layers=num_encoder_layers,\n",
    "    num_decoder_layers=num_decoder_layers,\n",
    ")\n",
    "\n",
    "model = CombineBertModel(encoder_model=encoder_model, decoder_model=decoder_model)\n",
    "\n",
    "train(model, tokenizer, train_data_loader, dev_data_loader)"
   ]
  },
  {
   "cell_type": "code",
   "execution_count": 14,
   "id": "18c23acc-8c14-4b9d-b76e-9695adba7324",
   "metadata": {},
   "outputs": [
    {
     "name": "stdout",
     "output_type": "stream",
     "text": [
      "0.42000693965841224 {'over_corr': 2916, 'total_err': 5278, 'true_corr': tensor(1312, device='cuda:0')} {'over_corr': 1452, 'total_err': 3436, 'true_corr': 466}\n"
     ]
    }
   ],
   "source": [
    "test(model, tokenizer, test_data_loader)"
   ]
  },
  {
   "cell_type": "code",
   "execution_count": 15,
   "id": "a2a6869b-f838-4d11-a32b-31edd099076a",
   "metadata": {},
   "outputs": [
    {
     "data": {
      "text/plain": [
       "123"
      ]
     },
     "execution_count": 15,
     "metadata": {},
     "output_type": "execute_result"
    }
   ],
   "source": [
    "123"
   ]
  },
  {
   "cell_type": "code",
   "execution_count": null,
   "id": "fc1cb961-f202-44b5-a869-7b98d050aff8",
   "metadata": {},
   "outputs": [],
   "source": []
  }
 ],
 "metadata": {
  "kernelspec": {
   "display_name": "csc",
   "language": "python",
   "name": "simple_csc"
  },
  "language_info": {
   "codemirror_mode": {
    "name": "ipython",
    "version": 3
   },
   "file_extension": ".py",
   "mimetype": "text/x-python",
   "name": "python",
   "nbconvert_exporter": "python",
   "pygments_lexer": "ipython3",
   "version": "3.10.15"
  }
 },
 "nbformat": 4,
 "nbformat_minor": 5
}
