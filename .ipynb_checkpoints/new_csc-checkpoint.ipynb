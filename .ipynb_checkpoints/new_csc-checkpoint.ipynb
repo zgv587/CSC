{
 "cells": [
  {
   "cell_type": "code",
   "execution_count": 1,
   "id": "6508b6d6-a22b-4dba-ba9b-805cfa20a99a",
   "metadata": {
    "execution": {
     "iopub.execute_input": "2024-12-09T07:44:10.233552Z",
     "iopub.status.busy": "2024-12-09T07:44:10.233552Z",
     "iopub.status.idle": "2024-12-09T07:44:14.058404Z",
     "shell.execute_reply": "2024-12-09T07:44:14.058404Z",
     "shell.execute_reply.started": "2024-12-09T07:44:10.233552Z"
    }
   },
   "outputs": [],
   "source": [
    "import torch\n",
    "import torch.nn as nn\n",
    "import torch.nn.functional as F\n",
    "from torch.optim import Adam\n",
    "from torch.utils.data import DataLoader\n",
    "from transformers import BertModel, BertTokenizer\n",
    "\n",
    "# Implemented by myself\n",
    "from config import *\n",
    "from data_processer import CSCDataset\n",
    "from models import CombineBertModel, DecoderLSTM"
   ]
  },
  {
   "cell_type": "code",
   "execution_count": 2,
   "id": "74c9c49d-ca57-4b70-8333-624dcc395a9e",
   "metadata": {
    "execution": {
     "iopub.execute_input": "2024-12-09T07:44:14.059419Z",
     "iopub.status.busy": "2024-12-09T07:44:14.059419Z",
     "iopub.status.idle": "2024-12-09T07:44:14.065778Z",
     "shell.execute_reply": "2024-12-09T07:44:14.064769Z",
     "shell.execute_reply.started": "2024-12-09T07:44:14.059419Z"
    }
   },
   "outputs": [],
   "source": [
    "def cal_err(raw_sentence, pred_sentence, corr_sentence):\n",
    "    matrices = [\"over_corr\", \"total_err\", \"true_corr\"]\n",
    "    char_level = {key: 0 for key in matrices}\n",
    "    sent_level = {key: 0 for key in matrices}\n",
    "\n",
    "    f1 = f2 = 0\n",
    "    for i, c in enumerate(raw_sentence):\n",
    "        pc, cc = pred_sentence[i], corr_sentence[i]\n",
    "\n",
    "        if cc != c:\n",
    "            char_level[\"total_err\"] += 1\n",
    "            char_level[\"true_corr\"] += pc == cc\n",
    "            f1 = 1\n",
    "        elif pc != cc:\n",
    "            char_level[\"over_corr\"] += 1\n",
    "            f2 = 1\n",
    "\n",
    "    if f1:\n",
    "        sent_level[\"true_corr\"] += all(pred_sentence == corr_sentence)\n",
    "        sent_level[\"total_err\"] += f1\n",
    "    sent_level[\"over_corr\"] += f2\n",
    "\n",
    "    return char_level, sent_level"
   ]
  },
  {
   "cell_type": "code",
   "execution_count": 3,
   "id": "1008e61e-5560-4614-a9ae-78a4ed7391e9",
   "metadata": {
    "execution": {
     "iopub.execute_input": "2024-12-09T07:44:14.067344Z",
     "iopub.status.busy": "2024-12-09T07:44:14.067344Z",
     "iopub.status.idle": "2024-12-09T07:44:14.074004Z",
     "shell.execute_reply": "2024-12-09T07:44:14.074004Z",
     "shell.execute_reply.started": "2024-12-09T07:44:14.067344Z"
    }
   },
   "outputs": [],
   "source": [
    "def test(model, tokenizer, test_data_loader):\n",
    "    model.eval()\n",
    "    total_loss = 0\n",
    "    matrices = [\"over_corr\", \"total_err\", \"true_corr\"]\n",
    "    test_char_level = {key: 0 for key in matrices}\n",
    "    test_sent_level = {key: 0 for key in matrices}\n",
    "\n",
    "    with torch.no_grad():\n",
    "        for batch in test_data_loader:\n",
    "            input_ids = batch[\"input_ids\"].to(device)\n",
    "            attention_mask = batch[\"attention_mask\"].to(device).type(torch.float)\n",
    "            labels = batch[\"labels\"].to(device)\n",
    "\n",
    "            outputs = model(input_ids, src_mask=attention_mask)\n",
    "            logits = outputs.permute(0, 2, 1)\n",
    "\n",
    "            loss = cross_entropy(logits, labels, ignore_index=tokenizer.pad_token_id)\n",
    "            total_loss += loss.item()\n",
    "\n",
    "            t = torch.argmax(outputs, dim=-1)\n",
    "            nt = t * attention_mask\n",
    "            pred = tokenizer.batch_decode(nt, skip_special_tokens=True)\n",
    "\n",
    "            for i in range(len(t)):\n",
    "                char_level, sent_level = cal_err(input_ids[i], nt[i], labels[i])\n",
    "                test_char_level = {\n",
    "                    key: test_char_level[key] + v for key, v in char_level.items()\n",
    "                }\n",
    "                test_sent_level = {\n",
    "                    key: test_sent_level[key] + v for key, v in sent_level.items()\n",
    "                }\n",
    "        print(total_loss / len(test_data_loader), test_char_level, test_sent_level)"
   ]
  },
  {
   "cell_type": "code",
   "execution_count": 4,
   "id": "c2c6352d-f799-4aad-89ac-614b579f3190",
   "metadata": {
    "execution": {
     "iopub.execute_input": "2024-12-09T07:44:14.075009Z",
     "iopub.status.busy": "2024-12-09T07:44:14.075009Z",
     "iopub.status.idle": "2024-12-09T07:44:16.855159Z",
     "shell.execute_reply": "2024-12-09T07:44:16.855159Z",
     "shell.execute_reply.started": "2024-12-09T07:44:14.075009Z"
    }
   },
   "outputs": [],
   "source": [
    "tokenizer = BertTokenizer.from_pretrained(checkpoint)\n",
    "encoder_model = BertModel.from_pretrained(checkpoint)\n",
    "\n",
    "# The Hyperparameters can be defined in config.py\n",
    "hidden_size = 1024\n",
    "num_layers = 4\n",
    "\n",
    "decoder_model = DecoderLSTM(\n",
    "    input_size=tokenizer.vocab_size, hidden_size=hidden_size, num_layers=num_layers\n",
    ")\n",
    "\n",
    "csc_model = CombineBertModel(encoder_model=encoder_model, decoder_model=decoder_model)"
   ]
  },
  {
   "cell_type": "code",
   "execution_count": 8,
   "id": "c75e7320-399a-433c-9a54-fc87a9fe59b9",
   "metadata": {
    "execution": {
     "iopub.execute_input": "2024-12-09T07:45:56.298657Z",
     "iopub.status.busy": "2024-12-09T07:45:56.297657Z",
     "iopub.status.idle": "2024-12-09T07:45:56.563856Z",
     "shell.execute_reply": "2024-12-09T07:45:56.563856Z",
     "shell.execute_reply.started": "2024-12-09T07:45:56.298657Z"
    }
   },
   "outputs": [
    {
     "name": "stderr",
     "output_type": "stream",
     "text": [
      "preprocessing sighan dataset: 2339it [00:00, 115839.85it/s]\n",
      "preprocessing sighan dataset: 100%|█████████████████████████████████████████████| 2339/2339 [00:00<00:00, 90032.46it/s]\n"
     ]
    },
    {
     "name": "stdout",
     "output_type": "stream",
     "text": [
      "共2339句，共73264字，最长的句子有171字\n"
     ]
    },
    {
     "name": "stderr",
     "output_type": "stream",
     "text": [
      "preprocessing sighan dataset: 3437it [00:00, 74463.05it/s]\n",
      "preprocessing sighan dataset: 100%|█████████████████████████████████████████████| 3437/3437 [00:00<00:00, 73102.92it/s]"
     ]
    },
    {
     "name": "stdout",
     "output_type": "stream",
     "text": [
      "共3437句，共170330字，最长的句子有258字\n"
     ]
    },
    {
     "name": "stderr",
     "output_type": "stream",
     "text": [
      "\n"
     ]
    }
   ],
   "source": [
    "train_dataset = CSCDataset(\n",
    "    [SIGHAN_train_dir_err, SIGHAN_train_dir_corr], tokenizer\n",
    ")\n",
    "train_data_loader = DataLoader(\n",
    "    train_dataset, num_workers=0, shuffle=True, batch_size=16\n",
    ")\n",
    "\n",
    "test_dataset = CSCDataset(\n",
    "    [SIGHAN_train_dir_err14, SIGHAN_train_dir_corr14], tokenizer\n",
    ")\n",
    "test_data_loader = DataLoader(test_dataset, num_workers=0, shuffle=True, batch_size=32)"
   ]
  },
  {
   "cell_type": "code",
   "execution_count": null,
   "id": "afdade3d-8b1c-40f2-8d49-333072bb690c",
   "metadata": {},
   "outputs": [],
   "source": []
  }
 ],
 "metadata": {
  "kernelspec": {
   "display_name": "csc_env",
   "language": "python",
   "name": "csc_env"
  },
  "language_info": {
   "codemirror_mode": {
    "name": "ipython",
    "version": 3
   },
   "file_extension": ".py",
   "mimetype": "text/x-python",
   "name": "python",
   "nbconvert_exporter": "python",
   "pygments_lexer": "ipython3",
   "version": "3.11.10"
  }
 },
 "nbformat": 4,
 "nbformat_minor": 5
}
