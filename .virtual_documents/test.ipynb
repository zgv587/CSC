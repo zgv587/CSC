import torch
from torch.nn import LSTM


model = LSTM(768, 2000, 3, batch_first=True)
x = torch.randn(5, 4, 768)


output, _ = model(x)


x.shape


output.shape



